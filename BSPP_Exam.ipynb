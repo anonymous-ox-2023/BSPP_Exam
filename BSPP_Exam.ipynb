{
 "nbformat": 4,
 "nbformat_minor": 0,
 "metadata": {
  "colab": {
   "provenance": [],
   "collapsed_sections": [
    "eQU4YP_Y4PnM"
   ]
  },
  "kernelspec": {
   "name": "python3",
   "display_name": "Python 3"
  },
  "language_info": {
   "name": "python"
  }
 },
 "cells": [
  {
   "cell_type": "markdown",
   "source": [
    "Here you can find my solutions for the questions from BSPP exam. My submission consists of Jupyter notebook with saved outputs. I decided to use this way of submission because here are a lot of code blocks and helpful visualizations. However, the detailed text descriptions, comments, and Latex formulas are also included, and everything is structured in the easy-to-navigate way."
   ],
   "metadata": {
    "id": "YyOtnFObUgED"
   }
  },
  {
   "cell_type": "markdown",
   "source": [
    "## Imports"
   ],
   "metadata": {
    "id": "GADDr7IBXzN7"
   }
  },
  {
   "cell_type": "code",
   "source": [
    "import math\n",
    "import numpy as np\n",
    "import plotly.express as px\n",
    "import plotly.graph_objects as go\n",
    "import pandas as pd\n",
    "import scipy\n",
    "from scipy.stats import norm, uniform"
   ],
   "metadata": {
    "id": "fjlS8KtrX2aZ"
   },
   "execution_count": 1,
   "outputs": []
  },
  {
   "cell_type": "markdown",
   "source": [
    "# Additional settings"
   ],
   "metadata": {
    "id": "SZTvjcadr2VK"
   }
  },
  {
   "cell_type": "markdown",
   "source": [
    "The provided solution includes interactive figures for the better analysis. To go through presaved notebook, all plots were rendered as svg files. To run the solution in the Jupyter notebook, ignore the next lines. I used svg to create nicely presaved variant."
   ],
   "metadata": {
    "id": "7pi9WNroq-bW"
   }
  },
  {
   "cell_type": "code",
   "source": [
    "!pip install kaleido"
   ],
   "metadata": {
    "id": "JqOfusm9qtbZ"
   },
   "execution_count": null,
   "outputs": []
  },
  {
   "cell_type": "code",
   "source": [
    "import plotly.io as pio\n",
    "pio.renderers.default = \"svg\"\n",
    "# pio.renderers.default = \"colab\""
   ],
   "metadata": {
    "id": "D4kBZgpyqnbV"
   },
   "execution_count": 3,
   "outputs": []
  },
  {
   "cell_type": "markdown",
   "source": [
    "# Question 1"
   ],
   "metadata": {
    "id": "E6FC3d3Sr8YM"
   }
  },
  {
   "cell_type": "markdown",
   "source": [
    "## a)"
   ],
   "metadata": {
    "id": "ShhOyPfZsFT2"
   }
  },
  {
   "cell_type": "markdown",
   "source": [
    "### (i)"
   ],
   "metadata": {
    "id": "vQmz1J1LsHKV"
   }
  },
  {
   "cell_type": "markdown",
   "source": [
    "We can calculate the posterior distribution with the help of the Bayes' theorem:\n",
    "$$P(A|B) = \\frac{P(B|A)P(A)}{P(B)}$$\n",
    "\n",
    "The likelihood is the probability of seeing bus 101 given the value of B, this is described by the uniform distributin with p=1/B. In our case we have equal probability of seeing any of 101 buses. \n",
    "\n",
    "Posterior distribution for our case will be:\n",
    "\n",
    "$$\\text{posterior}(B) = \\frac{\\frac{1}{B} \\frac{1}{50} \\left( \\frac{49}{50} \\right)^{B-1}}{\\sum_{B=101}^{\\infty} \\frac{1}{B}  \\frac{1}{50}  \\left( \\frac{49}{50} \\right)^{B-1}}$$\n",
    "\n",
    "\n",
    "In the formula above the sum in the denominator is calculated from 101 to $\\infty$ because based on the observed number we are sure that number of busses wil be at least 101.\n",
    "\n",
    "Denominator will be a constant Z (from the hint), but we can calculate it directly. \n",
    "$\\sum_{B=101}^{\\infty} \\frac{1}{B}  \\frac{1}{50}  \\left( \\frac{49}{50} \\right)^{B-1} = \\sum_{B=101}^{\\infty} \\frac{1}{B}  \\frac{1}{50}  \\left( \\frac{49}{50} \\right)^{B} \\left( \\frac{49}{50} \\right)^{-1} = \\sum_{B=101}^{\\infty} \\frac{1}{B}  \\frac{1}{49}  \\left( \\frac{49}{50} \\right)^{B} = \\frac{1}{49} \\sum_{B=101}^{\\infty} \\frac{1}{B} \\left( \\frac{49}{50} \\right)^{B} = \\frac{1}{49} \\sum_{B=101}^{\\infty} \\frac{\\left( \\frac{49}{50} \\right)^{B}}{B}$ \n",
    "\n",
    "We can represent the last sum above as:\n",
    "\n",
    "$\\frac{1}{49} \\sum_{B=101}^{\\infty} \\frac{\\left( \\frac{49}{50} \\right)^{B}}{B} = \\color{red}{ \\frac{1}{49} \\sum_{B=1}^{\\infty} \\frac{\\left( \\frac{49}{50} \\right)^{B}}{B}} - \\frac{1}{49} \\sum_{B=1}^{101} \\frac{\\left( \\frac{49}{50} \\right)^{B}}{B}$\n",
    "\n",
    "Red sum is the Taylor series for $-ln(1-1/50)$ and we are able to replace it:\n",
    "\n",
    "$\\color{red}{\\frac{1}{49} \\sum_{B=1}^{\\infty} \\frac{\\left( \\frac{49}{50} \\right)^{B}}{B}} = \\frac{1}{49} \\left(-ln(1-\\frac{49}{50})\\right) = \\frac{1}{49} \\left(-ln(\\frac{1}{50})\\right) = \\frac{ln(50)}{49}$\n",
    "\n",
    "\n",
    "With the above calculations we will have:\n",
    "\n",
    "$Z = \\sum_{B=101}^{\\infty} \\frac{1}{B}  \\frac{1}{50}  \\left( \\frac{49}{50} \\right)^{B-1} = \\frac{ln(50)}{49} - \\frac{1}{49} \\sum_{B=1}^{101} \\frac{\\left( \\frac{49}{50} \\right)^{B}}{B} \\approx 0.00096$ \n",
    "\n",
    "We can check it with the simple Python code:"
   ],
   "metadata": {
    "id": "GJP9HxkfsWs8"
   }
  },
  {
   "cell_type": "code",
   "source": [
    "def series_element(b):\n",
    "  return (1/b) * (1/50) * (49/50)**(b-1)\n",
    "\n",
    "series_sum = 0\n",
    "for i in range(101, 1000000):  # approximation to 1000000 elements\n",
    "  series_sum += series_element(i)\n",
    "\n",
    "print(\"series sum =\", series_sum)\n",
    "Z = series_sum"
   ],
   "metadata": {
    "colab": {
     "base_uri": "https://localhost:8080/"
    },
    "id": "FlqtJm_v0Tj6",
    "outputId": "25419ca0-8158-49b8-becb-9feaee6b3ce2"
   },
   "execution_count": 4,
   "outputs": [
    {
     "output_type": "stream",
     "name": "stdout",
     "text": [
      "series sum = 0.0009569326355274057\n"
     ]
    }
   ]
  },
  {
   "cell_type": "code",
   "source": [
    "def posterior(b):\n",
    "  return series_element(b) / Z"
   ],
   "metadata": {
    "id": "RzcszO5OFaad"
   },
   "execution_count": 5,
   "outputs": []
  },
  {
   "cell_type": "markdown",
   "source": [
    "### (ii)"
   ],
   "metadata": {
    "id": "0A6fJyqVsMtS"
   }
  },
  {
   "cell_type": "markdown",
   "source": [
    "To calculate the mean and variance of the posterior distribution we can use the following formulas:\n",
    "\n",
    "$mean = \\sum_{B=101}^{\\infty}(B * posterior(B))$\n",
    "\n",
    "$variance = \\mathbb{E}(B^2) - \\mathbb{E}^2(B)$\n",
    "\n",
    "\n",
    "For mean:\n",
    "\n",
    "$\\sum_{B=101}^{\\infty}(B * posterior(B)) = \\frac{1}{Z} \\sum_{B=101}^{\\infty}B \\frac{1}{B}  \\frac{1}{50}  \\left( \\frac{49}{50} \\right)^{B-1} = \\frac{1}{Z} \\sum_{B=101}^{\\infty} \\frac{1}{50}  \\left( \\frac{49}{50} \\right)^{B} \\left( \\frac{49}{50} \\right)^{-1} =  \\frac{1}{49 Z} \\sum_{B=101}^{\\infty} \\left( \\frac{49}{50} \\right)^{B}$\n",
    "\n",
    "Here we can recognize the infinite geometric series $\\sum_{B=101}^{\\infty} \\left( \\frac{49}{50} \\right)^{B}$. The sum is calculated with the formula $\\frac{a_1}{1-r}$ where $a_1$ is the first element and $r=\\frac{a_2}{a_1}$. \n",
    "\n",
    "In our case, we have $a_1=\\left(\\frac{49}{50}\\right)^{101}$ and $r = \\frac{49}{50}$, so:\n",
    "\n",
    " $\\sum_{B=101}^{\\infty} \\left( \\frac{49}{50} \\right)^{B} = \\frac{\\left(\\frac{49}{50}\\right)^{101}}{1-\\frac{49}{50}} ≈ 6.4984$.\n",
    "\n",
    " $mean =  \\frac{1}{49 Z} \\sum_{B=101}^{\\infty} \\left( \\frac{49}{50} \\right)^{B} ≈ 138.5882$"
   ],
   "metadata": {
    "id": "qL3ZkhFNsSot"
   }
  },
  {
   "cell_type": "code",
   "source": [
    "posterior_mean = (49/50)**101 / (1 - 49/50) / (49*Z)\n",
    "print(\"Analytical result of posterior mean calculation: \", posterior_mean)"
   ],
   "metadata": {
    "colab": {
     "base_uri": "https://localhost:8080/"
    },
    "id": "nVXHZbkqC4xs",
    "outputId": "04832917-6873-49d7-9765-5967b551b25c"
   },
   "execution_count": 6,
   "outputs": [
    {
     "output_type": "stream",
     "name": "stdout",
     "text": [
      "Analytical result of posterior mean calculation:  138.58818371437465\n"
     ]
    }
   ]
  },
  {
   "cell_type": "code",
   "source": [
    "posterior_mean = 0\n",
    "for i in range(101, 1000000):  # approximation to 1000000 elements\n",
    "  posterior_mean += i * posterior(i)\n",
    "\n",
    "print(\"Numerical approximation for 1000000 elements of posterior mean =\", posterior_mean)"
   ],
   "metadata": {
    "colab": {
     "base_uri": "https://localhost:8080/"
    },
    "id": "tdx4jKgS4JLn",
    "outputId": "7a68999e-3f29-48bd-ad3f-c1dd5ed4d935"
   },
   "execution_count": 7,
   "outputs": [
    {
     "output_type": "stream",
     "name": "stdout",
     "text": [
      "Numerical approximation for 1000000 elements of posterior mean = 138.58818371437488\n"
     ]
    }
   ]
  },
  {
   "cell_type": "markdown",
   "source": [
    "For the variance we need to calculate two terms $\\mathbb{E}(B^2)$ and $\\mathbb{E}^2(B)$. Expectation $\\mathbb{E}$ is given by the mean that has already been calculated. \n",
    "\n",
    "$\\mathbb{E}(B^2) = \\sum_{B=101}^{\\infty}(B^2 * posterior(B)) = \\frac{1}{Z} \\sum_{B=101}^{\\infty}B^2 \\frac{1}{B}  \\frac{1}{50}  \\left( \\frac{49}{50} \\right)^{B-1} = \\frac{1}{Z} \\frac{1}{50} \\sum_{B=101}^{\\infty}B \\left( \\frac{49}{50} \\right)^{B-1}$\n",
    "\n",
    "$\\sum_{B=101}^{\\infty}B \\left( \\frac{49}{50} \\right)^{B-1} = \\color{red}{\\sum_{B=1}^{\\infty}B \\left( \\frac{49}{50} \\right)^{B-1}} - \\sum_{B=1}^{101}B \\left( \\frac{49}{50} \\right)^{B-1}$\n",
    "\n",
    "Red sum is the Taylor series expansion for the function $\\frac{1}{(1-x^2)}$, where $x = \\frac{49}{50}$ in our case.\n",
    "\n",
    "$\\color{red}{\\sum_{B=1}^{\\infty}B \\left( \\frac{49}{50} \\right)^{B-1}} = \\frac{1}{(1-(\\frac{49}{50})^2)} ≈ 2499.9999$\n",
    "\n",
    "With the replacement above, we can easily compute $\\mathbb{E}(B^2)$:\n",
    "\n",
    "$\\mathbb{E}(B^2) = \\frac{1}{Z} \\frac{1}{50} \\left( \\color{red}{\\sum_{B=1}^{\\infty}B \\left( \\frac{49}{50} \\right)^{B-1}} - \\sum_{B=1}^{101}B \\left( \\frac{49}{50} \\right)^{B-1} \\right) = \\frac{1}{Z} \\frac{1}{50}(2499.9999 - 1505.3533) ≈ 20788.2276$"
   ],
   "metadata": {
    "id": "kgVvtdpBK1w8"
   }
  },
  {
   "cell_type": "code",
   "source": [
    "s_1_inf = 1 / (1-49/50)**2\n",
    "\n",
    "s_1_101 = 0\n",
    "for i in range(1, 101):\n",
    "  s_1_101 += i * (49/50)**(i-1)"
   ],
   "metadata": {
    "id": "Mt3epgrzNQgY"
   },
   "execution_count": 8,
   "outputs": []
  },
  {
   "cell_type": "markdown",
   "source": [
    "Second element $\\mathbb{E}^2(B)$ will be just a previously calculated mean value raised to the power of 2.\n",
    "\n",
    "To cimpute standard deviation, we use the formula $std = \\sqrt{variance}$."
   ],
   "metadata": {
    "id": "qAi51HdPOJo6"
   }
  },
  {
   "cell_type": "code",
   "source": [
    "var = (s_1_inf - s_1_101) / (50*Z) - posterior_mean**2\n",
    "print(\"Analytically computed variance =\", var)\n",
    "print(\"Analytically computed standard deviation =\", np.sqrt(var))"
   ],
   "metadata": {
    "colab": {
     "base_uri": "https://localhost:8080/"
    },
    "id": "eafrnqF1LbYn",
    "outputId": "4eec04b7-313e-4acf-f0be-bcef68b1a8ff"
   },
   "execution_count": 9,
   "outputs": [
    {
     "output_type": "stream",
     "name": "stdout",
     "text": [
      "Analytically computed variance = 1581.5428919068618\n",
      "Analytically computed standard deviation = 39.768616922227274\n"
     ]
    }
   ]
  },
  {
   "cell_type": "code",
   "source": [
    "posterior_var = 0\n",
    "for i in range(101, 1000000):  \n",
    "  posterior_var += i**2 * posterior(i)\n",
    "\n",
    "print(\"Numerical approximation for 1000000 elements of posterior variance =\", posterior_var-posterior_mean**2)\n",
    "print(\"Numerical approximation for 1000000 elements of posterior standard deviation =\", np.sqrt(posterior_var-posterior_mean**2))"
   ],
   "metadata": {
    "colab": {
     "base_uri": "https://localhost:8080/"
    },
    "id": "jVk11tv1MTRs",
    "outputId": "013b9678-253b-48d8-b023-beb254de8bf2"
   },
   "execution_count": 10,
   "outputs": [
    {
     "output_type": "stream",
     "name": "stdout",
     "text": [
      "Numerical approximation for 1000000 elements of posterior variance = 1581.5428919068108\n",
      "Numerical approximation for 1000000 elements of posterior standard deviation = 39.768616922226634\n"
     ]
    }
   ]
  },
  {
   "cell_type": "markdown",
   "source": [
    "Here is another check of variance calculation with the formula:\n",
    "\n",
    "$variance = \\sum_{B=101}^{∞}((B_i - mean)^2 * posterior(B_i)$"
   ],
   "metadata": {
    "id": "cHri9_zbMx9r"
   }
  },
  {
   "cell_type": "code",
   "source": [
    "posterior_var = 0\n",
    "for i in range(101, 1000000):  # approximation to 1000000 elements\n",
    "  posterior_var += (i-posterior_mean)**2 * posterior(i)\n",
    "\n",
    "print(\"Numerical approximation for 1000000 elements of posterior variance =\", posterior_var)\n",
    "print(\"Numerical approximation for 1000000 elements of posterior standard deviation =\", np.sqrt(posterior_var))"
   ],
   "metadata": {
    "colab": {
     "base_uri": "https://localhost:8080/"
    },
    "id": "seTKNGZHOw0s",
    "outputId": "d7f7f658-2e6e-4ecc-a993-35d1917d7b84"
   },
   "execution_count": 11,
   "outputs": [
    {
     "output_type": "stream",
     "name": "stdout",
     "text": [
      "Numerical approximation for 1000000 elements of posterior variance = 1581.5428919069848\n",
      "Numerical approximation for 1000000 elements of posterior standard deviation = 39.76861692222882\n"
     ]
    }
   ]
  },
  {
   "cell_type": "markdown",
   "source": [
    "**Answer:** mean≈138.59, standard deviation≈39.77"
   ],
   "metadata": {
    "id": "n2EjUtVsNTyo"
   }
  },
  {
   "cell_type": "markdown",
   "source": [
    "## b)"
   ],
   "metadata": {
    "id": "Q39xozMB5ry_"
   }
  },
  {
   "cell_type": "markdown",
   "source": [
    "### (i)"
   ],
   "metadata": {
    "id": "x93ueqJt52Ty"
   }
  },
  {
   "cell_type": "markdown",
   "source": [
    "The initialization distribution should be chosen such that it is easy to sample from, has a broad support over the state space Z and it should be similar to the target distribution $\\pi(k)$.\n",
    "\n",
    "A common option we could choose as the initialization distribution is Gaussian centered at 0, with a standard deviation of 1. It is easy to sample from and has a similar shape to the target distribution $\\pi(k)$, which is also centered around 0 and has long tails. However, it is designed for continuous values, so maybe there is a better candidate.\n",
    "\n",
    "Another common option is a uniform distribution over the state space Zm it works with discrete values as wanted. This would ensure that the initialization distribution has a broad support over the state space, and it is easy to sample from a uniform distribution. Its drawback is that its shape is completely different from tre form of our target distribution $\\pi(k)$.\n",
    "\n",
    "Thus, for our specific case, I propose to choose the distribution with PDF of the following form:\n",
    "\n",
    "$ f(x) = \\frac{1}{3} \\frac{1}{2^{|x|}}$\n",
    "\n",
    "This is a correct probability distribution, all probabilities sum up to 1, it is symmetric, centered at 0, has long tails, works with discrete values, has a broad support over values of $Z$. In this way it should be a good choice for th initialization distribution. Check the sum and visualization below:\n"
   ],
   "metadata": {
    "id": "GPMUJ8J67kuu"
   }
  },
  {
   "cell_type": "code",
   "source": [
    "def init_dist(k, mean=0):\n",
    "  return 1/(3*(2**abs(k-mean)))\n",
    "\n",
    "init_dist_sum = 0\n",
    "for i in range(-100, 100):\n",
    "  init_dist_sum += init_dist(i)\n",
    "\n",
    "print(\"Sum of all probabilities of the initial distribution is:\", init_dist_sum)\n",
    "\n",
    "\n",
    "x = np.arange(-10,10, 1)\n",
    "y = init_dist(x)\n",
    "px.line(x = x, y= y, title=\"Initial Distribution\")"
   ],
   "metadata": {
    "colab": {
     "base_uri": "https://localhost:8080/",
     "height": 539
    },
    "id": "D6zGJAjqggTO",
    "outputId": "8d9f1c6b-9d5e-4394-edf9-5800f0f0cd6c"
   },
   "execution_count": 12,
   "outputs": [
    {
     "output_type": "stream",
     "name": "stdout",
     "text": [
      "Sum of all probabilities of the initial distribution is: 0.9999999999999998\n"
     ]
    },
    {
     "output_type": "display_data",
     "data": {
      "image/svg+xml": "<svg class=\"main-svg\" xmlns=\"http://www.w3.org/2000/svg\" xmlns:xlink=\"http://www.w3.org/1999/xlink\" width=\"700\" height=\"500\" style=\"\" viewBox=\"0 0 700 500\"><rect x=\"0\" y=\"0\" width=\"700\" height=\"500\" style=\"fill: rgb(255, 255, 255); fill-opacity: 1;\"/><defs id=\"defs-cc0f1e\"><g class=\"clips\"><clipPath id=\"clipcc0f1exyplot\" class=\"plotclip\"><rect width=\"540\" height=\"320\"/></clipPath><clipPath class=\"axesclip\" id=\"clipcc0f1ex\"><rect x=\"80\" y=\"0\" width=\"540\" height=\"500\"/></clipPath><clipPath class=\"axesclip\" id=\"clipcc0f1ey\"><rect x=\"0\" y=\"100\" width=\"700\" height=\"320\"/></clipPath><clipPath class=\"axesclip\" id=\"clipcc0f1exy\"><rect x=\"80\" y=\"100\" width=\"540\" height=\"320\"/></clipPath></g><g class=\"gradients\"/><g class=\"patterns\"/></defs><g class=\"bglayer\"><rect class=\"bg\" x=\"80\" y=\"100\" width=\"540\" height=\"320\" style=\"fill: rgb(229, 236, 246); fill-opacity: 1; stroke-width: 0;\"/></g><g class=\"layer-below\"><g class=\"imagelayer\"/><g class=\"shapelayer\"/></g><g class=\"cartesianlayer\"><g class=\"subplot xy\"><g class=\"layer-subplot\"><g class=\"shapelayer\"/><g class=\"imagelayer\"/></g><g class=\"gridlayer\"><g class=\"x\"><path class=\"xgrid crisp\" transform=\"translate(222.11,0)\" d=\"M0,100v320\" style=\"stroke: rgb(255, 255, 255); stroke-opacity: 1; stroke-width: 1px;\"/><path class=\"xgrid crisp\" transform=\"translate(506.32,0)\" d=\"M0,100v320\" style=\"stroke: rgb(255, 255, 255); stroke-opacity: 1; stroke-width: 1px;\"/></g><g class=\"y\"><path class=\"ygrid crisp\" transform=\"translate(0,361.04)\" d=\"M80,0h540\" style=\"stroke: rgb(255, 255, 255); stroke-opacity: 1; stroke-width: 1px;\"/><path class=\"ygrid crisp\" transform=\"translate(0,317.8)\" d=\"M80,0h540\" style=\"stroke: rgb(255, 255, 255); stroke-opacity: 1; stroke-width: 1px;\"/><path class=\"ygrid crisp\" transform=\"translate(0,274.55)\" d=\"M80,0h540\" style=\"stroke: rgb(255, 255, 255); stroke-opacity: 1; stroke-width: 1px;\"/><path class=\"ygrid crisp\" transform=\"translate(0,231.31)\" d=\"M80,0h540\" style=\"stroke: rgb(255, 255, 255); stroke-opacity: 1; stroke-width: 1px;\"/><path class=\"ygrid crisp\" transform=\"translate(0,188.07)\" d=\"M80,0h540\" style=\"stroke: rgb(255, 255, 255); stroke-opacity: 1; stroke-width: 1px;\"/><path class=\"ygrid crisp\" transform=\"translate(0,144.82999999999998)\" d=\"M80,0h540\" style=\"stroke: rgb(255, 255, 255); stroke-opacity: 1; stroke-width: 1px;\"/><path class=\"ygrid crisp\" transform=\"translate(0,101.59)\" d=\"M80,0h540\" style=\"stroke: rgb(255, 255, 255); stroke-opacity: 1; stroke-width: 1px;\"/></g></g><g class=\"zerolinelayer\"><path class=\"xzl zl crisp\" transform=\"translate(364.21,0)\" d=\"M0,100v320\" style=\"stroke: rgb(255, 255, 255); stroke-opacity: 1; stroke-width: 2px;\"/><path class=\"yzl zl crisp\" transform=\"translate(0,404.28)\" d=\"M80,0h540\" style=\"stroke: rgb(255, 255, 255); stroke-opacity: 1; stroke-width: 2px;\"/></g><path class=\"xlines-below\"/><path class=\"ylines-below\"/><g class=\"overlines-below\"/><g class=\"xaxislayer-below\"/><g class=\"yaxislayer-below\"/><g class=\"overaxes-below\"/><g class=\"plot\" transform=\"translate(80,100)\" clip-path=\"url(#clipcc0f1exyplot)\"><g class=\"scatterlayer mlayer\"><g class=\"trace scatter trace8ada68\" style=\"stroke-miterlimit: 2; opacity: 1;\"><g class=\"fills\"/><g class=\"errorbars\"/><g class=\"lines\"><path class=\"js-line\" d=\"M0,304L56.84,303.16L85.26,302.03L113.68,299.78L142.11,295.27L170.53,286.26L198.95,268.25L227.37,232.21L255.79,160.14L284.21,16L312.63,160.14L341.05,232.21L369.47,268.25L397.89,286.26L426.32,295.27L454.74,299.78L483.16,302.03L540,303.72\" style=\"vector-effect: non-scaling-stroke; fill: none; stroke: rgb(99, 110, 250); stroke-opacity: 1; stroke-width: 2px; opacity: 1;\"/></g><g class=\"points\"/><g class=\"text\"/></g></g></g><g class=\"overplot\"/><path class=\"xlines-above crisp\" d=\"M0,0\" style=\"fill: none;\"/><path class=\"ylines-above crisp\" d=\"M0,0\" style=\"fill: none;\"/><g class=\"overlines-above\"/><g class=\"xaxislayer-above\"><g class=\"xtick\"><text text-anchor=\"middle\" x=\"0\" y=\"433\" transform=\"translate(80,0)\" style=\"font-family: 'Open Sans', verdana, arial, sans-serif; font-size: 12px; fill: rgb(42, 63, 95); fill-opacity: 1; white-space: pre; opacity: 1;\">−10</text></g><g class=\"xtick\"><text text-anchor=\"middle\" x=\"0\" y=\"433\" style=\"font-family: 'Open Sans', verdana, arial, sans-serif; font-size: 12px; fill: rgb(42, 63, 95); fill-opacity: 1; white-space: pre; opacity: 1;\" transform=\"translate(222.11,0)\">−5</text></g><g class=\"xtick\"><text text-anchor=\"middle\" x=\"0\" y=\"433\" style=\"font-family: 'Open Sans', verdana, arial, sans-serif; font-size: 12px; fill: rgb(42, 63, 95); fill-opacity: 1; white-space: pre; opacity: 1;\" transform=\"translate(364.21,0)\">0</text></g><g class=\"xtick\"><text text-anchor=\"middle\" x=\"0\" y=\"433\" style=\"font-family: 'Open Sans', verdana, arial, sans-serif; font-size: 12px; fill: rgb(42, 63, 95); fill-opacity: 1; white-space: pre; opacity: 1;\" transform=\"translate(506.32,0)\">5</text></g></g><g class=\"yaxislayer-above\"><g class=\"ytick\"><text text-anchor=\"end\" x=\"79\" y=\"4.199999999999999\" transform=\"translate(0,404.28)\" style=\"font-family: 'Open Sans', verdana, arial, sans-serif; font-size: 12px; fill: rgb(42, 63, 95); fill-opacity: 1; white-space: pre; opacity: 1;\">0</text></g><g class=\"ytick\"><text text-anchor=\"end\" x=\"79\" y=\"4.199999999999999\" style=\"font-family: 'Open Sans', verdana, arial, sans-serif; font-size: 12px; fill: rgb(42, 63, 95); fill-opacity: 1; white-space: pre; opacity: 1;\" transform=\"translate(0,361.04)\">0.05</text></g><g class=\"ytick\"><text text-anchor=\"end\" x=\"79\" y=\"4.199999999999999\" style=\"font-family: 'Open Sans', verdana, arial, sans-serif; font-size: 12px; fill: rgb(42, 63, 95); fill-opacity: 1; white-space: pre; opacity: 1;\" transform=\"translate(0,317.8)\">0.1</text></g><g class=\"ytick\"><text text-anchor=\"end\" x=\"79\" y=\"4.199999999999999\" style=\"font-family: 'Open Sans', verdana, arial, sans-serif; font-size: 12px; fill: rgb(42, 63, 95); fill-opacity: 1; white-space: pre; opacity: 1;\" transform=\"translate(0,274.55)\">0.15</text></g><g class=\"ytick\"><text text-anchor=\"end\" x=\"79\" y=\"4.199999999999999\" style=\"font-family: 'Open Sans', verdana, arial, sans-serif; font-size: 12px; fill: rgb(42, 63, 95); fill-opacity: 1; white-space: pre; opacity: 1;\" transform=\"translate(0,231.31)\">0.2</text></g><g class=\"ytick\"><text text-anchor=\"end\" x=\"79\" y=\"4.199999999999999\" style=\"font-family: 'Open Sans', verdana, arial, sans-serif; font-size: 12px; fill: rgb(42, 63, 95); fill-opacity: 1; white-space: pre; opacity: 1;\" transform=\"translate(0,188.07)\">0.25</text></g><g class=\"ytick\"><text text-anchor=\"end\" x=\"79\" y=\"4.199999999999999\" style=\"font-family: 'Open Sans', verdana, arial, sans-serif; font-size: 12px; fill: rgb(42, 63, 95); fill-opacity: 1; white-space: pre; opacity: 1;\" transform=\"translate(0,144.82999999999998)\">0.3</text></g><g class=\"ytick\"><text text-anchor=\"end\" x=\"79\" y=\"4.199999999999999\" style=\"font-family: 'Open Sans', verdana, arial, sans-serif; font-size: 12px; fill: rgb(42, 63, 95); fill-opacity: 1; white-space: pre; opacity: 1;\" transform=\"translate(0,101.59)\">0.35</text></g></g><g class=\"overaxes-above\"/></g></g><g class=\"polarlayer\"/><g class=\"smithlayer\"/><g class=\"ternarylayer\"/><g class=\"geolayer\"/><g class=\"funnelarealayer\"/><g class=\"pielayer\"/><g class=\"iciclelayer\"/><g class=\"treemaplayer\"/><g class=\"sunburstlayer\"/><g class=\"glimages\"/><defs id=\"topdefs-cc0f1e\"><g class=\"clips\"/></defs><g class=\"layer-above\"><g class=\"imagelayer\"/><g class=\"shapelayer\"/></g><g class=\"infolayer\"><g class=\"g-gtitle\"><text class=\"gtitle\" x=\"35\" y=\"50\" text-anchor=\"start\" dy=\"0em\" style=\"font-family: 'Open Sans', verdana, arial, sans-serif; font-size: 17px; fill: rgb(42, 63, 95); opacity: 1; font-weight: normal; white-space: pre;\">Initial Distribution</text></g><g class=\"g-xtitle\"><text class=\"xtitle\" x=\"350\" y=\"460.8\" text-anchor=\"middle\" style=\"font-family: 'Open Sans', verdana, arial, sans-serif; font-size: 14px; fill: rgb(42, 63, 95); opacity: 1; font-weight: normal; white-space: pre;\">x</text></g><g class=\"g-ytitle\"><text class=\"ytitle\" transform=\"rotate(-90,30.840625000000003,260)\" x=\"30.840625000000003\" y=\"260\" text-anchor=\"middle\" style=\"font-family: 'Open Sans', verdana, arial, sans-serif; font-size: 14px; fill: rgb(42, 63, 95); opacity: 1; font-weight: normal; white-space: pre;\">y</text></g></g></svg>"
     },
     "metadata": {}
    }
   ]
  },
  {
   "cell_type": "markdown",
   "source": [
    "Sum of all probabilitie has to be 1 but with the floating operations we receive $\\approx 0.999$. We handle this in the next function to force the sum to be equal exactly to $1$."
   ],
   "metadata": {
    "id": "88_e1A5b6uo8"
   }
  },
  {
   "cell_type": "code",
   "source": [
    "def sample_init_dist(mean=0, range_len=50):\n",
    "  # utility function to sample from the proposed initialization distribution\n",
    "  init_range = np.arange(mean-range_len//2, mean+range_len//2)\n",
    "  init_probs = [init_dist(k, mean) for k in init_range]\n",
    "  init_probs[len(init_probs)//2] += 1 - np.array(init_probs).sum()\n",
    "  return np.random.choice(init_range, p=init_probs)\n",
    "\n",
    "sample_init_dist()"
   ],
   "metadata": {
    "id": "uL_iHIwgitBZ",
    "colab": {
     "base_uri": "https://localhost:8080/"
    },
    "outputId": "8fdfbcd7-5f00-4d24-a4ed-5447e98ff040"
   },
   "execution_count": 13,
   "outputs": [
    {
     "output_type": "execute_result",
     "data": {
      "text/plain": [
       "0"
      ]
     },
     "metadata": {},
     "execution_count": 13
    }
   ]
  },
  {
   "cell_type": "markdown",
   "source": [
    "### (ii)"
   ],
   "metadata": {
    "id": "O1fVc6XF551n"
   }
  },
  {
   "cell_type": "markdown",
   "source": [
    "To derive the acceptance probability for the Metropolis-Hastings algorithm using a random walk as the proposal distribution, we need to consider the transition probabilities for moving from one state to another. Let's say that we are currently at state $k_i$, and we propose to move to state $k_j$. The transition probability from $k_i$ to $k_j$ is given by the proposal distribution $q(k_j|k_i)$, which in this case is the probability of moving from $k_i$ to $k_j$ in a random walk. A random walk proposal distribution would produce proposed states with the means that are the current state plus some random offset.\n",
    "\n",
    "To calculate the acceptance probability we need to perform the following steps:\n",
    "1. Select the current state of the Markov chain, $k_i$.\n",
    "2. Propose a new state, $k_j$, using a random walk, which means sampling from a distribution q($k_j$|$k_i$) that depends on the current state $k_i$.\n",
    "3. Calculate the acceptance probability $\\alpha$.\n",
    "\n",
    "The expression for the acceptance probability can be used to determine whether to accept or reject the proposed state $k_j$ in the Metropolis-Hastings algorithm.\n",
    "\n",
    "With those terms we derive:\n",
    "\n",
    "$\\alpha =  \\min \\left(1, \\frac{\\pi(k_j) q(k_i|k_j)}{(\\pi(k_i) q(k_j|k_i)} \\right)$,\n",
    "\n",
    "where $\\pi(k_i)$ and $\\pi(k_j)$ are the probabilities of the current and proposed states from the target distribution $\\pi(k)$.\n",
    "\n",
    "Since $q(k_i|k_j) = q(k_j|k_i)$ in a symmetric random walk, the acceptance probability simplifies to:\n",
    "\n",
    "$\\alpha = \\min(1, \\frac{\\pi(k_j)}{\\pi(k_i)})$\n",
    "\n",
    "Substituting the above with the expressions for $\\pi(k)$, we get:\n",
    "\n",
    "$\\alpha = \\min(1, \\frac{\\left(k_j-\\frac{1}{2}\\right)^4 e^{-3|k_j|} cos^{2}(k_j)}{\\left(k_i-\\frac{1}{2}\\right)^4 e^{-3|k_i|} cos^{2}(k_i)})$\n",
    "\n",
    "Conctant $c$ was cancelled out."
   ],
   "metadata": {
    "id": "3j3x7qdl_7JH"
   }
  },
  {
   "cell_type": "markdown",
   "source": [
    "### (iii)"
   ],
   "metadata": {
    "id": "iNj8EsA75899"
   }
  },
  {
   "cell_type": "markdown",
   "source": [
    "At first let's describe the steps of the algorithm:\n",
    "\n",
    "1. Initialize the current state $k_i$ ($i=0$ here) to a sample from the initialization distribution.\n",
    "2. Generate a proposal state $k_j$ from a proposal distribution $q(k_j | k_i)$. The proposal distribution should be chosen such that it is easy to sample from and has a broad support over the state space.\n",
    "3. Calculate the acceptance probability $\\alpha = \\pi(k_j) / \\pi(k_i)$.\n",
    "4. Generate a uniform random number $u$ between 0 and 1.\n",
    "5. If $u \\lt \\alpha$, set the current state $k_i$ to $k_j$. Otherwise, keep the current state $k_i$ unchanged.\n",
    "6. Repeat steps 2-5 for a **num_samples** number of iterations. The samples drawn at each iteration can be used to estimate the target distribution $\\pi(k)$.\n",
    "\n",
    "\n",
    "Here is a pseudocode for this:\n",
    "\n",
    "\n",
    "\n",
    "```\n",
    "def metropolis_hastings(target_distribution, proposal_distribution, initial_state, num_samples):\n",
    "  # Initialize the current state and the list of samples\n",
    "  current_state = initial_state\n",
    "  samples = []\n",
    "\n",
    "  # Iterate for the desired number of samples\n",
    "  for i in range(num_samples):\n",
    "    # Sample a proposed move from the proposal distribution\n",
    "    proposed_move = proposal_distribution.sample()\n",
    "\n",
    "    # Calculate the acceptance probability\n",
    "    acceptance_probability = min(1, target_distribution(proposed_move) / target_distribution(current_state))\n",
    "\n",
    "    # Generate a random uniform variable\n",
    "    u = uniform_random_variable(0, 1)\n",
    "\n",
    "    # If the uniform variable is less than the acceptance probability, accept the proposed move\n",
    "    if u < acceptance_probability:\n",
    "      current_state = proposed_move\n",
    "\n",
    "    # Add the current state to the list of samples\n",
    "    samples.append(current_state)\n",
    "\n",
    "  return samples\n",
    "```\n"
   ],
   "metadata": {
    "id": "92wm2s65D6CQ"
   }
  },
  {
   "cell_type": "markdown",
   "source": [
    "### (iv)"
   ],
   "metadata": {
    "id": "sDaFJEPL5-nP"
   }
  },
  {
   "cell_type": "code",
   "source": [
    "def p(k):\n",
    "  # Target distribution\n",
    "  c = 1 # Normalizing constant\n",
    "  return c * (k - 0.5)**4 * np.exp(-3 * np.abs(k)) * np.cos(k)**2\n",
    "\n",
    "\n",
    "def q(k):\n",
    "    \"\"\"\n",
    "    The proposal distribution.\n",
    "    \"\"\"\n",
    "    # Sample a proposed state from a proposal distribution centered at the current state (random walk)\n",
    "    # For the proposal distribution, we use the same distribution as initial one but centered at k.\n",
    "    return sample_init_dist(k)\n",
    "\n",
    "\n",
    "def metropolis_hastings(p, q, k_0, num_samples, num_burnin):\n",
    "    # Initialize the list of samples\n",
    "    samples = []\n",
    "\n",
    "    # Initialize variables for the acceptance rate\n",
    "    accept_burnin = 0\n",
    "    accept = 0\n",
    "    \n",
    "    # Set the current state to the starting state\n",
    "    k_curr = k_0\n",
    "\n",
    "    def get_next_state(k_curr):\n",
    "        # return new next state if proposed is accepted and previous otherwise\n",
    "        accept = 0\n",
    "        # Sample a proposed state from the proposal distribution\n",
    "        k_prop = q(k_curr)\n",
    "        \n",
    "        # Compute the acceptance probability\n",
    "        alpha = min(1, p(k_prop) / p(k_curr))\n",
    "        \n",
    "        # Generate a uniform random number between 0 and 1\n",
    "        u = np.random.uniform()\n",
    "        \n",
    "        # If the random number is less than the acceptance probability, accept the proposed state\n",
    "        if u < alpha:\n",
    "            k_curr = k_prop\n",
    "            accept = 1\n",
    "\n",
    "        return k_curr, accept\n",
    "\n",
    "\n",
    "    # Generate num_burnin samples\n",
    "    for _ in range(num_burnin):\n",
    "        # get next state and acceptance indicator\n",
    "        k_curr, step_accept = get_next_state(k_curr)\n",
    "        accept_burnin += step_accept\n",
    "\n",
    "    \n",
    "    # Generate num_samples samples\n",
    "    for _ in range(num_samples):\n",
    "        # get next state and acceptance indicator\n",
    "        k_curr, step_accept = get_next_state(k_curr)\n",
    "        accept += step_accept\n",
    "            \n",
    "        # Append the current state to the list of samples\n",
    "        samples.append(k_curr)\n",
    "        \n",
    "    return np.array(samples),  accept_burnin / num_burnin, accept / num_samples\n",
    "\n",
    "# Set the starting state according to initialization distribution\n",
    "k_0 = sample_init_dist() #np.random.randn()  # or 0\n",
    "\n",
    "# Set the number of samples to generate\n",
    "num_burnin = 1000\n",
    "num_samples = 10000\n",
    "\n",
    "# Sample from the target distribution using the Metropolis-Hastings algorithm\n",
    "samples, acceptance_rate_burnin, acceptance_rate = metropolis_hastings(p, q, k_0, num_samples, num_burnin)\n",
    "\n",
    "print(\"Acceptance rate burn-in:\", acceptance_rate_burnin)\n",
    "print(\"Acceptance rate:\", acceptance_rate)"
   ],
   "metadata": {
    "colab": {
     "base_uri": "https://localhost:8080/"
    },
    "id": "sjJMpUcl0q_h",
    "outputId": "28093b13-35cc-4586-f31e-c416210c3fed"
   },
   "execution_count": 14,
   "outputs": [
    {
     "output_type": "stream",
     "name": "stdout",
     "text": [
      "Acceptance rate burn-in: 0.573\n",
      "Acceptance rate: 0.5713\n"
     ]
    }
   ]
  },
  {
   "cell_type": "markdown",
   "source": [
    "We added two additional variables to track the acceptance rate of our algorithm on the burin-in stage and on the final sampling stage. The acceptance rate for the Metropolis-Hastings algorithm is a measure of how often the algorithm accepts proposed moves in the Markov chain. A high acceptance rate means that the algorithm is making frequent moves, while a low acceptance rate means that the algorithm is making fewer moves. B\n",
    "\n",
    "\n",
    "Now let's visualialize the initil distribution and results:"
   ],
   "metadata": {
    "id": "tilPvcbw5-gw"
   }
  },
  {
   "cell_type": "markdown",
   "source": [
    "#### Visualizations"
   ],
   "metadata": {
    "id": "rtjuMyn4GzPv"
   }
  },
  {
   "cell_type": "markdown",
   "source": [
    "We are using histogram (bar plot) to show the discrete target distribution:"
   ],
   "metadata": {
    "id": "VKJCQ05RtRpj"
   }
  },
  {
   "cell_type": "code",
   "source": [
    "x = np.arange(-6,6, 1)\n",
    "y = p(x)\n",
    "fig1 = px.bar(x = x, y= y, title=\"Ground Truth Target distribution \\pi(x)\")\n",
    "fig1.update_layout(bargap=0.5, yaxis_title=\"$\\pi(x)$\")\n",
    "fig1.show()"
   ],
   "metadata": {
    "colab": {
     "base_uri": "https://localhost:8080/",
     "height": 522
    },
    "id": "SUZsQtQ-MFyI",
    "outputId": "4af0cd83-cc49-4df9-d5f5-6c9be1eb187c"
   },
   "execution_count": 15,
   "outputs": [
    {
     "output_type": "display_data",
     "data": {
      "image/svg+xml": "<svg class=\"main-svg\" xmlns=\"http://www.w3.org/2000/svg\" xmlns:xlink=\"http://www.w3.org/1999/xlink\" width=\"700\" height=\"500\" style=\"\" viewBox=\"0 0 700 500\"><rect x=\"0\" y=\"0\" width=\"700\" height=\"500\" style=\"fill: rgb(255, 255, 255); fill-opacity: 1;\"/><defs id=\"defs-037a79\"><g class=\"clips\"><clipPath id=\"clip037a79xyplot\" class=\"plotclip\"><rect width=\"540\" height=\"320\"/></clipPath><clipPath class=\"axesclip\" id=\"clip037a79x\"><rect x=\"80\" y=\"0\" width=\"540\" height=\"500\"/></clipPath><clipPath class=\"axesclip\" id=\"clip037a79y\"><rect x=\"0\" y=\"100\" width=\"700\" height=\"320\"/></clipPath><clipPath class=\"axesclip\" id=\"clip037a79xy\"><rect x=\"80\" y=\"100\" width=\"540\" height=\"320\"/></clipPath></g><g class=\"gradients\"/><g class=\"patterns\"/></defs><g class=\"bglayer\"><rect class=\"bg\" x=\"80\" y=\"100\" width=\"540\" height=\"320\" style=\"fill: rgb(229, 236, 246); fill-opacity: 1; stroke-width: 0;\"/></g><g class=\"layer-below\"><g class=\"imagelayer\"/><g class=\"shapelayer\"/></g><g class=\"cartesianlayer\"><g class=\"subplot xy\"><g class=\"layer-subplot\"><g class=\"shapelayer\"/><g class=\"imagelayer\"/></g><g class=\"gridlayer\"><g class=\"x\"/><g class=\"y\"><path class=\"ygrid crisp\" transform=\"translate(0,378.68)\" d=\"M80,0h540\" style=\"stroke: rgb(255, 255, 255); stroke-opacity: 1; stroke-width: 1px;\"/><path class=\"ygrid crisp\" transform=\"translate(0,337.37)\" d=\"M80,0h540\" style=\"stroke: rgb(255, 255, 255); stroke-opacity: 1; stroke-width: 1px;\"/><path class=\"ygrid crisp\" transform=\"translate(0,296.05)\" d=\"M80,0h540\" style=\"stroke: rgb(255, 255, 255); stroke-opacity: 1; stroke-width: 1px;\"/><path class=\"ygrid crisp\" transform=\"translate(0,254.74)\" d=\"M80,0h540\" style=\"stroke: rgb(255, 255, 255); stroke-opacity: 1; stroke-width: 1px;\"/><path class=\"ygrid crisp\" transform=\"translate(0,213.42000000000002)\" d=\"M80,0h540\" style=\"stroke: rgb(255, 255, 255); stroke-opacity: 1; stroke-width: 1px;\"/><path class=\"ygrid crisp\" transform=\"translate(0,172.1)\" d=\"M80,0h540\" style=\"stroke: rgb(255, 255, 255); stroke-opacity: 1; stroke-width: 1px;\"/><path class=\"ygrid crisp\" transform=\"translate(0,130.79)\" d=\"M80,0h540\" style=\"stroke: rgb(255, 255, 255); stroke-opacity: 1; stroke-width: 1px;\"/></g></g><g class=\"zerolinelayer\"><path class=\"yzl zl crisp\" transform=\"translate(0,420)\" d=\"M80,0h540\" style=\"stroke: rgb(255, 255, 255); stroke-opacity: 1; stroke-width: 2px;\"/></g><path class=\"xlines-below\"/><path class=\"ylines-below\"/><g class=\"overlines-below\"/><g class=\"xaxislayer-below\"/><g class=\"yaxislayer-below\"/><g class=\"overaxes-below\"/><g class=\"plot\" transform=\"translate(80,100)\" clip-path=\"url(#clip037a79xyplot)\"><g class=\"barlayer mlayer\"><g class=\"trace bars\" style=\"opacity: 1;\"><g class=\"points\"><g class=\"point\"><path d=\"M11.25,320V319.9H33.75V320Z\" style=\"vector-effect: non-scaling-stroke; opacity: 1; stroke-width: 0.5px; fill: rgb(99, 110, 250); fill-opacity: 1; stroke: rgb(229, 236, 246); stroke-opacity: 1;\"/></g><g class=\"point\"><path d=\"M56.25,320V319.91H78.75V320Z\" style=\"vector-effect: non-scaling-stroke; opacity: 1; stroke-width: 0.5px; fill: rgb(99, 110, 250); fill-opacity: 1; stroke: rgb(229, 236, 246); stroke-opacity: 1;\"/></g><g class=\"point\"><path d=\"M101.25,320V315.55H123.75V320Z\" style=\"vector-effect: non-scaling-stroke; opacity: 1; stroke-width: 0.5px; fill: rgb(99, 110, 250); fill-opacity: 1; stroke: rgb(229, 236, 246); stroke-opacity: 1;\"/></g><g class=\"point\"><path d=\"M146.25,320V245.01H168.75V320Z\" style=\"vector-effect: non-scaling-stroke; opacity: 1; stroke-width: 0.5px; fill: rgb(99, 110, 250); fill-opacity: 1; stroke: rgb(229, 236, 246); stroke-opacity: 1;\"/></g><g class=\"point\"><path d=\"M191.25,320V250.72H213.75V320Z\" style=\"vector-effect: non-scaling-stroke; opacity: 1; stroke-width: 0.5px; fill: rgb(99, 110, 250); fill-opacity: 1; stroke: rgb(229, 236, 246); stroke-opacity: 1;\"/></g><g class=\"point\"><path d=\"M236.25,320V16H258.75V320Z\" style=\"vector-effect: non-scaling-stroke; opacity: 1; stroke-width: 0.5px; fill: rgb(99, 110, 250); fill-opacity: 1; stroke: rgb(229, 236, 246); stroke-opacity: 1;\"/></g><g class=\"point\"><path d=\"M281.25,320V61.77H303.75V320Z\" style=\"vector-effect: non-scaling-stroke; opacity: 1; stroke-width: 0.5px; fill: rgb(99, 110, 250); fill-opacity: 1; stroke: rgb(229, 236, 246); stroke-opacity: 1;\"/></g><g class=\"point\"><path d=\"M326.25,320V316.25H348.75V320Z\" style=\"vector-effect: non-scaling-stroke; opacity: 1; stroke-width: 0.5px; fill: rgb(99, 110, 250); fill-opacity: 1; stroke: rgb(229, 236, 246); stroke-opacity: 1;\"/></g><g class=\"point\"><path d=\"M371.25,320V311.02H393.75V320Z\" style=\"vector-effect: non-scaling-stroke; opacity: 1; stroke-width: 0.5px; fill: rgb(99, 110, 250); fill-opacity: 1; stroke: rgb(229, 236, 246); stroke-opacity: 1;\"/></g><g class=\"point\"><path d=\"M416.25,320V300.48H438.75V320Z\" style=\"vector-effect: non-scaling-stroke; opacity: 1; stroke-width: 0.5px; fill: rgb(99, 110, 250); fill-opacity: 1; stroke: rgb(229, 236, 246); stroke-opacity: 1;\"/></g><g class=\"point\"><path d=\"M461.25,320V318.37H483.75V320Z\" style=\"vector-effect: non-scaling-stroke; opacity: 1; stroke-width: 0.5px; fill: rgb(99, 110, 250); fill-opacity: 1; stroke: rgb(229, 236, 246); stroke-opacity: 1;\"/></g><g class=\"point\"><path d=\"M506.25,320V319.96H528.75V320Z\" style=\"vector-effect: non-scaling-stroke; opacity: 1; stroke-width: 0.5px; fill: rgb(99, 110, 250); fill-opacity: 1; stroke: rgb(229, 236, 246); stroke-opacity: 1;\"/></g></g></g></g></g><g class=\"overplot\"/><path class=\"xlines-above crisp\" d=\"M0,0\" style=\"fill: none;\"/><path class=\"ylines-above crisp\" d=\"M0,0\" style=\"fill: none;\"/><g class=\"overlines-above\"/><g class=\"xaxislayer-above\"><g class=\"xtick\"><text text-anchor=\"middle\" x=\"0\" y=\"433\" transform=\"translate(102.5,0)\" style=\"font-family: 'Open Sans', verdana, arial, sans-serif; font-size: 12px; fill: rgb(42, 63, 95); fill-opacity: 1; white-space: pre; opacity: 1;\">−6</text></g><g class=\"xtick\"><text text-anchor=\"middle\" x=\"0\" y=\"433\" style=\"font-family: 'Open Sans', verdana, arial, sans-serif; font-size: 12px; fill: rgb(42, 63, 95); fill-opacity: 1; white-space: pre; opacity: 1;\" transform=\"translate(192.5,0)\">−4</text></g><g class=\"xtick\"><text text-anchor=\"middle\" x=\"0\" y=\"433\" style=\"font-family: 'Open Sans', verdana, arial, sans-serif; font-size: 12px; fill: rgb(42, 63, 95); fill-opacity: 1; white-space: pre; opacity: 1;\" transform=\"translate(282.5,0)\">−2</text></g><g class=\"xtick\"><text text-anchor=\"middle\" x=\"0\" y=\"433\" style=\"font-family: 'Open Sans', verdana, arial, sans-serif; font-size: 12px; fill: rgb(42, 63, 95); fill-opacity: 1; white-space: pre; opacity: 1;\" transform=\"translate(372.5,0)\">0</text></g><g class=\"xtick\"><text text-anchor=\"middle\" x=\"0\" y=\"433\" style=\"font-family: 'Open Sans', verdana, arial, sans-serif; font-size: 12px; fill: rgb(42, 63, 95); fill-opacity: 1; white-space: pre; opacity: 1;\" transform=\"translate(462.5,0)\">2</text></g><g class=\"xtick\"><text text-anchor=\"middle\" x=\"0\" y=\"433\" style=\"font-family: 'Open Sans', verdana, arial, sans-serif; font-size: 12px; fill: rgb(42, 63, 95); fill-opacity: 1; white-space: pre; opacity: 1;\" transform=\"translate(552.5,0)\">4</text></g></g><g class=\"yaxislayer-above\"><g class=\"ytick\"><text text-anchor=\"end\" x=\"79\" y=\"4.199999999999999\" transform=\"translate(0,420)\" style=\"font-family: 'Open Sans', verdana, arial, sans-serif; font-size: 12px; fill: rgb(42, 63, 95); fill-opacity: 1; white-space: pre; opacity: 1;\">0</text></g><g class=\"ytick\"><text text-anchor=\"end\" x=\"79\" y=\"4.199999999999999\" style=\"font-family: 'Open Sans', verdana, arial, sans-serif; font-size: 12px; fill: rgb(42, 63, 95); fill-opacity: 1; white-space: pre; opacity: 1;\" transform=\"translate(0,378.68)\">0.01</text></g><g class=\"ytick\"><text text-anchor=\"end\" x=\"79\" y=\"4.199999999999999\" style=\"font-family: 'Open Sans', verdana, arial, sans-serif; font-size: 12px; fill: rgb(42, 63, 95); fill-opacity: 1; white-space: pre; opacity: 1;\" transform=\"translate(0,337.37)\">0.02</text></g><g class=\"ytick\"><text text-anchor=\"end\" x=\"79\" y=\"4.199999999999999\" style=\"font-family: 'Open Sans', verdana, arial, sans-serif; font-size: 12px; fill: rgb(42, 63, 95); fill-opacity: 1; white-space: pre; opacity: 1;\" transform=\"translate(0,296.05)\">0.03</text></g><g class=\"ytick\"><text text-anchor=\"end\" x=\"79\" y=\"4.199999999999999\" style=\"font-family: 'Open Sans', verdana, arial, sans-serif; font-size: 12px; fill: rgb(42, 63, 95); fill-opacity: 1; white-space: pre; opacity: 1;\" transform=\"translate(0,254.74)\">0.04</text></g><g class=\"ytick\"><text text-anchor=\"end\" x=\"79\" y=\"4.199999999999999\" style=\"font-family: 'Open Sans', verdana, arial, sans-serif; font-size: 12px; fill: rgb(42, 63, 95); fill-opacity: 1; white-space: pre; opacity: 1;\" transform=\"translate(0,213.42000000000002)\">0.05</text></g><g class=\"ytick\"><text text-anchor=\"end\" x=\"79\" y=\"4.199999999999999\" style=\"font-family: 'Open Sans', verdana, arial, sans-serif; font-size: 12px; fill: rgb(42, 63, 95); fill-opacity: 1; white-space: pre; opacity: 1;\" transform=\"translate(0,172.1)\">0.06</text></g><g class=\"ytick\"><text text-anchor=\"end\" x=\"79\" y=\"4.199999999999999\" style=\"font-family: 'Open Sans', verdana, arial, sans-serif; font-size: 12px; fill: rgb(42, 63, 95); fill-opacity: 1; white-space: pre; opacity: 1;\" transform=\"translate(0,130.79)\">0.07</text></g></g><g class=\"overaxes-above\"/></g></g><g class=\"polarlayer\"/><g class=\"smithlayer\"/><g class=\"ternarylayer\"/><g class=\"geolayer\"/><g class=\"funnelarealayer\"/><g class=\"pielayer\"/><g class=\"iciclelayer\"/><g class=\"treemaplayer\"/><g class=\"sunburstlayer\"/><g class=\"glimages\"/><defs id=\"topdefs-037a79\"><g class=\"clips\"/></defs><g class=\"layer-above\"><g class=\"imagelayer\"/><g class=\"shapelayer\"/></g><g class=\"infolayer\"><g class=\"g-gtitle\"><text class=\"gtitle\" x=\"35\" y=\"50\" text-anchor=\"start\" dy=\"0em\" style=\"font-family: 'Open Sans', verdana, arial, sans-serif; font-size: 17px; fill: rgb(42, 63, 95); opacity: 1; font-weight: normal; white-space: pre;\">Ground Truth Target distribution \\pi(x)</text></g><g class=\"g-xtitle\"><text class=\"xtitle\" x=\"350\" y=\"460.8\" text-anchor=\"middle\" style=\"font-family: 'Open Sans', verdana, arial, sans-serif; font-size: 14px; fill: rgb(42, 63, 95); opacity: 1; font-weight: normal; white-space: pre;\">x</text></g><g class=\"g-ytitle\"><g class=\"ytitle-math-group\" pointer-events=\"none\" data-unformatted=\"$\\pi(x)$\" data-math=\"Y\" transform=\"rotate(-90,30.840625000000003,260)translate(-13.500732421875,-10.958943367004395)\"><svg xmlns:xlink=\"http://www.w3.org/1999/xlink\" width=\"4.471ex\" height=\"18.03125\" viewBox=\"0 -872 1925 1208.7\" role=\"img\" focusable=\"false\" aria-hidden=\"true\" style=\"vertical-align: -0.782ex; overflow: visible; pointer-events: none;\" class=\"ytitle-math\" preserveAspectRatio=\"xMinYMin meet\" x=\"30.840625000000003\" y=\"260\"><defs id=\"MathJax_SVG_glyphs\"><path stroke-width=\"1\" id=\"MJMATHI-3C0\" d=\"M132 -11Q98 -11 98 22V33L111 61Q186 219 220 334L228 358H196Q158 358 142 355T103 336Q92 329 81 318T62 297T53 285Q51 284 38 284Q19 284 19 294Q19 300 38 329T93 391T164 429Q171 431 389 431Q549 431 553 430Q573 423 573 402Q573 371 541 360Q535 358 472 358H408L405 341Q393 269 393 222Q393 170 402 129T421 65T431 37Q431 20 417 5T381 -10Q370 -10 363 -7T347 17T331 77Q330 86 330 121Q330 170 339 226T357 318T367 358H269L268 354Q268 351 249 275T206 114T175 17Q164 -11 132 -11Z\"/><path stroke-width=\"1\" id=\"MJMAIN-28\" d=\"M94 250Q94 319 104 381T127 488T164 576T202 643T244 695T277 729T302 750H315H319Q333 750 333 741Q333 738 316 720T275 667T226 581T184 443T167 250T184 58T225 -81T274 -167T316 -220T333 -241Q333 -250 318 -250H315H302L274 -226Q180 -141 137 -14T94 250Z\"/><path stroke-width=\"1\" id=\"MJMATHI-78\" d=\"M52 289Q59 331 106 386T222 442Q257 442 286 424T329 379Q371 442 430 442Q467 442 494 420T522 361Q522 332 508 314T481 292T458 288Q439 288 427 299T415 328Q415 374 465 391Q454 404 425 404Q412 404 406 402Q368 386 350 336Q290 115 290 78Q290 50 306 38T341 26Q378 26 414 59T463 140Q466 150 469 151T485 153H489Q504 153 504 145Q504 144 502 134Q486 77 440 33T333 -11Q263 -11 227 52Q186 -10 133 -10H127Q78 -10 57 16T35 71Q35 103 54 123T99 143Q142 143 142 101Q142 81 130 66T107 46T94 41L91 40Q91 39 97 36T113 29T132 26Q168 26 194 71Q203 87 217 139T245 247T261 313Q266 340 266 352Q266 380 251 392T217 404Q177 404 142 372T93 290Q91 281 88 280T72 278H58Q52 284 52 289Z\"/><path stroke-width=\"1\" id=\"MJMAIN-29\" d=\"M60 749L64 750Q69 750 74 750H86L114 726Q208 641 251 514T294 250Q294 182 284 119T261 12T224 -76T186 -143T145 -194T113 -227T90 -246Q87 -249 86 -250H74Q66 -250 63 -250T58 -247T55 -238Q56 -237 66 -225Q221 -64 221 250T66 725Q56 737 55 738Q55 746 60 749Z\"/></defs><g stroke=\"rgb(42, 63, 95)\" fill=\"rgb(42, 63, 95)\" stroke-width=\"0\" transform=\"matrix(1 0 0 -1 0 0)\"><use xlink:href=\"#MJMATHI-3C0\" x=\"0\" y=\"0\"/><use xlink:href=\"#MJMAIN-28\" x=\"573\" y=\"0\"/><use xlink:href=\"#MJMATHI-78\" x=\"963\" y=\"0\"/><use xlink:href=\"#MJMAIN-29\" x=\"1535\" y=\"0\"/></g></svg></g></g></g></svg>"
     },
     "metadata": {}
    }
   ]
  },
  {
   "cell_type": "markdown",
   "source": [
    "Here are the histogram of the resulting distribution obtained with samples from MP algorithm:"
   ],
   "metadata": {
    "id": "x1KgcoaJtqzx"
   }
  },
  {
   "cell_type": "code",
   "source": [
    "df = pd.DataFrame(data=samples, columns = ['samples'])\n",
    "fig = px.histogram(df, x=\"samples\", title=\"Histogram of the target distribution obtained with MH algorithm\")\n",
    "fig.update_layout(bargap=0.5)\n",
    "fig.show()"
   ],
   "metadata": {
    "colab": {
     "base_uri": "https://localhost:8080/",
     "height": 522
    },
    "id": "I-2Avzde61wT",
    "outputId": "1ba7fbfa-7feb-4070-bdd1-3eb346a32875"
   },
   "execution_count": 16,
   "outputs": [
    {
     "output_type": "display_data",
     "data": {
      "image/svg+xml": "<svg class=\"main-svg\" xmlns=\"http://www.w3.org/2000/svg\" xmlns:xlink=\"http://www.w3.org/1999/xlink\" width=\"700\" height=\"500\" style=\"\" viewBox=\"0 0 700 500\"><rect x=\"0\" y=\"0\" width=\"700\" height=\"500\" style=\"fill: rgb(255, 255, 255); fill-opacity: 1;\"/><defs id=\"defs-eca28a\"><g class=\"clips\"><clipPath id=\"clipeca28axyplot\" class=\"plotclip\"><rect width=\"540\" height=\"320\"/></clipPath><clipPath class=\"axesclip\" id=\"clipeca28ax\"><rect x=\"80\" y=\"0\" width=\"540\" height=\"500\"/></clipPath><clipPath class=\"axesclip\" id=\"clipeca28ay\"><rect x=\"0\" y=\"100\" width=\"700\" height=\"320\"/></clipPath><clipPath class=\"axesclip\" id=\"clipeca28axy\"><rect x=\"80\" y=\"100\" width=\"540\" height=\"320\"/></clipPath></g><g class=\"gradients\"/><g class=\"patterns\"/></defs><g class=\"bglayer\"><rect class=\"bg\" x=\"80\" y=\"100\" width=\"540\" height=\"320\" style=\"fill: rgb(229, 236, 246); fill-opacity: 1; stroke-width: 0;\"/></g><g class=\"layer-below\"><g class=\"imagelayer\"/><g class=\"shapelayer\"/></g><g class=\"cartesianlayer\"><g class=\"subplot xy\"><g class=\"layer-subplot\"><g class=\"shapelayer\"/><g class=\"imagelayer\"/></g><g class=\"gridlayer\"><g class=\"x\"/><g class=\"y\"><path class=\"ygrid crisp\" transform=\"translate(0,382.69)\" d=\"M80,0h540\" style=\"stroke: rgb(255, 255, 255); stroke-opacity: 1; stroke-width: 1px;\"/><path class=\"ygrid crisp\" transform=\"translate(0,345.38)\" d=\"M80,0h540\" style=\"stroke: rgb(255, 255, 255); stroke-opacity: 1; stroke-width: 1px;\"/><path class=\"ygrid crisp\" transform=\"translate(0,308.07)\" d=\"M80,0h540\" style=\"stroke: rgb(255, 255, 255); stroke-opacity: 1; stroke-width: 1px;\"/><path class=\"ygrid crisp\" transform=\"translate(0,270.76)\" d=\"M80,0h540\" style=\"stroke: rgb(255, 255, 255); stroke-opacity: 1; stroke-width: 1px;\"/><path class=\"ygrid crisp\" transform=\"translate(0,233.45)\" d=\"M80,0h540\" style=\"stroke: rgb(255, 255, 255); stroke-opacity: 1; stroke-width: 1px;\"/><path class=\"ygrid crisp\" transform=\"translate(0,196.14)\" d=\"M80,0h540\" style=\"stroke: rgb(255, 255, 255); stroke-opacity: 1; stroke-width: 1px;\"/><path class=\"ygrid crisp\" transform=\"translate(0,158.82999999999998)\" d=\"M80,0h540\" style=\"stroke: rgb(255, 255, 255); stroke-opacity: 1; stroke-width: 1px;\"/><path class=\"ygrid crisp\" transform=\"translate(0,121.52)\" d=\"M80,0h540\" style=\"stroke: rgb(255, 255, 255); stroke-opacity: 1; stroke-width: 1px;\"/></g></g><g class=\"zerolinelayer\"><path class=\"yzl zl crisp\" transform=\"translate(0,420)\" d=\"M80,0h540\" style=\"stroke: rgb(255, 255, 255); stroke-opacity: 1; stroke-width: 2px;\"/></g><path class=\"xlines-below\"/><path class=\"ylines-below\"/><g class=\"overlines-below\"/><g class=\"xaxislayer-below\"/><g class=\"yaxislayer-below\"/><g class=\"overaxes-below\"/><g class=\"plot\" transform=\"translate(80,100)\" clip-path=\"url(#clipeca28axyplot)\"><g class=\"barlayer mlayer\"><g class=\"trace bars\" style=\"opacity: 1;\"><g class=\"points\"><g class=\"point\"><path d=\"M11.25,320V319.78H33.75V320Z\" style=\"vector-effect: non-scaling-stroke; opacity: 1; stroke-width: 0px; fill: rgb(99, 110, 250); fill-opacity: 1;\"/></g><g class=\"point\"><path d=\"M56.25,320V319.85H78.75V320Z\" style=\"vector-effect: non-scaling-stroke; opacity: 1; stroke-width: 0px; fill: rgb(99, 110, 250); fill-opacity: 1;\"/></g><g class=\"point\"><path d=\"M0,0Z\" style=\"vector-effect: non-scaling-stroke; opacity: 1; stroke-width: 0px; fill: rgb(99, 110, 250); fill-opacity: 1;\"/></g><g class=\"point\"><path d=\"M146.25,320V315.22H168.75V320Z\" style=\"vector-effect: non-scaling-stroke; opacity: 1; stroke-width: 0px; fill: rgb(99, 110, 250); fill-opacity: 1;\"/></g><g class=\"point\"><path d=\"M191.25,320V247.1H213.75V320Z\" style=\"vector-effect: non-scaling-stroke; opacity: 1; stroke-width: 0px; fill: rgb(99, 110, 250); fill-opacity: 1;\"/></g><g class=\"point\"><path d=\"M236.25,320V253.14H258.75V320Z\" style=\"vector-effect: non-scaling-stroke; opacity: 1; stroke-width: 0px; fill: rgb(99, 110, 250); fill-opacity: 1;\"/></g><g class=\"point\"><path d=\"M281.25,320V16H303.75V320Z\" style=\"vector-effect: non-scaling-stroke; opacity: 1; stroke-width: 0px; fill: rgb(99, 110, 250); fill-opacity: 1;\"/></g><g class=\"point\"><path d=\"M326.25,320V58.76H348.75V320Z\" style=\"vector-effect: non-scaling-stroke; opacity: 1; stroke-width: 0px; fill: rgb(99, 110, 250); fill-opacity: 1;\"/></g><g class=\"point\"><path d=\"M371.25,320V316.27H393.75V320Z\" style=\"vector-effect: non-scaling-stroke; opacity: 1; stroke-width: 0px; fill: rgb(99, 110, 250); fill-opacity: 1;\"/></g><g class=\"point\"><path d=\"M416.25,320V311.34H438.75V320Z\" style=\"vector-effect: non-scaling-stroke; opacity: 1; stroke-width: 0px; fill: rgb(99, 110, 250); fill-opacity: 1;\"/></g><g class=\"point\"><path d=\"M461.25,320V299.18H483.75V320Z\" style=\"vector-effect: non-scaling-stroke; opacity: 1; stroke-width: 0px; fill: rgb(99, 110, 250); fill-opacity: 1;\"/></g><g class=\"point\"><path d=\"M506.25,320V317.16H528.75V320Z\" style=\"vector-effect: non-scaling-stroke; opacity: 1; stroke-width: 0px; fill: rgb(99, 110, 250); fill-opacity: 1;\"/></g></g></g></g></g><g class=\"overplot\"/><path class=\"xlines-above crisp\" d=\"M0,0\" style=\"fill: none;\"/><path class=\"ylines-above crisp\" d=\"M0,0\" style=\"fill: none;\"/><g class=\"overlines-above\"/><g class=\"xaxislayer-above\"><g class=\"xtick\"><text text-anchor=\"middle\" x=\"0\" y=\"433\" transform=\"translate(147.5,0)\" style=\"font-family: 'Open Sans', verdana, arial, sans-serif; font-size: 12px; fill: rgb(42, 63, 95); fill-opacity: 1; white-space: pre; opacity: 1;\">−6</text></g><g class=\"xtick\"><text text-anchor=\"middle\" x=\"0\" y=\"433\" style=\"font-family: 'Open Sans', verdana, arial, sans-serif; font-size: 12px; fill: rgb(42, 63, 95); fill-opacity: 1; white-space: pre; opacity: 1;\" transform=\"translate(237.5,0)\">−4</text></g><g class=\"xtick\"><text text-anchor=\"middle\" x=\"0\" y=\"433\" style=\"font-family: 'Open Sans', verdana, arial, sans-serif; font-size: 12px; fill: rgb(42, 63, 95); fill-opacity: 1; white-space: pre; opacity: 1;\" transform=\"translate(327.5,0)\">−2</text></g><g class=\"xtick\"><text text-anchor=\"middle\" x=\"0\" y=\"433\" style=\"font-family: 'Open Sans', verdana, arial, sans-serif; font-size: 12px; fill: rgb(42, 63, 95); fill-opacity: 1; white-space: pre; opacity: 1;\" transform=\"translate(417.5,0)\">0</text></g><g class=\"xtick\"><text text-anchor=\"middle\" x=\"0\" y=\"433\" style=\"font-family: 'Open Sans', verdana, arial, sans-serif; font-size: 12px; fill: rgb(42, 63, 95); fill-opacity: 1; white-space: pre; opacity: 1;\" transform=\"translate(507.5,0)\">2</text></g><g class=\"xtick\"><text text-anchor=\"middle\" x=\"0\" y=\"433\" style=\"font-family: 'Open Sans', verdana, arial, sans-serif; font-size: 12px; fill: rgb(42, 63, 95); fill-opacity: 1; white-space: pre; opacity: 1;\" transform=\"translate(597.5,0)\">4</text></g></g><g class=\"yaxislayer-above\"><g class=\"ytick\"><text text-anchor=\"end\" x=\"79\" y=\"4.199999999999999\" transform=\"translate(0,420)\" style=\"font-family: 'Open Sans', verdana, arial, sans-serif; font-size: 12px; fill: rgb(42, 63, 95); fill-opacity: 1; white-space: pre; opacity: 1;\">0</text></g><g class=\"ytick\"><text text-anchor=\"end\" x=\"79\" y=\"4.199999999999999\" style=\"font-family: 'Open Sans', verdana, arial, sans-serif; font-size: 12px; fill: rgb(42, 63, 95); fill-opacity: 1; white-space: pre; opacity: 1;\" transform=\"translate(0,382.69)\">500</text></g><g class=\"ytick\"><text text-anchor=\"end\" x=\"79\" y=\"4.199999999999999\" style=\"font-family: 'Open Sans', verdana, arial, sans-serif; font-size: 12px; fill: rgb(42, 63, 95); fill-opacity: 1; white-space: pre; opacity: 1;\" transform=\"translate(0,345.38)\">1000</text></g><g class=\"ytick\"><text text-anchor=\"end\" x=\"79\" y=\"4.199999999999999\" style=\"font-family: 'Open Sans', verdana, arial, sans-serif; font-size: 12px; fill: rgb(42, 63, 95); fill-opacity: 1; white-space: pre; opacity: 1;\" transform=\"translate(0,308.07)\">1500</text></g><g class=\"ytick\"><text text-anchor=\"end\" x=\"79\" y=\"4.199999999999999\" style=\"font-family: 'Open Sans', verdana, arial, sans-serif; font-size: 12px; fill: rgb(42, 63, 95); fill-opacity: 1; white-space: pre; opacity: 1;\" transform=\"translate(0,270.76)\">2000</text></g><g class=\"ytick\"><text text-anchor=\"end\" x=\"79\" y=\"4.199999999999999\" style=\"font-family: 'Open Sans', verdana, arial, sans-serif; font-size: 12px; fill: rgb(42, 63, 95); fill-opacity: 1; white-space: pre; opacity: 1;\" transform=\"translate(0,233.45)\">2500</text></g><g class=\"ytick\"><text text-anchor=\"end\" x=\"79\" y=\"4.199999999999999\" style=\"font-family: 'Open Sans', verdana, arial, sans-serif; font-size: 12px; fill: rgb(42, 63, 95); fill-opacity: 1; white-space: pre; opacity: 1;\" transform=\"translate(0,196.14)\">3000</text></g><g class=\"ytick\"><text text-anchor=\"end\" x=\"79\" y=\"4.199999999999999\" style=\"font-family: 'Open Sans', verdana, arial, sans-serif; font-size: 12px; fill: rgb(42, 63, 95); fill-opacity: 1; white-space: pre; opacity: 1;\" transform=\"translate(0,158.82999999999998)\">3500</text></g><g class=\"ytick\"><text text-anchor=\"end\" x=\"79\" y=\"4.199999999999999\" style=\"font-family: 'Open Sans', verdana, arial, sans-serif; font-size: 12px; fill: rgb(42, 63, 95); fill-opacity: 1; white-space: pre; opacity: 1;\" transform=\"translate(0,121.52)\">4000</text></g></g><g class=\"overaxes-above\"/></g></g><g class=\"polarlayer\"/><g class=\"smithlayer\"/><g class=\"ternarylayer\"/><g class=\"geolayer\"/><g class=\"funnelarealayer\"/><g class=\"pielayer\"/><g class=\"iciclelayer\"/><g class=\"treemaplayer\"/><g class=\"sunburstlayer\"/><g class=\"glimages\"/><defs id=\"topdefs-eca28a\"><g class=\"clips\"/></defs><g class=\"layer-above\"><g class=\"imagelayer\"/><g class=\"shapelayer\"/></g><g class=\"infolayer\"><g class=\"g-gtitle\"><text class=\"gtitle\" x=\"35\" y=\"50\" text-anchor=\"start\" dy=\"0em\" style=\"font-family: 'Open Sans', verdana, arial, sans-serif; font-size: 17px; fill: rgb(42, 63, 95); opacity: 1; font-weight: normal; white-space: pre;\">Histogram of the target distribution obtained with MH algorithm</text></g><g class=\"g-xtitle\"><text class=\"xtitle\" x=\"350\" y=\"460.8\" text-anchor=\"middle\" style=\"font-family: 'Open Sans', verdana, arial, sans-serif; font-size: 14px; fill: rgb(42, 63, 95); opacity: 1; font-weight: normal; white-space: pre;\">samples</text></g><g class=\"g-ytitle\"><text class=\"ytitle\" transform=\"rotate(-90,27.496875000000003,260)\" x=\"27.496875000000003\" y=\"260\" text-anchor=\"middle\" style=\"font-family: 'Open Sans', verdana, arial, sans-serif; font-size: 14px; fill: rgb(42, 63, 95); opacity: 1; font-weight: normal; white-space: pre;\">count</text></g></g></svg>"
     },
     "metadata": {}
    }
   ]
  },
  {
   "cell_type": "markdown",
   "source": [
    "It is hard to compare the similarity of separate plots above, so we present the combined figure below. Here histogram charts show the distribution obtained with MH algorithm and red dots are the ground truth distribution of $\\pi(x)$. The values are showed as probabbilities:"
   ],
   "metadata": {
    "id": "Dr1MFrQLuRcc"
   }
  },
  {
   "cell_type": "code",
   "source": [
    "fig = go.Figure()\n",
    "fig.add_trace(go.Histogram(x=samples, histnorm='probability'))\n",
    "fig.add_trace(go.Scatter(x=x, y=y/y.sum(), mode='markers'))\n",
    "fig.update_layout(bargap=0.5, title=\"Combined plot of normalized values to compare results\", showlegend = False)\n",
    "fig.show()"
   ],
   "metadata": {
    "colab": {
     "base_uri": "https://localhost:8080/",
     "height": 522
    },
    "id": "yOhnagwvMStx",
    "outputId": "3eedd6f4-149a-4c63-dd86-924d4850c421"
   },
   "execution_count": 17,
   "outputs": [
    {
     "output_type": "display_data",
     "data": {
      "image/svg+xml": "<svg class=\"main-svg\" xmlns=\"http://www.w3.org/2000/svg\" xmlns:xlink=\"http://www.w3.org/1999/xlink\" width=\"700\" height=\"500\" style=\"\" viewBox=\"0 0 700 500\"><rect x=\"0\" y=\"0\" width=\"700\" height=\"500\" style=\"fill: rgb(255, 255, 255); fill-opacity: 1;\"/><defs id=\"defs-9495c9\"><g class=\"clips\"><clipPath id=\"clip9495c9xyplot\" class=\"plotclip\"><rect width=\"540\" height=\"320\"/></clipPath><clipPath class=\"axesclip\" id=\"clip9495c9x\"><rect x=\"80\" y=\"0\" width=\"540\" height=\"500\"/></clipPath><clipPath class=\"axesclip\" id=\"clip9495c9y\"><rect x=\"0\" y=\"100\" width=\"700\" height=\"320\"/></clipPath><clipPath class=\"axesclip\" id=\"clip9495c9xy\"><rect x=\"80\" y=\"100\" width=\"540\" height=\"320\"/></clipPath></g><g class=\"gradients\"/><g class=\"patterns\"/></defs><g class=\"bglayer\"><rect class=\"bg\" x=\"80\" y=\"100\" width=\"540\" height=\"320\" style=\"fill: rgb(229, 236, 246); fill-opacity: 1; stroke-width: 0;\"/></g><g class=\"layer-below\"><g class=\"imagelayer\"/><g class=\"shapelayer\"/></g><g class=\"cartesianlayer\"><g class=\"subplot xy\"><g class=\"layer-subplot\"><g class=\"shapelayer\"/><g class=\"imagelayer\"/></g><g class=\"gridlayer\"><g class=\"x\"/><g class=\"y\"><path class=\"ygrid crisp\" transform=\"translate(0,331.53)\" d=\"M80,0h540\" style=\"stroke: rgb(255, 255, 255); stroke-opacity: 1; stroke-width: 1px;\"/><path class=\"ygrid crisp\" transform=\"translate(0,262.78)\" d=\"M80,0h540\" style=\"stroke: rgb(255, 255, 255); stroke-opacity: 1; stroke-width: 1px;\"/><path class=\"ygrid crisp\" transform=\"translate(0,194.01999999999998)\" d=\"M80,0h540\" style=\"stroke: rgb(255, 255, 255); stroke-opacity: 1; stroke-width: 1px;\"/><path class=\"ygrid crisp\" transform=\"translate(0,125.26)\" d=\"M80,0h540\" style=\"stroke: rgb(255, 255, 255); stroke-opacity: 1; stroke-width: 1px;\"/></g></g><g class=\"zerolinelayer\"><path class=\"yzl zl crisp\" transform=\"translate(0,400.29)\" d=\"M80,0h540\" style=\"stroke: rgb(255, 255, 255); stroke-opacity: 1; stroke-width: 2px;\"/></g><path class=\"xlines-below\"/><path class=\"ylines-below\"/><g class=\"overlines-below\"/><g class=\"xaxislayer-below\"/><g class=\"yaxislayer-below\"/><g class=\"overaxes-below\"/><g class=\"plot\" transform=\"translate(80,100)\" clip-path=\"url(#clip9495c9xyplot)\"><g class=\"barlayer mlayer\"><g class=\"trace bars\" style=\"opacity: 1;\"><g class=\"points\"><g class=\"point\"><path d=\"M10.19,300.29V300.08H30.56V300.29Z\" style=\"vector-effect: non-scaling-stroke; opacity: 1; stroke-width: 0px; fill: rgb(99, 110, 250); fill-opacity: 1;\"/></g><g class=\"point\"><path d=\"M50.93,300.29V300.15H71.29V300.29Z\" style=\"vector-effect: non-scaling-stroke; opacity: 1; stroke-width: 0px; fill: rgb(99, 110, 250); fill-opacity: 1;\"/></g><g class=\"point\"><path d=\"M0,0Z\" style=\"vector-effect: non-scaling-stroke; opacity: 1; stroke-width: 0px; fill: rgb(99, 110, 250); fill-opacity: 1;\"/></g><g class=\"point\"><path d=\"M132.41,300.29V295.89H152.78V300.29Z\" style=\"vector-effect: non-scaling-stroke; opacity: 1; stroke-width: 0px; fill: rgb(99, 110, 250); fill-opacity: 1;\"/></g><g class=\"point\"><path d=\"M173.15,300.29V233.11H193.52V300.29Z\" style=\"vector-effect: non-scaling-stroke; opacity: 1; stroke-width: 0px; fill: rgb(99, 110, 250); fill-opacity: 1;\"/></g><g class=\"point\"><path d=\"M213.89,300.29V238.68H234.26V300.29Z\" style=\"vector-effect: non-scaling-stroke; opacity: 1; stroke-width: 0px; fill: rgb(99, 110, 250); fill-opacity: 1;\"/></g><g class=\"point\"><path d=\"M254.63,300.29V20.18H275V300.29Z\" style=\"vector-effect: non-scaling-stroke; opacity: 1; stroke-width: 0px; fill: rgb(99, 110, 250); fill-opacity: 1;\"/></g><g class=\"point\"><path d=\"M295.37,300.29V59.57H315.74V300.29Z\" style=\"vector-effect: non-scaling-stroke; opacity: 1; stroke-width: 0px; fill: rgb(99, 110, 250); fill-opacity: 1;\"/></g><g class=\"point\"><path d=\"M336.11,300.29V296.85H356.48V300.29Z\" style=\"vector-effect: non-scaling-stroke; opacity: 1; stroke-width: 0px; fill: rgb(99, 110, 250); fill-opacity: 1;\"/></g><g class=\"point\"><path d=\"M376.85,300.29V292.31H397.22V300.29Z\" style=\"vector-effect: non-scaling-stroke; opacity: 1; stroke-width: 0px; fill: rgb(99, 110, 250); fill-opacity: 1;\"/></g><g class=\"point\"><path d=\"M417.59,300.29V281.11H437.96V300.29Z\" style=\"vector-effect: non-scaling-stroke; opacity: 1; stroke-width: 0px; fill: rgb(99, 110, 250); fill-opacity: 1;\"/></g><g class=\"point\"><path d=\"M458.33,300.29V297.68H478.7V300.29Z\" style=\"vector-effect: non-scaling-stroke; opacity: 1; stroke-width: 0px; fill: rgb(99, 110, 250); fill-opacity: 1;\"/></g></g></g></g><g class=\"scatterlayer mlayer\"><g class=\"trace scatter traceb8be45\" style=\"stroke-miterlimit: 2; opacity: 1;\"><g class=\"fills\"/><g class=\"errorbars\"/><g class=\"lines\"/><g class=\"points\"><path class=\"point\" transform=\"translate(61.11,300.19)\" d=\"M3,0A3,3 0 1,1 0,-3A3,3 0 0,1 3,0Z\" style=\"opacity: 1; stroke-width: 0px; fill: rgb(239, 85, 59); fill-opacity: 1;\"/><path class=\"point\" transform=\"translate(101.85,300.2)\" d=\"M3,0A3,3 0 1,1 0,-3A3,3 0 0,1 3,0Z\" style=\"opacity: 1; stroke-width: 0px; fill: rgb(239, 85, 59); fill-opacity: 1;\"/><path class=\"point\" transform=\"translate(142.59,296.18)\" d=\"M3,0A3,3 0 1,1 0,-3A3,3 0 0,1 3,0Z\" style=\"opacity: 1; stroke-width: 0px; fill: rgb(239, 85, 59); fill-opacity: 1;\"/><path class=\"point\" transform=\"translate(183.33,231.09)\" d=\"M3,0A3,3 0 1,1 0,-3A3,3 0 0,1 3,0Z\" style=\"opacity: 1; stroke-width: 0px; fill: rgb(239, 85, 59); fill-opacity: 1;\"/><path class=\"point\" transform=\"translate(224.07,236.36)\" d=\"M3,0A3,3 0 1,1 0,-3A3,3 0 0,1 3,0Z\" style=\"opacity: 1; stroke-width: 0px; fill: rgb(239, 85, 59); fill-opacity: 1;\"/><path class=\"point\" transform=\"translate(264.81,19.75)\" d=\"M3,0A3,3 0 1,1 0,-3A3,3 0 0,1 3,0Z\" style=\"opacity: 1; stroke-width: 0px; fill: rgb(239, 85, 59); fill-opacity: 1;\"/><path class=\"point\" transform=\"translate(305.55,61.99)\" d=\"M3,0A3,3 0 1,1 0,-3A3,3 0 0,1 3,0Z\" style=\"opacity: 1; stroke-width: 0px; fill: rgb(239, 85, 59); fill-opacity: 1;\"/><path class=\"point\" transform=\"translate(346.29,296.83)\" d=\"M3,0A3,3 0 1,1 0,-3A3,3 0 0,1 3,0Z\" style=\"opacity: 1; stroke-width: 0px; fill: rgb(239, 85, 59); fill-opacity: 1;\"/><path class=\"point\" transform=\"translate(387.03,292)\" d=\"M3,0A3,3 0 1,1 0,-3A3,3 0 0,1 3,0Z\" style=\"opacity: 1; stroke-width: 0px; fill: rgb(239, 85, 59); fill-opacity: 1;\"/><path class=\"point\" transform=\"translate(427.77,282.27)\" d=\"M3,0A3,3 0 1,1 0,-3A3,3 0 0,1 3,0Z\" style=\"opacity: 1; stroke-width: 0px; fill: rgb(239, 85, 59); fill-opacity: 1;\"/><path class=\"point\" transform=\"translate(468.51,298.79)\" d=\"M3,0A3,3 0 1,1 0,-3A3,3 0 0,1 3,0Z\" style=\"opacity: 1; stroke-width: 0px; fill: rgb(239, 85, 59); fill-opacity: 1;\"/><path class=\"point\" transform=\"translate(509.25,300.25)\" d=\"M3,0A3,3 0 1,1 0,-3A3,3 0 0,1 3,0Z\" style=\"opacity: 1; stroke-width: 0px; fill: rgb(239, 85, 59); fill-opacity: 1;\"/></g><g class=\"text\"/></g></g></g><g class=\"overplot\"/><path class=\"xlines-above crisp\" d=\"M0,0\" style=\"fill: none;\"/><path class=\"ylines-above crisp\" d=\"M0,0\" style=\"fill: none;\"/><g class=\"overlines-above\"/><g class=\"xaxislayer-above\"><g class=\"xtick\"><text text-anchor=\"middle\" x=\"0\" y=\"433\" transform=\"translate(141.11,0)\" style=\"font-family: 'Open Sans', verdana, arial, sans-serif; font-size: 12px; fill: rgb(42, 63, 95); fill-opacity: 1; white-space: pre; opacity: 1;\">−6</text></g><g class=\"xtick\"><text text-anchor=\"middle\" x=\"0\" y=\"433\" style=\"font-family: 'Open Sans', verdana, arial, sans-serif; font-size: 12px; fill: rgb(42, 63, 95); fill-opacity: 1; white-space: pre; opacity: 1;\" transform=\"translate(222.59,0)\">−4</text></g><g class=\"xtick\"><text text-anchor=\"middle\" x=\"0\" y=\"433\" style=\"font-family: 'Open Sans', verdana, arial, sans-serif; font-size: 12px; fill: rgb(42, 63, 95); fill-opacity: 1; white-space: pre; opacity: 1;\" transform=\"translate(304.07,0)\">−2</text></g><g class=\"xtick\"><text text-anchor=\"middle\" x=\"0\" y=\"433\" style=\"font-family: 'Open Sans', verdana, arial, sans-serif; font-size: 12px; fill: rgb(42, 63, 95); fill-opacity: 1; white-space: pre; opacity: 1;\" transform=\"translate(385.55,0)\">0</text></g><g class=\"xtick\"><text text-anchor=\"middle\" x=\"0\" y=\"433\" style=\"font-family: 'Open Sans', verdana, arial, sans-serif; font-size: 12px; fill: rgb(42, 63, 95); fill-opacity: 1; white-space: pre; opacity: 1;\" transform=\"translate(467.03,0)\">2</text></g><g class=\"xtick\"><text text-anchor=\"middle\" x=\"0\" y=\"433\" style=\"font-family: 'Open Sans', verdana, arial, sans-serif; font-size: 12px; fill: rgb(42, 63, 95); fill-opacity: 1; white-space: pre; opacity: 1;\" transform=\"translate(548.51,0)\">4</text></g></g><g class=\"yaxislayer-above\"><g class=\"ytick\"><text text-anchor=\"end\" x=\"79\" y=\"4.199999999999999\" transform=\"translate(0,400.29)\" style=\"font-family: 'Open Sans', verdana, arial, sans-serif; font-size: 12px; fill: rgb(42, 63, 95); fill-opacity: 1; white-space: pre; opacity: 1;\">0</text></g><g class=\"ytick\"><text text-anchor=\"end\" x=\"79\" y=\"4.199999999999999\" style=\"font-family: 'Open Sans', verdana, arial, sans-serif; font-size: 12px; fill: rgb(42, 63, 95); fill-opacity: 1; white-space: pre; opacity: 1;\" transform=\"translate(0,331.53)\">0.1</text></g><g class=\"ytick\"><text text-anchor=\"end\" x=\"79\" y=\"4.199999999999999\" style=\"font-family: 'Open Sans', verdana, arial, sans-serif; font-size: 12px; fill: rgb(42, 63, 95); fill-opacity: 1; white-space: pre; opacity: 1;\" transform=\"translate(0,262.78)\">0.2</text></g><g class=\"ytick\"><text text-anchor=\"end\" x=\"79\" y=\"4.199999999999999\" style=\"font-family: 'Open Sans', verdana, arial, sans-serif; font-size: 12px; fill: rgb(42, 63, 95); fill-opacity: 1; white-space: pre; opacity: 1;\" transform=\"translate(0,194.01999999999998)\">0.3</text></g><g class=\"ytick\"><text text-anchor=\"end\" x=\"79\" y=\"4.199999999999999\" style=\"font-family: 'Open Sans', verdana, arial, sans-serif; font-size: 12px; fill: rgb(42, 63, 95); fill-opacity: 1; white-space: pre; opacity: 1;\" transform=\"translate(0,125.26)\">0.4</text></g></g><g class=\"overaxes-above\"/></g></g><g class=\"polarlayer\"/><g class=\"smithlayer\"/><g class=\"ternarylayer\"/><g class=\"geolayer\"/><g class=\"funnelarealayer\"/><g class=\"pielayer\"/><g class=\"iciclelayer\"/><g class=\"treemaplayer\"/><g class=\"sunburstlayer\"/><g class=\"glimages\"/><defs id=\"topdefs-9495c9\"><g class=\"clips\"/></defs><g class=\"layer-above\"><g class=\"imagelayer\"/><g class=\"shapelayer\"/></g><g class=\"infolayer\"><g class=\"g-gtitle\"><text class=\"gtitle\" x=\"35\" y=\"50\" text-anchor=\"start\" dy=\"0em\" style=\"font-family: 'Open Sans', verdana, arial, sans-serif; font-size: 17px; fill: rgb(42, 63, 95); opacity: 1; font-weight: normal; white-space: pre;\">Combined plot of normalized values to compare results</text></g><g class=\"g-xtitle\"/><g class=\"g-ytitle\"/></g></svg>"
     },
     "metadata": {}
    }
   ]
  },
  {
   "cell_type": "markdown",
   "source": [
    "#### Additionally Pyro and PyMC3 code"
   ],
   "metadata": {
    "id": "4Du-MBsCG3YS"
   }
  },
  {
   "cell_type": "markdown",
   "source": [
    "**Warning!** To use this code, we need to install aditional libraries, the commands for this are commented. My main solution to this question was presented above but below is are just additional work to test the capabilities of Pyro and PyMC. For this examples, Uniform distribution was used as the initialization distribution and Normal distribution was used as the proposal distribution. The reason for this is the complexity of adding custom distribution in the way suitable for those implementations. Normal distribution is continuous, so we rounded the values to the closest integer. "
   ],
   "metadata": {
    "id": "nQNvZvyC9-uV"
   }
  },
  {
   "cell_type": "markdown",
   "source": [
    "Still Pyro result is pretty good:"
   ],
   "metadata": {
    "id": "LSRtlOhWxn6d"
   }
  },
  {
   "cell_type": "code",
   "source": [
    "!pip install pyro-ppl"
   ],
   "metadata": {
    "id": "kQu3PW8NMeM4"
   },
   "execution_count": 18,
   "outputs": []
  },
  {
   "cell_type": "code",
   "source": [
    "import torch\n",
    "import pyro\n",
    "import pyro.distributions as dist\n",
    "\n",
    "\n",
    "def metropolis_hastings(num_samples):\n",
    "  # Define the model\n",
    "  with pyro.plate(\"data\", num_samples):\n",
    "    # Initialize the current state and the list of samples\n",
    "    current_state = pyro.sample(\"initial_state\", dist.Uniform(-2, 2))\n",
    "    samples = []\n",
    "\n",
    "    # Iterate for the desired number of samples\n",
    "    for i in range(num_samples):\n",
    "      # Sample a proposed move from the proposal distribution\n",
    "      proposed_move = pyro.sample(\"proposed_move\", dist.Normal(current_state, 1))\n",
    "\n",
    "      # Calculate the acceptance probability\n",
    "      acceptance_probability = torch.min(torch.ones(1), p(proposed_move) / p(current_state))\n",
    "\n",
    "      # Sample a uniform variable to determine whether to accept the proposed move\n",
    "      u = pyro.sample(\"uniform_variable\", dist.Uniform(0, 1))\n",
    "\n",
    "      # If the uniform variable is less than the acceptance probability, accept the proposed move\n",
    "      pyro.sample(\"accept_move\", dist.Bernoulli(acceptance_probability), obs=u < acceptance_probability)\n",
    "      current_state = pyro.deterministic(\"current_state\",  torch.where(u < acceptance_probability, proposed_move, current_state))\n",
    "\n",
    "      # Add the current state to the list of samples\n",
    "      samples.append(current_state)\n",
    "\n",
    "  return samples\n",
    "\n",
    "# Sample from the model\n",
    "samples = metropolis_hastings(10000)"
   ],
   "metadata": {
    "id": "J1IsUi49MXxJ"
   },
   "execution_count": 19,
   "outputs": []
  },
  {
   "cell_type": "code",
   "source": [
    "print(len(samples), samples[-1].shape)"
   ],
   "metadata": {
    "colab": {
     "base_uri": "https://localhost:8080/"
    },
    "id": "d4gYXF_OPMxI",
    "outputId": "9e0ee9eb-d77e-4ca2-97b9-a3916885de86"
   },
   "execution_count": 20,
   "outputs": [
    {
     "output_type": "stream",
     "name": "stdout",
     "text": [
      "10000 torch.Size([10000])\n"
     ]
    }
   ]
  },
  {
   "cell_type": "markdown",
   "source": [
    "We want to use the last trace from the sampling and as mentioned before we should round the values to closest integer:"
   ],
   "metadata": {
    "id": "ROAu3FI5x6LF"
   }
  },
  {
   "cell_type": "code",
   "source": [
    "samples = np.rint(samples[-1])"
   ],
   "metadata": {
    "id": "OZIS1rQw8URp"
   },
   "execution_count": 21,
   "outputs": []
  },
  {
   "cell_type": "markdown",
   "source": [
    "Here is similar combined figure as was shown previously:"
   ],
   "metadata": {
    "id": "F2u29sff0T93"
   }
  },
  {
   "cell_type": "code",
   "source": [
    "fig = go.Figure()\n",
    "fig.add_trace(go.Histogram(x=samples, histnorm='probability'))\n",
    "fig.add_trace(go.Scatter(x=x, y=y/y.sum(), mode='markers'))\n",
    "fig.update_layout(bargap=0.5, title=\"Combined plot of normalized values to compare Pyro results\", showlegend = False)\n",
    "fig.show()"
   ],
   "metadata": {
    "colab": {
     "base_uri": "https://localhost:8080/",
     "height": 522
    },
    "id": "5gWjHM4HxN2N",
    "outputId": "7e09c50c-96b3-4c33-e49f-ad45a57d6963"
   },
   "execution_count": 22,
   "outputs": [
    {
     "output_type": "display_data",
     "data": {
      "image/svg+xml": "<svg class=\"main-svg\" xmlns=\"http://www.w3.org/2000/svg\" xmlns:xlink=\"http://www.w3.org/1999/xlink\" width=\"700\" height=\"500\" style=\"\" viewBox=\"0 0 700 500\"><rect x=\"0\" y=\"0\" width=\"700\" height=\"500\" style=\"fill: rgb(255, 255, 255); fill-opacity: 1;\"/><defs id=\"defs-c77f2e\"><g class=\"clips\"><clipPath id=\"clipc77f2exyplot\" class=\"plotclip\"><rect width=\"540\" height=\"320\"/></clipPath><clipPath class=\"axesclip\" id=\"clipc77f2ex\"><rect x=\"80\" y=\"0\" width=\"540\" height=\"500\"/></clipPath><clipPath class=\"axesclip\" id=\"clipc77f2ey\"><rect x=\"0\" y=\"100\" width=\"700\" height=\"320\"/></clipPath><clipPath class=\"axesclip\" id=\"clipc77f2exy\"><rect x=\"80\" y=\"100\" width=\"540\" height=\"320\"/></clipPath></g><g class=\"gradients\"/><g class=\"patterns\"/></defs><g class=\"bglayer\"><rect class=\"bg\" x=\"80\" y=\"100\" width=\"540\" height=\"320\" style=\"fill: rgb(229, 236, 246); fill-opacity: 1; stroke-width: 0;\"/></g><g class=\"layer-below\"><g class=\"imagelayer\"/><g class=\"shapelayer\"/></g><g class=\"cartesianlayer\"><g class=\"subplot xy\"><g class=\"layer-subplot\"><g class=\"shapelayer\"/><g class=\"imagelayer\"/></g><g class=\"gridlayer\"><g class=\"x\"/><g class=\"y\"><path class=\"ygrid crisp\" transform=\"translate(0,331.53)\" d=\"M80,0h540\" style=\"stroke: rgb(255, 255, 255); stroke-opacity: 1; stroke-width: 1px;\"/><path class=\"ygrid crisp\" transform=\"translate(0,262.78)\" d=\"M80,0h540\" style=\"stroke: rgb(255, 255, 255); stroke-opacity: 1; stroke-width: 1px;\"/><path class=\"ygrid crisp\" transform=\"translate(0,194.01999999999998)\" d=\"M80,0h540\" style=\"stroke: rgb(255, 255, 255); stroke-opacity: 1; stroke-width: 1px;\"/><path class=\"ygrid crisp\" transform=\"translate(0,125.26)\" d=\"M80,0h540\" style=\"stroke: rgb(255, 255, 255); stroke-opacity: 1; stroke-width: 1px;\"/></g></g><g class=\"zerolinelayer\"><path class=\"yzl zl crisp\" transform=\"translate(0,400.29)\" d=\"M80,0h540\" style=\"stroke: rgb(255, 255, 255); stroke-opacity: 1; stroke-width: 2px;\"/></g><path class=\"xlines-below\"/><path class=\"ylines-below\"/><g class=\"overlines-below\"/><g class=\"xaxislayer-below\"/><g class=\"yaxislayer-below\"/><g class=\"overaxes-below\"/><g class=\"plot\" transform=\"translate(80,100)\" clip-path=\"url(#clipc77f2exyplot)\"><g class=\"barlayer mlayer\"><g class=\"trace bars\" style=\"opacity: 1;\"><g class=\"points\"><g class=\"point\"><path d=\"M20.57,300.29V300.15H40.93V300.29Z\" style=\"vector-effect: non-scaling-stroke; opacity: 1; stroke-width: 0px; fill: rgb(99, 110, 250); fill-opacity: 1;\"/></g><g class=\"point\"><path d=\"M0,0Z\" style=\"vector-effect: non-scaling-stroke; opacity: 1; stroke-width: 0px; fill: rgb(99, 110, 250); fill-opacity: 1;\"/></g><g class=\"point\"><path d=\"M102.04,300.29V295.06H122.42V300.29Z\" style=\"vector-effect: non-scaling-stroke; opacity: 1; stroke-width: 0px; fill: rgb(99, 110, 250); fill-opacity: 1;\"/></g><g class=\"point\"><path d=\"M142.79,300.29V234.35H163.15V300.29Z\" style=\"vector-effect: non-scaling-stroke; opacity: 1; stroke-width: 0px; fill: rgb(99, 110, 250); fill-opacity: 1;\"/></g><g class=\"point\"><path d=\"M183.52,300.29V244.39H203.9V300.29Z\" style=\"vector-effect: non-scaling-stroke; opacity: 1; stroke-width: 0px; fill: rgb(99, 110, 250); fill-opacity: 1;\"/></g><g class=\"point\"><path d=\"M224.27,300.29V22.58H244.64V300.29Z\" style=\"vector-effect: non-scaling-stroke; opacity: 1; stroke-width: 0px; fill: rgb(99, 110, 250); fill-opacity: 1;\"/></g><g class=\"point\"><path d=\"M265.01,300.29V45.96H285.38V300.29Z\" style=\"vector-effect: non-scaling-stroke; opacity: 1; stroke-width: 0px; fill: rgb(99, 110, 250); fill-opacity: 1;\"/></g><g class=\"point\"><path d=\"M305.75,300.29V298.43H326.12V300.29Z\" style=\"vector-effect: non-scaling-stroke; opacity: 1; stroke-width: 0px; fill: rgb(99, 110, 250); fill-opacity: 1;\"/></g><g class=\"point\"><path d=\"M346.49,300.29V291.63H366.86V300.29Z\" style=\"vector-effect: non-scaling-stroke; opacity: 1; stroke-width: 0px; fill: rgb(99, 110, 250); fill-opacity: 1;\"/></g><g class=\"point\"><path d=\"M387.23,300.29V284.47H407.6V300.29Z\" style=\"vector-effect: non-scaling-stroke; opacity: 1; stroke-width: 0px; fill: rgb(99, 110, 250); fill-opacity: 1;\"/></g><g class=\"point\"><path d=\"M427.97,300.29V298.43H448.34V300.29Z\" style=\"vector-effect: non-scaling-stroke; opacity: 1; stroke-width: 0px; fill: rgb(99, 110, 250); fill-opacity: 1;\"/></g><g class=\"point\"><path d=\"M0,0Z\" style=\"vector-effect: non-scaling-stroke; opacity: 1; stroke-width: 0px; fill: rgb(99, 110, 250); fill-opacity: 1;\"/></g><g class=\"point\"><path d=\"M509.45,300.29V300.15H529.82V300.29Z\" style=\"vector-effect: non-scaling-stroke; opacity: 1; stroke-width: 0px; fill: rgb(99, 110, 250); fill-opacity: 1;\"/></g></g></g></g><g class=\"scatterlayer mlayer\"><g class=\"trace scatter trace2858c6\" style=\"stroke-miterlimit: 2; opacity: 1;\"><g class=\"fills\"/><g class=\"errorbars\"/><g class=\"lines\"/><g class=\"points\"><path class=\"point\" transform=\"translate(30.75,300.19)\" d=\"M3,0A3,3 0 1,1 0,-3A3,3 0 0,1 3,0Z\" style=\"opacity: 1; stroke-width: 0px; fill: rgb(239, 85, 59); fill-opacity: 1;\"/><path class=\"point\" transform=\"translate(71.49,300.2)\" d=\"M3,0A3,3 0 1,1 0,-3A3,3 0 0,1 3,0Z\" style=\"opacity: 1; stroke-width: 0px; fill: rgb(239, 85, 59); fill-opacity: 1;\"/><path class=\"point\" transform=\"translate(112.23,296.18)\" d=\"M3,0A3,3 0 1,1 0,-3A3,3 0 0,1 3,0Z\" style=\"opacity: 1; stroke-width: 0px; fill: rgb(239, 85, 59); fill-opacity: 1;\"/><path class=\"point\" transform=\"translate(152.97,231.09)\" d=\"M3,0A3,3 0 1,1 0,-3A3,3 0 0,1 3,0Z\" style=\"opacity: 1; stroke-width: 0px; fill: rgb(239, 85, 59); fill-opacity: 1;\"/><path class=\"point\" transform=\"translate(193.71,236.36)\" d=\"M3,0A3,3 0 1,1 0,-3A3,3 0 0,1 3,0Z\" style=\"opacity: 1; stroke-width: 0px; fill: rgb(239, 85, 59); fill-opacity: 1;\"/><path class=\"point\" transform=\"translate(234.45,19.75)\" d=\"M3,0A3,3 0 1,1 0,-3A3,3 0 0,1 3,0Z\" style=\"opacity: 1; stroke-width: 0px; fill: rgb(239, 85, 59); fill-opacity: 1;\"/><path class=\"point\" transform=\"translate(275.19,61.99)\" d=\"M3,0A3,3 0 1,1 0,-3A3,3 0 0,1 3,0Z\" style=\"opacity: 1; stroke-width: 0px; fill: rgb(239, 85, 59); fill-opacity: 1;\"/><path class=\"point\" transform=\"translate(315.93,296.83)\" d=\"M3,0A3,3 0 1,1 0,-3A3,3 0 0,1 3,0Z\" style=\"opacity: 1; stroke-width: 0px; fill: rgb(239, 85, 59); fill-opacity: 1;\"/><path class=\"point\" transform=\"translate(356.67,292)\" d=\"M3,0A3,3 0 1,1 0,-3A3,3 0 0,1 3,0Z\" style=\"opacity: 1; stroke-width: 0px; fill: rgb(239, 85, 59); fill-opacity: 1;\"/><path class=\"point\" transform=\"translate(397.41,282.27)\" d=\"M3,0A3,3 0 1,1 0,-3A3,3 0 0,1 3,0Z\" style=\"opacity: 1; stroke-width: 0px; fill: rgb(239, 85, 59); fill-opacity: 1;\"/><path class=\"point\" transform=\"translate(438.15,298.79)\" d=\"M3,0A3,3 0 1,1 0,-3A3,3 0 0,1 3,0Z\" style=\"opacity: 1; stroke-width: 0px; fill: rgb(239, 85, 59); fill-opacity: 1;\"/><path class=\"point\" transform=\"translate(478.89,300.25)\" d=\"M3,0A3,3 0 1,1 0,-3A3,3 0 0,1 3,0Z\" style=\"opacity: 1; stroke-width: 0px; fill: rgb(239, 85, 59); fill-opacity: 1;\"/></g><g class=\"text\"/></g></g></g><g class=\"overplot\"/><path class=\"xlines-above crisp\" d=\"M0,0\" style=\"fill: none;\"/><path class=\"ylines-above crisp\" d=\"M0,0\" style=\"fill: none;\"/><g class=\"overlines-above\"/><g class=\"xaxislayer-above\"><g class=\"xtick\"><text text-anchor=\"middle\" x=\"0\" y=\"433\" transform=\"translate(110.75,0)\" style=\"font-family: 'Open Sans', verdana, arial, sans-serif; font-size: 12px; fill: rgb(42, 63, 95); fill-opacity: 1; white-space: pre; opacity: 1;\">−6</text></g><g class=\"xtick\"><text text-anchor=\"middle\" x=\"0\" y=\"433\" style=\"font-family: 'Open Sans', verdana, arial, sans-serif; font-size: 12px; fill: rgb(42, 63, 95); fill-opacity: 1; white-space: pre; opacity: 1;\" transform=\"translate(192.23000000000002,0)\">−4</text></g><g class=\"xtick\"><text text-anchor=\"middle\" x=\"0\" y=\"433\" style=\"font-family: 'Open Sans', verdana, arial, sans-serif; font-size: 12px; fill: rgb(42, 63, 95); fill-opacity: 1; white-space: pre; opacity: 1;\" transform=\"translate(273.71000000000004,0)\">−2</text></g><g class=\"xtick\"><text text-anchor=\"middle\" x=\"0\" y=\"433\" style=\"font-family: 'Open Sans', verdana, arial, sans-serif; font-size: 12px; fill: rgb(42, 63, 95); fill-opacity: 1; white-space: pre; opacity: 1;\" transform=\"translate(355.19,0)\">0</text></g><g class=\"xtick\"><text text-anchor=\"middle\" x=\"0\" y=\"433\" style=\"font-family: 'Open Sans', verdana, arial, sans-serif; font-size: 12px; fill: rgb(42, 63, 95); fill-opacity: 1; white-space: pre; opacity: 1;\" transform=\"translate(436.67,0)\">2</text></g><g class=\"xtick\"><text text-anchor=\"middle\" x=\"0\" y=\"433\" style=\"font-family: 'Open Sans', verdana, arial, sans-serif; font-size: 12px; fill: rgb(42, 63, 95); fill-opacity: 1; white-space: pre; opacity: 1;\" transform=\"translate(518.15,0)\">4</text></g><g class=\"xtick\"><text text-anchor=\"middle\" x=\"0\" y=\"433\" style=\"font-family: 'Open Sans', verdana, arial, sans-serif; font-size: 12px; fill: rgb(42, 63, 95); fill-opacity: 1; white-space: pre; opacity: 1;\" transform=\"translate(599.63,0)\">6</text></g></g><g class=\"yaxislayer-above\"><g class=\"ytick\"><text text-anchor=\"end\" x=\"79\" y=\"4.199999999999999\" transform=\"translate(0,400.29)\" style=\"font-family: 'Open Sans', verdana, arial, sans-serif; font-size: 12px; fill: rgb(42, 63, 95); fill-opacity: 1; white-space: pre; opacity: 1;\">0</text></g><g class=\"ytick\"><text text-anchor=\"end\" x=\"79\" y=\"4.199999999999999\" style=\"font-family: 'Open Sans', verdana, arial, sans-serif; font-size: 12px; fill: rgb(42, 63, 95); fill-opacity: 1; white-space: pre; opacity: 1;\" transform=\"translate(0,331.53)\">0.1</text></g><g class=\"ytick\"><text text-anchor=\"end\" x=\"79\" y=\"4.199999999999999\" style=\"font-family: 'Open Sans', verdana, arial, sans-serif; font-size: 12px; fill: rgb(42, 63, 95); fill-opacity: 1; white-space: pre; opacity: 1;\" transform=\"translate(0,262.78)\">0.2</text></g><g class=\"ytick\"><text text-anchor=\"end\" x=\"79\" y=\"4.199999999999999\" style=\"font-family: 'Open Sans', verdana, arial, sans-serif; font-size: 12px; fill: rgb(42, 63, 95); fill-opacity: 1; white-space: pre; opacity: 1;\" transform=\"translate(0,194.01999999999998)\">0.3</text></g><g class=\"ytick\"><text text-anchor=\"end\" x=\"79\" y=\"4.199999999999999\" style=\"font-family: 'Open Sans', verdana, arial, sans-serif; font-size: 12px; fill: rgb(42, 63, 95); fill-opacity: 1; white-space: pre; opacity: 1;\" transform=\"translate(0,125.26)\">0.4</text></g></g><g class=\"overaxes-above\"/></g></g><g class=\"polarlayer\"/><g class=\"smithlayer\"/><g class=\"ternarylayer\"/><g class=\"geolayer\"/><g class=\"funnelarealayer\"/><g class=\"pielayer\"/><g class=\"iciclelayer\"/><g class=\"treemaplayer\"/><g class=\"sunburstlayer\"/><g class=\"glimages\"/><defs id=\"topdefs-c77f2e\"><g class=\"clips\"/></defs><g class=\"layer-above\"><g class=\"imagelayer\"/><g class=\"shapelayer\"/></g><g class=\"infolayer\"><g class=\"g-gtitle\"><text class=\"gtitle\" x=\"35\" y=\"50\" text-anchor=\"start\" dy=\"0em\" style=\"font-family: 'Open Sans', verdana, arial, sans-serif; font-size: 17px; fill: rgb(42, 63, 95); opacity: 1; font-weight: normal; white-space: pre;\">Combined plot of normalized values to compare Pyro results</text></g><g class=\"g-xtitle\"/><g class=\"g-ytitle\"/></g></svg>"
     },
     "metadata": {}
    }
   ]
  },
  {
   "cell_type": "markdown",
   "source": [
    "Here is PYMC3 version of the code, but it works extremely slow"
   ],
   "metadata": {
    "id": "L2qF5kU8wYIB"
   }
  },
  {
   "cell_type": "code",
   "source": [
    "!pip install pymc3"
   ],
   "metadata": {
    "id": "2kG5tVkywZSF"
   },
   "execution_count": null,
   "outputs": []
  },
  {
   "cell_type": "code",
   "source": [
    "import pymc3 as pm"
   ],
   "metadata": {
    "id": "Et6uuC3_waZ8"
   },
   "execution_count": null,
   "outputs": []
  },
  {
   "cell_type": "code",
   "source": [
    "def metropolis_hastings(num_samples):\n",
    "  # Define the model\n",
    "  with pm.Model() as model:\n",
    "    # Initialize the current state and the list of samples\n",
    "    current_state = pm.Uniform(\"initial_state\", lower=-2, upper=2)\n",
    "    samples = []\n",
    "\n",
    "    # Iterate for the desired number of samples\n",
    "    for i in range(num_samples):\n",
    "      # Sample a proposed move from the proposal distribution\n",
    "      proposed_move = pm.Normal(f\"proposed_move_{i}\", mu=current_state, sigma=1)\n",
    "\n",
    "      # Calculate the acceptance probability\n",
    "      acceptance_probability = pm.math.minimum(1, p(proposed_move) / p(current_state))\n",
    "\n",
    "      # Sample a uniform variable to determine whether to accept the proposed move\n",
    "      u = pm.Uniform(f\"uniform_variable_{i}\", lower=0, upper=1)\n",
    "\n",
    "      # If the uniform variable is less than the acceptance probability, accept the proposed move\n",
    "      move_accepted = pm.Bernoulli(f\"accept_move_{i}\", p=acceptance_probability, observed=u < acceptance_probability)\n",
    "      current_state = pm.Deterministic(f\"current_state_{i}\", proposed_move if move_accepted else current_state)\n",
    "\n",
    "      # Add the current state to the list of samples\n",
    "      samples.append(current_state)\n",
    "\n",
    "  return model\n",
    "\n",
    "# Create the model\n",
    "model = metropolis_hastings(1000)"
   ],
   "metadata": {
    "id": "84O3Rvc0G-U_"
   },
   "execution_count": null,
   "outputs": []
  },
  {
   "cell_type": "code",
   "source": [
    "# Sample from the model\n",
    "trace = pm.sample(model=model, chains=1, tune=500, draws=1000)"
   ],
   "metadata": {
    "id": "TXic0m_p08Nc"
   },
   "execution_count": null,
   "outputs": []
  },
  {
   "cell_type": "markdown",
   "source": [
    "# Question 2"
   ],
   "metadata": {
    "id": "lrhQ_1v55nxi"
   }
  },
  {
   "cell_type": "markdown",
   "source": [
    "## a)"
   ],
   "metadata": {
    "id": "GqweDyqbNcXq"
   }
  },
  {
   "cell_type": "markdown",
   "source": [
    "### (i)"
   ],
   "metadata": {
    "id": "rMGGHmhkNc-W"
   }
  },
  {
   "cell_type": "markdown",
   "source": [
    "$p(x, y) = p(y_1 | x_1) * p(x_1) * p(x_2 | x_1) * p(y_2 | x_2) * ... * p(x_T | x_{T-1}) * p(y_T | x_T)$\n",
    "\n",
    "We can equivalently write it as:\n",
    "\n",
    "$p(x, y) = p(y_1 | x_1) * p(x_1) * Π_{t=2}^T p(x_t | x_{t-1}) * p(y_t | x_t)$"
   ],
   "metadata": {
    "id": "vn8HUb-SNj3z"
   }
  },
  {
   "cell_type": "markdown",
   "source": [
    "### (ii)"
   ],
   "metadata": {
    "id": "on32i0vSNet9"
   }
  },
  {
   "cell_type": "markdown",
   "source": [
    "In this question we are asked to implement HMM as the probabilistic program. We start with the simple Python HMM class implementation which will be used to sample the sequences of hidden Markov states. In part **(ii)** the basic implementation is used but it will be modified later in the next sections.\n",
    "\n",
    "To initialize our class HMM, we need to pass four values:\n",
    "- S - number of possible values for hidden states\n",
    "- T - length of the Markov chain\n",
    "- pi - initial hidden states probabilities (uniform in our case)\n",
    "- P - transition probability matrix where $i$-th row is the categorical distribution of $x_t$ given $x_{t-i}$ and all values in the row sum up to $1$.\n",
    "\n",
    "Current version of the program will have method *sample* with one parameter - *size* (how many sequences we want to sample).\n",
    "\n",
    "Every time we want to generate a sequence of $T$ values. For this we use a simple for loop wher we call the function *get_next_hidden_state*. It returns the next state based on the given current state and transition probability matrix. \n",
    "\n",
    "Here is the imlementation:"
   ],
   "metadata": {
    "id": "aSNCq4yazMZ6"
   }
  },
  {
   "cell_type": "code",
   "source": [
    "class HMM:\n",
    "  def __init__(self, S, T, pi, P):\n",
    "    self.S = S # number of possible states\n",
    "    self.T = T # length of the sequence\n",
    "    self.pi = pi # initial hidden state probabilities\n",
    "    self.P = P # transition probabilities matrix\n",
    "\n",
    "  def get_next_hidden_state(self, current_state):\n",
    "    return np.random.choice(range(self.S), p=self.P[current_state]) \n",
    "\n",
    "  def sample(self, size):\n",
    "    Xs = []\n",
    "    for j in range(size):\n",
    "      X = [] # hidden\n",
    "      for i in range(self.T):\n",
    "        if i == 0:\n",
    "          X.append(np.random.choice(range(self.S), p=self.pi))\n",
    "        else:\n",
    "          X.append(self.get_next_hidden_state(X[i-1]))\n",
    "\n",
    "      Xs.append(X)\n",
    "      \n",
    "    return Xs"
   ],
   "metadata": {
    "id": "yTpM00kByhnB"
   },
   "execution_count": 23,
   "outputs": []
  },
  {
   "cell_type": "markdown",
   "source": [
    "We can use this program for different problems. Below is the simple concrete example where we sample $10000$ sequences of 4 elements given 3 possible hidden states and the transition probabilities matrix. This can be used for plotting the distribution of obtaining the particular sequence. "
   ],
   "metadata": {
    "id": "DxOeb82b7Fgw"
   }
  },
  {
   "cell_type": "code",
   "source": [
    "S = 3\n",
    "T = 4\n",
    "\n",
    "pi = np.ones(S) / S\n",
    "\n",
    "# Set the transition probability matrix P\n",
    "P = np.array([[0.2, 0.1, 0.7],\n",
    "              [0.3, 0.6, 0.1],\n",
    "              [0.1, 0.8, 0.1]])\n",
    "\n",
    "hmm = HMM(S, T, pi, P)\n",
    "\n",
    "sequences = hmm.sample(10000)"
   ],
   "metadata": {
    "id": "0r77G8Xjy_fs"
   },
   "execution_count": 24,
   "outputs": []
  },
  {
   "cell_type": "code",
   "source": [
    "sequences = np.array(sequences)\n",
    "unique_sequences, counts = np.unique(sequences, return_counts=True, axis=0)\n",
    "\n",
    "# Calculate the probability of each sequence\n",
    "probabilities = counts / len(sequences)\n",
    "\n",
    "print(len(unique_sequences))"
   ],
   "metadata": {
    "colab": {
     "base_uri": "https://localhost:8080/"
    },
    "id": "Q2X7qqfr31cN",
    "outputId": "76a32b8e-806e-4851-83f1-369fc3713a20"
   },
   "execution_count": 25,
   "outputs": [
    {
     "output_type": "stream",
     "name": "stdout",
     "text": [
      "81\n"
     ]
    }
   ]
  },
  {
   "cell_type": "code",
   "source": [
    "x = np.array(range(1, len(unique_sequences)+1))\n",
    "\n",
    "fig1 = px.bar(x = x, y=counts/counts.sum(), title=\"Probabilities of getting the exact seqence of hidden Markov states\")\n",
    "fig1.update_layout(bargap=0.5, xaxis_title=\"sequence IDs\", yaxis_title=\"Probability\")\n",
    "fig1.show()"
   ],
   "metadata": {
    "colab": {
     "base_uri": "https://localhost:8080/",
     "height": 522
    },
    "id": "fDxdIaUn4qBX",
    "outputId": "64b83b30-6d50-4fd3-c09a-a12febaaa482"
   },
   "execution_count": 26,
   "outputs": [
    {
     "output_type": "display_data",
     "data": {
      "image/svg+xml": "<svg class=\"main-svg\" xmlns=\"http://www.w3.org/2000/svg\" xmlns:xlink=\"http://www.w3.org/1999/xlink\" width=\"700\" height=\"500\" style=\"\" viewBox=\"0 0 700 500\"><rect x=\"0\" y=\"0\" width=\"700\" height=\"500\" style=\"fill: rgb(255, 255, 255); fill-opacity: 1;\"/><defs id=\"defs-d45ccd\"><g class=\"clips\"><clipPath id=\"clipd45ccdxyplot\" class=\"plotclip\"><rect width=\"540\" height=\"320\"/></clipPath><clipPath class=\"axesclip\" id=\"clipd45ccdx\"><rect x=\"80\" y=\"0\" width=\"540\" height=\"500\"/></clipPath><clipPath class=\"axesclip\" id=\"clipd45ccdy\"><rect x=\"0\" y=\"100\" width=\"700\" height=\"320\"/></clipPath><clipPath class=\"axesclip\" id=\"clipd45ccdxy\"><rect x=\"80\" y=\"100\" width=\"540\" height=\"320\"/></clipPath></g><g class=\"gradients\"/><g class=\"patterns\"/></defs><g class=\"bglayer\"><rect class=\"bg\" x=\"80\" y=\"100\" width=\"540\" height=\"320\" style=\"fill: rgb(229, 236, 246); fill-opacity: 1; stroke-width: 0;\"/></g><g class=\"layer-below\"><g class=\"imagelayer\"/><g class=\"shapelayer\"/></g><g class=\"cartesianlayer\"><g class=\"subplot xy\"><g class=\"layer-subplot\"><g class=\"shapelayer\"/><g class=\"imagelayer\"/></g><g class=\"gridlayer\"><g class=\"x\"/><g class=\"y\"><path class=\"ygrid crisp\" transform=\"translate(0,366.62)\" d=\"M80,0h540\" style=\"stroke: rgb(255, 255, 255); stroke-opacity: 1; stroke-width: 1px;\"/><path class=\"ygrid crisp\" transform=\"translate(0,313.24)\" d=\"M80,0h540\" style=\"stroke: rgb(255, 255, 255); stroke-opacity: 1; stroke-width: 1px;\"/><path class=\"ygrid crisp\" transform=\"translate(0,259.86)\" d=\"M80,0h540\" style=\"stroke: rgb(255, 255, 255); stroke-opacity: 1; stroke-width: 1px;\"/><path class=\"ygrid crisp\" transform=\"translate(0,206.48000000000002)\" d=\"M80,0h540\" style=\"stroke: rgb(255, 255, 255); stroke-opacity: 1; stroke-width: 1px;\"/><path class=\"ygrid crisp\" transform=\"translate(0,153.1)\" d=\"M80,0h540\" style=\"stroke: rgb(255, 255, 255); stroke-opacity: 1; stroke-width: 1px;\"/></g></g><g class=\"zerolinelayer\"><path class=\"yzl zl crisp\" transform=\"translate(0,420)\" d=\"M80,0h540\" style=\"stroke: rgb(255, 255, 255); stroke-opacity: 1; stroke-width: 2px;\"/></g><path class=\"xlines-below\"/><path class=\"ylines-below\"/><g class=\"overlines-below\"/><g class=\"xaxislayer-below\"/><g class=\"yaxislayer-below\"/><g class=\"overaxes-below\"/><g class=\"plot\" transform=\"translate(80,100)\" clip-path=\"url(#clipd45ccdxyplot)\"><g class=\"barlayer mlayer\"><g class=\"trace bars\" style=\"opacity: 1;\"><g class=\"points\"><g class=\"point\"><path d=\"M1.67,320V312.53H5V320Z\" style=\"vector-effect: non-scaling-stroke; opacity: 1; stroke-width: 0.5px; fill: rgb(99, 110, 250); fill-opacity: 1; stroke: rgb(229, 236, 246); stroke-opacity: 1;\"/></g><g class=\"point\"><path d=\"M8.33,320V317.06H11.67V320Z\" style=\"vector-effect: non-scaling-stroke; opacity: 1; stroke-width: 0.5px; fill: rgb(99, 110, 250); fill-opacity: 1; stroke: rgb(229, 236, 246); stroke-opacity: 1;\"/></g><g class=\"point\"><path d=\"M15,320V294.91H18.33V320Z\" style=\"vector-effect: non-scaling-stroke; opacity: 1; stroke-width: 0.5px; fill: rgb(99, 110, 250); fill-opacity: 1; stroke: rgb(229, 236, 246); stroke-opacity: 1;\"/></g><g class=\"point\"><path d=\"M21.67,320V316.53H25V320Z\" style=\"vector-effect: non-scaling-stroke; opacity: 1; stroke-width: 0.5px; fill: rgb(99, 110, 250); fill-opacity: 1; stroke: rgb(229, 236, 246); stroke-opacity: 1;\"/></g><g class=\"point\"><path d=\"M28.33,320V306.39H31.67V320Z\" style=\"vector-effect: non-scaling-stroke; opacity: 1; stroke-width: 0.5px; fill: rgb(99, 110, 250); fill-opacity: 1; stroke: rgb(229, 236, 246); stroke-opacity: 1;\"/></g><g class=\"point\"><path d=\"M35,320V319.2H38.33V320Z\" style=\"vector-effect: non-scaling-stroke; opacity: 1; stroke-width: 0.5px; fill: rgb(99, 110, 250); fill-opacity: 1; stroke: rgb(229, 236, 246); stroke-opacity: 1;\"/></g><g class=\"point\"><path d=\"M41.67,320V305.85H45V320Z\" style=\"vector-effect: non-scaling-stroke; opacity: 1; stroke-width: 0.5px; fill: rgb(99, 110, 250); fill-opacity: 1; stroke: rgb(229, 236, 246); stroke-opacity: 1;\"/></g><g class=\"point\"><path d=\"M48.33,320V221.25H51.67V320Z\" style=\"vector-effect: non-scaling-stroke; opacity: 1; stroke-width: 0.5px; fill: rgb(99, 110, 250); fill-opacity: 1; stroke: rgb(229, 236, 246); stroke-opacity: 1;\"/></g><g class=\"point\"><path d=\"M55,320V304.79H58.33V320Z\" style=\"vector-effect: non-scaling-stroke; opacity: 1; stroke-width: 0.5px; fill: rgb(99, 110, 250); fill-opacity: 1; stroke: rgb(229, 236, 246); stroke-opacity: 1;\"/></g><g class=\"point\"><path d=\"M61.67,320V313.33H65V320Z\" style=\"vector-effect: non-scaling-stroke; opacity: 1; stroke-width: 0.5px; fill: rgb(99, 110, 250); fill-opacity: 1; stroke: rgb(229, 236, 246); stroke-opacity: 1;\"/></g><g class=\"point\"><path d=\"M68.33,320V317.33H71.67V320Z\" style=\"vector-effect: non-scaling-stroke; opacity: 1; stroke-width: 0.5px; fill: rgb(99, 110, 250); fill-opacity: 1; stroke: rgb(229, 236, 246); stroke-opacity: 1;\"/></g><g class=\"point\"><path d=\"M75,320V298.11H78.33V320Z\" style=\"vector-effect: non-scaling-stroke; opacity: 1; stroke-width: 0.5px; fill: rgb(99, 110, 250); fill-opacity: 1; stroke: rgb(229, 236, 246); stroke-opacity: 1;\"/></g><g class=\"point\"><path d=\"M81.67,320V302.65H85V320Z\" style=\"vector-effect: non-scaling-stroke; opacity: 1; stroke-width: 0.5px; fill: rgb(99, 110, 250); fill-opacity: 1; stroke: rgb(229, 236, 246); stroke-opacity: 1;\"/></g><g class=\"point\"><path d=\"M88.33,320V287.17H91.67V320Z\" style=\"vector-effect: non-scaling-stroke; opacity: 1; stroke-width: 0.5px; fill: rgb(99, 110, 250); fill-opacity: 1; stroke: rgb(229, 236, 246); stroke-opacity: 1;\"/></g><g class=\"point\"><path d=\"M95,320V314.93H98.33V320Z\" style=\"vector-effect: non-scaling-stroke; opacity: 1; stroke-width: 0.5px; fill: rgb(99, 110, 250); fill-opacity: 1; stroke: rgb(229, 236, 246); stroke-opacity: 1;\"/></g><g class=\"point\"><path d=\"M101.67,320V319.2H105V320Z\" style=\"vector-effect: non-scaling-stroke; opacity: 1; stroke-width: 0.5px; fill: rgb(99, 110, 250); fill-opacity: 1; stroke: rgb(229, 236, 246); stroke-opacity: 1;\"/></g><g class=\"point\"><path d=\"M108.33,320V313.59H111.67V320Z\" style=\"vector-effect: non-scaling-stroke; opacity: 1; stroke-width: 0.5px; fill: rgb(99, 110, 250); fill-opacity: 1; stroke: rgb(229, 236, 246); stroke-opacity: 1;\"/></g><g class=\"point\"><path d=\"M115,320V318.4H118.33V320Z\" style=\"vector-effect: non-scaling-stroke; opacity: 1; stroke-width: 0.5px; fill: rgb(99, 110, 250); fill-opacity: 1; stroke: rgb(229, 236, 246); stroke-opacity: 1;\"/></g><g class=\"point\"><path d=\"M121.67,320V305.85H125V320Z\" style=\"vector-effect: non-scaling-stroke; opacity: 1; stroke-width: 0.5px; fill: rgb(99, 110, 250); fill-opacity: 1; stroke: rgb(229, 236, 246); stroke-opacity: 1;\"/></g><g class=\"point\"><path d=\"M128.33,320V316.53H131.67V320Z\" style=\"vector-effect: non-scaling-stroke; opacity: 1; stroke-width: 0.5px; fill: rgb(99, 110, 250); fill-opacity: 1; stroke: rgb(229, 236, 246); stroke-opacity: 1;\"/></g><g class=\"point\"><path d=\"M135,320V275.96H138.33V320Z\" style=\"vector-effect: non-scaling-stroke; opacity: 1; stroke-width: 0.5px; fill: rgb(99, 110, 250); fill-opacity: 1; stroke: rgb(229, 236, 246); stroke-opacity: 1;\"/></g><g class=\"point\"><path d=\"M141.67,320V168.4H145V320Z\" style=\"vector-effect: non-scaling-stroke; opacity: 1; stroke-width: 0.5px; fill: rgb(99, 110, 250); fill-opacity: 1; stroke: rgb(229, 236, 246); stroke-opacity: 1;\"/></g><g class=\"point\"><path d=\"M148.33,320V16H151.67V320Z\" style=\"vector-effect: non-scaling-stroke; opacity: 1; stroke-width: 0.5px; fill: rgb(99, 110, 250); fill-opacity: 1; stroke: rgb(229, 236, 246); stroke-opacity: 1;\"/></g><g class=\"point\"><path d=\"M155,320V267.95H158.33V320Z\" style=\"vector-effect: non-scaling-stroke; opacity: 1; stroke-width: 0.5px; fill: rgb(99, 110, 250); fill-opacity: 1; stroke: rgb(229, 236, 246); stroke-opacity: 1;\"/></g><g class=\"point\"><path d=\"M161.67,320V314.4H165V320Z\" style=\"vector-effect: non-scaling-stroke; opacity: 1; stroke-width: 0.5px; fill: rgb(99, 110, 250); fill-opacity: 1; stroke: rgb(229, 236, 246); stroke-opacity: 1;\"/></g><g class=\"point\"><path d=\"M168.33,320V271.42H171.67V320Z\" style=\"vector-effect: non-scaling-stroke; opacity: 1; stroke-width: 0.5px; fill: rgb(99, 110, 250); fill-opacity: 1; stroke: rgb(229, 236, 246); stroke-opacity: 1;\"/></g><g class=\"point\"><path d=\"M175,320V313.59H178.33V320Z\" style=\"vector-effect: non-scaling-stroke; opacity: 1; stroke-width: 0.5px; fill: rgb(99, 110, 250); fill-opacity: 1; stroke: rgb(229, 236, 246); stroke-opacity: 1;\"/></g><g class=\"point\"><path d=\"M181.67,320V307.72H185V320Z\" style=\"vector-effect: non-scaling-stroke; opacity: 1; stroke-width: 0.5px; fill: rgb(99, 110, 250); fill-opacity: 1; stroke: rgb(229, 236, 246); stroke-opacity: 1;\"/></g><g class=\"point\"><path d=\"M188.33,320V313.86H191.67V320Z\" style=\"vector-effect: non-scaling-stroke; opacity: 1; stroke-width: 0.5px; fill: rgb(99, 110, 250); fill-opacity: 1; stroke: rgb(229, 236, 246); stroke-opacity: 1;\"/></g><g class=\"point\"><path d=\"M195,320V277.56H198.33V320Z\" style=\"vector-effect: non-scaling-stroke; opacity: 1; stroke-width: 0.5px; fill: rgb(99, 110, 250); fill-opacity: 1; stroke: rgb(229, 236, 246); stroke-opacity: 1;\"/></g><g class=\"point\"><path d=\"M201.67,320V311.73H205V320Z\" style=\"vector-effect: non-scaling-stroke; opacity: 1; stroke-width: 0.5px; fill: rgb(99, 110, 250); fill-opacity: 1; stroke: rgb(229, 236, 246); stroke-opacity: 1;\"/></g><g class=\"point\"><path d=\"M208.33,320V306.92H211.67V320Z\" style=\"vector-effect: non-scaling-stroke; opacity: 1; stroke-width: 0.5px; fill: rgb(99, 110, 250); fill-opacity: 1; stroke: rgb(229, 236, 246); stroke-opacity: 1;\"/></g><g class=\"point\"><path d=\"M215,320V316.53H218.33V320Z\" style=\"vector-effect: non-scaling-stroke; opacity: 1; stroke-width: 0.5px; fill: rgb(99, 110, 250); fill-opacity: 1; stroke: rgb(229, 236, 246); stroke-opacity: 1;\"/></g><g class=\"point\"><path d=\"M221.67,320V305.85H225V320Z\" style=\"vector-effect: non-scaling-stroke; opacity: 1; stroke-width: 0.5px; fill: rgb(99, 110, 250); fill-opacity: 1; stroke: rgb(229, 236, 246); stroke-opacity: 1;\"/></g><g class=\"point\"><path d=\"M228.33,320V171.6H231.67V320Z\" style=\"vector-effect: non-scaling-stroke; opacity: 1; stroke-width: 0.5px; fill: rgb(99, 110, 250); fill-opacity: 1; stroke: rgb(229, 236, 246); stroke-opacity: 1;\"/></g><g class=\"point\"><path d=\"M235,320V301.32H238.33V320Z\" style=\"vector-effect: non-scaling-stroke; opacity: 1; stroke-width: 0.5px; fill: rgb(99, 110, 250); fill-opacity: 1; stroke: rgb(229, 236, 246); stroke-opacity: 1;\"/></g><g class=\"point\"><path d=\"M241.67,320V288.51H245V320Z\" style=\"vector-effect: non-scaling-stroke; opacity: 1; stroke-width: 0.5px; fill: rgb(99, 110, 250); fill-opacity: 1; stroke: rgb(229, 236, 246); stroke-opacity: 1;\"/></g><g class=\"point\"><path d=\"M248.33,320V301.85H251.67V320Z\" style=\"vector-effect: non-scaling-stroke; opacity: 1; stroke-width: 0.5px; fill: rgb(99, 110, 250); fill-opacity: 1; stroke: rgb(229, 236, 246); stroke-opacity: 1;\"/></g><g class=\"point\"><path d=\"M255,320V212.44H258.33V320Z\" style=\"vector-effect: non-scaling-stroke; opacity: 1; stroke-width: 0.5px; fill: rgb(99, 110, 250); fill-opacity: 1; stroke: rgb(229, 236, 246); stroke-opacity: 1;\"/></g><g class=\"point\"><path d=\"M261.67,320V221.25H265V320Z\" style=\"vector-effect: non-scaling-stroke; opacity: 1; stroke-width: 0.5px; fill: rgb(99, 110, 250); fill-opacity: 1; stroke: rgb(229, 236, 246); stroke-opacity: 1;\"/></g><g class=\"point\"><path d=\"M268.33,320V135.84H271.67V320Z\" style=\"vector-effect: non-scaling-stroke; opacity: 1; stroke-width: 0.5px; fill: rgb(99, 110, 250); fill-opacity: 1; stroke: rgb(229, 236, 246); stroke-opacity: 1;\"/></g><g class=\"point\"><path d=\"M275,320V286.1H278.33V320Z\" style=\"vector-effect: non-scaling-stroke; opacity: 1; stroke-width: 0.5px; fill: rgb(99, 110, 250); fill-opacity: 1; stroke: rgb(229, 236, 246); stroke-opacity: 1;\"/></g><g class=\"point\"><path d=\"M281.67,320V314.93H285V320Z\" style=\"vector-effect: non-scaling-stroke; opacity: 1; stroke-width: 0.5px; fill: rgb(99, 110, 250); fill-opacity: 1; stroke: rgb(229, 236, 246); stroke-opacity: 1;\"/></g><g class=\"point\"><path d=\"M288.33,320V280.23H291.67V320Z\" style=\"vector-effect: non-scaling-stroke; opacity: 1; stroke-width: 0.5px; fill: rgb(99, 110, 250); fill-opacity: 1; stroke: rgb(229, 236, 246); stroke-opacity: 1;\"/></g><g class=\"point\"><path d=\"M295,320V313.59H298.33V320Z\" style=\"vector-effect: non-scaling-stroke; opacity: 1; stroke-width: 0.5px; fill: rgb(99, 110, 250); fill-opacity: 1; stroke: rgb(229, 236, 246); stroke-opacity: 1;\"/></g><g class=\"point\"><path d=\"M301.67,320V317.86H305V320Z\" style=\"vector-effect: non-scaling-stroke; opacity: 1; stroke-width: 0.5px; fill: rgb(99, 110, 250); fill-opacity: 1; stroke: rgb(229, 236, 246); stroke-opacity: 1;\"/></g><g class=\"point\"><path d=\"M308.33,320V318.67H311.67V320Z\" style=\"vector-effect: non-scaling-stroke; opacity: 1; stroke-width: 0.5px; fill: rgb(99, 110, 250); fill-opacity: 1; stroke: rgb(229, 236, 246); stroke-opacity: 1;\"/></g><g class=\"point\"><path d=\"M315,320V311.99H318.33V320Z\" style=\"vector-effect: non-scaling-stroke; opacity: 1; stroke-width: 0.5px; fill: rgb(99, 110, 250); fill-opacity: 1; stroke: rgb(229, 236, 246); stroke-opacity: 1;\"/></g><g class=\"point\"><path d=\"M321.67,320V296.51H325V320Z\" style=\"vector-effect: non-scaling-stroke; opacity: 1; stroke-width: 0.5px; fill: rgb(99, 110, 250); fill-opacity: 1; stroke: rgb(229, 236, 246); stroke-opacity: 1;\"/></g><g class=\"point\"><path d=\"M328.33,320V279.16H331.67V320Z\" style=\"vector-effect: non-scaling-stroke; opacity: 1; stroke-width: 0.5px; fill: rgb(99, 110, 250); fill-opacity: 1; stroke: rgb(229, 236, 246); stroke-opacity: 1;\"/></g><g class=\"point\"><path d=\"M335,320V313.86H338.33V320Z\" style=\"vector-effect: non-scaling-stroke; opacity: 1; stroke-width: 0.5px; fill: rgb(99, 110, 250); fill-opacity: 1; stroke: rgb(229, 236, 246); stroke-opacity: 1;\"/></g><g class=\"point\"><path d=\"M341.67,320V318.93H345V320Z\" style=\"vector-effect: non-scaling-stroke; opacity: 1; stroke-width: 0.5px; fill: rgb(99, 110, 250); fill-opacity: 1; stroke: rgb(229, 236, 246); stroke-opacity: 1;\"/></g><g class=\"point\"><path d=\"M348.33,320V314.13H351.67V320Z\" style=\"vector-effect: non-scaling-stroke; opacity: 1; stroke-width: 0.5px; fill: rgb(99, 110, 250); fill-opacity: 1; stroke: rgb(229, 236, 246); stroke-opacity: 1;\"/></g><g class=\"point\"><path d=\"M355,320V318.67H358.33V320Z\" style=\"vector-effect: non-scaling-stroke; opacity: 1; stroke-width: 0.5px; fill: rgb(99, 110, 250); fill-opacity: 1; stroke: rgb(229, 236, 246); stroke-opacity: 1;\"/></g><g class=\"point\"><path d=\"M361.67,320V317.86H365V320Z\" style=\"vector-effect: non-scaling-stroke; opacity: 1; stroke-width: 0.5px; fill: rgb(99, 110, 250); fill-opacity: 1; stroke: rgb(229, 236, 246); stroke-opacity: 1;\"/></g><g class=\"point\"><path d=\"M368.33,320V318.13H371.67V320Z\" style=\"vector-effect: non-scaling-stroke; opacity: 1; stroke-width: 0.5px; fill: rgb(99, 110, 250); fill-opacity: 1; stroke: rgb(229, 236, 246); stroke-opacity: 1;\"/></g><g class=\"point\"><path d=\"M375,320V306.12H378.33V320Z\" style=\"vector-effect: non-scaling-stroke; opacity: 1; stroke-width: 0.5px; fill: rgb(99, 110, 250); fill-opacity: 1; stroke: rgb(229, 236, 246); stroke-opacity: 1;\"/></g><g class=\"point\"><path d=\"M381.67,320V316.53H385V320Z\" style=\"vector-effect: non-scaling-stroke; opacity: 1; stroke-width: 0.5px; fill: rgb(99, 110, 250); fill-opacity: 1; stroke: rgb(229, 236, 246); stroke-opacity: 1;\"/></g><g class=\"point\"><path d=\"M388.33,320V314.4H391.67V320Z\" style=\"vector-effect: non-scaling-stroke; opacity: 1; stroke-width: 0.5px; fill: rgb(99, 110, 250); fill-opacity: 1; stroke: rgb(229, 236, 246); stroke-opacity: 1;\"/></g><g class=\"point\"><path d=\"M395,320V319.47H398.33V320Z\" style=\"vector-effect: non-scaling-stroke; opacity: 1; stroke-width: 0.5px; fill: rgb(99, 110, 250); fill-opacity: 1; stroke: rgb(229, 236, 246); stroke-opacity: 1;\"/></g><g class=\"point\"><path d=\"M401.67,320V312.53H405V320Z\" style=\"vector-effect: non-scaling-stroke; opacity: 1; stroke-width: 0.5px; fill: rgb(99, 110, 250); fill-opacity: 1; stroke: rgb(229, 236, 246); stroke-opacity: 1;\"/></g><g class=\"point\"><path d=\"M408.33,320V274.89H411.67V320Z\" style=\"vector-effect: non-scaling-stroke; opacity: 1; stroke-width: 0.5px; fill: rgb(99, 110, 250); fill-opacity: 1; stroke: rgb(229, 236, 246); stroke-opacity: 1;\"/></g><g class=\"point\"><path d=\"M415,320V316H418.33V320Z\" style=\"vector-effect: non-scaling-stroke; opacity: 1; stroke-width: 0.5px; fill: rgb(99, 110, 250); fill-opacity: 1; stroke: rgb(229, 236, 246); stroke-opacity: 1;\"/></g><g class=\"point\"><path d=\"M421.67,320V273.83H425V320Z\" style=\"vector-effect: non-scaling-stroke; opacity: 1; stroke-width: 0.5px; fill: rgb(99, 110, 250); fill-opacity: 1; stroke: rgb(229, 236, 246); stroke-opacity: 1;\"/></g><g class=\"point\"><path d=\"M428.33,320V297.58H431.67V320Z\" style=\"vector-effect: non-scaling-stroke; opacity: 1; stroke-width: 0.5px; fill: rgb(99, 110, 250); fill-opacity: 1; stroke: rgb(229, 236, 246); stroke-opacity: 1;\"/></g><g class=\"point\"><path d=\"M435,320V171.07H438.33V320Z\" style=\"vector-effect: non-scaling-stroke; opacity: 1; stroke-width: 0.5px; fill: rgb(99, 110, 250); fill-opacity: 1; stroke: rgb(229, 236, 246); stroke-opacity: 1;\"/></g><g class=\"point\"><path d=\"M441.67,320V194.56H445V320Z\" style=\"vector-effect: non-scaling-stroke; opacity: 1; stroke-width: 0.5px; fill: rgb(99, 110, 250); fill-opacity: 1; stroke: rgb(229, 236, 246); stroke-opacity: 1;\"/></g><g class=\"point\"><path d=\"M448.33,320V65.11H451.67V320Z\" style=\"vector-effect: non-scaling-stroke; opacity: 1; stroke-width: 0.5px; fill: rgb(99, 110, 250); fill-opacity: 1; stroke: rgb(229, 236, 246); stroke-opacity: 1;\"/></g><g class=\"point\"><path d=\"M455,320V278.9H458.33V320Z\" style=\"vector-effect: non-scaling-stroke; opacity: 1; stroke-width: 0.5px; fill: rgb(99, 110, 250); fill-opacity: 1; stroke: rgb(229, 236, 246); stroke-opacity: 1;\"/></g><g class=\"point\"><path d=\"M461.67,320V311.99H465V320Z\" style=\"vector-effect: non-scaling-stroke; opacity: 1; stroke-width: 0.5px; fill: rgb(99, 110, 250); fill-opacity: 1; stroke: rgb(229, 236, 246); stroke-opacity: 1;\"/></g><g class=\"point\"><path d=\"M468.33,320V260.48H471.67V320Z\" style=\"vector-effect: non-scaling-stroke; opacity: 1; stroke-width: 0.5px; fill: rgb(99, 110, 250); fill-opacity: 1; stroke: rgb(229, 236, 246); stroke-opacity: 1;\"/></g><g class=\"point\"><path d=\"M475,320V313.86H478.33V320Z\" style=\"vector-effect: non-scaling-stroke; opacity: 1; stroke-width: 0.5px; fill: rgb(99, 110, 250); fill-opacity: 1; stroke: rgb(229, 236, 246); stroke-opacity: 1;\"/></g><g class=\"point\"><path d=\"M481.67,320V318.13H485V320Z\" style=\"vector-effect: non-scaling-stroke; opacity: 1; stroke-width: 0.5px; fill: rgb(99, 110, 250); fill-opacity: 1; stroke: rgb(229, 236, 246); stroke-opacity: 1;\"/></g><g class=\"point\"><path d=\"M488.33,320V319.2H491.67V320Z\" style=\"vector-effect: non-scaling-stroke; opacity: 1; stroke-width: 0.5px; fill: rgb(99, 110, 250); fill-opacity: 1; stroke: rgb(229, 236, 246); stroke-opacity: 1;\"/></g><g class=\"point\"><path d=\"M495,320V314.4H498.33V320Z\" style=\"vector-effect: non-scaling-stroke; opacity: 1; stroke-width: 0.5px; fill: rgb(99, 110, 250); fill-opacity: 1; stroke: rgb(229, 236, 246); stroke-opacity: 1;\"/></g><g class=\"point\"><path d=\"M501.67,320V299.45H505V320Z\" style=\"vector-effect: non-scaling-stroke; opacity: 1; stroke-width: 0.5px; fill: rgb(99, 110, 250); fill-opacity: 1; stroke: rgb(229, 236, 246); stroke-opacity: 1;\"/></g><g class=\"point\"><path d=\"M508.33,320V282.1H511.67V320Z\" style=\"vector-effect: non-scaling-stroke; opacity: 1; stroke-width: 0.5px; fill: rgb(99, 110, 250); fill-opacity: 1; stroke: rgb(229, 236, 246); stroke-opacity: 1;\"/></g><g class=\"point\"><path d=\"M515,320V312.79H518.33V320Z\" style=\"vector-effect: non-scaling-stroke; opacity: 1; stroke-width: 0.5px; fill: rgb(99, 110, 250); fill-opacity: 1; stroke: rgb(229, 236, 246); stroke-opacity: 1;\"/></g><g class=\"point\"><path d=\"M521.67,320V319.2H525V320Z\" style=\"vector-effect: non-scaling-stroke; opacity: 1; stroke-width: 0.5px; fill: rgb(99, 110, 250); fill-opacity: 1; stroke: rgb(229, 236, 246); stroke-opacity: 1;\"/></g><g class=\"point\"><path d=\"M528.33,320V311.73H531.67V320Z\" style=\"vector-effect: non-scaling-stroke; opacity: 1; stroke-width: 0.5px; fill: rgb(99, 110, 250); fill-opacity: 1; stroke: rgb(229, 236, 246); stroke-opacity: 1;\"/></g><g class=\"point\"><path d=\"M535,320V319.73H538.33V320Z\" style=\"vector-effect: non-scaling-stroke; opacity: 1; stroke-width: 0.5px; fill: rgb(99, 110, 250); fill-opacity: 1; stroke: rgb(229, 236, 246); stroke-opacity: 1;\"/></g></g></g></g></g><g class=\"overplot\"/><path class=\"xlines-above crisp\" d=\"M0,0\" style=\"fill: none;\"/><path class=\"ylines-above crisp\" d=\"M0,0\" style=\"fill: none;\"/><g class=\"overlines-above\"/><g class=\"xaxislayer-above\"><g class=\"xtick\"><text text-anchor=\"middle\" x=\"0\" y=\"433\" transform=\"translate(210,0)\" style=\"font-family: 'Open Sans', verdana, arial, sans-serif; font-size: 12px; fill: rgb(42, 63, 95); fill-opacity: 1; white-space: pre; opacity: 1;\">20</text></g><g class=\"xtick\"><text text-anchor=\"middle\" x=\"0\" y=\"433\" style=\"font-family: 'Open Sans', verdana, arial, sans-serif; font-size: 12px; fill: rgb(42, 63, 95); fill-opacity: 1; white-space: pre; opacity: 1;\" transform=\"translate(343.33,0)\">40</text></g><g class=\"xtick\"><text text-anchor=\"middle\" x=\"0\" y=\"433\" style=\"font-family: 'Open Sans', verdana, arial, sans-serif; font-size: 12px; fill: rgb(42, 63, 95); fill-opacity: 1; white-space: pre; opacity: 1;\" transform=\"translate(476.67,0)\">60</text></g><g class=\"xtick\"><text text-anchor=\"middle\" x=\"0\" y=\"433\" style=\"font-family: 'Open Sans', verdana, arial, sans-serif; font-size: 12px; fill: rgb(42, 63, 95); fill-opacity: 1; white-space: pre; opacity: 1;\" transform=\"translate(610,0)\">80</text></g></g><g class=\"yaxislayer-above\"><g class=\"ytick\"><text text-anchor=\"end\" x=\"79\" y=\"4.199999999999999\" transform=\"translate(0,420)\" style=\"font-family: 'Open Sans', verdana, arial, sans-serif; font-size: 12px; fill: rgb(42, 63, 95); fill-opacity: 1; white-space: pre; opacity: 1;\">0</text></g><g class=\"ytick\"><text text-anchor=\"end\" x=\"79\" y=\"4.199999999999999\" style=\"font-family: 'Open Sans', verdana, arial, sans-serif; font-size: 12px; fill: rgb(42, 63, 95); fill-opacity: 1; white-space: pre; opacity: 1;\" transform=\"translate(0,366.62)\">0.02</text></g><g class=\"ytick\"><text text-anchor=\"end\" x=\"79\" y=\"4.199999999999999\" style=\"font-family: 'Open Sans', verdana, arial, sans-serif; font-size: 12px; fill: rgb(42, 63, 95); fill-opacity: 1; white-space: pre; opacity: 1;\" transform=\"translate(0,313.24)\">0.04</text></g><g class=\"ytick\"><text text-anchor=\"end\" x=\"79\" y=\"4.199999999999999\" style=\"font-family: 'Open Sans', verdana, arial, sans-serif; font-size: 12px; fill: rgb(42, 63, 95); fill-opacity: 1; white-space: pre; opacity: 1;\" transform=\"translate(0,259.86)\">0.06</text></g><g class=\"ytick\"><text text-anchor=\"end\" x=\"79\" y=\"4.199999999999999\" style=\"font-family: 'Open Sans', verdana, arial, sans-serif; font-size: 12px; fill: rgb(42, 63, 95); fill-opacity: 1; white-space: pre; opacity: 1;\" transform=\"translate(0,206.48000000000002)\">0.08</text></g><g class=\"ytick\"><text text-anchor=\"end\" x=\"79\" y=\"4.199999999999999\" style=\"font-family: 'Open Sans', verdana, arial, sans-serif; font-size: 12px; fill: rgb(42, 63, 95); fill-opacity: 1; white-space: pre; opacity: 1;\" transform=\"translate(0,153.1)\">0.1</text></g></g><g class=\"overaxes-above\"/></g></g><g class=\"polarlayer\"/><g class=\"smithlayer\"/><g class=\"ternarylayer\"/><g class=\"geolayer\"/><g class=\"funnelarealayer\"/><g class=\"pielayer\"/><g class=\"iciclelayer\"/><g class=\"treemaplayer\"/><g class=\"sunburstlayer\"/><g class=\"glimages\"/><defs id=\"topdefs-d45ccd\"><g class=\"clips\"/></defs><g class=\"layer-above\"><g class=\"imagelayer\"/><g class=\"shapelayer\"/></g><g class=\"infolayer\"><g class=\"g-gtitle\"><text class=\"gtitle\" x=\"35\" y=\"50\" text-anchor=\"start\" dy=\"0em\" style=\"font-family: 'Open Sans', verdana, arial, sans-serif; font-size: 17px; fill: rgb(42, 63, 95); opacity: 1; font-weight: normal; white-space: pre;\">Probabilities of getting the exact seqence of hidden Markov states</text></g><g class=\"g-xtitle\"><text class=\"xtitle\" x=\"350\" y=\"460.8\" text-anchor=\"middle\" style=\"font-family: 'Open Sans', verdana, arial, sans-serif; font-size: 14px; fill: rgb(42, 63, 95); opacity: 1; font-weight: normal; white-space: pre;\">sequence IDs</text></g><g class=\"g-ytitle\"><text class=\"ytitle\" transform=\"rotate(-90,30.840625000000003,260)\" x=\"30.840625000000003\" y=\"260\" text-anchor=\"middle\" style=\"font-family: 'Open Sans', verdana, arial, sans-serif; font-size: 14px; fill: rgb(42, 63, 95); opacity: 1; font-weight: normal; white-space: pre;\">Probability</text></g></g></svg>"
     },
     "metadata": {}
    }
   ]
  },
  {
   "cell_type": "code",
   "source": [
    "print(f\"We will get the sequence: {unique_sequences[counts.argmax()]} with the probbility p={counts[counts.argmax()]/counts.sum()}\")"
   ],
   "metadata": {
    "colab": {
     "base_uri": "https://localhost:8080/"
    },
    "id": "OicPpR7E6BX0",
    "outputId": "7e5e2311-d321-4979-8e97-7ebd2a738bca"
   },
   "execution_count": 27,
   "outputs": [
    {
     "output_type": "stream",
     "name": "stdout",
     "text": [
      "We will get the sequence: [0 2 1 1] with the probbility p=0.1139\n"
     ]
    }
   ]
  },
  {
   "cell_type": "markdown",
   "source": [
    "#### Pyro implementation"
   ],
   "metadata": {
    "id": "hAIyuxbi8Zyy"
   }
  },
  {
   "cell_type": "markdown",
   "source": [
    "Alternatively we can implement exactly the same probabilistic program using probabilistic programming framework Pyro:"
   ],
   "metadata": {
    "id": "9xzzeKn38e2X"
   }
  },
  {
   "cell_type": "code",
   "source": [
    "import torch\n",
    "import pyro\n",
    "import pyro.distributions as dist"
   ],
   "metadata": {
    "id": "WPE1beZH84zs"
   },
   "execution_count": 28,
   "outputs": []
  },
  {
   "cell_type": "code",
   "source": [
    "# Define the probabilistic program\n",
    "def markov_chain(S, T, P):\n",
    "  # Define the initial state as a categorical random variable\n",
    "  x = pyro.sample(\"x\", dist.Categorical(torch.ones(S) / S))\n",
    "\n",
    "  states = [x]\n",
    "\n",
    "  for t in range(T - 1):\n",
    "    # Sample the next state from a categorical distribution,\n",
    "    # with probabilities given by the transition probability matrix P\n",
    "    x = pyro.sample(\"x_{}\".format(t), dist.Categorical(P[x]))\n",
    "\n",
    "    # Append the current state to the list of states\n",
    "    states.append(x)\n",
    "\n",
    "  return states\n",
    "\n",
    "def sample_hmm(S, T, P, num_samples):\n",
    "  chains = []\n",
    "\n",
    "  for i in range(num_samples):\n",
    "    # Generate a Markov chain by running the probabilistic program\n",
    "    chain = markov_chain(S, T, P)\n",
    "\n",
    "    chains.append(chain)\n",
    "\n",
    "  return chains\n",
    "\n",
    "\n",
    "# Set the number of possible states S and the length of the chain T\n",
    "S = 3\n",
    "T = 4\n",
    "\n",
    "# Set the transition probability matrix P\n",
    "P = np.array([[0.2, 0.1, 0.7],\n",
    "              [0.3, 0.6, 0.1],\n",
    "              [0.1, 0.8, 0.1]])\n",
    "\n",
    "P_tensor = torch.from_numpy(P)\n",
    "\n",
    "num_samples = 10000\n",
    "\n",
    "sequences = sample_hmm(S, T, P_tensor, num_samples)"
   ],
   "metadata": {
    "id": "4EIffzky8dYB"
   },
   "execution_count": 29,
   "outputs": []
  },
  {
   "cell_type": "code",
   "source": [
    "sequences = np.array(sequences)\n",
    "unique_sequences, counts = np.unique(sequences, return_counts=True, axis=0)\n",
    "\n",
    "# Calculate the probability of each sequence\n",
    "probabilities = counts / len(sequences)\n",
    "\n",
    "print(len(unique_sequences))"
   ],
   "metadata": {
    "colab": {
     "base_uri": "https://localhost:8080/"
    },
    "id": "0JjSSKTuy_BP",
    "outputId": "fec58229-39de-4b13-b55b-b04dedb94519"
   },
   "execution_count": 30,
   "outputs": [
    {
     "output_type": "stream",
     "name": "stdout",
     "text": [
      "81\n"
     ]
    }
   ]
  },
  {
   "cell_type": "code",
   "source": [
    "x = np.array(range(1, len(unique_sequences)+1))\n",
    "\n",
    "fig1 = px.bar(x = x, y=counts/counts.sum(), title=\"Probabilities of getting the exact seqence of hidden Markov states\")\n",
    "fig1.update_layout(bargap=0.5, xaxis_title=\"sequence IDs\", yaxis_title=\"Probability\")\n",
    "fig1.show()"
   ],
   "metadata": {
    "colab": {
     "base_uri": "https://localhost:8080/",
     "height": 522
    },
    "id": "Xjqt2wSb-WNf",
    "outputId": "0a4c55c2-abbf-4ab1-ed8f-8c3e7b7e1dbb"
   },
   "execution_count": 31,
   "outputs": [
    {
     "output_type": "display_data",
     "data": {
      "image/svg+xml": "<svg class=\"main-svg\" xmlns=\"http://www.w3.org/2000/svg\" xmlns:xlink=\"http://www.w3.org/1999/xlink\" width=\"700\" height=\"500\" style=\"\" viewBox=\"0 0 700 500\"><rect x=\"0\" y=\"0\" width=\"700\" height=\"500\" style=\"fill: rgb(255, 255, 255); fill-opacity: 1;\"/><defs id=\"defs-141c85\"><g class=\"clips\"><clipPath id=\"clip141c85xyplot\" class=\"plotclip\"><rect width=\"540\" height=\"320\"/></clipPath><clipPath class=\"axesclip\" id=\"clip141c85x\"><rect x=\"80\" y=\"0\" width=\"540\" height=\"500\"/></clipPath><clipPath class=\"axesclip\" id=\"clip141c85y\"><rect x=\"0\" y=\"100\" width=\"700\" height=\"320\"/></clipPath><clipPath class=\"axesclip\" id=\"clip141c85xy\"><rect x=\"80\" y=\"100\" width=\"540\" height=\"320\"/></clipPath></g><g class=\"gradients\"/><g class=\"patterns\"/></defs><g class=\"bglayer\"><rect class=\"bg\" x=\"80\" y=\"100\" width=\"540\" height=\"320\" style=\"fill: rgb(229, 236, 246); fill-opacity: 1; stroke-width: 0;\"/></g><g class=\"layer-below\"><g class=\"imagelayer\"/><g class=\"shapelayer\"/></g><g class=\"cartesianlayer\"><g class=\"subplot xy\"><g class=\"layer-subplot\"><g class=\"shapelayer\"/><g class=\"imagelayer\"/></g><g class=\"gridlayer\"><g class=\"x\"/><g class=\"y\"><path class=\"ygrid crisp\" transform=\"translate(0,365.18)\" d=\"M80,0h540\" style=\"stroke: rgb(255, 255, 255); stroke-opacity: 1; stroke-width: 1px;\"/><path class=\"ygrid crisp\" transform=\"translate(0,310.35)\" d=\"M80,0h540\" style=\"stroke: rgb(255, 255, 255); stroke-opacity: 1; stroke-width: 1px;\"/><path class=\"ygrid crisp\" transform=\"translate(0,255.53)\" d=\"M80,0h540\" style=\"stroke: rgb(255, 255, 255); stroke-opacity: 1; stroke-width: 1px;\"/><path class=\"ygrid crisp\" transform=\"translate(0,200.7)\" d=\"M80,0h540\" style=\"stroke: rgb(255, 255, 255); stroke-opacity: 1; stroke-width: 1px;\"/><path class=\"ygrid crisp\" transform=\"translate(0,145.88)\" d=\"M80,0h540\" style=\"stroke: rgb(255, 255, 255); stroke-opacity: 1; stroke-width: 1px;\"/></g></g><g class=\"zerolinelayer\"><path class=\"yzl zl crisp\" transform=\"translate(0,420)\" d=\"M80,0h540\" style=\"stroke: rgb(255, 255, 255); stroke-opacity: 1; stroke-width: 2px;\"/></g><path class=\"xlines-below\"/><path class=\"ylines-below\"/><g class=\"overlines-below\"/><g class=\"xaxislayer-below\"/><g class=\"yaxislayer-below\"/><g class=\"overaxes-below\"/><g class=\"plot\" transform=\"translate(80,100)\" clip-path=\"url(#clip141c85xyplot)\"><g class=\"barlayer mlayer\"><g class=\"trace bars\" style=\"opacity: 1;\"><g class=\"points\"><g class=\"point\"><path d=\"M1.67,320V312.05H5V320Z\" style=\"vector-effect: non-scaling-stroke; opacity: 1; stroke-width: 0.5px; fill: rgb(99, 110, 250); fill-opacity: 1; stroke: rgb(229, 236, 246); stroke-opacity: 1;\"/></g><g class=\"point\"><path d=\"M8.33,320V316.44H11.67V320Z\" style=\"vector-effect: non-scaling-stroke; opacity: 1; stroke-width: 0.5px; fill: rgb(99, 110, 250); fill-opacity: 1; stroke: rgb(229, 236, 246); stroke-opacity: 1;\"/></g><g class=\"point\"><path d=\"M15,320V294.51H18.33V320Z\" style=\"vector-effect: non-scaling-stroke; opacity: 1; stroke-width: 0.5px; fill: rgb(99, 110, 250); fill-opacity: 1; stroke: rgb(229, 236, 246); stroke-opacity: 1;\"/></g><g class=\"point\"><path d=\"M21.67,320V316.44H25V320Z\" style=\"vector-effect: non-scaling-stroke; opacity: 1; stroke-width: 0.5px; fill: rgb(99, 110, 250); fill-opacity: 1; stroke: rgb(229, 236, 246); stroke-opacity: 1;\"/></g><g class=\"point\"><path d=\"M28.33,320V308.76H31.67V320Z\" style=\"vector-effect: non-scaling-stroke; opacity: 1; stroke-width: 0.5px; fill: rgb(99, 110, 250); fill-opacity: 1; stroke: rgb(229, 236, 246); stroke-opacity: 1;\"/></g><g class=\"point\"><path d=\"M35,320V318.36H38.33V320Z\" style=\"vector-effect: non-scaling-stroke; opacity: 1; stroke-width: 0.5px; fill: rgb(99, 110, 250); fill-opacity: 1; stroke: rgb(229, 236, 246); stroke-opacity: 1;\"/></g><g class=\"point\"><path d=\"M41.67,320V307.39H45V320Z\" style=\"vector-effect: non-scaling-stroke; opacity: 1; stroke-width: 0.5px; fill: rgb(99, 110, 250); fill-opacity: 1; stroke: rgb(229, 236, 246); stroke-opacity: 1;\"/></g><g class=\"point\"><path d=\"M48.33,320V207.88H51.67V320Z\" style=\"vector-effect: non-scaling-stroke; opacity: 1; stroke-width: 0.5px; fill: rgb(99, 110, 250); fill-opacity: 1; stroke: rgb(229, 236, 246); stroke-opacity: 1;\"/></g><g class=\"point\"><path d=\"M55,320V307.39H58.33V320Z\" style=\"vector-effect: non-scaling-stroke; opacity: 1; stroke-width: 0.5px; fill: rgb(99, 110, 250); fill-opacity: 1; stroke: rgb(229, 236, 246); stroke-opacity: 1;\"/></g><g class=\"point\"><path d=\"M61.67,320V314.79H65V320Z\" style=\"vector-effect: non-scaling-stroke; opacity: 1; stroke-width: 0.5px; fill: rgb(99, 110, 250); fill-opacity: 1; stroke: rgb(229, 236, 246); stroke-opacity: 1;\"/></g><g class=\"point\"><path d=\"M68.33,320V316.98H71.67V320Z\" style=\"vector-effect: non-scaling-stroke; opacity: 1; stroke-width: 0.5px; fill: rgb(99, 110, 250); fill-opacity: 1; stroke: rgb(229, 236, 246); stroke-opacity: 1;\"/></g><g class=\"point\"><path d=\"M75,320V301.36H78.33V320Z\" style=\"vector-effect: non-scaling-stroke; opacity: 1; stroke-width: 0.5px; fill: rgb(99, 110, 250); fill-opacity: 1; stroke: rgb(229, 236, 246); stroke-opacity: 1;\"/></g><g class=\"point\"><path d=\"M81.67,320V303H85V320Z\" style=\"vector-effect: non-scaling-stroke; opacity: 1; stroke-width: 0.5px; fill: rgb(99, 110, 250); fill-opacity: 1; stroke: rgb(229, 236, 246); stroke-opacity: 1;\"/></g><g class=\"point\"><path d=\"M88.33,320V283.27H91.67V320Z\" style=\"vector-effect: non-scaling-stroke; opacity: 1; stroke-width: 0.5px; fill: rgb(99, 110, 250); fill-opacity: 1; stroke: rgb(229, 236, 246); stroke-opacity: 1;\"/></g><g class=\"point\"><path d=\"M95,320V313.97H98.33V320Z\" style=\"vector-effect: non-scaling-stroke; opacity: 1; stroke-width: 0.5px; fill: rgb(99, 110, 250); fill-opacity: 1; stroke: rgb(229, 236, 246); stroke-opacity: 1;\"/></g><g class=\"point\"><path d=\"M101.67,320V318.9H105V320Z\" style=\"vector-effect: non-scaling-stroke; opacity: 1; stroke-width: 0.5px; fill: rgb(99, 110, 250); fill-opacity: 1; stroke: rgb(229, 236, 246); stroke-opacity: 1;\"/></g><g class=\"point\"><path d=\"M108.33,320V312.32H111.67V320Z\" style=\"vector-effect: non-scaling-stroke; opacity: 1; stroke-width: 0.5px; fill: rgb(99, 110, 250); fill-opacity: 1; stroke: rgb(229, 236, 246); stroke-opacity: 1;\"/></g><g class=\"point\"><path d=\"M115,320V318.9H118.33V320Z\" style=\"vector-effect: non-scaling-stroke; opacity: 1; stroke-width: 0.5px; fill: rgb(99, 110, 250); fill-opacity: 1; stroke: rgb(229, 236, 246); stroke-opacity: 1;\"/></g><g class=\"point\"><path d=\"M121.67,320V304.92H125V320Z\" style=\"vector-effect: non-scaling-stroke; opacity: 1; stroke-width: 0.5px; fill: rgb(99, 110, 250); fill-opacity: 1; stroke: rgb(229, 236, 246); stroke-opacity: 1;\"/></g><g class=\"point\"><path d=\"M128.33,320V314.52H131.67V320Z\" style=\"vector-effect: non-scaling-stroke; opacity: 1; stroke-width: 0.5px; fill: rgb(99, 110, 250); fill-opacity: 1; stroke: rgb(229, 236, 246); stroke-opacity: 1;\"/></g><g class=\"point\"><path d=\"M135,320V278.61H138.33V320Z\" style=\"vector-effect: non-scaling-stroke; opacity: 1; stroke-width: 0.5px; fill: rgb(99, 110, 250); fill-opacity: 1; stroke: rgb(229, 236, 246); stroke-opacity: 1;\"/></g><g class=\"point\"><path d=\"M141.67,320V164.57H145V320Z\" style=\"vector-effect: non-scaling-stroke; opacity: 1; stroke-width: 0.5px; fill: rgb(99, 110, 250); fill-opacity: 1; stroke: rgb(229, 236, 246); stroke-opacity: 1;\"/></g><g class=\"point\"><path d=\"M148.33,320V16H151.67V320Z\" style=\"vector-effect: non-scaling-stroke; opacity: 1; stroke-width: 0.5px; fill: rgb(99, 110, 250); fill-opacity: 1; stroke: rgb(229, 236, 246); stroke-opacity: 1;\"/></g><g class=\"point\"><path d=\"M155,320V270.66H158.33V320Z\" style=\"vector-effect: non-scaling-stroke; opacity: 1; stroke-width: 0.5px; fill: rgb(99, 110, 250); fill-opacity: 1; stroke: rgb(229, 236, 246); stroke-opacity: 1;\"/></g><g class=\"point\"><path d=\"M161.67,320V314.52H165V320Z\" style=\"vector-effect: non-scaling-stroke; opacity: 1; stroke-width: 0.5px; fill: rgb(99, 110, 250); fill-opacity: 1; stroke: rgb(229, 236, 246); stroke-opacity: 1;\"/></g><g class=\"point\"><path d=\"M168.33,320V270.93H171.67V320Z\" style=\"vector-effect: non-scaling-stroke; opacity: 1; stroke-width: 0.5px; fill: rgb(99, 110, 250); fill-opacity: 1; stroke: rgb(229, 236, 246); stroke-opacity: 1;\"/></g><g class=\"point\"><path d=\"M175,320V314.52H178.33V320Z\" style=\"vector-effect: non-scaling-stroke; opacity: 1; stroke-width: 0.5px; fill: rgb(99, 110, 250); fill-opacity: 1; stroke: rgb(229, 236, 246); stroke-opacity: 1;\"/></g><g class=\"point\"><path d=\"M181.67,320V307.66H185V320Z\" style=\"vector-effect: non-scaling-stroke; opacity: 1; stroke-width: 0.5px; fill: rgb(99, 110, 250); fill-opacity: 1; stroke: rgb(229, 236, 246); stroke-opacity: 1;\"/></g><g class=\"point\"><path d=\"M188.33,320V313.42H191.67V320Z\" style=\"vector-effect: non-scaling-stroke; opacity: 1; stroke-width: 0.5px; fill: rgb(99, 110, 250); fill-opacity: 1; stroke: rgb(229, 236, 246); stroke-opacity: 1;\"/></g><g class=\"point\"><path d=\"M195,320V278.61H198.33V320Z\" style=\"vector-effect: non-scaling-stroke; opacity: 1; stroke-width: 0.5px; fill: rgb(99, 110, 250); fill-opacity: 1; stroke: rgb(229, 236, 246); stroke-opacity: 1;\"/></g><g class=\"point\"><path d=\"M201.67,320V313.42H205V320Z\" style=\"vector-effect: non-scaling-stroke; opacity: 1; stroke-width: 0.5px; fill: rgb(99, 110, 250); fill-opacity: 1; stroke: rgb(229, 236, 246); stroke-opacity: 1;\"/></g><g class=\"point\"><path d=\"M208.33,320V302.73H211.67V320Z\" style=\"vector-effect: non-scaling-stroke; opacity: 1; stroke-width: 0.5px; fill: rgb(99, 110, 250); fill-opacity: 1; stroke: rgb(229, 236, 246); stroke-opacity: 1;\"/></g><g class=\"point\"><path d=\"M215,320V318.08H218.33V320Z\" style=\"vector-effect: non-scaling-stroke; opacity: 1; stroke-width: 0.5px; fill: rgb(99, 110, 250); fill-opacity: 1; stroke: rgb(229, 236, 246); stroke-opacity: 1;\"/></g><g class=\"point\"><path d=\"M221.67,320V299.17H225V320Z\" style=\"vector-effect: non-scaling-stroke; opacity: 1; stroke-width: 0.5px; fill: rgb(99, 110, 250); fill-opacity: 1; stroke: rgb(229, 236, 246); stroke-opacity: 1;\"/></g><g class=\"point\"><path d=\"M228.33,320V171.15H231.67V320Z\" style=\"vector-effect: non-scaling-stroke; opacity: 1; stroke-width: 0.5px; fill: rgb(99, 110, 250); fill-opacity: 1; stroke: rgb(229, 236, 246); stroke-opacity: 1;\"/></g><g class=\"point\"><path d=\"M235,320V298.89H238.33V320Z\" style=\"vector-effect: non-scaling-stroke; opacity: 1; stroke-width: 0.5px; fill: rgb(99, 110, 250); fill-opacity: 1; stroke: rgb(229, 236, 246); stroke-opacity: 1;\"/></g><g class=\"point\"><path d=\"M241.67,320V285.46H245V320Z\" style=\"vector-effect: non-scaling-stroke; opacity: 1; stroke-width: 0.5px; fill: rgb(99, 110, 250); fill-opacity: 1; stroke: rgb(229, 236, 246); stroke-opacity: 1;\"/></g><g class=\"point\"><path d=\"M248.33,320V301.63H251.67V320Z\" style=\"vector-effect: non-scaling-stroke; opacity: 1; stroke-width: 0.5px; fill: rgb(99, 110, 250); fill-opacity: 1; stroke: rgb(229, 236, 246); stroke-opacity: 1;\"/></g><g class=\"point\"><path d=\"M255,320V202.13H258.33V320Z\" style=\"vector-effect: non-scaling-stroke; opacity: 1; stroke-width: 0.5px; fill: rgb(99, 110, 250); fill-opacity: 1; stroke: rgb(229, 236, 246); stroke-opacity: 1;\"/></g><g class=\"point\"><path d=\"M261.67,320V220.77H265V320Z\" style=\"vector-effect: non-scaling-stroke; opacity: 1; stroke-width: 0.5px; fill: rgb(99, 110, 250); fill-opacity: 1; stroke: rgb(229, 236, 246); stroke-opacity: 1;\"/></g><g class=\"point\"><path d=\"M268.33,320V130.31H271.67V320Z\" style=\"vector-effect: non-scaling-stroke; opacity: 1; stroke-width: 0.5px; fill: rgb(99, 110, 250); fill-opacity: 1; stroke: rgb(229, 236, 246); stroke-opacity: 1;\"/></g><g class=\"point\"><path d=\"M275,320V286.56H278.33V320Z\" style=\"vector-effect: non-scaling-stroke; opacity: 1; stroke-width: 0.5px; fill: rgb(99, 110, 250); fill-opacity: 1; stroke: rgb(229, 236, 246); stroke-opacity: 1;\"/></g><g class=\"point\"><path d=\"M281.67,320V313.15H285V320Z\" style=\"vector-effect: non-scaling-stroke; opacity: 1; stroke-width: 0.5px; fill: rgb(99, 110, 250); fill-opacity: 1; stroke: rgb(229, 236, 246); stroke-opacity: 1;\"/></g><g class=\"point\"><path d=\"M288.33,320V274.22H291.67V320Z\" style=\"vector-effect: non-scaling-stroke; opacity: 1; stroke-width: 0.5px; fill: rgb(99, 110, 250); fill-opacity: 1; stroke: rgb(229, 236, 246); stroke-opacity: 1;\"/></g><g class=\"point\"><path d=\"M295,320V313.97H298.33V320Z\" style=\"vector-effect: non-scaling-stroke; opacity: 1; stroke-width: 0.5px; fill: rgb(99, 110, 250); fill-opacity: 1; stroke: rgb(229, 236, 246); stroke-opacity: 1;\"/></g><g class=\"point\"><path d=\"M301.67,320V317.26H305V320Z\" style=\"vector-effect: non-scaling-stroke; opacity: 1; stroke-width: 0.5px; fill: rgb(99, 110, 250); fill-opacity: 1; stroke: rgb(229, 236, 246); stroke-opacity: 1;\"/></g><g class=\"point\"><path d=\"M308.33,320V319.18H311.67V320Z\" style=\"vector-effect: non-scaling-stroke; opacity: 1; stroke-width: 0.5px; fill: rgb(99, 110, 250); fill-opacity: 1; stroke: rgb(229, 236, 246); stroke-opacity: 1;\"/></g><g class=\"point\"><path d=\"M315,320V312.6H318.33V320Z\" style=\"vector-effect: non-scaling-stroke; opacity: 1; stroke-width: 0.5px; fill: rgb(99, 110, 250); fill-opacity: 1; stroke: rgb(229, 236, 246); stroke-opacity: 1;\"/></g><g class=\"point\"><path d=\"M321.67,320V299.17H325V320Z\" style=\"vector-effect: non-scaling-stroke; opacity: 1; stroke-width: 0.5px; fill: rgb(99, 110, 250); fill-opacity: 1; stroke: rgb(229, 236, 246); stroke-opacity: 1;\"/></g><g class=\"point\"><path d=\"M328.33,320V281.35H331.67V320Z\" style=\"vector-effect: non-scaling-stroke; opacity: 1; stroke-width: 0.5px; fill: rgb(99, 110, 250); fill-opacity: 1; stroke: rgb(229, 236, 246); stroke-opacity: 1;\"/></g><g class=\"point\"><path d=\"M335,320V311.5H338.33V320Z\" style=\"vector-effect: non-scaling-stroke; opacity: 1; stroke-width: 0.5px; fill: rgb(99, 110, 250); fill-opacity: 1; stroke: rgb(229, 236, 246); stroke-opacity: 1;\"/></g><g class=\"point\"><path d=\"M341.67,320V319.18H345V320Z\" style=\"vector-effect: non-scaling-stroke; opacity: 1; stroke-width: 0.5px; fill: rgb(99, 110, 250); fill-opacity: 1; stroke: rgb(229, 236, 246); stroke-opacity: 1;\"/></g><g class=\"point\"><path d=\"M348.33,320V311.78H351.67V320Z\" style=\"vector-effect: non-scaling-stroke; opacity: 1; stroke-width: 0.5px; fill: rgb(99, 110, 250); fill-opacity: 1; stroke: rgb(229, 236, 246); stroke-opacity: 1;\"/></g><g class=\"point\"><path d=\"M355,320V319.73H358.33V320Z\" style=\"vector-effect: non-scaling-stroke; opacity: 1; stroke-width: 0.5px; fill: rgb(99, 110, 250); fill-opacity: 1; stroke: rgb(229, 236, 246); stroke-opacity: 1;\"/></g><g class=\"point\"><path d=\"M361.67,320V317.26H365V320Z\" style=\"vector-effect: non-scaling-stroke; opacity: 1; stroke-width: 0.5px; fill: rgb(99, 110, 250); fill-opacity: 1; stroke: rgb(229, 236, 246); stroke-opacity: 1;\"/></g><g class=\"point\"><path d=\"M368.33,320V319.18H371.67V320Z\" style=\"vector-effect: non-scaling-stroke; opacity: 1; stroke-width: 0.5px; fill: rgb(99, 110, 250); fill-opacity: 1; stroke: rgb(229, 236, 246); stroke-opacity: 1;\"/></g><g class=\"point\"><path d=\"M375,320V307.12H378.33V320Z\" style=\"vector-effect: non-scaling-stroke; opacity: 1; stroke-width: 0.5px; fill: rgb(99, 110, 250); fill-opacity: 1; stroke: rgb(229, 236, 246); stroke-opacity: 1;\"/></g><g class=\"point\"><path d=\"M381.67,320V318.36H385V320Z\" style=\"vector-effect: non-scaling-stroke; opacity: 1; stroke-width: 0.5px; fill: rgb(99, 110, 250); fill-opacity: 1; stroke: rgb(229, 236, 246); stroke-opacity: 1;\"/></g><g class=\"point\"><path d=\"M388.33,320V315.61H391.67V320Z\" style=\"vector-effect: non-scaling-stroke; opacity: 1; stroke-width: 0.5px; fill: rgb(99, 110, 250); fill-opacity: 1; stroke: rgb(229, 236, 246); stroke-opacity: 1;\"/></g><g class=\"point\"><path d=\"M395,320V319.73H398.33V320Z\" style=\"vector-effect: non-scaling-stroke; opacity: 1; stroke-width: 0.5px; fill: rgb(99, 110, 250); fill-opacity: 1; stroke: rgb(229, 236, 246); stroke-opacity: 1;\"/></g><g class=\"point\"><path d=\"M401.67,320V313.15H405V320Z\" style=\"vector-effect: non-scaling-stroke; opacity: 1; stroke-width: 0.5px; fill: rgb(99, 110, 250); fill-opacity: 1; stroke: rgb(229, 236, 246); stroke-opacity: 1;\"/></g><g class=\"point\"><path d=\"M408.33,320V268.47H411.67V320Z\" style=\"vector-effect: non-scaling-stroke; opacity: 1; stroke-width: 0.5px; fill: rgb(99, 110, 250); fill-opacity: 1; stroke: rgb(229, 236, 246); stroke-opacity: 1;\"/></g><g class=\"point\"><path d=\"M415,320V311.78H418.33V320Z\" style=\"vector-effect: non-scaling-stroke; opacity: 1; stroke-width: 0.5px; fill: rgb(99, 110, 250); fill-opacity: 1; stroke: rgb(229, 236, 246); stroke-opacity: 1;\"/></g><g class=\"point\"><path d=\"M421.67,320V273.67H425V320Z\" style=\"vector-effect: non-scaling-stroke; opacity: 1; stroke-width: 0.5px; fill: rgb(99, 110, 250); fill-opacity: 1; stroke: rgb(229, 236, 246); stroke-opacity: 1;\"/></g><g class=\"point\"><path d=\"M428.33,320V300.26H431.67V320Z\" style=\"vector-effect: non-scaling-stroke; opacity: 1; stroke-width: 0.5px; fill: rgb(99, 110, 250); fill-opacity: 1; stroke: rgb(229, 236, 246); stroke-opacity: 1;\"/></g><g class=\"point\"><path d=\"M435,320V161.83H438.33V320Z\" style=\"vector-effect: non-scaling-stroke; opacity: 1; stroke-width: 0.5px; fill: rgb(99, 110, 250); fill-opacity: 1; stroke: rgb(229, 236, 246); stroke-opacity: 1;\"/></g><g class=\"point\"><path d=\"M441.67,320V194.45H445V320Z\" style=\"vector-effect: non-scaling-stroke; opacity: 1; stroke-width: 0.5px; fill: rgb(99, 110, 250); fill-opacity: 1; stroke: rgb(229, 236, 246); stroke-opacity: 1;\"/></g><g class=\"point\"><path d=\"M448.33,320V57.94H451.67V320Z\" style=\"vector-effect: non-scaling-stroke; opacity: 1; stroke-width: 0.5px; fill: rgb(99, 110, 250); fill-opacity: 1; stroke: rgb(229, 236, 246); stroke-opacity: 1;\"/></g><g class=\"point\"><path d=\"M455,320V273.4H458.33V320Z\" style=\"vector-effect: non-scaling-stroke; opacity: 1; stroke-width: 0.5px; fill: rgb(99, 110, 250); fill-opacity: 1; stroke: rgb(229, 236, 246); stroke-opacity: 1;\"/></g><g class=\"point\"><path d=\"M461.67,320V313.15H465V320Z\" style=\"vector-effect: non-scaling-stroke; opacity: 1; stroke-width: 0.5px; fill: rgb(99, 110, 250); fill-opacity: 1; stroke: rgb(229, 236, 246); stroke-opacity: 1;\"/></g><g class=\"point\"><path d=\"M468.33,320V265.45H471.67V320Z\" style=\"vector-effect: non-scaling-stroke; opacity: 1; stroke-width: 0.5px; fill: rgb(99, 110, 250); fill-opacity: 1; stroke: rgb(229, 236, 246); stroke-opacity: 1;\"/></g><g class=\"point\"><path d=\"M475,320V315.34H478.33V320Z\" style=\"vector-effect: non-scaling-stroke; opacity: 1; stroke-width: 0.5px; fill: rgb(99, 110, 250); fill-opacity: 1; stroke: rgb(229, 236, 246); stroke-opacity: 1;\"/></g><g class=\"point\"><path d=\"M481.67,320V317.53H485V320Z\" style=\"vector-effect: non-scaling-stroke; opacity: 1; stroke-width: 0.5px; fill: rgb(99, 110, 250); fill-opacity: 1; stroke: rgb(229, 236, 246); stroke-opacity: 1;\"/></g><g class=\"point\"><path d=\"M488.33,320V318.9H491.67V320Z\" style=\"vector-effect: non-scaling-stroke; opacity: 1; stroke-width: 0.5px; fill: rgb(99, 110, 250); fill-opacity: 1; stroke: rgb(229, 236, 246); stroke-opacity: 1;\"/></g><g class=\"point\"><path d=\"M495,320V310.95H498.33V320Z\" style=\"vector-effect: non-scaling-stroke; opacity: 1; stroke-width: 0.5px; fill: rgb(99, 110, 250); fill-opacity: 1; stroke: rgb(229, 236, 246); stroke-opacity: 1;\"/></g><g class=\"point\"><path d=\"M501.67,320V296.15H505V320Z\" style=\"vector-effect: non-scaling-stroke; opacity: 1; stroke-width: 0.5px; fill: rgb(99, 110, 250); fill-opacity: 1; stroke: rgb(229, 236, 246); stroke-opacity: 1;\"/></g><g class=\"point\"><path d=\"M508.33,320V278.06H511.67V320Z\" style=\"vector-effect: non-scaling-stroke; opacity: 1; stroke-width: 0.5px; fill: rgb(99, 110, 250); fill-opacity: 1; stroke: rgb(229, 236, 246); stroke-opacity: 1;\"/></g><g class=\"point\"><path d=\"M515,320V314.79H518.33V320Z\" style=\"vector-effect: non-scaling-stroke; opacity: 1; stroke-width: 0.5px; fill: rgb(99, 110, 250); fill-opacity: 1; stroke: rgb(229, 236, 246); stroke-opacity: 1;\"/></g><g class=\"point\"><path d=\"M521.67,320V319.45H525V320Z\" style=\"vector-effect: non-scaling-stroke; opacity: 1; stroke-width: 0.5px; fill: rgb(99, 110, 250); fill-opacity: 1; stroke: rgb(229, 236, 246); stroke-opacity: 1;\"/></g><g class=\"point\"><path d=\"M528.33,320V313.42H531.67V320Z\" style=\"vector-effect: non-scaling-stroke; opacity: 1; stroke-width: 0.5px; fill: rgb(99, 110, 250); fill-opacity: 1; stroke: rgb(229, 236, 246); stroke-opacity: 1;\"/></g><g class=\"point\"><path d=\"M535,320V318.36H538.33V320Z\" style=\"vector-effect: non-scaling-stroke; opacity: 1; stroke-width: 0.5px; fill: rgb(99, 110, 250); fill-opacity: 1; stroke: rgb(229, 236, 246); stroke-opacity: 1;\"/></g></g></g></g></g><g class=\"overplot\"/><path class=\"xlines-above crisp\" d=\"M0,0\" style=\"fill: none;\"/><path class=\"ylines-above crisp\" d=\"M0,0\" style=\"fill: none;\"/><g class=\"overlines-above\"/><g class=\"xaxislayer-above\"><g class=\"xtick\"><text text-anchor=\"middle\" x=\"0\" y=\"433\" transform=\"translate(210,0)\" style=\"font-family: 'Open Sans', verdana, arial, sans-serif; font-size: 12px; fill: rgb(42, 63, 95); fill-opacity: 1; white-space: pre; opacity: 1;\">20</text></g><g class=\"xtick\"><text text-anchor=\"middle\" x=\"0\" y=\"433\" style=\"font-family: 'Open Sans', verdana, arial, sans-serif; font-size: 12px; fill: rgb(42, 63, 95); fill-opacity: 1; white-space: pre; opacity: 1;\" transform=\"translate(343.33,0)\">40</text></g><g class=\"xtick\"><text text-anchor=\"middle\" x=\"0\" y=\"433\" style=\"font-family: 'Open Sans', verdana, arial, sans-serif; font-size: 12px; fill: rgb(42, 63, 95); fill-opacity: 1; white-space: pre; opacity: 1;\" transform=\"translate(476.67,0)\">60</text></g><g class=\"xtick\"><text text-anchor=\"middle\" x=\"0\" y=\"433\" style=\"font-family: 'Open Sans', verdana, arial, sans-serif; font-size: 12px; fill: rgb(42, 63, 95); fill-opacity: 1; white-space: pre; opacity: 1;\" transform=\"translate(610,0)\">80</text></g></g><g class=\"yaxislayer-above\"><g class=\"ytick\"><text text-anchor=\"end\" x=\"79\" y=\"4.199999999999999\" transform=\"translate(0,420)\" style=\"font-family: 'Open Sans', verdana, arial, sans-serif; font-size: 12px; fill: rgb(42, 63, 95); fill-opacity: 1; white-space: pre; opacity: 1;\">0</text></g><g class=\"ytick\"><text text-anchor=\"end\" x=\"79\" y=\"4.199999999999999\" style=\"font-family: 'Open Sans', verdana, arial, sans-serif; font-size: 12px; fill: rgb(42, 63, 95); fill-opacity: 1; white-space: pre; opacity: 1;\" transform=\"translate(0,365.18)\">0.02</text></g><g class=\"ytick\"><text text-anchor=\"end\" x=\"79\" y=\"4.199999999999999\" style=\"font-family: 'Open Sans', verdana, arial, sans-serif; font-size: 12px; fill: rgb(42, 63, 95); fill-opacity: 1; white-space: pre; opacity: 1;\" transform=\"translate(0,310.35)\">0.04</text></g><g class=\"ytick\"><text text-anchor=\"end\" x=\"79\" y=\"4.199999999999999\" style=\"font-family: 'Open Sans', verdana, arial, sans-serif; font-size: 12px; fill: rgb(42, 63, 95); fill-opacity: 1; white-space: pre; opacity: 1;\" transform=\"translate(0,255.53)\">0.06</text></g><g class=\"ytick\"><text text-anchor=\"end\" x=\"79\" y=\"4.199999999999999\" style=\"font-family: 'Open Sans', verdana, arial, sans-serif; font-size: 12px; fill: rgb(42, 63, 95); fill-opacity: 1; white-space: pre; opacity: 1;\" transform=\"translate(0,200.7)\">0.08</text></g><g class=\"ytick\"><text text-anchor=\"end\" x=\"79\" y=\"4.199999999999999\" style=\"font-family: 'Open Sans', verdana, arial, sans-serif; font-size: 12px; fill: rgb(42, 63, 95); fill-opacity: 1; white-space: pre; opacity: 1;\" transform=\"translate(0,145.88)\">0.1</text></g></g><g class=\"overaxes-above\"/></g></g><g class=\"polarlayer\"/><g class=\"smithlayer\"/><g class=\"ternarylayer\"/><g class=\"geolayer\"/><g class=\"funnelarealayer\"/><g class=\"pielayer\"/><g class=\"iciclelayer\"/><g class=\"treemaplayer\"/><g class=\"sunburstlayer\"/><g class=\"glimages\"/><defs id=\"topdefs-141c85\"><g class=\"clips\"/></defs><g class=\"layer-above\"><g class=\"imagelayer\"/><g class=\"shapelayer\"/></g><g class=\"infolayer\"><g class=\"g-gtitle\"><text class=\"gtitle\" x=\"35\" y=\"50\" text-anchor=\"start\" dy=\"0em\" style=\"font-family: 'Open Sans', verdana, arial, sans-serif; font-size: 17px; fill: rgb(42, 63, 95); opacity: 1; font-weight: normal; white-space: pre;\">Probabilities of getting the exact seqence of hidden Markov states</text></g><g class=\"g-xtitle\"><text class=\"xtitle\" x=\"350\" y=\"460.8\" text-anchor=\"middle\" style=\"font-family: 'Open Sans', verdana, arial, sans-serif; font-size: 14px; fill: rgb(42, 63, 95); opacity: 1; font-weight: normal; white-space: pre;\">sequence IDs</text></g><g class=\"g-ytitle\"><text class=\"ytitle\" transform=\"rotate(-90,30.840625000000003,260)\" x=\"30.840625000000003\" y=\"260\" text-anchor=\"middle\" style=\"font-family: 'Open Sans', verdana, arial, sans-serif; font-size: 14px; fill: rgb(42, 63, 95); opacity: 1; font-weight: normal; white-space: pre;\">Probability</text></g></g></svg>"
     },
     "metadata": {}
    }
   ]
  },
  {
   "cell_type": "markdown",
   "source": [
    "### (iii)"
   ],
   "metadata": {
    "id": "7EbSe4AT_aXd"
   }
  },
  {
   "cell_type": "markdown",
   "source": [
    "For this task, we will modify preiously implemented class HMM. Here we add new methods to sample y values and to calculate the likelihood."
   ],
   "metadata": {
    "id": "X6sXIynW_ndO"
   }
  },
  {
   "cell_type": "code",
   "source": [
    "class HMM2(HMM):\n",
    "  def __init__(self, S, T, pi, P):\n",
    "    self.S = S # number of possible states\n",
    "    self.T = T # length of the sequence\n",
    "    self.pi = pi # initial hidden state probabilities\n",
    "    self.P = P # transition probabilities matrix\n",
    "\n",
    "  def sample_y(self, current_state):\n",
    "    return np.random.normal(current_state+1, 1)\n",
    "\n",
    "  def likelihood(self, obs_y, current_state): # weights\n",
    "    return norm.pdf(obs_y, current_state, 1)\n",
    "\n",
    "  def sample(self, size):\n",
    "    Xs = []\n",
    "    Ys = []\n",
    "    for j in range(size):\n",
    "      X = [np.random.choice(range(self.S), p=self.pi)] # hidden\n",
    "      Y = [self.sample_y(X[0])] # observed\n",
    "\n",
    "      for i in range(self.T-1):\n",
    "        X.append(self.get_next_hidden_state(X[i-1]))\n",
    "        Y.append(self.sample_y(X[i]))\n",
    "\n",
    "      Xs.append(X)\n",
    "      Ys.append(Y)\n",
    "      \n",
    "    return Xs, Ys"
   ],
   "metadata": {
    "id": "OU25Nj6_-WQ1"
   },
   "execution_count": 32,
   "outputs": []
  },
  {
   "cell_type": "code",
   "source": [
    "# Number of states\n",
    "S = 4\n",
    "\n",
    "# Number of observations\n",
    "T = 6\n",
    "\n",
    "pi = np.ones(S) / S\n",
    "\n",
    "# Transition probability matrix\n",
    "P = [[0.1, 0.4, 0.3, 0.2],\n",
    "     [0.1, 0.1, 0.6, 0.2],\n",
    "     [0.1, 0.2, 0.5, 0.2],\n",
    "     [0.2, 0.3, 0.4, 0.1]]\n",
    "\n",
    "# Observations of y\n",
    "y = [0.5, 1.5, 0.9, 0, 2.5, 3]\n",
    "\n",
    "hmm2 = HMM2(S, T, pi, P)\n",
    "\n",
    "hidden, observed = hmm2.sample(10000)\n",
    "\n",
    "print(\"First 5 samples\")\n",
    "print(\"Hidden states: \", hidden[:5])\n",
    "print(\"Observed values: \", observed[:5])"
   ],
   "metadata": {
    "colab": {
     "base_uri": "https://localhost:8080/"
    },
    "id": "mkfOaYECAKAy",
    "outputId": "3f97ce1a-ed60-4cd8-c2e8-14c7853d7d79"
   },
   "execution_count": 33,
   "outputs": [
    {
     "output_type": "stream",
     "name": "stdout",
     "text": [
      "First 5 samples\n",
      "Hidden states:  [[2, 2, 2, 3, 3, 0], [2, 2, 2, 3, 3, 1], [3, 1, 2, 0, 2, 1], [0, 1, 1, 2, 3, 3], [0, 3, 3, 1, 0, 0]]\n",
      "Observed values:  [[3.6087306089796134, 2.333721799128445, 2.5484468845752155, 4.0755892452811615, 2.8042907440936435, 3.7797737992636913], [2.678843085124788, 2.3305103125622426, 2.327116474363514, 3.6260723089844396, 4.570920062552041, 4.1070913718412845], [4.54012079014403, 2.3932038235555213, 1.7873385721840267, 2.9256133715641957, 1.0461128274879068, 3.057099604990413], [3.3532656392478293, 0.6271543214766939, 1.244804069725601, 1.9340734355547058, 4.2518707968110485, 4.3191743299607115], [0.6625705961851664, 2.4546328417233627, 5.317290701871922, 3.9656097376655697, 2.69939713280784, 0.6275979017369118]]\n"
     ]
    }
   ]
  },
  {
   "cell_type": "markdown",
   "source": [
    "The modified program samples the sequences of hidden states based on the updated provided values of $S$, $T$ and $P$ from the task description."
   ],
   "metadata": {
    "id": "AG-HkDYIXxf_"
   }
  },
  {
   "cell_type": "markdown",
   "source": [
    "### (iv)"
   ],
   "metadata": {
    "id": "H_KZjcORFjMP"
   }
  },
  {
   "cell_type": "markdown",
   "source": [
    "In this part of the question we implement the third modified version of HMM. There are three main changes:\n",
    "- *get_next_hidden_state* method was replaced by *get_next_hidden_state_posterior*. Our task is to find posterior distribution of $X$ given the observed values $y$. Thus the probability of choosing the next state based on current given by transition probabilities matrix $P$ is now supplemented (or affected) by the likelihood of the observed values $y$ given the hidden state $x$. For each possible next state we calculate the likelihood based on observed values. Then, transition probabilities from hidden state $x_{t-1}$ to $x_t$ are multiplied by the likelihood and normalized. In this way, we compute the updeted posterior probabilities of moving from one state to another.\n",
    "\n",
    "- We also modified the probabilities for sampling the initial hidden state value. In the previous variant of the program it was sampled from the uniform probabilities (equal chance). Now, it is also changed by the likelihood (the same as in *get_next_hidden_state_posterior*). We are more likely to select the first hidden state as value $1$.\n",
    "\n",
    "- The last change is the method to transform the sampled chain to the matrix $X$ of the form described in the problem. Thus, we represent matrix $X$ as having $T$ rows ans $S$ columns and every row is a one-hot vector of the corresponding sampled hidden state at time $t$.\n",
    "\n",
    "Here is the program:"
   ],
   "metadata": {
    "id": "nGdvusHbYNwm"
   }
  },
  {
   "cell_type": "code",
   "source": [
    "class HMM3(HMM2):\n",
    "  def __init__(self, S, T, pi, P):\n",
    "    self.S = S # number of possible states\n",
    "    self.T = T # length of the sequence\n",
    "    self.pi = pi # initial hidden state probabilities\n",
    "    self.P = P # transition probabilities matrix\n",
    "\n",
    "  def get_next_hidden_state_posterior(self, current_state, observed_value):\n",
    "    posterior_probs = np.array([norm.pdf(observed_value, i, 1) for i in range(1, self.S+1)])\n",
    "    posterior_probs = posterior_probs / posterior_probs.sum()\n",
    "\n",
    "    posterior_next_probs = self.P[current_state] * posterior_probs\n",
    "    posterior_next_probs = posterior_next_probs / posterior_next_probs.sum()\n",
    "\n",
    "    next_state = np.random.choice(range(self.S), p=posterior_probs)\n",
    "    \n",
    "    return next_state\n",
    "\n",
    "  def represent_1_hot_hidden_states(self, X):\n",
    "    matrix = np.zeros((self.T, self.S))\n",
    "\n",
    "    for row in range(self.T):\n",
    "      matrix[row][X[row]] = 1\n",
    "\n",
    "    return matrix\n",
    "\n",
    "  def sample(self, size, observed):\n",
    "    Xs = []\n",
    "    Ys = []\n",
    "    for j in range(size):\n",
    "      posterior_initial_probs = np.array([norm.pdf(observed[0], i, 1) for i in range(1, self.S+1)])\n",
    "      posterior_initial_probs = posterior_initial_probs / posterior_initial_probs.sum()\n",
    "      X = [np.random.choice(range(self.S), p=posterior_initial_probs)] # hidden\n",
    "      Y = [self.sample_y(X[0])] # observed\n",
    "\n",
    "      for i in range(self.T-1):\n",
    "        X.append(self.get_next_hidden_state_posterior(X[i-1], observed[i+1]))\n",
    "        Y.append(self.sample_y(X[i]))\n",
    "\n",
    "      Xs.append(self.represent_1_hot_hidden_states(X))\n",
    "      Ys.append(Y)\n",
    "      \n",
    "    return Xs, Ys"
   ],
   "metadata": {
    "id": "O2__M80IB93p"
   },
   "execution_count": 34,
   "outputs": []
  },
  {
   "cell_type": "markdown",
   "source": [
    "Run sampling $10000$ times given previously defined observations $y$:"
   ],
   "metadata": {
    "id": "nwdlgQM6bxpB"
   }
  },
  {
   "cell_type": "code",
   "source": [
    "hmm3 = HMM3(S, T, pi, P)\n",
    "\n",
    "hidden, observed = hmm3.sample(10000, y)"
   ],
   "metadata": {
    "id": "9rEpnbxKKClX"
   },
   "execution_count": 35,
   "outputs": []
  },
  {
   "cell_type": "markdown",
   "source": [
    "Visualize the posterior distribution similarly as previously. Here we use only $1000$ for the easier analysis of the figure:"
   ],
   "metadata": {
    "id": "Mp5cHHczcFfF"
   }
  },
  {
   "cell_type": "code",
   "source": [
    "sequences = np.array(hidden[:1000])\n",
    "unique_sequences, counts = np.unique(sequences, return_counts=True, axis=0)\n",
    "\n",
    "# Calculate the probability of each sequence\n",
    "probabilities = counts / len(sequences)\n",
    "\n",
    "print(len(unique_sequences))"
   ],
   "metadata": {
    "colab": {
     "base_uri": "https://localhost:8080/"
    },
    "id": "Wh_N1e3BReU_",
    "outputId": "1a8f8eb3-8daa-4ed7-8b01-14dd7fdde146"
   },
   "execution_count": 40,
   "outputs": [
    {
     "output_type": "stream",
     "name": "stdout",
     "text": [
      "323\n"
     ]
    }
   ]
  },
  {
   "cell_type": "code",
   "source": [
    "x = np.array(range(1, len(unique_sequences)+1))\n",
    "\n",
    "fig1 = px.bar(x = x, y=counts/counts.sum(), title=\"Posterior probabilities of getting the exact sequence of hidden Markov states\")\n",
    "fig1.update_layout(bargap=0.5, xaxis_title=\"sequence IDs\", yaxis_title=\"Probability\", \n",
    "    autosize=False,\n",
    "    width=1000,\n",
    "    height=600)\n",
    "\n",
    "fig1.show()"
   ],
   "metadata": {
    "colab": {
     "base_uri": "https://localhost:8080/",
     "height": 622
    },
    "id": "ThnM1K7aRjjm",
    "outputId": "7aeada1c-8b7a-4542-d115-0729c46d9b95"
   },
   "execution_count": 41,
   "outputs": [
    {
     "output_type": "display_data",
     "data": {
      "image/svg+xml": "<svg class=\"main-svg\" xmlns=\"http://www.w3.org/2000/svg\" xmlns:xlink=\"http://www.w3.org/1999/xlink\" width=\"1000\" height=\"600\" style=\"\" viewBox=\"0 0 1000 600\"><rect x=\"0\" y=\"0\" width=\"1000\" height=\"600\" style=\"fill: rgb(255, 255, 255); fill-opacity: 1;\"/><defs id=\"defs-56acf6\"><g class=\"clips\"><clipPath id=\"clip56acf6xyplot\" class=\"plotclip\"><rect width=\"840\" height=\"420\"/></clipPath><clipPath class=\"axesclip\" id=\"clip56acf6x\"><rect x=\"80\" y=\"0\" width=\"840\" height=\"600\"/></clipPath><clipPath class=\"axesclip\" id=\"clip56acf6y\"><rect x=\"0\" y=\"100\" width=\"1000\" height=\"420\"/></clipPath><clipPath class=\"axesclip\" id=\"clip56acf6xy\"><rect x=\"80\" y=\"100\" width=\"840\" height=\"420\"/></clipPath></g><g class=\"gradients\"/><g class=\"patterns\"/></defs><g class=\"bglayer\"><rect class=\"bg\" x=\"80\" y=\"100\" width=\"840\" height=\"420\" style=\"fill: rgb(229, 236, 246); fill-opacity: 1; stroke-width: 0;\"/></g><g class=\"layer-below\"><g class=\"imagelayer\"/><g class=\"shapelayer\"/></g><g class=\"cartesianlayer\"><g class=\"subplot xy\"><g class=\"layer-subplot\"><g class=\"shapelayer\"/><g class=\"imagelayer\"/></g><g class=\"gridlayer\"><g class=\"x\"/><g class=\"y\"><path class=\"ygrid crisp\" transform=\"translate(0,446.11)\" d=\"M80,0h840\" style=\"stroke: rgb(255, 255, 255); stroke-opacity: 1; stroke-width: 1px;\"/><path class=\"ygrid crisp\" transform=\"translate(0,372.22)\" d=\"M80,0h840\" style=\"stroke: rgb(255, 255, 255); stroke-opacity: 1; stroke-width: 1px;\"/><path class=\"ygrid crisp\" transform=\"translate(0,298.33000000000004)\" d=\"M80,0h840\" style=\"stroke: rgb(255, 255, 255); stroke-opacity: 1; stroke-width: 1px;\"/><path class=\"ygrid crisp\" transform=\"translate(0,224.44)\" d=\"M80,0h840\" style=\"stroke: rgb(255, 255, 255); stroke-opacity: 1; stroke-width: 1px;\"/><path class=\"ygrid crisp\" transform=\"translate(0,150.56)\" d=\"M80,0h840\" style=\"stroke: rgb(255, 255, 255); stroke-opacity: 1; stroke-width: 1px;\"/></g></g><g class=\"zerolinelayer\"><path class=\"yzl zl crisp\" transform=\"translate(0,520)\" d=\"M80,0h840\" style=\"stroke: rgb(255, 255, 255); stroke-opacity: 1; stroke-width: 2px;\"/></g><path class=\"xlines-below\"/><path class=\"ylines-below\"/><g class=\"overlines-below\"/><g class=\"xaxislayer-below\"/><g class=\"yaxislayer-below\"/><g class=\"overaxes-below\"/><g class=\"plot\" transform=\"translate(80,100)\" clip-path=\"url(#clip56acf6xyplot)\"><g class=\"barlayer mlayer\"><g class=\"trace bars\" style=\"opacity: 1;\"><g class=\"points\"><g class=\"point\"><path d=\"M0.65,420V405.22H1.95V420Z\" style=\"vector-effect: non-scaling-stroke; opacity: 1; stroke-width: 0.5px; fill: rgb(99, 110, 250); fill-opacity: 1; stroke: rgb(229, 236, 246); stroke-opacity: 1;\"/></g><g class=\"point\"><path d=\"M3.25,420V405.22H4.55V420Z\" style=\"vector-effect: non-scaling-stroke; opacity: 1; stroke-width: 0.5px; fill: rgb(99, 110, 250); fill-opacity: 1; stroke: rgb(229, 236, 246); stroke-opacity: 1;\"/></g><g class=\"point\"><path d=\"M5.85,420V405.22H7.15V420Z\" style=\"vector-effect: non-scaling-stroke; opacity: 1; stroke-width: 0.5px; fill: rgb(99, 110, 250); fill-opacity: 1; stroke: rgb(229, 236, 246); stroke-opacity: 1;\"/></g><g class=\"point\"><path d=\"M8.45,420V405.22H9.75V420Z\" style=\"vector-effect: non-scaling-stroke; opacity: 1; stroke-width: 0.5px; fill: rgb(99, 110, 250); fill-opacity: 1; stroke: rgb(229, 236, 246); stroke-opacity: 1;\"/></g><g class=\"point\"><path d=\"M11.05,420V405.22H12.35V420Z\" style=\"vector-effect: non-scaling-stroke; opacity: 1; stroke-width: 0.5px; fill: rgb(99, 110, 250); fill-opacity: 1; stroke: rgb(229, 236, 246); stroke-opacity: 1;\"/></g><g class=\"point\"><path d=\"M13.65,420V405.22H14.95V420Z\" style=\"vector-effect: non-scaling-stroke; opacity: 1; stroke-width: 0.5px; fill: rgb(99, 110, 250); fill-opacity: 1; stroke: rgb(229, 236, 246); stroke-opacity: 1;\"/></g><g class=\"point\"><path d=\"M16.25,420V405.22H17.55V420Z\" style=\"vector-effect: non-scaling-stroke; opacity: 1; stroke-width: 0.5px; fill: rgb(99, 110, 250); fill-opacity: 1; stroke: rgb(229, 236, 246); stroke-opacity: 1;\"/></g><g class=\"point\"><path d=\"M18.85,420V405.22H20.15V420Z\" style=\"vector-effect: non-scaling-stroke; opacity: 1; stroke-width: 0.5px; fill: rgb(99, 110, 250); fill-opacity: 1; stroke: rgb(229, 236, 246); stroke-opacity: 1;\"/></g><g class=\"point\"><path d=\"M21.46,420V375.67H22.76V420Z\" style=\"vector-effect: non-scaling-stroke; opacity: 1; stroke-width: 0.5px; fill: rgb(99, 110, 250); fill-opacity: 1; stroke: rgb(229, 236, 246); stroke-opacity: 1;\"/></g><g class=\"point\"><path d=\"M24.06,420V405.22H25.36V420Z\" style=\"vector-effect: non-scaling-stroke; opacity: 1; stroke-width: 0.5px; fill: rgb(99, 110, 250); fill-opacity: 1; stroke: rgb(229, 236, 246); stroke-opacity: 1;\"/></g><g class=\"point\"><path d=\"M26.66,420V405.22H27.96V420Z\" style=\"vector-effect: non-scaling-stroke; opacity: 1; stroke-width: 0.5px; fill: rgb(99, 110, 250); fill-opacity: 1; stroke: rgb(229, 236, 246); stroke-opacity: 1;\"/></g><g class=\"point\"><path d=\"M29.26,420V375.67H30.56V420Z\" style=\"vector-effect: non-scaling-stroke; opacity: 1; stroke-width: 0.5px; fill: rgb(99, 110, 250); fill-opacity: 1; stroke: rgb(229, 236, 246); stroke-opacity: 1;\"/></g><g class=\"point\"><path d=\"M31.86,420V405.22H33.16V420Z\" style=\"vector-effect: non-scaling-stroke; opacity: 1; stroke-width: 0.5px; fill: rgb(99, 110, 250); fill-opacity: 1; stroke: rgb(229, 236, 246); stroke-opacity: 1;\"/></g><g class=\"point\"><path d=\"M34.46,420V390.44H35.76V420Z\" style=\"vector-effect: non-scaling-stroke; opacity: 1; stroke-width: 0.5px; fill: rgb(99, 110, 250); fill-opacity: 1; stroke: rgb(229, 236, 246); stroke-opacity: 1;\"/></g><g class=\"point\"><path d=\"M37.06,420V405.22H38.36V420Z\" style=\"vector-effect: non-scaling-stroke; opacity: 1; stroke-width: 0.5px; fill: rgb(99, 110, 250); fill-opacity: 1; stroke: rgb(229, 236, 246); stroke-opacity: 1;\"/></g><g class=\"point\"><path d=\"M39.66,420V390.44H40.96V420Z\" style=\"vector-effect: non-scaling-stroke; opacity: 1; stroke-width: 0.5px; fill: rgb(99, 110, 250); fill-opacity: 1; stroke: rgb(229, 236, 246); stroke-opacity: 1;\"/></g><g class=\"point\"><path d=\"M42.26,420V390.44H43.56V420Z\" style=\"vector-effect: non-scaling-stroke; opacity: 1; stroke-width: 0.5px; fill: rgb(99, 110, 250); fill-opacity: 1; stroke: rgb(229, 236, 246); stroke-opacity: 1;\"/></g><g class=\"point\"><path d=\"M44.86,420V405.22H46.16V420Z\" style=\"vector-effect: non-scaling-stroke; opacity: 1; stroke-width: 0.5px; fill: rgb(99, 110, 250); fill-opacity: 1; stroke: rgb(229, 236, 246); stroke-opacity: 1;\"/></g><g class=\"point\"><path d=\"M47.46,420V375.67H48.76V420Z\" style=\"vector-effect: non-scaling-stroke; opacity: 1; stroke-width: 0.5px; fill: rgb(99, 110, 250); fill-opacity: 1; stroke: rgb(229, 236, 246); stroke-opacity: 1;\"/></g><g class=\"point\"><path d=\"M50.06,420V405.22H51.36V420Z\" style=\"vector-effect: non-scaling-stroke; opacity: 1; stroke-width: 0.5px; fill: rgb(99, 110, 250); fill-opacity: 1; stroke: rgb(229, 236, 246); stroke-opacity: 1;\"/></g><g class=\"point\"><path d=\"M52.66,420V405.22H53.96V420Z\" style=\"vector-effect: non-scaling-stroke; opacity: 1; stroke-width: 0.5px; fill: rgb(99, 110, 250); fill-opacity: 1; stroke: rgb(229, 236, 246); stroke-opacity: 1;\"/></g><g class=\"point\"><path d=\"M55.26,420V405.22H56.56V420Z\" style=\"vector-effect: non-scaling-stroke; opacity: 1; stroke-width: 0.5px; fill: rgb(99, 110, 250); fill-opacity: 1; stroke: rgb(229, 236, 246); stroke-opacity: 1;\"/></g><g class=\"point\"><path d=\"M57.86,420V390.44H59.16V420Z\" style=\"vector-effect: non-scaling-stroke; opacity: 1; stroke-width: 0.5px; fill: rgb(99, 110, 250); fill-opacity: 1; stroke: rgb(229, 236, 246); stroke-opacity: 1;\"/></g><g class=\"point\"><path d=\"M60.46,420V405.22H61.76V420Z\" style=\"vector-effect: non-scaling-stroke; opacity: 1; stroke-width: 0.5px; fill: rgb(99, 110, 250); fill-opacity: 1; stroke: rgb(229, 236, 246); stroke-opacity: 1;\"/></g><g class=\"point\"><path d=\"M63.07,420V405.22H64.37V420Z\" style=\"vector-effect: non-scaling-stroke; opacity: 1; stroke-width: 0.5px; fill: rgb(99, 110, 250); fill-opacity: 1; stroke: rgb(229, 236, 246); stroke-opacity: 1;\"/></g><g class=\"point\"><path d=\"M65.67,420V405.22H66.97V420Z\" style=\"vector-effect: non-scaling-stroke; opacity: 1; stroke-width: 0.5px; fill: rgb(99, 110, 250); fill-opacity: 1; stroke: rgb(229, 236, 246); stroke-opacity: 1;\"/></g><g class=\"point\"><path d=\"M68.27,420V405.22H69.57V420Z\" style=\"vector-effect: non-scaling-stroke; opacity: 1; stroke-width: 0.5px; fill: rgb(99, 110, 250); fill-opacity: 1; stroke: rgb(229, 236, 246); stroke-opacity: 1;\"/></g><g class=\"point\"><path d=\"M70.87,420V375.67H72.17V420Z\" style=\"vector-effect: non-scaling-stroke; opacity: 1; stroke-width: 0.5px; fill: rgb(99, 110, 250); fill-opacity: 1; stroke: rgb(229, 236, 246); stroke-opacity: 1;\"/></g><g class=\"point\"><path d=\"M73.47,420V375.67H74.77V420Z\" style=\"vector-effect: non-scaling-stroke; opacity: 1; stroke-width: 0.5px; fill: rgb(99, 110, 250); fill-opacity: 1; stroke: rgb(229, 236, 246); stroke-opacity: 1;\"/></g><g class=\"point\"><path d=\"M76.07,420V390.44H77.37V420Z\" style=\"vector-effect: non-scaling-stroke; opacity: 1; stroke-width: 0.5px; fill: rgb(99, 110, 250); fill-opacity: 1; stroke: rgb(229, 236, 246); stroke-opacity: 1;\"/></g><g class=\"point\"><path d=\"M78.67,420V405.22H79.97V420Z\" style=\"vector-effect: non-scaling-stroke; opacity: 1; stroke-width: 0.5px; fill: rgb(99, 110, 250); fill-opacity: 1; stroke: rgb(229, 236, 246); stroke-opacity: 1;\"/></g><g class=\"point\"><path d=\"M81.27,420V405.22H82.57V420Z\" style=\"vector-effect: non-scaling-stroke; opacity: 1; stroke-width: 0.5px; fill: rgb(99, 110, 250); fill-opacity: 1; stroke: rgb(229, 236, 246); stroke-opacity: 1;\"/></g><g class=\"point\"><path d=\"M83.87,420V405.22H85.17V420Z\" style=\"vector-effect: non-scaling-stroke; opacity: 1; stroke-width: 0.5px; fill: rgb(99, 110, 250); fill-opacity: 1; stroke: rgb(229, 236, 246); stroke-opacity: 1;\"/></g><g class=\"point\"><path d=\"M86.47,420V405.22H87.77V420Z\" style=\"vector-effect: non-scaling-stroke; opacity: 1; stroke-width: 0.5px; fill: rgb(99, 110, 250); fill-opacity: 1; stroke: rgb(229, 236, 246); stroke-opacity: 1;\"/></g><g class=\"point\"><path d=\"M89.07,420V405.22H90.37V420Z\" style=\"vector-effect: non-scaling-stroke; opacity: 1; stroke-width: 0.5px; fill: rgb(99, 110, 250); fill-opacity: 1; stroke: rgb(229, 236, 246); stroke-opacity: 1;\"/></g><g class=\"point\"><path d=\"M91.67,420V405.22H92.97V420Z\" style=\"vector-effect: non-scaling-stroke; opacity: 1; stroke-width: 0.5px; fill: rgb(99, 110, 250); fill-opacity: 1; stroke: rgb(229, 236, 246); stroke-opacity: 1;\"/></g><g class=\"point\"><path d=\"M94.27,420V405.22H95.57V420Z\" style=\"vector-effect: non-scaling-stroke; opacity: 1; stroke-width: 0.5px; fill: rgb(99, 110, 250); fill-opacity: 1; stroke: rgb(229, 236, 246); stroke-opacity: 1;\"/></g><g class=\"point\"><path d=\"M96.87,420V405.22H98.17V420Z\" style=\"vector-effect: non-scaling-stroke; opacity: 1; stroke-width: 0.5px; fill: rgb(99, 110, 250); fill-opacity: 1; stroke: rgb(229, 236, 246); stroke-opacity: 1;\"/></g><g class=\"point\"><path d=\"M99.47,420V405.22H100.77V420Z\" style=\"vector-effect: non-scaling-stroke; opacity: 1; stroke-width: 0.5px; fill: rgb(99, 110, 250); fill-opacity: 1; stroke: rgb(229, 236, 246); stroke-opacity: 1;\"/></g><g class=\"point\"><path d=\"M102.07,420V405.22H103.37V420Z\" style=\"vector-effect: non-scaling-stroke; opacity: 1; stroke-width: 0.5px; fill: rgb(99, 110, 250); fill-opacity: 1; stroke: rgb(229, 236, 246); stroke-opacity: 1;\"/></g><g class=\"point\"><path d=\"M104.67,420V405.22H105.98V420Z\" style=\"vector-effect: non-scaling-stroke; opacity: 1; stroke-width: 0.5px; fill: rgb(99, 110, 250); fill-opacity: 1; stroke: rgb(229, 236, 246); stroke-opacity: 1;\"/></g><g class=\"point\"><path d=\"M107.28,420V405.22H108.58V420Z\" style=\"vector-effect: non-scaling-stroke; opacity: 1; stroke-width: 0.5px; fill: rgb(99, 110, 250); fill-opacity: 1; stroke: rgb(229, 236, 246); stroke-opacity: 1;\"/></g><g class=\"point\"><path d=\"M109.88,420V405.22H111.18V420Z\" style=\"vector-effect: non-scaling-stroke; opacity: 1; stroke-width: 0.5px; fill: rgb(99, 110, 250); fill-opacity: 1; stroke: rgb(229, 236, 246); stroke-opacity: 1;\"/></g><g class=\"point\"><path d=\"M112.48,420V390.44H113.78V420Z\" style=\"vector-effect: non-scaling-stroke; opacity: 1; stroke-width: 0.5px; fill: rgb(99, 110, 250); fill-opacity: 1; stroke: rgb(229, 236, 246); stroke-opacity: 1;\"/></g><g class=\"point\"><path d=\"M115.08,420V405.22H116.38V420Z\" style=\"vector-effect: non-scaling-stroke; opacity: 1; stroke-width: 0.5px; fill: rgb(99, 110, 250); fill-opacity: 1; stroke: rgb(229, 236, 246); stroke-opacity: 1;\"/></g><g class=\"point\"><path d=\"M117.68,420V405.22H118.98V420Z\" style=\"vector-effect: non-scaling-stroke; opacity: 1; stroke-width: 0.5px; fill: rgb(99, 110, 250); fill-opacity: 1; stroke: rgb(229, 236, 246); stroke-opacity: 1;\"/></g><g class=\"point\"><path d=\"M120.28,420V390.44H121.58V420Z\" style=\"vector-effect: non-scaling-stroke; opacity: 1; stroke-width: 0.5px; fill: rgb(99, 110, 250); fill-opacity: 1; stroke: rgb(229, 236, 246); stroke-opacity: 1;\"/></g><g class=\"point\"><path d=\"M122.88,420V375.67H124.18V420Z\" style=\"vector-effect: non-scaling-stroke; opacity: 1; stroke-width: 0.5px; fill: rgb(99, 110, 250); fill-opacity: 1; stroke: rgb(229, 236, 246); stroke-opacity: 1;\"/></g><g class=\"point\"><path d=\"M125.48,420V405.22H126.78V420Z\" style=\"vector-effect: non-scaling-stroke; opacity: 1; stroke-width: 0.5px; fill: rgb(99, 110, 250); fill-opacity: 1; stroke: rgb(229, 236, 246); stroke-opacity: 1;\"/></g><g class=\"point\"><path d=\"M128.08,420V405.22H129.38V420Z\" style=\"vector-effect: non-scaling-stroke; opacity: 1; stroke-width: 0.5px; fill: rgb(99, 110, 250); fill-opacity: 1; stroke: rgb(229, 236, 246); stroke-opacity: 1;\"/></g><g class=\"point\"><path d=\"M130.68,420V405.22H131.98V420Z\" style=\"vector-effect: non-scaling-stroke; opacity: 1; stroke-width: 0.5px; fill: rgb(99, 110, 250); fill-opacity: 1; stroke: rgb(229, 236, 246); stroke-opacity: 1;\"/></g><g class=\"point\"><path d=\"M133.28,420V405.22H134.58V420Z\" style=\"vector-effect: non-scaling-stroke; opacity: 1; stroke-width: 0.5px; fill: rgb(99, 110, 250); fill-opacity: 1; stroke: rgb(229, 236, 246); stroke-opacity: 1;\"/></g><g class=\"point\"><path d=\"M135.88,420V405.22H137.18V420Z\" style=\"vector-effect: non-scaling-stroke; opacity: 1; stroke-width: 0.5px; fill: rgb(99, 110, 250); fill-opacity: 1; stroke: rgb(229, 236, 246); stroke-opacity: 1;\"/></g><g class=\"point\"><path d=\"M138.48,420V390.44H139.78V420Z\" style=\"vector-effect: non-scaling-stroke; opacity: 1; stroke-width: 0.5px; fill: rgb(99, 110, 250); fill-opacity: 1; stroke: rgb(229, 236, 246); stroke-opacity: 1;\"/></g><g class=\"point\"><path d=\"M141.08,420V390.44H142.38V420Z\" style=\"vector-effect: non-scaling-stroke; opacity: 1; stroke-width: 0.5px; fill: rgb(99, 110, 250); fill-opacity: 1; stroke: rgb(229, 236, 246); stroke-opacity: 1;\"/></g><g class=\"point\"><path d=\"M143.68,420V405.22H144.98V420Z\" style=\"vector-effect: non-scaling-stroke; opacity: 1; stroke-width: 0.5px; fill: rgb(99, 110, 250); fill-opacity: 1; stroke: rgb(229, 236, 246); stroke-opacity: 1;\"/></g><g class=\"point\"><path d=\"M146.28,420V405.22H147.59V420Z\" style=\"vector-effect: non-scaling-stroke; opacity: 1; stroke-width: 0.5px; fill: rgb(99, 110, 250); fill-opacity: 1; stroke: rgb(229, 236, 246); stroke-opacity: 1;\"/></g><g class=\"point\"><path d=\"M148.89,420V405.22H150.19V420Z\" style=\"vector-effect: non-scaling-stroke; opacity: 1; stroke-width: 0.5px; fill: rgb(99, 110, 250); fill-opacity: 1; stroke: rgb(229, 236, 246); stroke-opacity: 1;\"/></g><g class=\"point\"><path d=\"M151.49,420V360.89H152.79V420Z\" style=\"vector-effect: non-scaling-stroke; opacity: 1; stroke-width: 0.5px; fill: rgb(99, 110, 250); fill-opacity: 1; stroke: rgb(229, 236, 246); stroke-opacity: 1;\"/></g><g class=\"point\"><path d=\"M154.09,420V405.22H155.39V420Z\" style=\"vector-effect: non-scaling-stroke; opacity: 1; stroke-width: 0.5px; fill: rgb(99, 110, 250); fill-opacity: 1; stroke: rgb(229, 236, 246); stroke-opacity: 1;\"/></g><g class=\"point\"><path d=\"M156.69,420V360.89H157.99V420Z\" style=\"vector-effect: non-scaling-stroke; opacity: 1; stroke-width: 0.5px; fill: rgb(99, 110, 250); fill-opacity: 1; stroke: rgb(229, 236, 246); stroke-opacity: 1;\"/></g><g class=\"point\"><path d=\"M159.29,420V390.44H160.59V420Z\" style=\"vector-effect: non-scaling-stroke; opacity: 1; stroke-width: 0.5px; fill: rgb(99, 110, 250); fill-opacity: 1; stroke: rgb(229, 236, 246); stroke-opacity: 1;\"/></g><g class=\"point\"><path d=\"M161.89,420V405.22H163.19V420Z\" style=\"vector-effect: non-scaling-stroke; opacity: 1; stroke-width: 0.5px; fill: rgb(99, 110, 250); fill-opacity: 1; stroke: rgb(229, 236, 246); stroke-opacity: 1;\"/></g><g class=\"point\"><path d=\"M164.49,420V405.22H165.79V420Z\" style=\"vector-effect: non-scaling-stroke; opacity: 1; stroke-width: 0.5px; fill: rgb(99, 110, 250); fill-opacity: 1; stroke: rgb(229, 236, 246); stroke-opacity: 1;\"/></g><g class=\"point\"><path d=\"M167.09,420V405.22H168.39V420Z\" style=\"vector-effect: non-scaling-stroke; opacity: 1; stroke-width: 0.5px; fill: rgb(99, 110, 250); fill-opacity: 1; stroke: rgb(229, 236, 246); stroke-opacity: 1;\"/></g><g class=\"point\"><path d=\"M169.69,420V405.22H170.99V420Z\" style=\"vector-effect: non-scaling-stroke; opacity: 1; stroke-width: 0.5px; fill: rgb(99, 110, 250); fill-opacity: 1; stroke: rgb(229, 236, 246); stroke-opacity: 1;\"/></g><g class=\"point\"><path d=\"M172.29,420V405.22H173.59V420Z\" style=\"vector-effect: non-scaling-stroke; opacity: 1; stroke-width: 0.5px; fill: rgb(99, 110, 250); fill-opacity: 1; stroke: rgb(229, 236, 246); stroke-opacity: 1;\"/></g><g class=\"point\"><path d=\"M174.89,420V375.67H176.19V420Z\" style=\"vector-effect: non-scaling-stroke; opacity: 1; stroke-width: 0.5px; fill: rgb(99, 110, 250); fill-opacity: 1; stroke: rgb(229, 236, 246); stroke-opacity: 1;\"/></g><g class=\"point\"><path d=\"M177.49,420V405.22H178.79V420Z\" style=\"vector-effect: non-scaling-stroke; opacity: 1; stroke-width: 0.5px; fill: rgb(99, 110, 250); fill-opacity: 1; stroke: rgb(229, 236, 246); stroke-opacity: 1;\"/></g><g class=\"point\"><path d=\"M180.09,420V390.44H181.39V420Z\" style=\"vector-effect: non-scaling-stroke; opacity: 1; stroke-width: 0.5px; fill: rgb(99, 110, 250); fill-opacity: 1; stroke: rgb(229, 236, 246); stroke-opacity: 1;\"/></g><g class=\"point\"><path d=\"M182.69,420V390.44H183.99V420Z\" style=\"vector-effect: non-scaling-stroke; opacity: 1; stroke-width: 0.5px; fill: rgb(99, 110, 250); fill-opacity: 1; stroke: rgb(229, 236, 246); stroke-opacity: 1;\"/></g><g class=\"point\"><path d=\"M185.29,420V360.89H186.59V420Z\" style=\"vector-effect: non-scaling-stroke; opacity: 1; stroke-width: 0.5px; fill: rgb(99, 110, 250); fill-opacity: 1; stroke: rgb(229, 236, 246); stroke-opacity: 1;\"/></g><g class=\"point\"><path d=\"M187.89,420V346.11H189.2V420Z\" style=\"vector-effect: non-scaling-stroke; opacity: 1; stroke-width: 0.5px; fill: rgb(99, 110, 250); fill-opacity: 1; stroke: rgb(229, 236, 246); stroke-opacity: 1;\"/></g><g class=\"point\"><path d=\"M190.5,420V405.22H191.8V420Z\" style=\"vector-effect: non-scaling-stroke; opacity: 1; stroke-width: 0.5px; fill: rgb(99, 110, 250); fill-opacity: 1; stroke: rgb(229, 236, 246); stroke-opacity: 1;\"/></g><g class=\"point\"><path d=\"M193.1,420V375.67H194.4V420Z\" style=\"vector-effect: non-scaling-stroke; opacity: 1; stroke-width: 0.5px; fill: rgb(99, 110, 250); fill-opacity: 1; stroke: rgb(229, 236, 246); stroke-opacity: 1;\"/></g><g class=\"point\"><path d=\"M195.7,420V360.89H197V420Z\" style=\"vector-effect: non-scaling-stroke; opacity: 1; stroke-width: 0.5px; fill: rgb(99, 110, 250); fill-opacity: 1; stroke: rgb(229, 236, 246); stroke-opacity: 1;\"/></g><g class=\"point\"><path d=\"M198.3,420V405.22H199.6V420Z\" style=\"vector-effect: non-scaling-stroke; opacity: 1; stroke-width: 0.5px; fill: rgb(99, 110, 250); fill-opacity: 1; stroke: rgb(229, 236, 246); stroke-opacity: 1;\"/></g><g class=\"point\"><path d=\"M200.9,420V390.44H202.2V420Z\" style=\"vector-effect: non-scaling-stroke; opacity: 1; stroke-width: 0.5px; fill: rgb(99, 110, 250); fill-opacity: 1; stroke: rgb(229, 236, 246); stroke-opacity: 1;\"/></g><g class=\"point\"><path d=\"M203.5,420V405.22H204.8V420Z\" style=\"vector-effect: non-scaling-stroke; opacity: 1; stroke-width: 0.5px; fill: rgb(99, 110, 250); fill-opacity: 1; stroke: rgb(229, 236, 246); stroke-opacity: 1;\"/></g><g class=\"point\"><path d=\"M206.1,420V405.22H207.4V420Z\" style=\"vector-effect: non-scaling-stroke; opacity: 1; stroke-width: 0.5px; fill: rgb(99, 110, 250); fill-opacity: 1; stroke: rgb(229, 236, 246); stroke-opacity: 1;\"/></g><g class=\"point\"><path d=\"M208.7,420V390.44H210V420Z\" style=\"vector-effect: non-scaling-stroke; opacity: 1; stroke-width: 0.5px; fill: rgb(99, 110, 250); fill-opacity: 1; stroke: rgb(229, 236, 246); stroke-opacity: 1;\"/></g><g class=\"point\"><path d=\"M211.3,420V405.22H212.6V420Z\" style=\"vector-effect: non-scaling-stroke; opacity: 1; stroke-width: 0.5px; fill: rgb(99, 110, 250); fill-opacity: 1; stroke: rgb(229, 236, 246); stroke-opacity: 1;\"/></g><g class=\"point\"><path d=\"M213.9,420V405.22H215.2V420Z\" style=\"vector-effect: non-scaling-stroke; opacity: 1; stroke-width: 0.5px; fill: rgb(99, 110, 250); fill-opacity: 1; stroke: rgb(229, 236, 246); stroke-opacity: 1;\"/></g><g class=\"point\"><path d=\"M216.5,420V375.67H217.8V420Z\" style=\"vector-effect: non-scaling-stroke; opacity: 1; stroke-width: 0.5px; fill: rgb(99, 110, 250); fill-opacity: 1; stroke: rgb(229, 236, 246); stroke-opacity: 1;\"/></g><g class=\"point\"><path d=\"M219.1,420V375.67H220.4V420Z\" style=\"vector-effect: non-scaling-stroke; opacity: 1; stroke-width: 0.5px; fill: rgb(99, 110, 250); fill-opacity: 1; stroke: rgb(229, 236, 246); stroke-opacity: 1;\"/></g><g class=\"point\"><path d=\"M221.7,420V405.22H223V420Z\" style=\"vector-effect: non-scaling-stroke; opacity: 1; stroke-width: 0.5px; fill: rgb(99, 110, 250); fill-opacity: 1; stroke: rgb(229, 236, 246); stroke-opacity: 1;\"/></g><g class=\"point\"><path d=\"M224.3,420V405.22H225.6V420Z\" style=\"vector-effect: non-scaling-stroke; opacity: 1; stroke-width: 0.5px; fill: rgb(99, 110, 250); fill-opacity: 1; stroke: rgb(229, 236, 246); stroke-opacity: 1;\"/></g><g class=\"point\"><path d=\"M226.9,420V405.22H228.2V420Z\" style=\"vector-effect: non-scaling-stroke; opacity: 1; stroke-width: 0.5px; fill: rgb(99, 110, 250); fill-opacity: 1; stroke: rgb(229, 236, 246); stroke-opacity: 1;\"/></g><g class=\"point\"><path d=\"M229.5,420V405.22H230.8V420Z\" style=\"vector-effect: non-scaling-stroke; opacity: 1; stroke-width: 0.5px; fill: rgb(99, 110, 250); fill-opacity: 1; stroke: rgb(229, 236, 246); stroke-opacity: 1;\"/></g><g class=\"point\"><path d=\"M232.11,420V390.44H233.41V420Z\" style=\"vector-effect: non-scaling-stroke; opacity: 1; stroke-width: 0.5px; fill: rgb(99, 110, 250); fill-opacity: 1; stroke: rgb(229, 236, 246); stroke-opacity: 1;\"/></g><g class=\"point\"><path d=\"M234.71,420V316.56H236.01V420Z\" style=\"vector-effect: non-scaling-stroke; opacity: 1; stroke-width: 0.5px; fill: rgb(99, 110, 250); fill-opacity: 1; stroke: rgb(229, 236, 246); stroke-opacity: 1;\"/></g><g class=\"point\"><path d=\"M237.31,420V360.89H238.61V420Z\" style=\"vector-effect: non-scaling-stroke; opacity: 1; stroke-width: 0.5px; fill: rgb(99, 110, 250); fill-opacity: 1; stroke: rgb(229, 236, 246); stroke-opacity: 1;\"/></g><g class=\"point\"><path d=\"M239.91,420V301.78H241.21V420Z\" style=\"vector-effect: non-scaling-stroke; opacity: 1; stroke-width: 0.5px; fill: rgb(99, 110, 250); fill-opacity: 1; stroke: rgb(229, 236, 246); stroke-opacity: 1;\"/></g><g class=\"point\"><path d=\"M242.51,420V198.33H243.81V420Z\" style=\"vector-effect: non-scaling-stroke; opacity: 1; stroke-width: 0.5px; fill: rgb(99, 110, 250); fill-opacity: 1; stroke: rgb(229, 236, 246); stroke-opacity: 1;\"/></g><g class=\"point\"><path d=\"M245.11,420V316.56H246.41V420Z\" style=\"vector-effect: non-scaling-stroke; opacity: 1; stroke-width: 0.5px; fill: rgb(99, 110, 250); fill-opacity: 1; stroke: rgb(229, 236, 246); stroke-opacity: 1;\"/></g><g class=\"point\"><path d=\"M247.71,420V331.33H249.01V420Z\" style=\"vector-effect: non-scaling-stroke; opacity: 1; stroke-width: 0.5px; fill: rgb(99, 110, 250); fill-opacity: 1; stroke: rgb(229, 236, 246); stroke-opacity: 1;\"/></g><g class=\"point\"><path d=\"M250.31,420V272.22H251.61V420Z\" style=\"vector-effect: non-scaling-stroke; opacity: 1; stroke-width: 0.5px; fill: rgb(99, 110, 250); fill-opacity: 1; stroke: rgb(229, 236, 246); stroke-opacity: 1;\"/></g><g class=\"point\"><path d=\"M252.91,420V360.89H254.21V420Z\" style=\"vector-effect: non-scaling-stroke; opacity: 1; stroke-width: 0.5px; fill: rgb(99, 110, 250); fill-opacity: 1; stroke: rgb(229, 236, 246); stroke-opacity: 1;\"/></g><g class=\"point\"><path d=\"M255.51,420V405.22H256.81V420Z\" style=\"vector-effect: non-scaling-stroke; opacity: 1; stroke-width: 0.5px; fill: rgb(99, 110, 250); fill-opacity: 1; stroke: rgb(229, 236, 246); stroke-opacity: 1;\"/></g><g class=\"point\"><path d=\"M258.11,420V390.44H259.41V420Z\" style=\"vector-effect: non-scaling-stroke; opacity: 1; stroke-width: 0.5px; fill: rgb(99, 110, 250); fill-opacity: 1; stroke: rgb(229, 236, 246); stroke-opacity: 1;\"/></g><g class=\"point\"><path d=\"M260.71,420V375.67H262.01V420Z\" style=\"vector-effect: non-scaling-stroke; opacity: 1; stroke-width: 0.5px; fill: rgb(99, 110, 250); fill-opacity: 1; stroke: rgb(229, 236, 246); stroke-opacity: 1;\"/></g><g class=\"point\"><path d=\"M263.31,420V405.22H264.61V420Z\" style=\"vector-effect: non-scaling-stroke; opacity: 1; stroke-width: 0.5px; fill: rgb(99, 110, 250); fill-opacity: 1; stroke: rgb(229, 236, 246); stroke-opacity: 1;\"/></g><g class=\"point\"><path d=\"M265.91,420V405.22H267.21V420Z\" style=\"vector-effect: non-scaling-stroke; opacity: 1; stroke-width: 0.5px; fill: rgb(99, 110, 250); fill-opacity: 1; stroke: rgb(229, 236, 246); stroke-opacity: 1;\"/></g><g class=\"point\"><path d=\"M268.51,420V405.22H269.81V420Z\" style=\"vector-effect: non-scaling-stroke; opacity: 1; stroke-width: 0.5px; fill: rgb(99, 110, 250); fill-opacity: 1; stroke: rgb(229, 236, 246); stroke-opacity: 1;\"/></g><g class=\"point\"><path d=\"M271.11,420V405.22H272.41V420Z\" style=\"vector-effect: non-scaling-stroke; opacity: 1; stroke-width: 0.5px; fill: rgb(99, 110, 250); fill-opacity: 1; stroke: rgb(229, 236, 246); stroke-opacity: 1;\"/></g><g class=\"point\"><path d=\"M273.72,420V405.22H275.02V420Z\" style=\"vector-effect: non-scaling-stroke; opacity: 1; stroke-width: 0.5px; fill: rgb(99, 110, 250); fill-opacity: 1; stroke: rgb(229, 236, 246); stroke-opacity: 1;\"/></g><g class=\"point\"><path d=\"M276.32,420V405.22H277.62V420Z\" style=\"vector-effect: non-scaling-stroke; opacity: 1; stroke-width: 0.5px; fill: rgb(99, 110, 250); fill-opacity: 1; stroke: rgb(229, 236, 246); stroke-opacity: 1;\"/></g><g class=\"point\"><path d=\"M278.92,420V405.22H280.22V420Z\" style=\"vector-effect: non-scaling-stroke; opacity: 1; stroke-width: 0.5px; fill: rgb(99, 110, 250); fill-opacity: 1; stroke: rgb(229, 236, 246); stroke-opacity: 1;\"/></g><g class=\"point\"><path d=\"M281.52,420V405.22H282.82V420Z\" style=\"vector-effect: non-scaling-stroke; opacity: 1; stroke-width: 0.5px; fill: rgb(99, 110, 250); fill-opacity: 1; stroke: rgb(229, 236, 246); stroke-opacity: 1;\"/></g><g class=\"point\"><path d=\"M284.12,420V405.22H285.42V420Z\" style=\"vector-effect: non-scaling-stroke; opacity: 1; stroke-width: 0.5px; fill: rgb(99, 110, 250); fill-opacity: 1; stroke: rgb(229, 236, 246); stroke-opacity: 1;\"/></g><g class=\"point\"><path d=\"M286.72,420V405.22H288.02V420Z\" style=\"vector-effect: non-scaling-stroke; opacity: 1; stroke-width: 0.5px; fill: rgb(99, 110, 250); fill-opacity: 1; stroke: rgb(229, 236, 246); stroke-opacity: 1;\"/></g><g class=\"point\"><path d=\"M289.32,420V405.22H290.62V420Z\" style=\"vector-effect: non-scaling-stroke; opacity: 1; stroke-width: 0.5px; fill: rgb(99, 110, 250); fill-opacity: 1; stroke: rgb(229, 236, 246); stroke-opacity: 1;\"/></g><g class=\"point\"><path d=\"M291.92,420V405.22H293.22V420Z\" style=\"vector-effect: non-scaling-stroke; opacity: 1; stroke-width: 0.5px; fill: rgb(99, 110, 250); fill-opacity: 1; stroke: rgb(229, 236, 246); stroke-opacity: 1;\"/></g><g class=\"point\"><path d=\"M294.52,420V390.44H295.82V420Z\" style=\"vector-effect: non-scaling-stroke; opacity: 1; stroke-width: 0.5px; fill: rgb(99, 110, 250); fill-opacity: 1; stroke: rgb(229, 236, 246); stroke-opacity: 1;\"/></g><g class=\"point\"><path d=\"M297.12,420V405.22H298.42V420Z\" style=\"vector-effect: non-scaling-stroke; opacity: 1; stroke-width: 0.5px; fill: rgb(99, 110, 250); fill-opacity: 1; stroke: rgb(229, 236, 246); stroke-opacity: 1;\"/></g><g class=\"point\"><path d=\"M299.72,420V405.22H301.02V420Z\" style=\"vector-effect: non-scaling-stroke; opacity: 1; stroke-width: 0.5px; fill: rgb(99, 110, 250); fill-opacity: 1; stroke: rgb(229, 236, 246); stroke-opacity: 1;\"/></g><g class=\"point\"><path d=\"M302.32,420V390.44H303.62V420Z\" style=\"vector-effect: non-scaling-stroke; opacity: 1; stroke-width: 0.5px; fill: rgb(99, 110, 250); fill-opacity: 1; stroke: rgb(229, 236, 246); stroke-opacity: 1;\"/></g><g class=\"point\"><path d=\"M304.92,420V360.89H306.22V420Z\" style=\"vector-effect: non-scaling-stroke; opacity: 1; stroke-width: 0.5px; fill: rgb(99, 110, 250); fill-opacity: 1; stroke: rgb(229, 236, 246); stroke-opacity: 1;\"/></g><g class=\"point\"><path d=\"M307.52,420V375.67H308.82V420Z\" style=\"vector-effect: non-scaling-stroke; opacity: 1; stroke-width: 0.5px; fill: rgb(99, 110, 250); fill-opacity: 1; stroke: rgb(229, 236, 246); stroke-opacity: 1;\"/></g><g class=\"point\"><path d=\"M310.12,420V360.89H311.42V420Z\" style=\"vector-effect: non-scaling-stroke; opacity: 1; stroke-width: 0.5px; fill: rgb(99, 110, 250); fill-opacity: 1; stroke: rgb(229, 236, 246); stroke-opacity: 1;\"/></g><g class=\"point\"><path d=\"M312.72,420V405.22H314.02V420Z\" style=\"vector-effect: non-scaling-stroke; opacity: 1; stroke-width: 0.5px; fill: rgb(99, 110, 250); fill-opacity: 1; stroke: rgb(229, 236, 246); stroke-opacity: 1;\"/></g><g class=\"point\"><path d=\"M315.33,420V405.22H316.63V420Z\" style=\"vector-effect: non-scaling-stroke; opacity: 1; stroke-width: 0.5px; fill: rgb(99, 110, 250); fill-opacity: 1; stroke: rgb(229, 236, 246); stroke-opacity: 1;\"/></g><g class=\"point\"><path d=\"M317.93,420V331.33H319.23V420Z\" style=\"vector-effect: non-scaling-stroke; opacity: 1; stroke-width: 0.5px; fill: rgb(99, 110, 250); fill-opacity: 1; stroke: rgb(229, 236, 246); stroke-opacity: 1;\"/></g><g class=\"point\"><path d=\"M320.53,420V346.11H321.83V420Z\" style=\"vector-effect: non-scaling-stroke; opacity: 1; stroke-width: 0.5px; fill: rgb(99, 110, 250); fill-opacity: 1; stroke: rgb(229, 236, 246); stroke-opacity: 1;\"/></g><g class=\"point\"><path d=\"M323.13,420V405.22H324.43V420Z\" style=\"vector-effect: non-scaling-stroke; opacity: 1; stroke-width: 0.5px; fill: rgb(99, 110, 250); fill-opacity: 1; stroke: rgb(229, 236, 246); stroke-opacity: 1;\"/></g><g class=\"point\"><path d=\"M325.73,420V405.22H327.03V420Z\" style=\"vector-effect: non-scaling-stroke; opacity: 1; stroke-width: 0.5px; fill: rgb(99, 110, 250); fill-opacity: 1; stroke: rgb(229, 236, 246); stroke-opacity: 1;\"/></g><g class=\"point\"><path d=\"M328.33,420V405.22H329.63V420Z\" style=\"vector-effect: non-scaling-stroke; opacity: 1; stroke-width: 0.5px; fill: rgb(99, 110, 250); fill-opacity: 1; stroke: rgb(229, 236, 246); stroke-opacity: 1;\"/></g><g class=\"point\"><path d=\"M330.93,420V405.22H332.23V420Z\" style=\"vector-effect: non-scaling-stroke; opacity: 1; stroke-width: 0.5px; fill: rgb(99, 110, 250); fill-opacity: 1; stroke: rgb(229, 236, 246); stroke-opacity: 1;\"/></g><g class=\"point\"><path d=\"M333.53,420V405.22H334.83V420Z\" style=\"vector-effect: non-scaling-stroke; opacity: 1; stroke-width: 0.5px; fill: rgb(99, 110, 250); fill-opacity: 1; stroke: rgb(229, 236, 246); stroke-opacity: 1;\"/></g><g class=\"point\"><path d=\"M336.13,420V405.22H337.43V420Z\" style=\"vector-effect: non-scaling-stroke; opacity: 1; stroke-width: 0.5px; fill: rgb(99, 110, 250); fill-opacity: 1; stroke: rgb(229, 236, 246); stroke-opacity: 1;\"/></g><g class=\"point\"><path d=\"M338.73,420V331.33H340.03V420Z\" style=\"vector-effect: non-scaling-stroke; opacity: 1; stroke-width: 0.5px; fill: rgb(99, 110, 250); fill-opacity: 1; stroke: rgb(229, 236, 246); stroke-opacity: 1;\"/></g><g class=\"point\"><path d=\"M341.33,420V405.22H342.63V420Z\" style=\"vector-effect: non-scaling-stroke; opacity: 1; stroke-width: 0.5px; fill: rgb(99, 110, 250); fill-opacity: 1; stroke: rgb(229, 236, 246); stroke-opacity: 1;\"/></g><g class=\"point\"><path d=\"M343.93,420V331.33H345.23V420Z\" style=\"vector-effect: non-scaling-stroke; opacity: 1; stroke-width: 0.5px; fill: rgb(99, 110, 250); fill-opacity: 1; stroke: rgb(229, 236, 246); stroke-opacity: 1;\"/></g><g class=\"point\"><path d=\"M346.53,420V360.89H347.83V420Z\" style=\"vector-effect: non-scaling-stroke; opacity: 1; stroke-width: 0.5px; fill: rgb(99, 110, 250); fill-opacity: 1; stroke: rgb(229, 236, 246); stroke-opacity: 1;\"/></g><g class=\"point\"><path d=\"M349.13,420V316.56H350.43V420Z\" style=\"vector-effect: non-scaling-stroke; opacity: 1; stroke-width: 0.5px; fill: rgb(99, 110, 250); fill-opacity: 1; stroke: rgb(229, 236, 246); stroke-opacity: 1;\"/></g><g class=\"point\"><path d=\"M351.73,420V405.22H353.03V420Z\" style=\"vector-effect: non-scaling-stroke; opacity: 1; stroke-width: 0.5px; fill: rgb(99, 110, 250); fill-opacity: 1; stroke: rgb(229, 236, 246); stroke-opacity: 1;\"/></g><g class=\"point\"><path d=\"M354.33,420V405.22H355.63V420Z\" style=\"vector-effect: non-scaling-stroke; opacity: 1; stroke-width: 0.5px; fill: rgb(99, 110, 250); fill-opacity: 1; stroke: rgb(229, 236, 246); stroke-opacity: 1;\"/></g><g class=\"point\"><path d=\"M356.93,420V360.89H358.24V420Z\" style=\"vector-effect: non-scaling-stroke; opacity: 1; stroke-width: 0.5px; fill: rgb(99, 110, 250); fill-opacity: 1; stroke: rgb(229, 236, 246); stroke-opacity: 1;\"/></g><g class=\"point\"><path d=\"M359.54,420V287H360.84V420Z\" style=\"vector-effect: non-scaling-stroke; opacity: 1; stroke-width: 0.5px; fill: rgb(99, 110, 250); fill-opacity: 1; stroke: rgb(229, 236, 246); stroke-opacity: 1;\"/></g><g class=\"point\"><path d=\"M362.14,420V375.67H363.44V420Z\" style=\"vector-effect: non-scaling-stroke; opacity: 1; stroke-width: 0.5px; fill: rgb(99, 110, 250); fill-opacity: 1; stroke: rgb(229, 236, 246); stroke-opacity: 1;\"/></g><g class=\"point\"><path d=\"M364.74,420V405.22H366.04V420Z\" style=\"vector-effect: non-scaling-stroke; opacity: 1; stroke-width: 0.5px; fill: rgb(99, 110, 250); fill-opacity: 1; stroke: rgb(229, 236, 246); stroke-opacity: 1;\"/></g><g class=\"point\"><path d=\"M367.34,420V346.11H368.64V420Z\" style=\"vector-effect: non-scaling-stroke; opacity: 1; stroke-width: 0.5px; fill: rgb(99, 110, 250); fill-opacity: 1; stroke: rgb(229, 236, 246); stroke-opacity: 1;\"/></g><g class=\"point\"><path d=\"M369.94,420V405.22H371.24V420Z\" style=\"vector-effect: non-scaling-stroke; opacity: 1; stroke-width: 0.5px; fill: rgb(99, 110, 250); fill-opacity: 1; stroke: rgb(229, 236, 246); stroke-opacity: 1;\"/></g><g class=\"point\"><path d=\"M372.54,420V405.22H373.84V420Z\" style=\"vector-effect: non-scaling-stroke; opacity: 1; stroke-width: 0.5px; fill: rgb(99, 110, 250); fill-opacity: 1; stroke: rgb(229, 236, 246); stroke-opacity: 1;\"/></g><g class=\"point\"><path d=\"M375.14,420V405.22H376.44V420Z\" style=\"vector-effect: non-scaling-stroke; opacity: 1; stroke-width: 0.5px; fill: rgb(99, 110, 250); fill-opacity: 1; stroke: rgb(229, 236, 246); stroke-opacity: 1;\"/></g><g class=\"point\"><path d=\"M377.74,420V390.44H379.04V420Z\" style=\"vector-effect: non-scaling-stroke; opacity: 1; stroke-width: 0.5px; fill: rgb(99, 110, 250); fill-opacity: 1; stroke: rgb(229, 236, 246); stroke-opacity: 1;\"/></g><g class=\"point\"><path d=\"M380.34,420V405.22H381.64V420Z\" style=\"vector-effect: non-scaling-stroke; opacity: 1; stroke-width: 0.5px; fill: rgb(99, 110, 250); fill-opacity: 1; stroke: rgb(229, 236, 246); stroke-opacity: 1;\"/></g><g class=\"point\"><path d=\"M382.94,420V405.22H384.24V420Z\" style=\"vector-effect: non-scaling-stroke; opacity: 1; stroke-width: 0.5px; fill: rgb(99, 110, 250); fill-opacity: 1; stroke: rgb(229, 236, 246); stroke-opacity: 1;\"/></g><g class=\"point\"><path d=\"M385.54,420V405.22H386.84V420Z\" style=\"vector-effect: non-scaling-stroke; opacity: 1; stroke-width: 0.5px; fill: rgb(99, 110, 250); fill-opacity: 1; stroke: rgb(229, 236, 246); stroke-opacity: 1;\"/></g><g class=\"point\"><path d=\"M388.14,420V405.22H389.44V420Z\" style=\"vector-effect: non-scaling-stroke; opacity: 1; stroke-width: 0.5px; fill: rgb(99, 110, 250); fill-opacity: 1; stroke: rgb(229, 236, 246); stroke-opacity: 1;\"/></g><g class=\"point\"><path d=\"M390.74,420V405.22H392.04V420Z\" style=\"vector-effect: non-scaling-stroke; opacity: 1; stroke-width: 0.5px; fill: rgb(99, 110, 250); fill-opacity: 1; stroke: rgb(229, 236, 246); stroke-opacity: 1;\"/></g><g class=\"point\"><path d=\"M393.34,420V375.67H394.64V420Z\" style=\"vector-effect: non-scaling-stroke; opacity: 1; stroke-width: 0.5px; fill: rgb(99, 110, 250); fill-opacity: 1; stroke: rgb(229, 236, 246); stroke-opacity: 1;\"/></g><g class=\"point\"><path d=\"M395.94,420V405.22H397.24V420Z\" style=\"vector-effect: non-scaling-stroke; opacity: 1; stroke-width: 0.5px; fill: rgb(99, 110, 250); fill-opacity: 1; stroke: rgb(229, 236, 246); stroke-opacity: 1;\"/></g><g class=\"point\"><path d=\"M398.54,420V405.22H399.85V420Z\" style=\"vector-effect: non-scaling-stroke; opacity: 1; stroke-width: 0.5px; fill: rgb(99, 110, 250); fill-opacity: 1; stroke: rgb(229, 236, 246); stroke-opacity: 1;\"/></g><g class=\"point\"><path d=\"M401.15,420V405.22H402.45V420Z\" style=\"vector-effect: non-scaling-stroke; opacity: 1; stroke-width: 0.5px; fill: rgb(99, 110, 250); fill-opacity: 1; stroke: rgb(229, 236, 246); stroke-opacity: 1;\"/></g><g class=\"point\"><path d=\"M403.75,420V405.22H405.05V420Z\" style=\"vector-effect: non-scaling-stroke; opacity: 1; stroke-width: 0.5px; fill: rgb(99, 110, 250); fill-opacity: 1; stroke: rgb(229, 236, 246); stroke-opacity: 1;\"/></g><g class=\"point\"><path d=\"M406.35,420V405.22H407.65V420Z\" style=\"vector-effect: non-scaling-stroke; opacity: 1; stroke-width: 0.5px; fill: rgb(99, 110, 250); fill-opacity: 1; stroke: rgb(229, 236, 246); stroke-opacity: 1;\"/></g><g class=\"point\"><path d=\"M408.95,420V405.22H410.25V420Z\" style=\"vector-effect: non-scaling-stroke; opacity: 1; stroke-width: 0.5px; fill: rgb(99, 110, 250); fill-opacity: 1; stroke: rgb(229, 236, 246); stroke-opacity: 1;\"/></g><g class=\"point\"><path d=\"M411.55,420V405.22H412.85V420Z\" style=\"vector-effect: non-scaling-stroke; opacity: 1; stroke-width: 0.5px; fill: rgb(99, 110, 250); fill-opacity: 1; stroke: rgb(229, 236, 246); stroke-opacity: 1;\"/></g><g class=\"point\"><path d=\"M414.15,420V390.44H415.45V420Z\" style=\"vector-effect: non-scaling-stroke; opacity: 1; stroke-width: 0.5px; fill: rgb(99, 110, 250); fill-opacity: 1; stroke: rgb(229, 236, 246); stroke-opacity: 1;\"/></g><g class=\"point\"><path d=\"M416.75,420V390.44H418.05V420Z\" style=\"vector-effect: non-scaling-stroke; opacity: 1; stroke-width: 0.5px; fill: rgb(99, 110, 250); fill-opacity: 1; stroke: rgb(229, 236, 246); stroke-opacity: 1;\"/></g><g class=\"point\"><path d=\"M419.35,420V375.67H420.65V420Z\" style=\"vector-effect: non-scaling-stroke; opacity: 1; stroke-width: 0.5px; fill: rgb(99, 110, 250); fill-opacity: 1; stroke: rgb(229, 236, 246); stroke-opacity: 1;\"/></g><g class=\"point\"><path d=\"M421.95,420V405.22H423.25V420Z\" style=\"vector-effect: non-scaling-stroke; opacity: 1; stroke-width: 0.5px; fill: rgb(99, 110, 250); fill-opacity: 1; stroke: rgb(229, 236, 246); stroke-opacity: 1;\"/></g><g class=\"point\"><path d=\"M424.55,420V405.22H425.85V420Z\" style=\"vector-effect: non-scaling-stroke; opacity: 1; stroke-width: 0.5px; fill: rgb(99, 110, 250); fill-opacity: 1; stroke: rgb(229, 236, 246); stroke-opacity: 1;\"/></g><g class=\"point\"><path d=\"M427.15,420V405.22H428.45V420Z\" style=\"vector-effect: non-scaling-stroke; opacity: 1; stroke-width: 0.5px; fill: rgb(99, 110, 250); fill-opacity: 1; stroke: rgb(229, 236, 246); stroke-opacity: 1;\"/></g><g class=\"point\"><path d=\"M429.75,420V390.44H431.05V420Z\" style=\"vector-effect: non-scaling-stroke; opacity: 1; stroke-width: 0.5px; fill: rgb(99, 110, 250); fill-opacity: 1; stroke: rgb(229, 236, 246); stroke-opacity: 1;\"/></g><g class=\"point\"><path d=\"M432.35,420V360.89H433.65V420Z\" style=\"vector-effect: non-scaling-stroke; opacity: 1; stroke-width: 0.5px; fill: rgb(99, 110, 250); fill-opacity: 1; stroke: rgb(229, 236, 246); stroke-opacity: 1;\"/></g><g class=\"point\"><path d=\"M434.95,420V390.44H436.25V420Z\" style=\"vector-effect: non-scaling-stroke; opacity: 1; stroke-width: 0.5px; fill: rgb(99, 110, 250); fill-opacity: 1; stroke: rgb(229, 236, 246); stroke-opacity: 1;\"/></g><g class=\"point\"><path d=\"M437.55,420V390.44H438.85V420Z\" style=\"vector-effect: non-scaling-stroke; opacity: 1; stroke-width: 0.5px; fill: rgb(99, 110, 250); fill-opacity: 1; stroke: rgb(229, 236, 246); stroke-opacity: 1;\"/></g><g class=\"point\"><path d=\"M440.15,420V360.89H441.46V420Z\" style=\"vector-effect: non-scaling-stroke; opacity: 1; stroke-width: 0.5px; fill: rgb(99, 110, 250); fill-opacity: 1; stroke: rgb(229, 236, 246); stroke-opacity: 1;\"/></g><g class=\"point\"><path d=\"M442.76,420V360.89H444.06V420Z\" style=\"vector-effect: non-scaling-stroke; opacity: 1; stroke-width: 0.5px; fill: rgb(99, 110, 250); fill-opacity: 1; stroke: rgb(229, 236, 246); stroke-opacity: 1;\"/></g><g class=\"point\"><path d=\"M445.36,420V390.44H446.66V420Z\" style=\"vector-effect: non-scaling-stroke; opacity: 1; stroke-width: 0.5px; fill: rgb(99, 110, 250); fill-opacity: 1; stroke: rgb(229, 236, 246); stroke-opacity: 1;\"/></g><g class=\"point\"><path d=\"M447.96,420V405.22H449.26V420Z\" style=\"vector-effect: non-scaling-stroke; opacity: 1; stroke-width: 0.5px; fill: rgb(99, 110, 250); fill-opacity: 1; stroke: rgb(229, 236, 246); stroke-opacity: 1;\"/></g><g class=\"point\"><path d=\"M450.56,420V405.22H451.86V420Z\" style=\"vector-effect: non-scaling-stroke; opacity: 1; stroke-width: 0.5px; fill: rgb(99, 110, 250); fill-opacity: 1; stroke: rgb(229, 236, 246); stroke-opacity: 1;\"/></g><g class=\"point\"><path d=\"M453.16,420V405.22H454.46V420Z\" style=\"vector-effect: non-scaling-stroke; opacity: 1; stroke-width: 0.5px; fill: rgb(99, 110, 250); fill-opacity: 1; stroke: rgb(229, 236, 246); stroke-opacity: 1;\"/></g><g class=\"point\"><path d=\"M455.76,420V405.22H457.06V420Z\" style=\"vector-effect: non-scaling-stroke; opacity: 1; stroke-width: 0.5px; fill: rgb(99, 110, 250); fill-opacity: 1; stroke: rgb(229, 236, 246); stroke-opacity: 1;\"/></g><g class=\"point\"><path d=\"M458.36,420V375.67H459.66V420Z\" style=\"vector-effect: non-scaling-stroke; opacity: 1; stroke-width: 0.5px; fill: rgb(99, 110, 250); fill-opacity: 1; stroke: rgb(229, 236, 246); stroke-opacity: 1;\"/></g><g class=\"point\"><path d=\"M460.96,420V390.44H462.26V420Z\" style=\"vector-effect: non-scaling-stroke; opacity: 1; stroke-width: 0.5px; fill: rgb(99, 110, 250); fill-opacity: 1; stroke: rgb(229, 236, 246); stroke-opacity: 1;\"/></g><g class=\"point\"><path d=\"M463.56,420V405.22H464.86V420Z\" style=\"vector-effect: non-scaling-stroke; opacity: 1; stroke-width: 0.5px; fill: rgb(99, 110, 250); fill-opacity: 1; stroke: rgb(229, 236, 246); stroke-opacity: 1;\"/></g><g class=\"point\"><path d=\"M466.16,420V375.67H467.46V420Z\" style=\"vector-effect: non-scaling-stroke; opacity: 1; stroke-width: 0.5px; fill: rgb(99, 110, 250); fill-opacity: 1; stroke: rgb(229, 236, 246); stroke-opacity: 1;\"/></g><g class=\"point\"><path d=\"M468.76,420V375.67H470.06V420Z\" style=\"vector-effect: non-scaling-stroke; opacity: 1; stroke-width: 0.5px; fill: rgb(99, 110, 250); fill-opacity: 1; stroke: rgb(229, 236, 246); stroke-opacity: 1;\"/></g><g class=\"point\"><path d=\"M471.36,420V375.67H472.66V420Z\" style=\"vector-effect: non-scaling-stroke; opacity: 1; stroke-width: 0.5px; fill: rgb(99, 110, 250); fill-opacity: 1; stroke: rgb(229, 236, 246); stroke-opacity: 1;\"/></g><g class=\"point\"><path d=\"M473.96,420V331.33H475.26V420Z\" style=\"vector-effect: non-scaling-stroke; opacity: 1; stroke-width: 0.5px; fill: rgb(99, 110, 250); fill-opacity: 1; stroke: rgb(229, 236, 246); stroke-opacity: 1;\"/></g><g class=\"point\"><path d=\"M476.56,420V316.56H477.86V420Z\" style=\"vector-effect: non-scaling-stroke; opacity: 1; stroke-width: 0.5px; fill: rgb(99, 110, 250); fill-opacity: 1; stroke: rgb(229, 236, 246); stroke-opacity: 1;\"/></g><g class=\"point\"><path d=\"M479.16,420V360.89H480.46V420Z\" style=\"vector-effect: non-scaling-stroke; opacity: 1; stroke-width: 0.5px; fill: rgb(99, 110, 250); fill-opacity: 1; stroke: rgb(229, 236, 246); stroke-opacity: 1;\"/></g><g class=\"point\"><path d=\"M481.76,420V360.89H483.07V420Z\" style=\"vector-effect: non-scaling-stroke; opacity: 1; stroke-width: 0.5px; fill: rgb(99, 110, 250); fill-opacity: 1; stroke: rgb(229, 236, 246); stroke-opacity: 1;\"/></g><g class=\"point\"><path d=\"M484.37,420V301.78H485.67V420Z\" style=\"vector-effect: non-scaling-stroke; opacity: 1; stroke-width: 0.5px; fill: rgb(99, 110, 250); fill-opacity: 1; stroke: rgb(229, 236, 246); stroke-opacity: 1;\"/></g><g class=\"point\"><path d=\"M486.97,420V346.11H488.27V420Z\" style=\"vector-effect: non-scaling-stroke; opacity: 1; stroke-width: 0.5px; fill: rgb(99, 110, 250); fill-opacity: 1; stroke: rgb(229, 236, 246); stroke-opacity: 1;\"/></g><g class=\"point\"><path d=\"M489.57,420V405.22H490.87V420Z\" style=\"vector-effect: non-scaling-stroke; opacity: 1; stroke-width: 0.5px; fill: rgb(99, 110, 250); fill-opacity: 1; stroke: rgb(229, 236, 246); stroke-opacity: 1;\"/></g><g class=\"point\"><path d=\"M492.17,420V375.67H493.47V420Z\" style=\"vector-effect: non-scaling-stroke; opacity: 1; stroke-width: 0.5px; fill: rgb(99, 110, 250); fill-opacity: 1; stroke: rgb(229, 236, 246); stroke-opacity: 1;\"/></g><g class=\"point\"><path d=\"M494.77,420V405.22H496.07V420Z\" style=\"vector-effect: non-scaling-stroke; opacity: 1; stroke-width: 0.5px; fill: rgb(99, 110, 250); fill-opacity: 1; stroke: rgb(229, 236, 246); stroke-opacity: 1;\"/></g><g class=\"point\"><path d=\"M497.37,420V390.44H498.67V420Z\" style=\"vector-effect: non-scaling-stroke; opacity: 1; stroke-width: 0.5px; fill: rgb(99, 110, 250); fill-opacity: 1; stroke: rgb(229, 236, 246); stroke-opacity: 1;\"/></g><g class=\"point\"><path d=\"M499.97,420V405.22H501.27V420Z\" style=\"vector-effect: non-scaling-stroke; opacity: 1; stroke-width: 0.5px; fill: rgb(99, 110, 250); fill-opacity: 1; stroke: rgb(229, 236, 246); stroke-opacity: 1;\"/></g><g class=\"point\"><path d=\"M502.57,420V405.22H503.87V420Z\" style=\"vector-effect: non-scaling-stroke; opacity: 1; stroke-width: 0.5px; fill: rgb(99, 110, 250); fill-opacity: 1; stroke: rgb(229, 236, 246); stroke-opacity: 1;\"/></g><g class=\"point\"><path d=\"M505.17,420V405.22H506.47V420Z\" style=\"vector-effect: non-scaling-stroke; opacity: 1; stroke-width: 0.5px; fill: rgb(99, 110, 250); fill-opacity: 1; stroke: rgb(229, 236, 246); stroke-opacity: 1;\"/></g><g class=\"point\"><path d=\"M507.77,420V405.22H509.07V420Z\" style=\"vector-effect: non-scaling-stroke; opacity: 1; stroke-width: 0.5px; fill: rgb(99, 110, 250); fill-opacity: 1; stroke: rgb(229, 236, 246); stroke-opacity: 1;\"/></g><g class=\"point\"><path d=\"M510.37,420V390.44H511.67V420Z\" style=\"vector-effect: non-scaling-stroke; opacity: 1; stroke-width: 0.5px; fill: rgb(99, 110, 250); fill-opacity: 1; stroke: rgb(229, 236, 246); stroke-opacity: 1;\"/></g><g class=\"point\"><path d=\"M512.97,420V405.22H514.27V420Z\" style=\"vector-effect: non-scaling-stroke; opacity: 1; stroke-width: 0.5px; fill: rgb(99, 110, 250); fill-opacity: 1; stroke: rgb(229, 236, 246); stroke-opacity: 1;\"/></g><g class=\"point\"><path d=\"M515.57,420V375.67H516.87V420Z\" style=\"vector-effect: non-scaling-stroke; opacity: 1; stroke-width: 0.5px; fill: rgb(99, 110, 250); fill-opacity: 1; stroke: rgb(229, 236, 246); stroke-opacity: 1;\"/></g><g class=\"point\"><path d=\"M518.17,420V390.44H519.47V420Z\" style=\"vector-effect: non-scaling-stroke; opacity: 1; stroke-width: 0.5px; fill: rgb(99, 110, 250); fill-opacity: 1; stroke: rgb(229, 236, 246); stroke-opacity: 1;\"/></g><g class=\"point\"><path d=\"M520.77,420V360.89H522.07V420Z\" style=\"vector-effect: non-scaling-stroke; opacity: 1; stroke-width: 0.5px; fill: rgb(99, 110, 250); fill-opacity: 1; stroke: rgb(229, 236, 246); stroke-opacity: 1;\"/></g><g class=\"point\"><path d=\"M523.37,420V375.67H524.67V420Z\" style=\"vector-effect: non-scaling-stroke; opacity: 1; stroke-width: 0.5px; fill: rgb(99, 110, 250); fill-opacity: 1; stroke: rgb(229, 236, 246); stroke-opacity: 1;\"/></g><g class=\"point\"><path d=\"M525.98,420V390.44H527.28V420Z\" style=\"vector-effect: non-scaling-stroke; opacity: 1; stroke-width: 0.5px; fill: rgb(99, 110, 250); fill-opacity: 1; stroke: rgb(229, 236, 246); stroke-opacity: 1;\"/></g><g class=\"point\"><path d=\"M528.58,420V405.22H529.88V420Z\" style=\"vector-effect: non-scaling-stroke; opacity: 1; stroke-width: 0.5px; fill: rgb(99, 110, 250); fill-opacity: 1; stroke: rgb(229, 236, 246); stroke-opacity: 1;\"/></g><g class=\"point\"><path d=\"M531.18,420V390.44H532.48V420Z\" style=\"vector-effect: non-scaling-stroke; opacity: 1; stroke-width: 0.5px; fill: rgb(99, 110, 250); fill-opacity: 1; stroke: rgb(229, 236, 246); stroke-opacity: 1;\"/></g><g class=\"point\"><path d=\"M533.78,420V405.22H535.08V420Z\" style=\"vector-effect: non-scaling-stroke; opacity: 1; stroke-width: 0.5px; fill: rgb(99, 110, 250); fill-opacity: 1; stroke: rgb(229, 236, 246); stroke-opacity: 1;\"/></g><g class=\"point\"><path d=\"M536.38,420V405.22H537.68V420Z\" style=\"vector-effect: non-scaling-stroke; opacity: 1; stroke-width: 0.5px; fill: rgb(99, 110, 250); fill-opacity: 1; stroke: rgb(229, 236, 246); stroke-opacity: 1;\"/></g><g class=\"point\"><path d=\"M538.98,420V375.67H540.28V420Z\" style=\"vector-effect: non-scaling-stroke; opacity: 1; stroke-width: 0.5px; fill: rgb(99, 110, 250); fill-opacity: 1; stroke: rgb(229, 236, 246); stroke-opacity: 1;\"/></g><g class=\"point\"><path d=\"M541.58,420V405.22H542.88V420Z\" style=\"vector-effect: non-scaling-stroke; opacity: 1; stroke-width: 0.5px; fill: rgb(99, 110, 250); fill-opacity: 1; stroke: rgb(229, 236, 246); stroke-opacity: 1;\"/></g><g class=\"point\"><path d=\"M544.18,420V375.67H545.48V420Z\" style=\"vector-effect: non-scaling-stroke; opacity: 1; stroke-width: 0.5px; fill: rgb(99, 110, 250); fill-opacity: 1; stroke: rgb(229, 236, 246); stroke-opacity: 1;\"/></g><g class=\"point\"><path d=\"M546.78,420V405.22H548.08V420Z\" style=\"vector-effect: non-scaling-stroke; opacity: 1; stroke-width: 0.5px; fill: rgb(99, 110, 250); fill-opacity: 1; stroke: rgb(229, 236, 246); stroke-opacity: 1;\"/></g><g class=\"point\"><path d=\"M549.38,420V405.22H550.68V420Z\" style=\"vector-effect: non-scaling-stroke; opacity: 1; stroke-width: 0.5px; fill: rgb(99, 110, 250); fill-opacity: 1; stroke: rgb(229, 236, 246); stroke-opacity: 1;\"/></g><g class=\"point\"><path d=\"M551.98,420V405.22H553.28V420Z\" style=\"vector-effect: non-scaling-stroke; opacity: 1; stroke-width: 0.5px; fill: rgb(99, 110, 250); fill-opacity: 1; stroke: rgb(229, 236, 246); stroke-opacity: 1;\"/></g><g class=\"point\"><path d=\"M554.58,420V346.11H555.88V420Z\" style=\"vector-effect: non-scaling-stroke; opacity: 1; stroke-width: 0.5px; fill: rgb(99, 110, 250); fill-opacity: 1; stroke: rgb(229, 236, 246); stroke-opacity: 1;\"/></g><g class=\"point\"><path d=\"M557.18,420V390.44H558.48V420Z\" style=\"vector-effect: non-scaling-stroke; opacity: 1; stroke-width: 0.5px; fill: rgb(99, 110, 250); fill-opacity: 1; stroke: rgb(229, 236, 246); stroke-opacity: 1;\"/></g><g class=\"point\"><path d=\"M559.78,420V390.44H561.08V420Z\" style=\"vector-effect: non-scaling-stroke; opacity: 1; stroke-width: 0.5px; fill: rgb(99, 110, 250); fill-opacity: 1; stroke: rgb(229, 236, 246); stroke-opacity: 1;\"/></g><g class=\"point\"><path d=\"M562.38,420V242.67H563.68V420Z\" style=\"vector-effect: non-scaling-stroke; opacity: 1; stroke-width: 0.5px; fill: rgb(99, 110, 250); fill-opacity: 1; stroke: rgb(229, 236, 246); stroke-opacity: 1;\"/></g><g class=\"point\"><path d=\"M564.98,420V301.78H566.28V420Z\" style=\"vector-effect: non-scaling-stroke; opacity: 1; stroke-width: 0.5px; fill: rgb(99, 110, 250); fill-opacity: 1; stroke: rgb(229, 236, 246); stroke-opacity: 1;\"/></g><g class=\"point\"><path d=\"M567.59,420V375.67H568.89V420Z\" style=\"vector-effect: non-scaling-stroke; opacity: 1; stroke-width: 0.5px; fill: rgb(99, 110, 250); fill-opacity: 1; stroke: rgb(229, 236, 246); stroke-opacity: 1;\"/></g><g class=\"point\"><path d=\"M570.19,420V301.78H571.49V420Z\" style=\"vector-effect: non-scaling-stroke; opacity: 1; stroke-width: 0.5px; fill: rgb(99, 110, 250); fill-opacity: 1; stroke: rgb(229, 236, 246); stroke-opacity: 1;\"/></g><g class=\"point\"><path d=\"M572.79,420V346.11H574.09V420Z\" style=\"vector-effect: non-scaling-stroke; opacity: 1; stroke-width: 0.5px; fill: rgb(99, 110, 250); fill-opacity: 1; stroke: rgb(229, 236, 246); stroke-opacity: 1;\"/></g><g class=\"point\"><path d=\"M575.39,420V346.11H576.69V420Z\" style=\"vector-effect: non-scaling-stroke; opacity: 1; stroke-width: 0.5px; fill: rgb(99, 110, 250); fill-opacity: 1; stroke: rgb(229, 236, 246); stroke-opacity: 1;\"/></g><g class=\"point\"><path d=\"M577.99,420V375.67H579.29V420Z\" style=\"vector-effect: non-scaling-stroke; opacity: 1; stroke-width: 0.5px; fill: rgb(99, 110, 250); fill-opacity: 1; stroke: rgb(229, 236, 246); stroke-opacity: 1;\"/></g><g class=\"point\"><path d=\"M580.59,420V390.44H581.89V420Z\" style=\"vector-effect: non-scaling-stroke; opacity: 1; stroke-width: 0.5px; fill: rgb(99, 110, 250); fill-opacity: 1; stroke: rgb(229, 236, 246); stroke-opacity: 1;\"/></g><g class=\"point\"><path d=\"M583.19,420V375.67H584.49V420Z\" style=\"vector-effect: non-scaling-stroke; opacity: 1; stroke-width: 0.5px; fill: rgb(99, 110, 250); fill-opacity: 1; stroke: rgb(229, 236, 246); stroke-opacity: 1;\"/></g><g class=\"point\"><path d=\"M585.79,420V346.11H587.09V420Z\" style=\"vector-effect: non-scaling-stroke; opacity: 1; stroke-width: 0.5px; fill: rgb(99, 110, 250); fill-opacity: 1; stroke: rgb(229, 236, 246); stroke-opacity: 1;\"/></g><g class=\"point\"><path d=\"M588.39,420V405.22H589.69V420Z\" style=\"vector-effect: non-scaling-stroke; opacity: 1; stroke-width: 0.5px; fill: rgb(99, 110, 250); fill-opacity: 1; stroke: rgb(229, 236, 246); stroke-opacity: 1;\"/></g><g class=\"point\"><path d=\"M590.99,420V405.22H592.29V420Z\" style=\"vector-effect: non-scaling-stroke; opacity: 1; stroke-width: 0.5px; fill: rgb(99, 110, 250); fill-opacity: 1; stroke: rgb(229, 236, 246); stroke-opacity: 1;\"/></g><g class=\"point\"><path d=\"M593.59,420V405.22H594.89V420Z\" style=\"vector-effect: non-scaling-stroke; opacity: 1; stroke-width: 0.5px; fill: rgb(99, 110, 250); fill-opacity: 1; stroke: rgb(229, 236, 246); stroke-opacity: 1;\"/></g><g class=\"point\"><path d=\"M596.19,420V405.22H597.49V420Z\" style=\"vector-effect: non-scaling-stroke; opacity: 1; stroke-width: 0.5px; fill: rgb(99, 110, 250); fill-opacity: 1; stroke: rgb(229, 236, 246); stroke-opacity: 1;\"/></g><g class=\"point\"><path d=\"M598.79,420V405.22H600.09V420Z\" style=\"vector-effect: non-scaling-stroke; opacity: 1; stroke-width: 0.5px; fill: rgb(99, 110, 250); fill-opacity: 1; stroke: rgb(229, 236, 246); stroke-opacity: 1;\"/></g><g class=\"point\"><path d=\"M601.39,420V405.22H602.69V420Z\" style=\"vector-effect: non-scaling-stroke; opacity: 1; stroke-width: 0.5px; fill: rgb(99, 110, 250); fill-opacity: 1; stroke: rgb(229, 236, 246); stroke-opacity: 1;\"/></g><g class=\"point\"><path d=\"M603.99,420V390.44H605.29V420Z\" style=\"vector-effect: non-scaling-stroke; opacity: 1; stroke-width: 0.5px; fill: rgb(99, 110, 250); fill-opacity: 1; stroke: rgb(229, 236, 246); stroke-opacity: 1;\"/></g><g class=\"point\"><path d=\"M606.59,420V390.44H607.89V420Z\" style=\"vector-effect: non-scaling-stroke; opacity: 1; stroke-width: 0.5px; fill: rgb(99, 110, 250); fill-opacity: 1; stroke: rgb(229, 236, 246); stroke-opacity: 1;\"/></g><g class=\"point\"><path d=\"M609.2,420V316.56H610.5V420Z\" style=\"vector-effect: non-scaling-stroke; opacity: 1; stroke-width: 0.5px; fill: rgb(99, 110, 250); fill-opacity: 1; stroke: rgb(229, 236, 246); stroke-opacity: 1;\"/></g><g class=\"point\"><path d=\"M611.8,420V405.22H613.1V420Z\" style=\"vector-effect: non-scaling-stroke; opacity: 1; stroke-width: 0.5px; fill: rgb(99, 110, 250); fill-opacity: 1; stroke: rgb(229, 236, 246); stroke-opacity: 1;\"/></g><g class=\"point\"><path d=\"M614.4,420V360.89H615.7V420Z\" style=\"vector-effect: non-scaling-stroke; opacity: 1; stroke-width: 0.5px; fill: rgb(99, 110, 250); fill-opacity: 1; stroke: rgb(229, 236, 246); stroke-opacity: 1;\"/></g><g class=\"point\"><path d=\"M617,420V257.44H618.3V420Z\" style=\"vector-effect: non-scaling-stroke; opacity: 1; stroke-width: 0.5px; fill: rgb(99, 110, 250); fill-opacity: 1; stroke: rgb(229, 236, 246); stroke-opacity: 1;\"/></g><g class=\"point\"><path d=\"M619.6,420V405.22H620.9V420Z\" style=\"vector-effect: non-scaling-stroke; opacity: 1; stroke-width: 0.5px; fill: rgb(99, 110, 250); fill-opacity: 1; stroke: rgb(229, 236, 246); stroke-opacity: 1;\"/></g><g class=\"point\"><path d=\"M622.2,420V405.22H623.5V420Z\" style=\"vector-effect: non-scaling-stroke; opacity: 1; stroke-width: 0.5px; fill: rgb(99, 110, 250); fill-opacity: 1; stroke: rgb(229, 236, 246); stroke-opacity: 1;\"/></g><g class=\"point\"><path d=\"M624.8,420V405.22H626.1V420Z\" style=\"vector-effect: non-scaling-stroke; opacity: 1; stroke-width: 0.5px; fill: rgb(99, 110, 250); fill-opacity: 1; stroke: rgb(229, 236, 246); stroke-opacity: 1;\"/></g><g class=\"point\"><path d=\"M627.4,420V331.33H628.7V420Z\" style=\"vector-effect: non-scaling-stroke; opacity: 1; stroke-width: 0.5px; fill: rgb(99, 110, 250); fill-opacity: 1; stroke: rgb(229, 236, 246); stroke-opacity: 1;\"/></g><g class=\"point\"><path d=\"M630,420V272.22H631.3V420Z\" style=\"vector-effect: non-scaling-stroke; opacity: 1; stroke-width: 0.5px; fill: rgb(99, 110, 250); fill-opacity: 1; stroke: rgb(229, 236, 246); stroke-opacity: 1;\"/></g><g class=\"point\"><path d=\"M632.6,420V375.67H633.9V420Z\" style=\"vector-effect: non-scaling-stroke; opacity: 1; stroke-width: 0.5px; fill: rgb(99, 110, 250); fill-opacity: 1; stroke: rgb(229, 236, 246); stroke-opacity: 1;\"/></g><g class=\"point\"><path d=\"M635.2,420V405.22H636.5V420Z\" style=\"vector-effect: non-scaling-stroke; opacity: 1; stroke-width: 0.5px; fill: rgb(99, 110, 250); fill-opacity: 1; stroke: rgb(229, 236, 246); stroke-opacity: 1;\"/></g><g class=\"point\"><path d=\"M637.8,420V183.56H639.1V420Z\" style=\"vector-effect: non-scaling-stroke; opacity: 1; stroke-width: 0.5px; fill: rgb(99, 110, 250); fill-opacity: 1; stroke: rgb(229, 236, 246); stroke-opacity: 1;\"/></g><g class=\"point\"><path d=\"M640.4,420V109.67H641.7V420Z\" style=\"vector-effect: non-scaling-stroke; opacity: 1; stroke-width: 0.5px; fill: rgb(99, 110, 250); fill-opacity: 1; stroke: rgb(229, 236, 246); stroke-opacity: 1;\"/></g><g class=\"point\"><path d=\"M643,420V198.33H644.3V420Z\" style=\"vector-effect: non-scaling-stroke; opacity: 1; stroke-width: 0.5px; fill: rgb(99, 110, 250); fill-opacity: 1; stroke: rgb(229, 236, 246); stroke-opacity: 1;\"/></g><g class=\"point\"><path d=\"M645.6,420V346.11H646.9V420Z\" style=\"vector-effect: non-scaling-stroke; opacity: 1; stroke-width: 0.5px; fill: rgb(99, 110, 250); fill-opacity: 1; stroke: rgb(229, 236, 246); stroke-opacity: 1;\"/></g><g class=\"point\"><path d=\"M648.2,420V257.44H649.5V420Z\" style=\"vector-effect: non-scaling-stroke; opacity: 1; stroke-width: 0.5px; fill: rgb(99, 110, 250); fill-opacity: 1; stroke: rgb(229, 236, 246); stroke-opacity: 1;\"/></g><g class=\"point\"><path d=\"M650.8,420V21H652.11V420Z\" style=\"vector-effect: non-scaling-stroke; opacity: 1; stroke-width: 0.5px; fill: rgb(99, 110, 250); fill-opacity: 1; stroke: rgb(229, 236, 246); stroke-opacity: 1;\"/></g><g class=\"point\"><path d=\"M653.41,420V80.11H654.71V420Z\" style=\"vector-effect: non-scaling-stroke; opacity: 1; stroke-width: 0.5px; fill: rgb(99, 110, 250); fill-opacity: 1; stroke: rgb(229, 236, 246); stroke-opacity: 1;\"/></g><g class=\"point\"><path d=\"M656.01,420V360.89H657.31V420Z\" style=\"vector-effect: non-scaling-stroke; opacity: 1; stroke-width: 0.5px; fill: rgb(99, 110, 250); fill-opacity: 1; stroke: rgb(229, 236, 246); stroke-opacity: 1;\"/></g><g class=\"point\"><path d=\"M658.61,420V331.33H659.91V420Z\" style=\"vector-effect: non-scaling-stroke; opacity: 1; stroke-width: 0.5px; fill: rgb(99, 110, 250); fill-opacity: 1; stroke: rgb(229, 236, 246); stroke-opacity: 1;\"/></g><g class=\"point\"><path d=\"M661.21,420V287H662.51V420Z\" style=\"vector-effect: non-scaling-stroke; opacity: 1; stroke-width: 0.5px; fill: rgb(99, 110, 250); fill-opacity: 1; stroke: rgb(229, 236, 246); stroke-opacity: 1;\"/></g><g class=\"point\"><path d=\"M663.81,420V331.33H665.11V420Z\" style=\"vector-effect: non-scaling-stroke; opacity: 1; stroke-width: 0.5px; fill: rgb(99, 110, 250); fill-opacity: 1; stroke: rgb(229, 236, 246); stroke-opacity: 1;\"/></g><g class=\"point\"><path d=\"M666.41,420V405.22H667.71V420Z\" style=\"vector-effect: non-scaling-stroke; opacity: 1; stroke-width: 0.5px; fill: rgb(99, 110, 250); fill-opacity: 1; stroke: rgb(229, 236, 246); stroke-opacity: 1;\"/></g><g class=\"point\"><path d=\"M669.01,420V405.22H670.31V420Z\" style=\"vector-effect: non-scaling-stroke; opacity: 1; stroke-width: 0.5px; fill: rgb(99, 110, 250); fill-opacity: 1; stroke: rgb(229, 236, 246); stroke-opacity: 1;\"/></g><g class=\"point\"><path d=\"M671.61,420V405.22H672.91V420Z\" style=\"vector-effect: non-scaling-stroke; opacity: 1; stroke-width: 0.5px; fill: rgb(99, 110, 250); fill-opacity: 1; stroke: rgb(229, 236, 246); stroke-opacity: 1;\"/></g><g class=\"point\"><path d=\"M674.21,420V405.22H675.51V420Z\" style=\"vector-effect: non-scaling-stroke; opacity: 1; stroke-width: 0.5px; fill: rgb(99, 110, 250); fill-opacity: 1; stroke: rgb(229, 236, 246); stroke-opacity: 1;\"/></g><g class=\"point\"><path d=\"M676.81,420V405.22H678.11V420Z\" style=\"vector-effect: non-scaling-stroke; opacity: 1; stroke-width: 0.5px; fill: rgb(99, 110, 250); fill-opacity: 1; stroke: rgb(229, 236, 246); stroke-opacity: 1;\"/></g><g class=\"point\"><path d=\"M679.41,420V405.22H680.71V420Z\" style=\"vector-effect: non-scaling-stroke; opacity: 1; stroke-width: 0.5px; fill: rgb(99, 110, 250); fill-opacity: 1; stroke: rgb(229, 236, 246); stroke-opacity: 1;\"/></g><g class=\"point\"><path d=\"M682.01,420V405.22H683.31V420Z\" style=\"vector-effect: non-scaling-stroke; opacity: 1; stroke-width: 0.5px; fill: rgb(99, 110, 250); fill-opacity: 1; stroke: rgb(229, 236, 246); stroke-opacity: 1;\"/></g><g class=\"point\"><path d=\"M684.61,420V405.22H685.91V420Z\" style=\"vector-effect: non-scaling-stroke; opacity: 1; stroke-width: 0.5px; fill: rgb(99, 110, 250); fill-opacity: 1; stroke: rgb(229, 236, 246); stroke-opacity: 1;\"/></g><g class=\"point\"><path d=\"M687.21,420V405.22H688.51V420Z\" style=\"vector-effect: non-scaling-stroke; opacity: 1; stroke-width: 0.5px; fill: rgb(99, 110, 250); fill-opacity: 1; stroke: rgb(229, 236, 246); stroke-opacity: 1;\"/></g><g class=\"point\"><path d=\"M689.81,420V375.67H691.11V420Z\" style=\"vector-effect: non-scaling-stroke; opacity: 1; stroke-width: 0.5px; fill: rgb(99, 110, 250); fill-opacity: 1; stroke: rgb(229, 236, 246); stroke-opacity: 1;\"/></g><g class=\"point\"><path d=\"M692.41,420V375.67H693.72V420Z\" style=\"vector-effect: non-scaling-stroke; opacity: 1; stroke-width: 0.5px; fill: rgb(99, 110, 250); fill-opacity: 1; stroke: rgb(229, 236, 246); stroke-opacity: 1;\"/></g><g class=\"point\"><path d=\"M695.02,420V405.22H696.32V420Z\" style=\"vector-effect: non-scaling-stroke; opacity: 1; stroke-width: 0.5px; fill: rgb(99, 110, 250); fill-opacity: 1; stroke: rgb(229, 236, 246); stroke-opacity: 1;\"/></g><g class=\"point\"><path d=\"M697.62,420V405.22H698.92V420Z\" style=\"vector-effect: non-scaling-stroke; opacity: 1; stroke-width: 0.5px; fill: rgb(99, 110, 250); fill-opacity: 1; stroke: rgb(229, 236, 246); stroke-opacity: 1;\"/></g><g class=\"point\"><path d=\"M700.22,420V390.44H701.52V420Z\" style=\"vector-effect: non-scaling-stroke; opacity: 1; stroke-width: 0.5px; fill: rgb(99, 110, 250); fill-opacity: 1; stroke: rgb(229, 236, 246); stroke-opacity: 1;\"/></g><g class=\"point\"><path d=\"M702.82,420V390.44H704.12V420Z\" style=\"vector-effect: non-scaling-stroke; opacity: 1; stroke-width: 0.5px; fill: rgb(99, 110, 250); fill-opacity: 1; stroke: rgb(229, 236, 246); stroke-opacity: 1;\"/></g><g class=\"point\"><path d=\"M705.42,420V405.22H706.72V420Z\" style=\"vector-effect: non-scaling-stroke; opacity: 1; stroke-width: 0.5px; fill: rgb(99, 110, 250); fill-opacity: 1; stroke: rgb(229, 236, 246); stroke-opacity: 1;\"/></g><g class=\"point\"><path d=\"M708.02,420V405.22H709.32V420Z\" style=\"vector-effect: non-scaling-stroke; opacity: 1; stroke-width: 0.5px; fill: rgb(99, 110, 250); fill-opacity: 1; stroke: rgb(229, 236, 246); stroke-opacity: 1;\"/></g><g class=\"point\"><path d=\"M710.62,420V405.22H711.92V420Z\" style=\"vector-effect: non-scaling-stroke; opacity: 1; stroke-width: 0.5px; fill: rgb(99, 110, 250); fill-opacity: 1; stroke: rgb(229, 236, 246); stroke-opacity: 1;\"/></g><g class=\"point\"><path d=\"M713.22,420V390.44H714.52V420Z\" style=\"vector-effect: non-scaling-stroke; opacity: 1; stroke-width: 0.5px; fill: rgb(99, 110, 250); fill-opacity: 1; stroke: rgb(229, 236, 246); stroke-opacity: 1;\"/></g><g class=\"point\"><path d=\"M715.82,420V390.44H717.12V420Z\" style=\"vector-effect: non-scaling-stroke; opacity: 1; stroke-width: 0.5px; fill: rgb(99, 110, 250); fill-opacity: 1; stroke: rgb(229, 236, 246); stroke-opacity: 1;\"/></g><g class=\"point\"><path d=\"M718.42,420V405.22H719.72V420Z\" style=\"vector-effect: non-scaling-stroke; opacity: 1; stroke-width: 0.5px; fill: rgb(99, 110, 250); fill-opacity: 1; stroke: rgb(229, 236, 246); stroke-opacity: 1;\"/></g><g class=\"point\"><path d=\"M721.02,420V346.11H722.32V420Z\" style=\"vector-effect: non-scaling-stroke; opacity: 1; stroke-width: 0.5px; fill: rgb(99, 110, 250); fill-opacity: 1; stroke: rgb(229, 236, 246); stroke-opacity: 1;\"/></g><g class=\"point\"><path d=\"M723.62,420V405.22H724.92V420Z\" style=\"vector-effect: non-scaling-stroke; opacity: 1; stroke-width: 0.5px; fill: rgb(99, 110, 250); fill-opacity: 1; stroke: rgb(229, 236, 246); stroke-opacity: 1;\"/></g><g class=\"point\"><path d=\"M726.22,420V405.22H727.52V420Z\" style=\"vector-effect: non-scaling-stroke; opacity: 1; stroke-width: 0.5px; fill: rgb(99, 110, 250); fill-opacity: 1; stroke: rgb(229, 236, 246); stroke-opacity: 1;\"/></g><g class=\"point\"><path d=\"M728.82,420V405.22H730.12V420Z\" style=\"vector-effect: non-scaling-stroke; opacity: 1; stroke-width: 0.5px; fill: rgb(99, 110, 250); fill-opacity: 1; stroke: rgb(229, 236, 246); stroke-opacity: 1;\"/></g><g class=\"point\"><path d=\"M731.42,420V390.44H732.72V420Z\" style=\"vector-effect: non-scaling-stroke; opacity: 1; stroke-width: 0.5px; fill: rgb(99, 110, 250); fill-opacity: 1; stroke: rgb(229, 236, 246); stroke-opacity: 1;\"/></g><g class=\"point\"><path d=\"M734.02,420V301.78H735.33V420Z\" style=\"vector-effect: non-scaling-stroke; opacity: 1; stroke-width: 0.5px; fill: rgb(99, 110, 250); fill-opacity: 1; stroke: rgb(229, 236, 246); stroke-opacity: 1;\"/></g><g class=\"point\"><path d=\"M736.63,420V390.44H737.93V420Z\" style=\"vector-effect: non-scaling-stroke; opacity: 1; stroke-width: 0.5px; fill: rgb(99, 110, 250); fill-opacity: 1; stroke: rgb(229, 236, 246); stroke-opacity: 1;\"/></g><g class=\"point\"><path d=\"M739.23,420V346.11H740.53V420Z\" style=\"vector-effect: non-scaling-stroke; opacity: 1; stroke-width: 0.5px; fill: rgb(99, 110, 250); fill-opacity: 1; stroke: rgb(229, 236, 246); stroke-opacity: 1;\"/></g><g class=\"point\"><path d=\"M741.83,420V272.22H743.13V420Z\" style=\"vector-effect: non-scaling-stroke; opacity: 1; stroke-width: 0.5px; fill: rgb(99, 110, 250); fill-opacity: 1; stroke: rgb(229, 236, 246); stroke-opacity: 1;\"/></g><g class=\"point\"><path d=\"M744.43,420V272.22H745.73V420Z\" style=\"vector-effect: non-scaling-stroke; opacity: 1; stroke-width: 0.5px; fill: rgb(99, 110, 250); fill-opacity: 1; stroke: rgb(229, 236, 246); stroke-opacity: 1;\"/></g><g class=\"point\"><path d=\"M747.03,420V390.44H748.33V420Z\" style=\"vector-effect: non-scaling-stroke; opacity: 1; stroke-width: 0.5px; fill: rgb(99, 110, 250); fill-opacity: 1; stroke: rgb(229, 236, 246); stroke-opacity: 1;\"/></g><g class=\"point\"><path d=\"M749.63,420V331.33H750.93V420Z\" style=\"vector-effect: non-scaling-stroke; opacity: 1; stroke-width: 0.5px; fill: rgb(99, 110, 250); fill-opacity: 1; stroke: rgb(229, 236, 246); stroke-opacity: 1;\"/></g><g class=\"point\"><path d=\"M752.23,420V242.67H753.53V420Z\" style=\"vector-effect: non-scaling-stroke; opacity: 1; stroke-width: 0.5px; fill: rgb(99, 110, 250); fill-opacity: 1; stroke: rgb(229, 236, 246); stroke-opacity: 1;\"/></g><g class=\"point\"><path d=\"M754.83,420V346.11H756.13V420Z\" style=\"vector-effect: non-scaling-stroke; opacity: 1; stroke-width: 0.5px; fill: rgb(99, 110, 250); fill-opacity: 1; stroke: rgb(229, 236, 246); stroke-opacity: 1;\"/></g><g class=\"point\"><path d=\"M757.43,420V375.67H758.73V420Z\" style=\"vector-effect: non-scaling-stroke; opacity: 1; stroke-width: 0.5px; fill: rgb(99, 110, 250); fill-opacity: 1; stroke: rgb(229, 236, 246); stroke-opacity: 1;\"/></g><g class=\"point\"><path d=\"M760.03,420V287H761.33V420Z\" style=\"vector-effect: non-scaling-stroke; opacity: 1; stroke-width: 0.5px; fill: rgb(99, 110, 250); fill-opacity: 1; stroke: rgb(229, 236, 246); stroke-opacity: 1;\"/></g><g class=\"point\"><path d=\"M762.63,420V346.11H763.93V420Z\" style=\"vector-effect: non-scaling-stroke; opacity: 1; stroke-width: 0.5px; fill: rgb(99, 110, 250); fill-opacity: 1; stroke: rgb(229, 236, 246); stroke-opacity: 1;\"/></g><g class=\"point\"><path d=\"M765.23,420V390.44H766.53V420Z\" style=\"vector-effect: non-scaling-stroke; opacity: 1; stroke-width: 0.5px; fill: rgb(99, 110, 250); fill-opacity: 1; stroke: rgb(229, 236, 246); stroke-opacity: 1;\"/></g><g class=\"point\"><path d=\"M767.83,420V405.22H769.13V420Z\" style=\"vector-effect: non-scaling-stroke; opacity: 1; stroke-width: 0.5px; fill: rgb(99, 110, 250); fill-opacity: 1; stroke: rgb(229, 236, 246); stroke-opacity: 1;\"/></g><g class=\"point\"><path d=\"M770.43,420V405.22H771.73V420Z\" style=\"vector-effect: non-scaling-stroke; opacity: 1; stroke-width: 0.5px; fill: rgb(99, 110, 250); fill-opacity: 1; stroke: rgb(229, 236, 246); stroke-opacity: 1;\"/></g><g class=\"point\"><path d=\"M773.03,420V405.22H774.33V420Z\" style=\"vector-effect: non-scaling-stroke; opacity: 1; stroke-width: 0.5px; fill: rgb(99, 110, 250); fill-opacity: 1; stroke: rgb(229, 236, 246); stroke-opacity: 1;\"/></g><g class=\"point\"><path d=\"M775.63,420V375.67H776.93V420Z\" style=\"vector-effect: non-scaling-stroke; opacity: 1; stroke-width: 0.5px; fill: rgb(99, 110, 250); fill-opacity: 1; stroke: rgb(229, 236, 246); stroke-opacity: 1;\"/></g><g class=\"point\"><path d=\"M778.24,420V346.11H779.54V420Z\" style=\"vector-effect: non-scaling-stroke; opacity: 1; stroke-width: 0.5px; fill: rgb(99, 110, 250); fill-opacity: 1; stroke: rgb(229, 236, 246); stroke-opacity: 1;\"/></g><g class=\"point\"><path d=\"M780.84,420V405.22H782.14V420Z\" style=\"vector-effect: non-scaling-stroke; opacity: 1; stroke-width: 0.5px; fill: rgb(99, 110, 250); fill-opacity: 1; stroke: rgb(229, 236, 246); stroke-opacity: 1;\"/></g><g class=\"point\"><path d=\"M783.44,420V390.44H784.74V420Z\" style=\"vector-effect: non-scaling-stroke; opacity: 1; stroke-width: 0.5px; fill: rgb(99, 110, 250); fill-opacity: 1; stroke: rgb(229, 236, 246); stroke-opacity: 1;\"/></g><g class=\"point\"><path d=\"M786.04,420V360.89H787.34V420Z\" style=\"vector-effect: non-scaling-stroke; opacity: 1; stroke-width: 0.5px; fill: rgb(99, 110, 250); fill-opacity: 1; stroke: rgb(229, 236, 246); stroke-opacity: 1;\"/></g><g class=\"point\"><path d=\"M788.64,420V331.33H789.94V420Z\" style=\"vector-effect: non-scaling-stroke; opacity: 1; stroke-width: 0.5px; fill: rgb(99, 110, 250); fill-opacity: 1; stroke: rgb(229, 236, 246); stroke-opacity: 1;\"/></g><g class=\"point\"><path d=\"M791.24,420V405.22H792.54V420Z\" style=\"vector-effect: non-scaling-stroke; opacity: 1; stroke-width: 0.5px; fill: rgb(99, 110, 250); fill-opacity: 1; stroke: rgb(229, 236, 246); stroke-opacity: 1;\"/></g><g class=\"point\"><path d=\"M793.84,420V405.22H795.14V420Z\" style=\"vector-effect: non-scaling-stroke; opacity: 1; stroke-width: 0.5px; fill: rgb(99, 110, 250); fill-opacity: 1; stroke: rgb(229, 236, 246); stroke-opacity: 1;\"/></g><g class=\"point\"><path d=\"M796.44,420V390.44H797.74V420Z\" style=\"vector-effect: non-scaling-stroke; opacity: 1; stroke-width: 0.5px; fill: rgb(99, 110, 250); fill-opacity: 1; stroke: rgb(229, 236, 246); stroke-opacity: 1;\"/></g><g class=\"point\"><path d=\"M799.04,420V375.67H800.34V420Z\" style=\"vector-effect: non-scaling-stroke; opacity: 1; stroke-width: 0.5px; fill: rgb(99, 110, 250); fill-opacity: 1; stroke: rgb(229, 236, 246); stroke-opacity: 1;\"/></g><g class=\"point\"><path d=\"M801.64,420V272.22H802.94V420Z\" style=\"vector-effect: non-scaling-stroke; opacity: 1; stroke-width: 0.5px; fill: rgb(99, 110, 250); fill-opacity: 1; stroke: rgb(229, 236, 246); stroke-opacity: 1;\"/></g><g class=\"point\"><path d=\"M804.24,420V405.22H805.54V420Z\" style=\"vector-effect: non-scaling-stroke; opacity: 1; stroke-width: 0.5px; fill: rgb(99, 110, 250); fill-opacity: 1; stroke: rgb(229, 236, 246); stroke-opacity: 1;\"/></g><g class=\"point\"><path d=\"M806.84,420V375.67H808.14V420Z\" style=\"vector-effect: non-scaling-stroke; opacity: 1; stroke-width: 0.5px; fill: rgb(99, 110, 250); fill-opacity: 1; stroke: rgb(229, 236, 246); stroke-opacity: 1;\"/></g><g class=\"point\"><path d=\"M809.44,420V213.11H810.74V420Z\" style=\"vector-effect: non-scaling-stroke; opacity: 1; stroke-width: 0.5px; fill: rgb(99, 110, 250); fill-opacity: 1; stroke: rgb(229, 236, 246); stroke-opacity: 1;\"/></g><g class=\"point\"><path d=\"M812.04,420V65.33H813.34V420Z\" style=\"vector-effect: non-scaling-stroke; opacity: 1; stroke-width: 0.5px; fill: rgb(99, 110, 250); fill-opacity: 1; stroke: rgb(229, 236, 246); stroke-opacity: 1;\"/></g><g class=\"point\"><path d=\"M814.64,420V213.11H815.94V420Z\" style=\"vector-effect: non-scaling-stroke; opacity: 1; stroke-width: 0.5px; fill: rgb(99, 110, 250); fill-opacity: 1; stroke: rgb(229, 236, 246); stroke-opacity: 1;\"/></g><g class=\"point\"><path d=\"M817.24,420V405.22H818.54V420Z\" style=\"vector-effect: non-scaling-stroke; opacity: 1; stroke-width: 0.5px; fill: rgb(99, 110, 250); fill-opacity: 1; stroke: rgb(229, 236, 246); stroke-opacity: 1;\"/></g><g class=\"point\"><path d=\"M819.85,420V227.89H821.15V420Z\" style=\"vector-effect: non-scaling-stroke; opacity: 1; stroke-width: 0.5px; fill: rgb(99, 110, 250); fill-opacity: 1; stroke: rgb(229, 236, 246); stroke-opacity: 1;\"/></g><g class=\"point\"><path d=\"M822.45,420V80.11H823.75V420Z\" style=\"vector-effect: non-scaling-stroke; opacity: 1; stroke-width: 0.5px; fill: rgb(99, 110, 250); fill-opacity: 1; stroke: rgb(229, 236, 246); stroke-opacity: 1;\"/></g><g class=\"point\"><path d=\"M825.05,420V301.78H826.35V420Z\" style=\"vector-effect: non-scaling-stroke; opacity: 1; stroke-width: 0.5px; fill: rgb(99, 110, 250); fill-opacity: 1; stroke: rgb(229, 236, 246); stroke-opacity: 1;\"/></g><g class=\"point\"><path d=\"M827.65,420V301.78H828.95V420Z\" style=\"vector-effect: non-scaling-stroke; opacity: 1; stroke-width: 0.5px; fill: rgb(99, 110, 250); fill-opacity: 1; stroke: rgb(229, 236, 246); stroke-opacity: 1;\"/></g><g class=\"point\"><path d=\"M830.25,420V331.33H831.55V420Z\" style=\"vector-effect: non-scaling-stroke; opacity: 1; stroke-width: 0.5px; fill: rgb(99, 110, 250); fill-opacity: 1; stroke: rgb(229, 236, 246); stroke-opacity: 1;\"/></g><g class=\"point\"><path d=\"M832.85,420V316.56H834.15V420Z\" style=\"vector-effect: non-scaling-stroke; opacity: 1; stroke-width: 0.5px; fill: rgb(99, 110, 250); fill-opacity: 1; stroke: rgb(229, 236, 246); stroke-opacity: 1;\"/></g><g class=\"point\"><path d=\"M835.45,420V346.11H836.75V420Z\" style=\"vector-effect: non-scaling-stroke; opacity: 1; stroke-width: 0.5px; fill: rgb(99, 110, 250); fill-opacity: 1; stroke: rgb(229, 236, 246); stroke-opacity: 1;\"/></g><g class=\"point\"><path d=\"M838.05,420V390.44H839.35V420Z\" style=\"vector-effect: non-scaling-stroke; opacity: 1; stroke-width: 0.5px; fill: rgb(99, 110, 250); fill-opacity: 1; stroke: rgb(229, 236, 246); stroke-opacity: 1;\"/></g></g></g></g></g><g class=\"overplot\"/><path class=\"xlines-above crisp\" d=\"M0,0\" style=\"fill: none;\"/><path class=\"ylines-above crisp\" d=\"M0,0\" style=\"fill: none;\"/><g class=\"overlines-above\"/><g class=\"xaxislayer-above\"><g class=\"xtick\"><text text-anchor=\"middle\" x=\"0\" y=\"533\" transform=\"translate(208.73,0)\" style=\"font-family: 'Open Sans', verdana, arial, sans-serif; font-size: 12px; fill: rgb(42, 63, 95); fill-opacity: 1; white-space: pre; opacity: 1;\">50</text></g><g class=\"xtick\"><text text-anchor=\"middle\" x=\"0\" y=\"533\" style=\"font-family: 'Open Sans', verdana, arial, sans-serif; font-size: 12px; fill: rgb(42, 63, 95); fill-opacity: 1; white-space: pre; opacity: 1;\" transform=\"translate(338.76,0)\">100</text></g><g class=\"xtick\"><text text-anchor=\"middle\" x=\"0\" y=\"533\" style=\"font-family: 'Open Sans', verdana, arial, sans-serif; font-size: 12px; fill: rgb(42, 63, 95); fill-opacity: 1; white-space: pre; opacity: 1;\" transform=\"translate(468.79,0)\">150</text></g><g class=\"xtick\"><text text-anchor=\"middle\" x=\"0\" y=\"533\" style=\"font-family: 'Open Sans', verdana, arial, sans-serif; font-size: 12px; fill: rgb(42, 63, 95); fill-opacity: 1; white-space: pre; opacity: 1;\" transform=\"translate(598.82,0)\">200</text></g><g class=\"xtick\"><text text-anchor=\"middle\" x=\"0\" y=\"533\" style=\"font-family: 'Open Sans', verdana, arial, sans-serif; font-size: 12px; fill: rgb(42, 63, 95); fill-opacity: 1; white-space: pre; opacity: 1;\" transform=\"translate(728.85,0)\">250</text></g><g class=\"xtick\"><text text-anchor=\"middle\" x=\"0\" y=\"533\" style=\"font-family: 'Open Sans', verdana, arial, sans-serif; font-size: 12px; fill: rgb(42, 63, 95); fill-opacity: 1; white-space: pre; opacity: 1;\" transform=\"translate(858.89,0)\">300</text></g></g><g class=\"yaxislayer-above\"><g class=\"ytick\"><text text-anchor=\"end\" x=\"79\" y=\"4.199999999999999\" transform=\"translate(0,520)\" style=\"font-family: 'Open Sans', verdana, arial, sans-serif; font-size: 12px; fill: rgb(42, 63, 95); fill-opacity: 1; white-space: pre; opacity: 1;\">0</text></g><g class=\"ytick\"><text text-anchor=\"end\" x=\"79\" y=\"4.199999999999999\" style=\"font-family: 'Open Sans', verdana, arial, sans-serif; font-size: 12px; fill: rgb(42, 63, 95); fill-opacity: 1; white-space: pre; opacity: 1;\" transform=\"translate(0,446.11)\">0.005</text></g><g class=\"ytick\"><text text-anchor=\"end\" x=\"79\" y=\"4.199999999999999\" style=\"font-family: 'Open Sans', verdana, arial, sans-serif; font-size: 12px; fill: rgb(42, 63, 95); fill-opacity: 1; white-space: pre; opacity: 1;\" transform=\"translate(0,372.22)\">0.01</text></g><g class=\"ytick\"><text text-anchor=\"end\" x=\"79\" y=\"4.199999999999999\" style=\"font-family: 'Open Sans', verdana, arial, sans-serif; font-size: 12px; fill: rgb(42, 63, 95); fill-opacity: 1; white-space: pre; opacity: 1;\" transform=\"translate(0,298.33000000000004)\">0.015</text></g><g class=\"ytick\"><text text-anchor=\"end\" x=\"79\" y=\"4.199999999999999\" style=\"font-family: 'Open Sans', verdana, arial, sans-serif; font-size: 12px; fill: rgb(42, 63, 95); fill-opacity: 1; white-space: pre; opacity: 1;\" transform=\"translate(0,224.44)\">0.02</text></g><g class=\"ytick\"><text text-anchor=\"end\" x=\"79\" y=\"4.199999999999999\" style=\"font-family: 'Open Sans', verdana, arial, sans-serif; font-size: 12px; fill: rgb(42, 63, 95); fill-opacity: 1; white-space: pre; opacity: 1;\" transform=\"translate(0,150.56)\">0.025</text></g></g><g class=\"overaxes-above\"/></g></g><g class=\"polarlayer\"/><g class=\"smithlayer\"/><g class=\"ternarylayer\"/><g class=\"geolayer\"/><g class=\"funnelarealayer\"/><g class=\"pielayer\"/><g class=\"iciclelayer\"/><g class=\"treemaplayer\"/><g class=\"sunburstlayer\"/><g class=\"glimages\"/><defs id=\"topdefs-56acf6\"><g class=\"clips\"/></defs><g class=\"layer-above\"><g class=\"imagelayer\"/><g class=\"shapelayer\"/></g><g class=\"infolayer\"><g class=\"g-gtitle\"><text class=\"gtitle\" x=\"50\" y=\"50\" text-anchor=\"start\" dy=\"0em\" style=\"font-family: 'Open Sans', verdana, arial, sans-serif; font-size: 17px; fill: rgb(42, 63, 95); opacity: 1; font-weight: normal; white-space: pre;\">Posterior probabilities of getting the exact sequence of hidden Markov states</text></g><g class=\"g-xtitle\"><text class=\"xtitle\" x=\"500\" y=\"560.8\" text-anchor=\"middle\" style=\"font-family: 'Open Sans', verdana, arial, sans-serif; font-size: 14px; fill: rgb(42, 63, 95); opacity: 1; font-weight: normal; white-space: pre;\">sequence IDs</text></g><g class=\"g-ytitle\"><text class=\"ytitle\" transform=\"rotate(-90,24.168750000000003,310)\" x=\"24.168750000000003\" y=\"310\" text-anchor=\"middle\" style=\"font-family: 'Open Sans', verdana, arial, sans-serif; font-size: 14px; fill: rgb(42, 63, 95); opacity: 1; font-weight: normal; white-space: pre;\">Probability</text></g></g></svg>"
     },
     "metadata": {}
    }
   ]
  },
  {
   "cell_type": "code",
   "source": [
    "print(f\"We will get the sequence: {unique_sequences[counts.argmax()]} with the probbility p={counts[counts.argmax()]/counts.sum()}\")"
   ],
   "metadata": {
    "colab": {
     "base_uri": "https://localhost:8080/"
    },
    "id": "ygwXY2DvRrpS",
    "outputId": "7850a249-059d-4fde-8859-9903883bdfe0"
   },
   "execution_count": 42,
   "outputs": [
    {
     "output_type": "stream",
     "name": "stdout",
     "text": [
      "We will get the sequence: [[1. 0. 0. 0.]\n",
      " [0. 1. 0. 0.]\n",
      " [1. 0. 0. 0.]\n",
      " [1. 0. 0. 0.]\n",
      " [0. 1. 0. 0.]\n",
      " [0. 0. 1. 0.]] with the probbility p=0.027\n"
     ]
    }
   ]
  },
  {
   "cell_type": "markdown",
   "source": [
    "Here we report the posterior mean and std of the defined matrix $X$ calculated with all of the sampled sequences. We also provide additional helpful visualizations in the form of heatmap for the better visual analysis."
   ],
   "metadata": {
    "id": "OnuzhHnkcPrE"
   }
  },
  {
   "cell_type": "code",
   "source": [
    "sequences.mean(0)"
   ],
   "metadata": {
    "colab": {
     "base_uri": "https://localhost:8080/"
    },
    "id": "Bt2UUDB7SZ8B",
    "outputId": "bbcaa460-c54a-4299-956d-1e61496370b1"
   },
   "execution_count": 43,
   "outputs": [
    {
     "output_type": "execute_result",
     "data": {
      "text/plain": [
       "array([[0.696, 0.257, 0.045, 0.002],\n",
       "       [0.399, 0.445, 0.135, 0.021],\n",
       "       [0.63 , 0.302, 0.063, 0.005],\n",
       "       [0.834, 0.154, 0.012, 0.   ],\n",
       "       [0.121, 0.37 , 0.364, 0.145],\n",
       "       [0.059, 0.265, 0.438, 0.238]])"
      ]
     },
     "metadata": {},
     "execution_count": 43
    }
   ]
  },
  {
   "cell_type": "code",
   "source": [
    "fig = px.imshow(sequences.mean(0), text_auto=True)\n",
    "fig.update_layout(title=\"Heatmap of the posterior mean of X\")\n",
    "fig.show()"
   ],
   "metadata": {
    "colab": {
     "base_uri": "https://localhost:8080/",
     "height": 522
    },
    "id": "iPW0XMIoS-DU",
    "outputId": "1fd799b4-d53c-4048-ade3-d234ce977e97"
   },
   "execution_count": 44,
   "outputs": [
    {
     "output_type": "display_data",
     "data": {
      "image/svg+xml": "<svg class=\"main-svg\" xmlns=\"http://www.w3.org/2000/svg\" xmlns:xlink=\"http://www.w3.org/1999/xlink\" width=\"700\" height=\"500\" style=\"\" viewBox=\"0 0 700 500\"><rect x=\"0\" y=\"0\" width=\"700\" height=\"500\" style=\"fill: rgb(255, 255, 255); fill-opacity: 1;\"/><defs id=\"defs-ef2f6d\"><g class=\"clips\"><clipPath id=\"clipef2f6dxyplot\" class=\"plotclip\"><rect width=\"239.99999999999994\" height=\"360\"/></clipPath><clipPath class=\"axesclip\" id=\"clipef2f6dx\"><rect x=\"225.00000000000003\" y=\"0\" width=\"239.99999999999994\" height=\"500\"/></clipPath><clipPath class=\"axesclip\" id=\"clipef2f6dy\"><rect x=\"0\" y=\"60\" width=\"700\" height=\"360\"/></clipPath><clipPath class=\"axesclip\" id=\"clipef2f6dxy\"><rect x=\"225.00000000000003\" y=\"60\" width=\"239.99999999999994\" height=\"360\"/></clipPath></g><g class=\"gradients\"><linearGradient x1=\"0\" x2=\"0\" y1=\"1\" y2=\"0\" id=\"gef2f6d-cbcoloraxis\"><stop offset=\"0%\" stop-color=\"rgb(13, 8, 135)\" stop-opacity=\"1\"/><stop offset=\"11.111111%\" stop-color=\"rgb(70, 3, 159)\" stop-opacity=\"1\"/><stop offset=\"22.222222%\" stop-color=\"rgb(114, 1, 168)\" stop-opacity=\"1\"/><stop offset=\"33.333333%\" stop-color=\"rgb(156, 23, 158)\" stop-opacity=\"1\"/><stop offset=\"44.444444%\" stop-color=\"rgb(189, 55, 134)\" stop-opacity=\"1\"/><stop offset=\"55.555556%\" stop-color=\"rgb(216, 87, 107)\" stop-opacity=\"1\"/><stop offset=\"66.666667%\" stop-color=\"rgb(237, 121, 83)\" stop-opacity=\"1\"/><stop offset=\"77.777778%\" stop-color=\"rgb(251, 159, 58)\" stop-opacity=\"1\"/><stop offset=\"88.888889%\" stop-color=\"rgb(253, 202, 38)\" stop-opacity=\"1\"/><stop offset=\"100%\" stop-color=\"rgb(240, 249, 33)\" stop-opacity=\"1\"/></linearGradient></g><g class=\"patterns\"/></defs><g class=\"bglayer\"><rect class=\"bg\" x=\"225.00000000000003\" y=\"60\" width=\"239.99999999999994\" height=\"360\" style=\"fill: rgb(229, 236, 246); fill-opacity: 1; stroke-width: 0;\"/></g><g class=\"layer-below\"><g class=\"imagelayer\"/><g class=\"shapelayer\"/></g><g class=\"cartesianlayer\"><g class=\"subplot xy\"><g class=\"layer-subplot\"><g class=\"shapelayer\"/><g class=\"imagelayer\"/></g><g class=\"gridlayer\"><g class=\"x\"><path class=\"xgrid crisp\" transform=\"translate(315,0)\" d=\"M0,60v360\" style=\"stroke: rgb(255, 255, 255); stroke-opacity: 1; stroke-width: 1px;\"/><path class=\"xgrid crisp\" transform=\"translate(375,0)\" d=\"M0,60v360\" style=\"stroke: rgb(255, 255, 255); stroke-opacity: 1; stroke-width: 1px;\"/><path class=\"xgrid crisp\" transform=\"translate(435,0)\" d=\"M0,60v360\" style=\"stroke: rgb(255, 255, 255); stroke-opacity: 1; stroke-width: 1px;\"/></g><g class=\"y\"><path class=\"ygrid crisp\" transform=\"translate(0,390)\" d=\"M225.00000000000003,0h239.99999999999994\" style=\"stroke: rgb(255, 255, 255); stroke-opacity: 1; stroke-width: 1px;\"/><path class=\"ygrid crisp\" transform=\"translate(0,330)\" d=\"M225.00000000000003,0h239.99999999999994\" style=\"stroke: rgb(255, 255, 255); stroke-opacity: 1; stroke-width: 1px;\"/><path class=\"ygrid crisp\" transform=\"translate(0,270)\" d=\"M225.00000000000003,0h239.99999999999994\" style=\"stroke: rgb(255, 255, 255); stroke-opacity: 1; stroke-width: 1px;\"/><path class=\"ygrid crisp\" transform=\"translate(0,210)\" d=\"M225.00000000000003,0h239.99999999999994\" style=\"stroke: rgb(255, 255, 255); stroke-opacity: 1; stroke-width: 1px;\"/><path class=\"ygrid crisp\" transform=\"translate(0,150)\" d=\"M225.00000000000003,0h239.99999999999994\" style=\"stroke: rgb(255, 255, 255); stroke-opacity: 1; stroke-width: 1px;\"/></g></g><g class=\"zerolinelayer\"><path class=\"xzl zl crisp\" transform=\"translate(255.00000000000003,0)\" d=\"M0,60v360\" style=\"stroke: rgb(255, 255, 255); stroke-opacity: 1; stroke-width: 2px;\"/><path class=\"yzl zl crisp\" transform=\"translate(0,90)\" d=\"M225.00000000000003,0h239.99999999999994\" style=\"stroke: rgb(255, 255, 255); stroke-opacity: 1; stroke-width: 2px;\"/></g><path class=\"xlines-below\"/><path class=\"ylines-below\"/><g class=\"overlines-below\"/><g class=\"xaxislayer-below\"/><g class=\"yaxislayer-below\"/><g class=\"overaxes-below\"/><g class=\"plot\" transform=\"translate(225.00000000000003,60)\" clip-path=\"url(#clipef2f6dxyplot)\"><g class=\"heatmaplayer mlayer\"><g class=\"hm\"><image xmlns=\"http://www.w3.org/2000/svg\" preserveAspectRatio=\"none\" height=\"360\" width=\"240\" x=\"0\" y=\"0\" xlink:href=\"data:image/png;base64,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\" style=\"opacity: 1;\"/><g class=\"heatmap-label\"><text text-anchor=\"middle\" data-notex=\"1\" x=\"30\" y=\"34.2\" style=\"font-family: 'Open Sans', verdana, arial, sans-serif; font-size: 12px; fill: rgb(68, 68, 68); fill-opacity: 1; white-space: pre;\">0.696</text></g><g class=\"heatmap-label\"><text text-anchor=\"middle\" data-notex=\"1\" x=\"90\" y=\"34.2\" style=\"font-family: 'Open Sans', verdana, arial, sans-serif; font-size: 12px; fill: rgb(255, 255, 255); fill-opacity: 1; white-space: pre;\">0.257</text></g><g class=\"heatmap-label\"><text text-anchor=\"middle\" data-notex=\"1\" x=\"150\" y=\"34.2\" style=\"font-family: 'Open Sans', verdana, arial, sans-serif; font-size: 12px; fill: rgb(255, 255, 255); fill-opacity: 1; white-space: pre;\">0.045</text></g><g class=\"heatmap-label\"><text text-anchor=\"middle\" data-notex=\"1\" x=\"210\" y=\"34.2\" style=\"font-family: 'Open Sans', verdana, arial, sans-serif; font-size: 12px; fill: rgb(255, 255, 255); fill-opacity: 1; white-space: pre;\">0.002</text></g><g class=\"heatmap-label\"><text text-anchor=\"middle\" data-notex=\"1\" x=\"30\" y=\"94.2\" style=\"font-family: 'Open Sans', verdana, arial, sans-serif; font-size: 12px; fill: rgb(255, 255, 255); fill-opacity: 1; white-space: pre;\">0.399</text></g><g class=\"heatmap-label\"><text text-anchor=\"middle\" data-notex=\"1\" x=\"90\" y=\"94.2\" style=\"font-family: 'Open Sans', verdana, arial, sans-serif; font-size: 12px; fill: rgb(255, 255, 255); fill-opacity: 1; white-space: pre;\">0.445</text></g><g class=\"heatmap-label\"><text text-anchor=\"middle\" data-notex=\"1\" x=\"150\" y=\"94.2\" style=\"font-family: 'Open Sans', verdana, arial, sans-serif; font-size: 12px; fill: rgb(255, 255, 255); fill-opacity: 1; white-space: pre;\">0.135</text></g><g class=\"heatmap-label\"><text text-anchor=\"middle\" data-notex=\"1\" x=\"210\" y=\"94.2\" style=\"font-family: 'Open Sans', verdana, arial, sans-serif; font-size: 12px; fill: rgb(255, 255, 255); fill-opacity: 1; white-space: pre;\">0.021</text></g><g class=\"heatmap-label\"><text text-anchor=\"middle\" data-notex=\"1\" x=\"30\" y=\"154.2\" style=\"font-family: 'Open Sans', verdana, arial, sans-serif; font-size: 12px; fill: rgb(68, 68, 68); fill-opacity: 1; white-space: pre;\">0.63</text></g><g class=\"heatmap-label\"><text text-anchor=\"middle\" data-notex=\"1\" x=\"90\" y=\"154.2\" style=\"font-family: 'Open Sans', verdana, arial, sans-serif; font-size: 12px; fill: rgb(255, 255, 255); fill-opacity: 1; white-space: pre;\">0.302</text></g><g class=\"heatmap-label\"><text text-anchor=\"middle\" data-notex=\"1\" x=\"150\" y=\"154.2\" style=\"font-family: 'Open Sans', verdana, arial, sans-serif; font-size: 12px; fill: rgb(255, 255, 255); fill-opacity: 1; white-space: pre;\">0.063</text></g><g class=\"heatmap-label\"><text text-anchor=\"middle\" data-notex=\"1\" x=\"210\" y=\"154.2\" style=\"font-family: 'Open Sans', verdana, arial, sans-serif; font-size: 12px; fill: rgb(255, 255, 255); fill-opacity: 1; white-space: pre;\">0.005</text></g><g class=\"heatmap-label\"><text text-anchor=\"middle\" data-notex=\"1\" x=\"30\" y=\"214.2\" style=\"font-family: 'Open Sans', verdana, arial, sans-serif; font-size: 12px; fill: rgb(68, 68, 68); fill-opacity: 1; white-space: pre;\">0.834</text></g><g class=\"heatmap-label\"><text text-anchor=\"middle\" data-notex=\"1\" x=\"90\" y=\"214.2\" style=\"font-family: 'Open Sans', verdana, arial, sans-serif; font-size: 12px; fill: rgb(255, 255, 255); fill-opacity: 1; white-space: pre;\">0.154</text></g><g class=\"heatmap-label\"><text text-anchor=\"middle\" data-notex=\"1\" x=\"150\" y=\"214.2\" style=\"font-family: 'Open Sans', verdana, arial, sans-serif; font-size: 12px; fill: rgb(255, 255, 255); fill-opacity: 1; white-space: pre;\">0.012</text></g><g class=\"heatmap-label\"><text text-anchor=\"middle\" data-notex=\"1\" x=\"210\" y=\"214.2\" style=\"font-family: 'Open Sans', verdana, arial, sans-serif; font-size: 12px; fill: rgb(255, 255, 255); fill-opacity: 1; white-space: pre;\">0</text></g><g class=\"heatmap-label\"><text text-anchor=\"middle\" data-notex=\"1\" x=\"30\" y=\"274.2\" style=\"font-family: 'Open Sans', verdana, arial, sans-serif; font-size: 12px; fill: rgb(255, 255, 255); fill-opacity: 1; white-space: pre;\">0.121</text></g><g class=\"heatmap-label\"><text text-anchor=\"middle\" data-notex=\"1\" x=\"90\" y=\"274.2\" style=\"font-family: 'Open Sans', verdana, arial, sans-serif; font-size: 12px; fill: rgb(255, 255, 255); fill-opacity: 1; white-space: pre;\">0.37</text></g><g class=\"heatmap-label\"><text text-anchor=\"middle\" data-notex=\"1\" x=\"150\" y=\"274.2\" style=\"font-family: 'Open Sans', verdana, arial, sans-serif; font-size: 12px; fill: rgb(255, 255, 255); fill-opacity: 1; white-space: pre;\">0.364</text></g><g class=\"heatmap-label\"><text text-anchor=\"middle\" data-notex=\"1\" x=\"210\" y=\"274.2\" style=\"font-family: 'Open Sans', verdana, arial, sans-serif; font-size: 12px; fill: rgb(255, 255, 255); fill-opacity: 1; white-space: pre;\">0.145</text></g><g class=\"heatmap-label\"><text text-anchor=\"middle\" data-notex=\"1\" x=\"30\" y=\"334.2\" style=\"font-family: 'Open Sans', verdana, arial, sans-serif; font-size: 12px; fill: rgb(255, 255, 255); fill-opacity: 1; white-space: pre;\">0.059</text></g><g class=\"heatmap-label\"><text text-anchor=\"middle\" data-notex=\"1\" x=\"90\" y=\"334.2\" style=\"font-family: 'Open Sans', verdana, arial, sans-serif; font-size: 12px; fill: rgb(255, 255, 255); fill-opacity: 1; white-space: pre;\">0.265</text></g><g class=\"heatmap-label\"><text text-anchor=\"middle\" data-notex=\"1\" x=\"150\" y=\"334.2\" style=\"font-family: 'Open Sans', verdana, arial, sans-serif; font-size: 12px; fill: rgb(255, 255, 255); fill-opacity: 1; white-space: pre;\">0.438</text></g><g class=\"heatmap-label\"><text text-anchor=\"middle\" data-notex=\"1\" x=\"210\" y=\"334.2\" style=\"font-family: 'Open Sans', verdana, arial, sans-serif; font-size: 12px; fill: rgb(255, 255, 255); fill-opacity: 1; white-space: pre;\">0.238</text></g></g></g></g><g class=\"overplot\"/><path class=\"xlines-above crisp\" d=\"M0,0\" style=\"fill: none;\"/><path class=\"ylines-above crisp\" d=\"M0,0\" style=\"fill: none;\"/><g class=\"overlines-above\"/><g class=\"xaxislayer-above\"><g class=\"xtick\"><text text-anchor=\"middle\" x=\"0\" y=\"433\" transform=\"translate(255.00000000000003,0)\" style=\"font-family: 'Open Sans', verdana, arial, sans-serif; font-size: 12px; fill: rgb(42, 63, 95); fill-opacity: 1; white-space: pre; opacity: 1;\">0</text></g><g class=\"xtick\"><text text-anchor=\"middle\" x=\"0\" y=\"433\" style=\"font-family: 'Open Sans', verdana, arial, sans-serif; font-size: 12px; fill: rgb(42, 63, 95); fill-opacity: 1; white-space: pre; opacity: 1;\" transform=\"translate(315,0)\">1</text></g><g class=\"xtick\"><text text-anchor=\"middle\" x=\"0\" y=\"433\" style=\"font-family: 'Open Sans', verdana, arial, sans-serif; font-size: 12px; fill: rgb(42, 63, 95); fill-opacity: 1; white-space: pre; opacity: 1;\" transform=\"translate(375,0)\">2</text></g><g class=\"xtick\"><text text-anchor=\"middle\" x=\"0\" y=\"433\" style=\"font-family: 'Open Sans', verdana, arial, sans-serif; font-size: 12px; fill: rgb(42, 63, 95); fill-opacity: 1; white-space: pre; opacity: 1;\" transform=\"translate(435,0)\">3</text></g></g><g class=\"yaxislayer-above\"><g class=\"ytick\"><text text-anchor=\"end\" x=\"224.00000000000003\" y=\"4.199999999999999\" transform=\"translate(0,390)\" style=\"font-family: 'Open Sans', verdana, arial, sans-serif; font-size: 12px; fill: rgb(42, 63, 95); fill-opacity: 1; white-space: pre; opacity: 1;\">5</text></g><g class=\"ytick\"><text text-anchor=\"end\" x=\"224.00000000000003\" y=\"4.199999999999999\" style=\"font-family: 'Open Sans', verdana, arial, sans-serif; font-size: 12px; fill: rgb(42, 63, 95); fill-opacity: 1; white-space: pre; opacity: 1;\" transform=\"translate(0,330)\">4</text></g><g class=\"ytick\"><text text-anchor=\"end\" x=\"224.00000000000003\" y=\"4.199999999999999\" style=\"font-family: 'Open Sans', verdana, arial, sans-serif; font-size: 12px; fill: rgb(42, 63, 95); fill-opacity: 1; white-space: pre; opacity: 1;\" transform=\"translate(0,270)\">3</text></g><g class=\"ytick\"><text text-anchor=\"end\" x=\"224.00000000000003\" y=\"4.199999999999999\" style=\"font-family: 'Open Sans', verdana, arial, sans-serif; font-size: 12px; fill: rgb(42, 63, 95); fill-opacity: 1; white-space: pre; opacity: 1;\" transform=\"translate(0,210)\">2</text></g><g class=\"ytick\"><text text-anchor=\"end\" x=\"224.00000000000003\" y=\"4.199999999999999\" style=\"font-family: 'Open Sans', verdana, arial, sans-serif; font-size: 12px; fill: rgb(42, 63, 95); fill-opacity: 1; white-space: pre; opacity: 1;\" transform=\"translate(0,150)\">1</text></g><g class=\"ytick\"><text text-anchor=\"end\" x=\"224.00000000000003\" y=\"4.199999999999999\" style=\"font-family: 'Open Sans', verdana, arial, sans-serif; font-size: 12px; fill: rgb(42, 63, 95); fill-opacity: 1; white-space: pre; opacity: 1;\" transform=\"translate(0,90)\">0</text></g></g><g class=\"overaxes-above\"/></g></g><g class=\"polarlayer\"/><g class=\"smithlayer\"/><g class=\"ternarylayer\"/><g class=\"geolayer\"/><g class=\"funnelarealayer\"/><g class=\"pielayer\"/><g class=\"iciclelayer\"/><g class=\"treemaplayer\"/><g class=\"sunburstlayer\"/><g class=\"glimages\"/><defs id=\"topdefs-ef2f6d\"><g class=\"clips\"/></defs><g class=\"layer-above\"><g class=\"imagelayer\"/><g class=\"shapelayer\"/></g><g class=\"infolayer\"><g class=\"cbcoloraxis colorbar\" transform=\"translate(80,60)\"><rect class=\"cbbg\" x=\"541\" y=\"0\" width=\"67.03125\" height=\"360\" style=\"fill: rgb(0, 0, 0); fill-opacity: 0; stroke: rgb(68, 68, 68); stroke-opacity: 1; stroke-width: 0;\"/><g class=\"cbfills\" transform=\"translate(0,10)\"><rect class=\"cbfill\" x=\"551\" y=\"0\" width=\"30\" height=\"340\" style=\"fill: url('#gef2f6d-cbcoloraxis');\"/></g><g class=\"cblines\" transform=\"translate(0,10)\"/><g class=\"cbaxis crisp\" transform=\"translate(0,-60)\"><g class=\"ycbcoloraxistick\"><text text-anchor=\"start\" x=\"583.9\" y=\"4.199999999999999\" transform=\"translate(0,410)\" style=\"font-family: 'Open Sans', verdana, arial, sans-serif; font-size: 12px; fill: rgb(42, 63, 95); fill-opacity: 1; white-space: pre; opacity: 1;\">0</text></g><g class=\"ycbcoloraxistick\"><text text-anchor=\"start\" x=\"583.9\" y=\"4.199999999999999\" style=\"font-family: 'Open Sans', verdana, arial, sans-serif; font-size: 12px; fill: rgb(42, 63, 95); fill-opacity: 1; white-space: pre; opacity: 1;\" transform=\"translate(0,369.23)\">0.1</text></g><g class=\"ycbcoloraxistick\"><text text-anchor=\"start\" x=\"583.9\" y=\"4.199999999999999\" style=\"font-family: 'Open Sans', verdana, arial, sans-serif; font-size: 12px; fill: rgb(42, 63, 95); fill-opacity: 1; white-space: pre; opacity: 1;\" transform=\"translate(0,328.47)\">0.2</text></g><g class=\"ycbcoloraxistick\"><text text-anchor=\"start\" x=\"583.9\" y=\"4.199999999999999\" style=\"font-family: 'Open Sans', verdana, arial, sans-serif; font-size: 12px; fill: rgb(42, 63, 95); fill-opacity: 1; white-space: pre; opacity: 1;\" transform=\"translate(0,287.7)\">0.3</text></g><g class=\"ycbcoloraxistick\"><text text-anchor=\"start\" x=\"583.9\" y=\"4.199999999999999\" style=\"font-family: 'Open Sans', verdana, arial, sans-serif; font-size: 12px; fill: rgb(42, 63, 95); fill-opacity: 1; white-space: pre; opacity: 1;\" transform=\"translate(0,246.93)\">0.4</text></g><g class=\"ycbcoloraxistick\"><text text-anchor=\"start\" x=\"583.9\" y=\"4.199999999999999\" style=\"font-family: 'Open Sans', verdana, arial, sans-serif; font-size: 12px; fill: rgb(42, 63, 95); fill-opacity: 1; white-space: pre; opacity: 1;\" transform=\"translate(0,206.16)\">0.5</text></g><g class=\"ycbcoloraxistick\"><text text-anchor=\"start\" x=\"583.9\" y=\"4.199999999999999\" style=\"font-family: 'Open Sans', verdana, arial, sans-serif; font-size: 12px; fill: rgb(42, 63, 95); fill-opacity: 1; white-space: pre; opacity: 1;\" transform=\"translate(0,165.4)\">0.6</text></g><g class=\"ycbcoloraxistick\"><text text-anchor=\"start\" x=\"583.9\" y=\"4.199999999999999\" style=\"font-family: 'Open Sans', verdana, arial, sans-serif; font-size: 12px; fill: rgb(42, 63, 95); fill-opacity: 1; white-space: pre; opacity: 1;\" transform=\"translate(0,124.63)\">0.7</text></g><g class=\"ycbcoloraxistick\"><text text-anchor=\"start\" x=\"583.9\" y=\"4.199999999999999\" style=\"font-family: 'Open Sans', verdana, arial, sans-serif; font-size: 12px; fill: rgb(42, 63, 95); fill-opacity: 1; white-space: pre; opacity: 1;\" transform=\"translate(0,83.86)\">0.8</text></g></g><g class=\"cbtitleunshift\" transform=\"translate(-80,-60)\"><g class=\"cbtitle\"/></g><rect class=\"cboutline\" x=\"551\" y=\"10\" width=\"30\" height=\"340\" style=\"stroke: rgb(68, 68, 68); stroke-opacity: 1; fill: none; stroke-width: 0;\"/></g><g class=\"g-gtitle\"><text class=\"gtitle\" x=\"35\" y=\"30\" text-anchor=\"start\" dy=\"0em\" style=\"font-family: 'Open Sans', verdana, arial, sans-serif; font-size: 17px; fill: rgb(42, 63, 95); opacity: 1; font-weight: normal; white-space: pre;\">Heatmap of the posterior mean of X</text></g><g class=\"g-xtitle\"/><g class=\"g-ytitle\"/></g></svg>"
     },
     "metadata": {}
    }
   ]
  },
  {
   "cell_type": "code",
   "source": [
    "sequences.std(0).round(2)"
   ],
   "metadata": {
    "colab": {
     "base_uri": "https://localhost:8080/"
    },
    "id": "8nh3IYMUSkDC",
    "outputId": "fc8a8116-7b0e-4b04-87f7-96a5a31913f6"
   },
   "execution_count": 45,
   "outputs": [
    {
     "output_type": "execute_result",
     "data": {
      "text/plain": [
       "array([[0.46, 0.44, 0.21, 0.04],\n",
       "       [0.49, 0.5 , 0.34, 0.14],\n",
       "       [0.48, 0.46, 0.24, 0.07],\n",
       "       [0.37, 0.36, 0.11, 0.  ],\n",
       "       [0.33, 0.48, 0.48, 0.35],\n",
       "       [0.24, 0.44, 0.5 , 0.43]])"
      ]
     },
     "metadata": {},
     "execution_count": 45
    }
   ]
  },
  {
   "cell_type": "code",
   "source": [
    "fig = px.imshow(sequences.std(0).round(2), text_auto=True)\n",
    "fig.update_layout(title=\"Heatmap of the posterior std of X\")\n",
    "fig.show()"
   ],
   "metadata": {
    "colab": {
     "base_uri": "https://localhost:8080/",
     "height": 522
    },
    "id": "y2keFupCTLax",
    "outputId": "f8f02c02-2138-4312-8fc1-dd277ab4829f"
   },
   "execution_count": 46,
   "outputs": [
    {
     "output_type": "display_data",
     "data": {
      "image/svg+xml": "<svg class=\"main-svg\" xmlns=\"http://www.w3.org/2000/svg\" xmlns:xlink=\"http://www.w3.org/1999/xlink\" width=\"700\" height=\"500\" style=\"\" viewBox=\"0 0 700 500\"><rect x=\"0\" y=\"0\" width=\"700\" height=\"500\" style=\"fill: rgb(255, 255, 255); fill-opacity: 1;\"/><defs id=\"defs-04d22d\"><g class=\"clips\"><clipPath id=\"clip04d22dxyplot\" class=\"plotclip\"><rect width=\"239.99999999999994\" height=\"360\"/></clipPath><clipPath class=\"axesclip\" id=\"clip04d22dx\"><rect x=\"225.00000000000003\" y=\"0\" width=\"239.99999999999994\" height=\"500\"/></clipPath><clipPath class=\"axesclip\" id=\"clip04d22dy\"><rect x=\"0\" y=\"60\" width=\"700\" height=\"360\"/></clipPath><clipPath class=\"axesclip\" id=\"clip04d22dxy\"><rect x=\"225.00000000000003\" y=\"60\" width=\"239.99999999999994\" height=\"360\"/></clipPath></g><g class=\"gradients\"><linearGradient x1=\"0\" x2=\"0\" y1=\"1\" y2=\"0\" id=\"g04d22d-cbcoloraxis\"><stop offset=\"0%\" stop-color=\"rgb(13, 8, 135)\" stop-opacity=\"1\"/><stop offset=\"11.111111%\" stop-color=\"rgb(70, 3, 159)\" stop-opacity=\"1\"/><stop offset=\"22.222222%\" stop-color=\"rgb(114, 1, 168)\" stop-opacity=\"1\"/><stop offset=\"33.333333%\" stop-color=\"rgb(156, 23, 158)\" stop-opacity=\"1\"/><stop offset=\"44.444444%\" stop-color=\"rgb(189, 55, 134)\" stop-opacity=\"1\"/><stop offset=\"55.555556%\" stop-color=\"rgb(216, 87, 107)\" stop-opacity=\"1\"/><stop offset=\"66.666667%\" stop-color=\"rgb(237, 121, 83)\" stop-opacity=\"1\"/><stop offset=\"77.777778%\" stop-color=\"rgb(251, 159, 58)\" stop-opacity=\"1\"/><stop offset=\"88.888889%\" stop-color=\"rgb(253, 202, 38)\" stop-opacity=\"1\"/><stop offset=\"100%\" stop-color=\"rgb(240, 249, 33)\" stop-opacity=\"1\"/></linearGradient></g><g class=\"patterns\"/></defs><g class=\"bglayer\"><rect class=\"bg\" x=\"225.00000000000003\" y=\"60\" width=\"239.99999999999994\" height=\"360\" style=\"fill: rgb(229, 236, 246); fill-opacity: 1; stroke-width: 0;\"/></g><g class=\"layer-below\"><g class=\"imagelayer\"/><g class=\"shapelayer\"/></g><g class=\"cartesianlayer\"><g class=\"subplot xy\"><g class=\"layer-subplot\"><g class=\"shapelayer\"/><g class=\"imagelayer\"/></g><g class=\"gridlayer\"><g class=\"x\"><path class=\"xgrid crisp\" transform=\"translate(315,0)\" d=\"M0,60v360\" style=\"stroke: rgb(255, 255, 255); stroke-opacity: 1; stroke-width: 1px;\"/><path class=\"xgrid crisp\" transform=\"translate(375,0)\" d=\"M0,60v360\" style=\"stroke: rgb(255, 255, 255); stroke-opacity: 1; stroke-width: 1px;\"/><path class=\"xgrid crisp\" transform=\"translate(435,0)\" d=\"M0,60v360\" style=\"stroke: rgb(255, 255, 255); stroke-opacity: 1; stroke-width: 1px;\"/></g><g class=\"y\"><path class=\"ygrid crisp\" transform=\"translate(0,390)\" d=\"M225.00000000000003,0h239.99999999999994\" style=\"stroke: rgb(255, 255, 255); stroke-opacity: 1; stroke-width: 1px;\"/><path class=\"ygrid crisp\" transform=\"translate(0,330)\" d=\"M225.00000000000003,0h239.99999999999994\" style=\"stroke: rgb(255, 255, 255); stroke-opacity: 1; stroke-width: 1px;\"/><path class=\"ygrid crisp\" transform=\"translate(0,270)\" d=\"M225.00000000000003,0h239.99999999999994\" style=\"stroke: rgb(255, 255, 255); stroke-opacity: 1; stroke-width: 1px;\"/><path class=\"ygrid crisp\" transform=\"translate(0,210)\" d=\"M225.00000000000003,0h239.99999999999994\" style=\"stroke: rgb(255, 255, 255); stroke-opacity: 1; stroke-width: 1px;\"/><path class=\"ygrid crisp\" transform=\"translate(0,150)\" d=\"M225.00000000000003,0h239.99999999999994\" style=\"stroke: rgb(255, 255, 255); stroke-opacity: 1; stroke-width: 1px;\"/></g></g><g class=\"zerolinelayer\"><path class=\"xzl zl crisp\" transform=\"translate(255.00000000000003,0)\" d=\"M0,60v360\" style=\"stroke: rgb(255, 255, 255); stroke-opacity: 1; stroke-width: 2px;\"/><path class=\"yzl zl crisp\" transform=\"translate(0,90)\" d=\"M225.00000000000003,0h239.99999999999994\" style=\"stroke: rgb(255, 255, 255); stroke-opacity: 1; stroke-width: 2px;\"/></g><path class=\"xlines-below\"/><path class=\"ylines-below\"/><g class=\"overlines-below\"/><g class=\"xaxislayer-below\"/><g class=\"yaxislayer-below\"/><g class=\"overaxes-below\"/><g class=\"plot\" transform=\"translate(225.00000000000003,60)\" clip-path=\"url(#clip04d22dxyplot)\"><g class=\"heatmaplayer mlayer\"><g class=\"hm\"><image xmlns=\"http://www.w3.org/2000/svg\" preserveAspectRatio=\"none\" height=\"360\" width=\"240\" x=\"0\" y=\"0\" xlink:href=\"data:image/png;base64,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\" style=\"opacity: 1;\"/><g class=\"heatmap-label\"><text text-anchor=\"middle\" data-notex=\"1\" x=\"30\" y=\"34.2\" style=\"font-family: 'Open Sans', verdana, arial, sans-serif; font-size: 12px; fill: rgb(68, 68, 68); fill-opacity: 1; white-space: pre;\">0.46</text></g><g class=\"heatmap-label\"><text text-anchor=\"middle\" data-notex=\"1\" x=\"90\" y=\"34.2\" style=\"font-family: 'Open Sans', verdana, arial, sans-serif; font-size: 12px; fill: rgb(68, 68, 68); fill-opacity: 1; white-space: pre;\">0.44</text></g><g class=\"heatmap-label\"><text text-anchor=\"middle\" data-notex=\"1\" x=\"150\" y=\"34.2\" style=\"font-family: 'Open Sans', verdana, arial, sans-serif; font-size: 12px; fill: rgb(255, 255, 255); fill-opacity: 1; white-space: pre;\">0.21</text></g><g class=\"heatmap-label\"><text text-anchor=\"middle\" data-notex=\"1\" x=\"210\" y=\"34.2\" style=\"font-family: 'Open Sans', verdana, arial, sans-serif; font-size: 12px; fill: rgb(255, 255, 255); fill-opacity: 1; white-space: pre;\">0.04</text></g><g class=\"heatmap-label\"><text text-anchor=\"middle\" data-notex=\"1\" x=\"30\" y=\"94.2\" style=\"font-family: 'Open Sans', verdana, arial, sans-serif; font-size: 12px; fill: rgb(68, 68, 68); fill-opacity: 1; white-space: pre;\">0.49</text></g><g class=\"heatmap-label\"><text text-anchor=\"middle\" data-notex=\"1\" x=\"90\" y=\"94.2\" style=\"font-family: 'Open Sans', verdana, arial, sans-serif; font-size: 12px; fill: rgb(68, 68, 68); fill-opacity: 1; white-space: pre;\">0.5</text></g><g class=\"heatmap-label\"><text text-anchor=\"middle\" data-notex=\"1\" x=\"150\" y=\"94.2\" style=\"font-family: 'Open Sans', verdana, arial, sans-serif; font-size: 12px; fill: rgb(68, 68, 68); fill-opacity: 1; white-space: pre;\">0.34</text></g><g class=\"heatmap-label\"><text text-anchor=\"middle\" data-notex=\"1\" x=\"210\" y=\"94.2\" style=\"font-family: 'Open Sans', verdana, arial, sans-serif; font-size: 12px; fill: rgb(255, 255, 255); fill-opacity: 1; white-space: pre;\">0.14</text></g><g class=\"heatmap-label\"><text text-anchor=\"middle\" data-notex=\"1\" x=\"30\" y=\"154.2\" style=\"font-family: 'Open Sans', verdana, arial, sans-serif; font-size: 12px; fill: rgb(68, 68, 68); fill-opacity: 1; white-space: pre;\">0.48</text></g><g class=\"heatmap-label\"><text text-anchor=\"middle\" data-notex=\"1\" x=\"90\" y=\"154.2\" style=\"font-family: 'Open Sans', verdana, arial, sans-serif; font-size: 12px; fill: rgb(68, 68, 68); fill-opacity: 1; white-space: pre;\">0.46</text></g><g class=\"heatmap-label\"><text text-anchor=\"middle\" data-notex=\"1\" x=\"150\" y=\"154.2\" style=\"font-family: 'Open Sans', verdana, arial, sans-serif; font-size: 12px; fill: rgb(255, 255, 255); fill-opacity: 1; white-space: pre;\">0.24</text></g><g class=\"heatmap-label\"><text text-anchor=\"middle\" data-notex=\"1\" x=\"210\" y=\"154.2\" style=\"font-family: 'Open Sans', verdana, arial, sans-serif; font-size: 12px; fill: rgb(255, 255, 255); fill-opacity: 1; white-space: pre;\">0.07</text></g><g class=\"heatmap-label\"><text text-anchor=\"middle\" data-notex=\"1\" x=\"30\" y=\"214.2\" style=\"font-family: 'Open Sans', verdana, arial, sans-serif; font-size: 12px; fill: rgb(68, 68, 68); fill-opacity: 1; white-space: pre;\">0.37</text></g><g class=\"heatmap-label\"><text text-anchor=\"middle\" data-notex=\"1\" x=\"90\" y=\"214.2\" style=\"font-family: 'Open Sans', verdana, arial, sans-serif; font-size: 12px; fill: rgb(68, 68, 68); fill-opacity: 1; white-space: pre;\">0.36</text></g><g class=\"heatmap-label\"><text text-anchor=\"middle\" data-notex=\"1\" x=\"150\" y=\"214.2\" style=\"font-family: 'Open Sans', verdana, arial, sans-serif; font-size: 12px; fill: rgb(255, 255, 255); fill-opacity: 1; white-space: pre;\">0.11</text></g><g class=\"heatmap-label\"><text text-anchor=\"middle\" data-notex=\"1\" x=\"210\" y=\"214.2\" style=\"font-family: 'Open Sans', verdana, arial, sans-serif; font-size: 12px; fill: rgb(255, 255, 255); fill-opacity: 1; white-space: pre;\">0</text></g><g class=\"heatmap-label\"><text text-anchor=\"middle\" data-notex=\"1\" x=\"30\" y=\"274.2\" style=\"font-family: 'Open Sans', verdana, arial, sans-serif; font-size: 12px; fill: rgb(68, 68, 68); fill-opacity: 1; white-space: pre;\">0.33</text></g><g class=\"heatmap-label\"><text text-anchor=\"middle\" data-notex=\"1\" x=\"90\" y=\"274.2\" style=\"font-family: 'Open Sans', verdana, arial, sans-serif; font-size: 12px; fill: rgb(68, 68, 68); fill-opacity: 1; white-space: pre;\">0.48</text></g><g class=\"heatmap-label\"><text text-anchor=\"middle\" data-notex=\"1\" x=\"150\" y=\"274.2\" style=\"font-family: 'Open Sans', verdana, arial, sans-serif; font-size: 12px; fill: rgb(68, 68, 68); fill-opacity: 1; white-space: pre;\">0.48</text></g><g class=\"heatmap-label\"><text text-anchor=\"middle\" data-notex=\"1\" x=\"210\" y=\"274.2\" style=\"font-family: 'Open Sans', verdana, arial, sans-serif; font-size: 12px; fill: rgb(68, 68, 68); fill-opacity: 1; white-space: pre;\">0.35</text></g><g class=\"heatmap-label\"><text text-anchor=\"middle\" data-notex=\"1\" x=\"30\" y=\"334.2\" style=\"font-family: 'Open Sans', verdana, arial, sans-serif; font-size: 12px; fill: rgb(255, 255, 255); fill-opacity: 1; white-space: pre;\">0.24</text></g><g class=\"heatmap-label\"><text text-anchor=\"middle\" data-notex=\"1\" x=\"90\" y=\"334.2\" style=\"font-family: 'Open Sans', verdana, arial, sans-serif; font-size: 12px; fill: rgb(68, 68, 68); fill-opacity: 1; white-space: pre;\">0.44</text></g><g class=\"heatmap-label\"><text text-anchor=\"middle\" data-notex=\"1\" x=\"150\" y=\"334.2\" style=\"font-family: 'Open Sans', verdana, arial, sans-serif; font-size: 12px; fill: rgb(68, 68, 68); fill-opacity: 1; white-space: pre;\">0.5</text></g><g class=\"heatmap-label\"><text text-anchor=\"middle\" data-notex=\"1\" x=\"210\" y=\"334.2\" style=\"font-family: 'Open Sans', verdana, arial, sans-serif; font-size: 12px; fill: rgb(68, 68, 68); fill-opacity: 1; white-space: pre;\">0.43</text></g></g></g></g><g class=\"overplot\"/><path class=\"xlines-above crisp\" d=\"M0,0\" style=\"fill: none;\"/><path class=\"ylines-above crisp\" d=\"M0,0\" style=\"fill: none;\"/><g class=\"overlines-above\"/><g class=\"xaxislayer-above\"><g class=\"xtick\"><text text-anchor=\"middle\" x=\"0\" y=\"433\" transform=\"translate(255.00000000000003,0)\" style=\"font-family: 'Open Sans', verdana, arial, sans-serif; font-size: 12px; fill: rgb(42, 63, 95); fill-opacity: 1; white-space: pre; opacity: 1;\">0</text></g><g class=\"xtick\"><text text-anchor=\"middle\" x=\"0\" y=\"433\" style=\"font-family: 'Open Sans', verdana, arial, sans-serif; font-size: 12px; fill: rgb(42, 63, 95); fill-opacity: 1; white-space: pre; opacity: 1;\" transform=\"translate(315,0)\">1</text></g><g class=\"xtick\"><text text-anchor=\"middle\" x=\"0\" y=\"433\" style=\"font-family: 'Open Sans', verdana, arial, sans-serif; font-size: 12px; fill: rgb(42, 63, 95); fill-opacity: 1; white-space: pre; opacity: 1;\" transform=\"translate(375,0)\">2</text></g><g class=\"xtick\"><text text-anchor=\"middle\" x=\"0\" y=\"433\" style=\"font-family: 'Open Sans', verdana, arial, sans-serif; font-size: 12px; fill: rgb(42, 63, 95); fill-opacity: 1; white-space: pre; opacity: 1;\" transform=\"translate(435,0)\">3</text></g></g><g class=\"yaxislayer-above\"><g class=\"ytick\"><text text-anchor=\"end\" x=\"224.00000000000003\" y=\"4.199999999999999\" transform=\"translate(0,390)\" style=\"font-family: 'Open Sans', verdana, arial, sans-serif; font-size: 12px; fill: rgb(42, 63, 95); fill-opacity: 1; white-space: pre; opacity: 1;\">5</text></g><g class=\"ytick\"><text text-anchor=\"end\" x=\"224.00000000000003\" y=\"4.199999999999999\" style=\"font-family: 'Open Sans', verdana, arial, sans-serif; font-size: 12px; fill: rgb(42, 63, 95); fill-opacity: 1; white-space: pre; opacity: 1;\" transform=\"translate(0,330)\">4</text></g><g class=\"ytick\"><text text-anchor=\"end\" x=\"224.00000000000003\" y=\"4.199999999999999\" style=\"font-family: 'Open Sans', verdana, arial, sans-serif; font-size: 12px; fill: rgb(42, 63, 95); fill-opacity: 1; white-space: pre; opacity: 1;\" transform=\"translate(0,270)\">3</text></g><g class=\"ytick\"><text text-anchor=\"end\" x=\"224.00000000000003\" y=\"4.199999999999999\" style=\"font-family: 'Open Sans', verdana, arial, sans-serif; font-size: 12px; fill: rgb(42, 63, 95); fill-opacity: 1; white-space: pre; opacity: 1;\" transform=\"translate(0,210)\">2</text></g><g class=\"ytick\"><text text-anchor=\"end\" x=\"224.00000000000003\" y=\"4.199999999999999\" style=\"font-family: 'Open Sans', verdana, arial, sans-serif; font-size: 12px; fill: rgb(42, 63, 95); fill-opacity: 1; white-space: pre; opacity: 1;\" transform=\"translate(0,150)\">1</text></g><g class=\"ytick\"><text text-anchor=\"end\" x=\"224.00000000000003\" y=\"4.199999999999999\" style=\"font-family: 'Open Sans', verdana, arial, sans-serif; font-size: 12px; fill: rgb(42, 63, 95); fill-opacity: 1; white-space: pre; opacity: 1;\" transform=\"translate(0,90)\">0</text></g></g><g class=\"overaxes-above\"/></g></g><g class=\"polarlayer\"/><g class=\"smithlayer\"/><g class=\"ternarylayer\"/><g class=\"geolayer\"/><g class=\"funnelarealayer\"/><g class=\"pielayer\"/><g class=\"iciclelayer\"/><g class=\"treemaplayer\"/><g class=\"sunburstlayer\"/><g class=\"glimages\"/><defs id=\"topdefs-04d22d\"><g class=\"clips\"/></defs><g class=\"layer-above\"><g class=\"imagelayer\"/><g class=\"shapelayer\"/></g><g class=\"infolayer\"><g class=\"cbcoloraxis colorbar\" transform=\"translate(80,60)\"><rect class=\"cbbg\" x=\"541\" y=\"0\" width=\"67.03125\" height=\"360\" style=\"fill: rgb(0, 0, 0); fill-opacity: 0; stroke: rgb(68, 68, 68); stroke-opacity: 1; stroke-width: 0;\"/><g class=\"cbfills\" transform=\"translate(0,10)\"><rect class=\"cbfill\" x=\"551\" y=\"0\" width=\"30\" height=\"340\" style=\"fill: url('#g04d22d-cbcoloraxis');\"/></g><g class=\"cblines\" transform=\"translate(0,10)\"/><g class=\"cbaxis crisp\" transform=\"translate(0,-60)\"><g class=\"ycbcoloraxistick\"><text text-anchor=\"start\" x=\"583.9\" y=\"4.199999999999999\" transform=\"translate(0,410)\" style=\"font-family: 'Open Sans', verdana, arial, sans-serif; font-size: 12px; fill: rgb(42, 63, 95); fill-opacity: 1; white-space: pre; opacity: 1;\">0</text></g><g class=\"ycbcoloraxistick\"><text text-anchor=\"start\" x=\"583.9\" y=\"4.199999999999999\" style=\"font-family: 'Open Sans', verdana, arial, sans-serif; font-size: 12px; fill: rgb(42, 63, 95); fill-opacity: 1; white-space: pre; opacity: 1;\" transform=\"translate(0,342)\">0.1</text></g><g class=\"ycbcoloraxistick\"><text text-anchor=\"start\" x=\"583.9\" y=\"4.199999999999999\" style=\"font-family: 'Open Sans', verdana, arial, sans-serif; font-size: 12px; fill: rgb(42, 63, 95); fill-opacity: 1; white-space: pre; opacity: 1;\" transform=\"translate(0,274)\">0.2</text></g><g class=\"ycbcoloraxistick\"><text text-anchor=\"start\" x=\"583.9\" y=\"4.199999999999999\" style=\"font-family: 'Open Sans', verdana, arial, sans-serif; font-size: 12px; fill: rgb(42, 63, 95); fill-opacity: 1; white-space: pre; opacity: 1;\" transform=\"translate(0,206)\">0.3</text></g><g class=\"ycbcoloraxistick\"><text text-anchor=\"start\" x=\"583.9\" y=\"4.199999999999999\" style=\"font-family: 'Open Sans', verdana, arial, sans-serif; font-size: 12px; fill: rgb(42, 63, 95); fill-opacity: 1; white-space: pre; opacity: 1;\" transform=\"translate(0,138)\">0.4</text></g><g class=\"ycbcoloraxistick\"><text text-anchor=\"start\" x=\"583.9\" y=\"4.199999999999999\" style=\"font-family: 'Open Sans', verdana, arial, sans-serif; font-size: 12px; fill: rgb(42, 63, 95); fill-opacity: 1; white-space: pre; opacity: 1;\" transform=\"translate(0,70)\">0.5</text></g></g><g class=\"cbtitleunshift\" transform=\"translate(-80,-60)\"><g class=\"cbtitle\"/></g><rect class=\"cboutline\" x=\"551\" y=\"10\" width=\"30\" height=\"340\" style=\"stroke: rgb(68, 68, 68); stroke-opacity: 1; fill: none; stroke-width: 0;\"/></g><g class=\"g-gtitle\"><text class=\"gtitle\" x=\"35\" y=\"30\" text-anchor=\"start\" dy=\"0em\" style=\"font-family: 'Open Sans', verdana, arial, sans-serif; font-size: 17px; fill: rgb(42, 63, 95); opacity: 1; font-weight: normal; white-space: pre;\">Heatmap of the posterior std of X</text></g><g class=\"g-xtitle\"/><g class=\"g-ytitle\"/></g></svg>"
     },
     "metadata": {}
    }
   ]
  },
  {
   "cell_type": "markdown",
   "source": [
    "#### Pyro and PyStan implementations"
   ],
   "metadata": {
    "id": "eQU4YP_Y4PnM"
   }
  },
  {
   "cell_type": "markdown",
   "source": [
    "I won't reccomend to go through this section, but would be nice to receive some suggestions on which framework is better to use.\n",
    "\n",
    "Here are also some additional experiments with Pyro and PyStan. I do not provide the same code as implemented previously with Python, but it was interesting to play with different probabilistic programming frameworks. For Pyro, I report the program graph of hidden and observed variables. PyStan implementation will not work in Jupyter notebook, because of threads issues and it can be executed only on Linux-based systems. "
   ],
   "metadata": {
    "id": "DeEHM7PHd23i"
   }
  },
  {
   "cell_type": "code",
   "source": [
    "!pip install pyro-ppl"
   ],
   "metadata": {
    "id": "-uvIOWjdSMPY"
   },
   "execution_count": null,
   "outputs": []
  },
  {
   "cell_type": "code",
   "source": [
    "import torch\n",
    "import pyro\n",
    "import pyro.distributions as dist"
   ],
   "metadata": {
    "id": "M4xQNOh0dEE5"
   },
   "execution_count": 7,
   "outputs": []
  },
  {
   "cell_type": "code",
   "source": [
    "# Number of states\n",
    "S = 4\n",
    "\n",
    "# Number of observations\n",
    "T = 6\n",
    "\n",
    "# Transition probability matrix P\n",
    "P = torch.tensor([[0.1, 0.4, 0.3, 0.2],\n",
    "                  [0.1, 0.1, 0.6, 0.2],\n",
    "                  [0.1, 0.2, 0.5, 0.2],\n",
    "                  [0.2, 0.3, 0.4, 0.1]])\n",
    "\n",
    "# Observations y_t\n",
    "y = torch.tensor([0.5, 1.5, 0.9, 0, 2.5, 3])\n",
    "\n",
    "# Define the probabilistic model\n",
    "def hmm(y, log_gdp=None):\n",
    "  # Latent variables (hidden states)\n",
    "  latent_variables = [pyro.sample(\"latent_variables_{}\".format(t), dist.Categorical(torch.ones(S) / S)) for t in range(T)]\n",
    "  \n",
    "  # Observations\n",
    "  for t in range(T):\n",
    "    pyro.sample('observation_{}'.format(t), dist.Normal(latent_variables[t], 1), obs=y[t])\n",
    "  \n",
    "  # Transition probabilities\n",
    "  for t in range(1, T):\n",
    "    pyro.sample('latent_variable_{}'.format(t), dist.Categorical(P[latent_variables[t-1]]), obs=latent_variables[t])\n",
    "\n",
    "posterior = pyro.infer.Importance(hmm, num_samples=1000).run(y)\n",
    "\n",
    "log_gdp = False\n",
    "pyro.render_model(hmm, model_args=(y,log_gdp), render_distributions=True)"
   ],
   "metadata": {
    "colab": {
     "base_uri": "https://localhost:8080/",
     "height": 534
    },
    "id": "TzLJ1E2za7dU",
    "outputId": "c8639aa8-7699-4381-e5af-fe52019cbc00"
   },
   "execution_count": 8,
   "outputs": [
    {
     "output_type": "stream",
     "name": "stderr",
     "text": [
      "/usr/local/lib/python3.8/dist-packages/torch/cuda/__init__.py:497: UserWarning: Can't initialize NVML\n",
      "  warnings.warn(\"Can't initialize NVML\")\n"
     ]
    },
    {
     "output_type": "execute_result",
     "data": {
      "text/plain": [
       "<graphviz.dot.Digraph at 0x7f189f267cd0>"
      ],
      "image/svg+xml": "<?xml version=\"1.0\" encoding=\"UTF-8\" standalone=\"no\"?>\n<!DOCTYPE svg PUBLIC \"-//W3C//DTD SVG 1.1//EN\"\n \"http://www.w3.org/Graphics/SVG/1.1/DTD/svg11.dtd\">\n<!-- Generated by graphviz version 2.40.1 (20161225.0304)\n -->\n<!-- Title: %3 Pages: 1 -->\n<svg width=\"1937pt\" height=\"343pt\"\n viewBox=\"0.00 0.00 1936.69 343.00\" xmlns=\"http://www.w3.org/2000/svg\" xmlns:xlink=\"http://www.w3.org/1999/xlink\">\n<g id=\"graph0\" class=\"graph\" transform=\"scale(1 1) rotate(0) translate(4 339)\">\n<title>%3</title>\n<polygon fill=\"#ffffff\" stroke=\"transparent\" points=\"-4,4 -4,-339 1932.6943,-339 1932.6943,4 -4,4\"/>\n<!-- latent_variables_0 -->\n<g id=\"node1\" class=\"node\">\n<title>latent_variables_0</title>\n<ellipse fill=\"#ffffff\" stroke=\"#000000\" cx=\"178.6943\" cy=\"-203.5\" rx=\"77.9862\" ry=\"18\"/>\n<text text-anchor=\"middle\" x=\"178.6943\" y=\"-199.8\" font-family=\"Times,serif\" font-size=\"14.00\" fill=\"#000000\">latent_variables_0</text>\n</g>\n<!-- observation_0 -->\n<g id=\"node7\" class=\"node\">\n<title>observation_0</title>\n<ellipse fill=\"#c0c0c0\" stroke=\"#000000\" cx=\"63.6943\" cy=\"-18\" rx=\"63.8893\" ry=\"18\"/>\n<text text-anchor=\"middle\" x=\"63.6943\" y=\"-14.3\" font-family=\"Times,serif\" font-size=\"14.00\" fill=\"#000000\">observation_0</text>\n</g>\n<!-- latent_variables_0&#45;&gt;observation_0 -->\n<g id=\"edge1\" class=\"edge\">\n<title>latent_variables_0&#45;&gt;observation_0</title>\n<path fill=\"none\" stroke=\"#000000\" d=\"M167.4583,-185.3757C147.0524,-152.4601 103.826,-82.7341 80.112,-44.4825\"/>\n<polygon fill=\"#000000\" stroke=\"#000000\" points=\"83.0506,-42.5798 74.8067,-35.9247 77.1011,-46.2682 83.0506,-42.5798\"/>\n</g>\n<!-- latent_variable_1 -->\n<g id=\"node13\" class=\"node\">\n<title>latent_variable_1</title>\n<ellipse fill=\"#c0c0c0\" stroke=\"#000000\" cx=\"219.6943\" cy=\"-18\" rx=\"74.9875\" ry=\"18\"/>\n<text text-anchor=\"middle\" x=\"219.6943\" y=\"-14.3\" font-family=\"Times,serif\" font-size=\"14.00\" fill=\"#000000\">latent_variable_1</text>\n</g>\n<!-- latent_variables_0&#45;&gt;latent_variable_1 -->\n<g id=\"edge7\" class=\"edge\">\n<title>latent_variables_0&#45;&gt;latent_variable_1</title>\n<path fill=\"none\" stroke=\"#000000\" d=\"M182.7003,-185.3757C189.8649,-152.9601 204.9202,-84.8439 213.4511,-46.2471\"/>\n<polygon fill=\"#000000\" stroke=\"#000000\" points=\"216.9315,-46.7176 215.6722,-36.1978 210.0964,-45.2068 216.9315,-46.7176\"/>\n</g>\n<!-- latent_variables_1 -->\n<g id=\"node2\" class=\"node\">\n<title>latent_variables_1</title>\n<ellipse fill=\"#ffffff\" stroke=\"#000000\" cx=\"425.6943\" cy=\"-203.5\" rx=\"77.9862\" ry=\"18\"/>\n<text text-anchor=\"middle\" x=\"425.6943\" y=\"-199.8\" font-family=\"Times,serif\" font-size=\"14.00\" fill=\"#000000\">latent_variables_1</text>\n</g>\n<!-- observation_1 -->\n<g id=\"node8\" class=\"node\">\n<title>observation_1</title>\n<ellipse fill=\"#c0c0c0\" stroke=\"#000000\" cx=\"384.6943\" cy=\"-18\" rx=\"63.8893\" ry=\"18\"/>\n<text text-anchor=\"middle\" x=\"384.6943\" y=\"-14.3\" font-family=\"Times,serif\" font-size=\"14.00\" fill=\"#000000\">observation_1</text>\n</g>\n<!-- latent_variables_1&#45;&gt;observation_1 -->\n<g id=\"edge2\" class=\"edge\">\n<title>latent_variables_1&#45;&gt;observation_1</title>\n<path fill=\"none\" stroke=\"#000000\" d=\"M421.6884,-185.3757C414.5238,-152.9601 399.4685,-84.8439 390.9376,-46.2471\"/>\n<polygon fill=\"#000000\" stroke=\"#000000\" points=\"394.2923,-45.2068 388.7165,-36.1978 387.4572,-46.7176 394.2923,-45.2068\"/>\n</g>\n<!-- latent_variable_2 -->\n<g id=\"node14\" class=\"node\">\n<title>latent_variable_2</title>\n<ellipse fill=\"#c0c0c0\" stroke=\"#000000\" cx=\"540.6943\" cy=\"-18\" rx=\"74.9875\" ry=\"18\"/>\n<text text-anchor=\"middle\" x=\"540.6943\" y=\"-14.3\" font-family=\"Times,serif\" font-size=\"14.00\" fill=\"#000000\">latent_variable_2</text>\n</g>\n<!-- latent_variables_1&#45;&gt;latent_variable_2 -->\n<g id=\"edge8\" class=\"edge\">\n<title>latent_variables_1&#45;&gt;latent_variable_2</title>\n<path fill=\"none\" stroke=\"#000000\" d=\"M436.9304,-185.3757C457.3363,-152.4601 500.5627,-82.7341 524.2767,-44.4825\"/>\n<polygon fill=\"#000000\" stroke=\"#000000\" points=\"527.2876,-46.2682 529.582,-35.9247 521.3381,-42.5798 527.2876,-46.2682\"/>\n</g>\n<!-- latent_variables_2 -->\n<g id=\"node3\" class=\"node\">\n<title>latent_variables_2</title>\n<ellipse fill=\"#ffffff\" stroke=\"#000000\" cx=\"765.6943\" cy=\"-203.5\" rx=\"77.9862\" ry=\"18\"/>\n<text text-anchor=\"middle\" x=\"765.6943\" y=\"-199.8\" font-family=\"Times,serif\" font-size=\"14.00\" fill=\"#000000\">latent_variables_2</text>\n</g>\n<!-- observation_2 -->\n<g id=\"node9\" class=\"node\">\n<title>observation_2</title>\n<ellipse fill=\"#c0c0c0\" stroke=\"#000000\" cx=\"696.6943\" cy=\"-18\" rx=\"63.8893\" ry=\"18\"/>\n<text text-anchor=\"middle\" x=\"696.6943\" y=\"-14.3\" font-family=\"Times,serif\" font-size=\"14.00\" fill=\"#000000\">observation_2</text>\n</g>\n<!-- latent_variables_2&#45;&gt;observation_2 -->\n<g id=\"edge3\" class=\"edge\">\n<title>latent_variables_2&#45;&gt;observation_2</title>\n<path fill=\"none\" stroke=\"#000000\" d=\"M758.9527,-185.3757C746.8125,-152.7379 721.2101,-83.9083 706.9077,-45.4575\"/>\n<polygon fill=\"#000000\" stroke=\"#000000\" points=\"710.1286,-44.0771 703.3618,-35.9247 703.5677,-46.5176 710.1286,-44.0771\"/>\n</g>\n<!-- latent_variable_3 -->\n<g id=\"node15\" class=\"node\">\n<title>latent_variable_3</title>\n<ellipse fill=\"#c0c0c0\" stroke=\"#000000\" cx=\"852.6943\" cy=\"-18\" rx=\"74.9875\" ry=\"18\"/>\n<text text-anchor=\"middle\" x=\"852.6943\" y=\"-14.3\" font-family=\"Times,serif\" font-size=\"14.00\" fill=\"#000000\">latent_variable_3</text>\n</g>\n<!-- latent_variables_2&#45;&gt;latent_variable_3 -->\n<g id=\"edge9\" class=\"edge\">\n<title>latent_variables_2&#45;&gt;latent_variable_3</title>\n<path fill=\"none\" stroke=\"#000000\" d=\"M774.1947,-185.3757C789.5019,-152.7379 821.7832,-83.9083 839.8167,-45.4575\"/>\n<polygon fill=\"#000000\" stroke=\"#000000\" points=\"843.2101,-46.4646 844.2876,-35.9247 836.8725,-43.4923 843.2101,-46.4646\"/>\n</g>\n<!-- latent_variables_3 -->\n<g id=\"node4\" class=\"node\">\n<title>latent_variables_3</title>\n<ellipse fill=\"#ffffff\" stroke=\"#000000\" cx=\"1077.6943\" cy=\"-203.5\" rx=\"77.9862\" ry=\"18\"/>\n<text text-anchor=\"middle\" x=\"1077.6943\" y=\"-199.8\" font-family=\"Times,serif\" font-size=\"14.00\" fill=\"#000000\">latent_variables_3</text>\n</g>\n<!-- observation_3 -->\n<g id=\"node10\" class=\"node\">\n<title>observation_3</title>\n<ellipse fill=\"#c0c0c0\" stroke=\"#000000\" cx=\"1008.6943\" cy=\"-18\" rx=\"63.8893\" ry=\"18\"/>\n<text text-anchor=\"middle\" x=\"1008.6943\" y=\"-14.3\" font-family=\"Times,serif\" font-size=\"14.00\" fill=\"#000000\">observation_3</text>\n</g>\n<!-- latent_variables_3&#45;&gt;observation_3 -->\n<g id=\"edge4\" class=\"edge\">\n<title>latent_variables_3&#45;&gt;observation_3</title>\n<path fill=\"none\" stroke=\"#000000\" d=\"M1070.9527,-185.3757C1058.8125,-152.7379 1033.2101,-83.9083 1018.9077,-45.4575\"/>\n<polygon fill=\"#000000\" stroke=\"#000000\" points=\"1022.1286,-44.0771 1015.3618,-35.9247 1015.5677,-46.5176 1022.1286,-44.0771\"/>\n</g>\n<!-- latent_variable_4 -->\n<g id=\"node16\" class=\"node\">\n<title>latent_variable_4</title>\n<ellipse fill=\"#c0c0c0\" stroke=\"#000000\" cx=\"1164.6943\" cy=\"-18\" rx=\"74.9875\" ry=\"18\"/>\n<text text-anchor=\"middle\" x=\"1164.6943\" y=\"-14.3\" font-family=\"Times,serif\" font-size=\"14.00\" fill=\"#000000\">latent_variable_4</text>\n</g>\n<!-- latent_variables_3&#45;&gt;latent_variable_4 -->\n<g id=\"edge10\" class=\"edge\">\n<title>latent_variables_3&#45;&gt;latent_variable_4</title>\n<path fill=\"none\" stroke=\"#000000\" d=\"M1086.1947,-185.3757C1101.5019,-152.7379 1133.7832,-83.9083 1151.8167,-45.4575\"/>\n<polygon fill=\"#000000\" stroke=\"#000000\" points=\"1155.2101,-46.4646 1156.2876,-35.9247 1148.8725,-43.4923 1155.2101,-46.4646\"/>\n</g>\n<!-- latent_variables_4 -->\n<g id=\"node5\" class=\"node\">\n<title>latent_variables_4</title>\n<ellipse fill=\"#ffffff\" stroke=\"#000000\" cx=\"1389.6943\" cy=\"-203.5\" rx=\"77.9862\" ry=\"18\"/>\n<text text-anchor=\"middle\" x=\"1389.6943\" y=\"-199.8\" font-family=\"Times,serif\" font-size=\"14.00\" fill=\"#000000\">latent_variables_4</text>\n</g>\n<!-- observation_4 -->\n<g id=\"node11\" class=\"node\">\n<title>observation_4</title>\n<ellipse fill=\"#c0c0c0\" stroke=\"#000000\" cx=\"1320.6943\" cy=\"-18\" rx=\"63.8893\" ry=\"18\"/>\n<text text-anchor=\"middle\" x=\"1320.6943\" y=\"-14.3\" font-family=\"Times,serif\" font-size=\"14.00\" fill=\"#000000\">observation_4</text>\n</g>\n<!-- latent_variables_4&#45;&gt;observation_4 -->\n<g id=\"edge5\" class=\"edge\">\n<title>latent_variables_4&#45;&gt;observation_4</title>\n<path fill=\"none\" stroke=\"#000000\" d=\"M1382.9527,-185.3757C1370.8125,-152.7379 1345.2101,-83.9083 1330.9077,-45.4575\"/>\n<polygon fill=\"#000000\" stroke=\"#000000\" points=\"1334.1286,-44.0771 1327.3618,-35.9247 1327.5677,-46.5176 1334.1286,-44.0771\"/>\n</g>\n<!-- latent_variable_5 -->\n<g id=\"node17\" class=\"node\">\n<title>latent_variable_5</title>\n<ellipse fill=\"#c0c0c0\" stroke=\"#000000\" cx=\"1476.6943\" cy=\"-18\" rx=\"74.9875\" ry=\"18\"/>\n<text text-anchor=\"middle\" x=\"1476.6943\" y=\"-14.3\" font-family=\"Times,serif\" font-size=\"14.00\" fill=\"#000000\">latent_variable_5</text>\n</g>\n<!-- latent_variables_4&#45;&gt;latent_variable_5 -->\n<g id=\"edge11\" class=\"edge\">\n<title>latent_variables_4&#45;&gt;latent_variable_5</title>\n<path fill=\"none\" stroke=\"#000000\" d=\"M1398.1947,-185.3757C1413.5019,-152.7379 1445.7832,-83.9083 1463.8167,-45.4575\"/>\n<polygon fill=\"#000000\" stroke=\"#000000\" points=\"1467.2101,-46.4646 1468.2876,-35.9247 1460.8725,-43.4923 1467.2101,-46.4646\"/>\n</g>\n<!-- latent_variables_5 -->\n<g id=\"node6\" class=\"node\">\n<title>latent_variables_5</title>\n<ellipse fill=\"#ffffff\" stroke=\"#000000\" cx=\"1632.6943\" cy=\"-203.5\" rx=\"77.9862\" ry=\"18\"/>\n<text text-anchor=\"middle\" x=\"1632.6943\" y=\"-199.8\" font-family=\"Times,serif\" font-size=\"14.00\" fill=\"#000000\">latent_variables_5</text>\n</g>\n<!-- observation_5 -->\n<g id=\"node12\" class=\"node\">\n<title>observation_5</title>\n<ellipse fill=\"#c0c0c0\" stroke=\"#000000\" cx=\"1632.6943\" cy=\"-18\" rx=\"63.8893\" ry=\"18\"/>\n<text text-anchor=\"middle\" x=\"1632.6943\" y=\"-14.3\" font-family=\"Times,serif\" font-size=\"14.00\" fill=\"#000000\">observation_5</text>\n</g>\n<!-- latent_variables_5&#45;&gt;observation_5 -->\n<g id=\"edge6\" class=\"edge\">\n<title>latent_variables_5&#45;&gt;observation_5</title>\n<path fill=\"none\" stroke=\"#000000\" d=\"M1632.6943,-185.3757C1632.6943,-152.9601 1632.6943,-84.8439 1632.6943,-46.2471\"/>\n<polygon fill=\"#000000\" stroke=\"#000000\" points=\"1636.1944,-46.1978 1632.6943,-36.1978 1629.1944,-46.1979 1636.1944,-46.1978\"/>\n</g>\n<!-- distribution_description_node -->\n<g id=\"node18\" class=\"node\">\n<title>distribution_description_node</title>\n<text text-anchor=\"start\" x=\"1736.6943\" y=\"-319.8\" font-family=\"Times,serif\" font-size=\"14.00\" fill=\"#000000\">latent_variables_0 ~ Categorical</text>\n<text text-anchor=\"start\" x=\"1736.6943\" y=\"-304.8\" font-family=\"Times,serif\" font-size=\"14.00\" fill=\"#000000\">latent_variables_1 ~ Categorical</text>\n<text text-anchor=\"start\" x=\"1736.6943\" y=\"-289.8\" font-family=\"Times,serif\" font-size=\"14.00\" fill=\"#000000\">latent_variables_2 ~ Categorical</text>\n<text text-anchor=\"start\" x=\"1736.6943\" y=\"-274.8\" font-family=\"Times,serif\" font-size=\"14.00\" fill=\"#000000\">latent_variables_3 ~ Categorical</text>\n<text text-anchor=\"start\" x=\"1736.6943\" y=\"-259.8\" font-family=\"Times,serif\" font-size=\"14.00\" fill=\"#000000\">latent_variables_4 ~ Categorical</text>\n<text text-anchor=\"start\" x=\"1736.6943\" y=\"-244.8\" font-family=\"Times,serif\" font-size=\"14.00\" fill=\"#000000\">latent_variables_5 ~ Categorical</text>\n<text text-anchor=\"start\" x=\"1736.6943\" y=\"-229.8\" font-family=\"Times,serif\" font-size=\"14.00\" fill=\"#000000\">observation_0 ~ Normal</text>\n<text text-anchor=\"start\" x=\"1736.6943\" y=\"-214.8\" font-family=\"Times,serif\" font-size=\"14.00\" fill=\"#000000\">observation_1 ~ Normal</text>\n<text text-anchor=\"start\" x=\"1736.6943\" y=\"-199.8\" font-family=\"Times,serif\" font-size=\"14.00\" fill=\"#000000\">observation_2 ~ Normal</text>\n<text text-anchor=\"start\" x=\"1736.6943\" y=\"-184.8\" font-family=\"Times,serif\" font-size=\"14.00\" fill=\"#000000\">observation_3 ~ Normal</text>\n<text text-anchor=\"start\" x=\"1736.6943\" y=\"-169.8\" font-family=\"Times,serif\" font-size=\"14.00\" fill=\"#000000\">observation_4 ~ Normal</text>\n<text text-anchor=\"start\" x=\"1736.6943\" y=\"-154.8\" font-family=\"Times,serif\" font-size=\"14.00\" fill=\"#000000\">observation_5 ~ Normal</text>\n<text text-anchor=\"start\" x=\"1736.6943\" y=\"-139.8\" font-family=\"Times,serif\" font-size=\"14.00\" fill=\"#000000\">latent_variable_1 ~ Categorical</text>\n<text text-anchor=\"start\" x=\"1736.6943\" y=\"-124.8\" font-family=\"Times,serif\" font-size=\"14.00\" fill=\"#000000\">latent_variable_2 ~ Categorical</text>\n<text text-anchor=\"start\" x=\"1736.6943\" y=\"-109.8\" font-family=\"Times,serif\" font-size=\"14.00\" fill=\"#000000\">latent_variable_3 ~ Categorical</text>\n<text text-anchor=\"start\" x=\"1736.6943\" y=\"-94.8\" font-family=\"Times,serif\" font-size=\"14.00\" fill=\"#000000\">latent_variable_4 ~ Categorical</text>\n<text text-anchor=\"start\" x=\"1736.6943\" y=\"-79.8\" font-family=\"Times,serif\" font-size=\"14.00\" fill=\"#000000\">latent_variable_5 ~ Categorical</text>\n</g>\n</g>\n</svg>\n"
     },
     "metadata": {},
     "execution_count": 8
    }
   ]
  },
  {
   "cell_type": "code",
   "source": [
    "!pip install pystan"
   ],
   "metadata": {
    "id": "cJCYif4hfnK5"
   },
   "execution_count": null,
   "outputs": []
  },
  {
   "cell_type": "code",
   "source": [
    "import stan\n",
    "\n",
    "# Define the number of hidden states and the length of the observation sequence\n",
    "S = 4\n",
    "T = 6\n",
    "\n",
    "# Define the transition matrix P\n",
    "P = [[0.1, 0.4, 0.3, 0.2], \n",
    "     [0.1, 0.1, 0.6, 0.2],  \n",
    "     [0.1, 0.2, 0.5, 0.2], \n",
    "     [0.2, 0.3, 0.4, 0.1]]\n",
    "\n",
    "# Define the observation sequence y\n",
    "y = [0.5, 1.5, 0.9, 0, 2.5, 3]\n",
    "\n",
    "# Define the HMM model in PyStan\n",
    "model_code = \"\"\"\n",
    "data {\n",
    "  int<lower=1> S;    // Number of hidden states\n",
    "  int<lower=1> T;    // Length of observation sequence\n",
    "  real P[S,S];       // Transition matrix\n",
    "  real y[T];         // Observation sequence\n",
    "}\n",
    "parameters {\n",
    "  real x[T];         // Hidden states\n",
    "}\n",
    "model {\n",
    "  // Define the prior distribution for the first hidden state x[1]\n",
    "  x[1] ~ uniform(0,5);\n",
    "\n",
    "  // Define the transition probabilities for x[2] to x[T]\n",
    "  for (t in 2:T) {\n",
    "    x[t] ~ categorical(P[x[t-1]]);\n",
    "  }\n",
    "\n",
    "  // Define the likelihood p(y_t|x_t) = N(x_t, 1)\n",
    "  for (t in 1:T) {\n",
    "    y[t] ~ normal(x[t], 1);\n",
    "  }\n",
    "}\n",
    "\"\"\"\n",
    "data = {\"S\": S, \"T\": T, \"P\": P, \"y\": y}\n",
    "\n",
    "posterior = stan.build(model_code, data=data, random_seed=1)\n",
    "fit = posterior.sample(num_chains=4, num_samples=10000)"
   ],
   "metadata": {
    "id": "Xa9B-f73fj51"
   },
   "execution_count": null,
   "outputs": []
  },
  {
   "cell_type": "code",
   "source": [
    "import asyncio\n",
    "import concurrent.futures\n",
    "import aiofiles as aiof\n",
    "\n",
    "async def main():\n",
    "    # Define the number of hidden states and the length of the observation sequence\n",
    "    S = 4\n",
    "    T = 6\n",
    "\n",
    "    # Define the transition matrix P\n",
    "    P = [[0.1, 0.4, 0.3, 0.2], \n",
    "        [0.1, 0.1, 0.6, 0.2],  \n",
    "        [0.1, 0.2, 0.5, 0.2], \n",
    "        [0.2, 0.3, 0.4, 0.1]]\n",
    "\n",
    "    # Define the observation sequence y\n",
    "    y = [0.5, 1.5, 0.9, 0, 2.5, 3]\n",
    "\n",
    "    # Define the HMM model in PyStan\n",
    "    model_code = \"\"\"\n",
    "    data {\n",
    "      int<lower=1> S;    // Number of hidden states\n",
    "      int<lower=1> T;    // Length of observation sequence\n",
    "      real P[S,S];       // Transition matrix\n",
    "      real y[T];         // Observation sequence\n",
    "    }\n",
    "    parameters {\n",
    "      real x[T];         // Hidden states\n",
    "    }\n",
    "    model {\n",
    "      // Define the prior distribution for the first hidden state x[1]\n",
    "      x[1] ~ uniform(0,5);\n",
    "\n",
    "      // Define the transition probabilities for x[2] to x[T]\n",
    "      for (t in 2:T) {\n",
    "        x[t] ~ categorical(P[x[t-1]]);\n",
    "      }\n",
    "\n",
    "      // Define the likelihood p(y_t|x_t) = N(x_t, 1)\n",
    "      for (t in 1:T) {\n",
    "        y[t] ~ normal(x[t], 1);\n",
    "      }\n",
    "    }\n",
    "    \"\"\"\n",
    "    data = {\"S\": S, \"T\": T, \"P\": P, \"y\": y}\n",
    "\n",
    "    posterior = stan.build(model_code, data=data, random_seed=1)\n",
    "    fit = posterior.sample(num_chains=4, num_samples=10000)\n",
    "     \n",
    "\n",
    "# create a new event loop\n",
    "loop = asyncio.new_event_loop()\n",
    "asyncio.set_event_loop(loop)\n",
    "\n",
    "# run the async function in a separate thread\n",
    "with concurrent.futures.ThreadPoolExecutor() as executor:\n",
    "    loop.run_in_executor(executor, asyncio.run, main())\n",
    "\n",
    "# close the loop\n",
    "loop.close()\n"
   ],
   "metadata": {
    "id": "JATJN9TRqRmw"
   },
   "execution_count": null,
   "outputs": []
  },
  {
   "cell_type": "markdown",
   "source": [
    "## b)"
   ],
   "metadata": {
    "id": "3THkR18xTKop"
   }
  },
  {
   "cell_type": "markdown",
   "source": [
    "### (i)"
   ],
   "metadata": {
    "id": "jpRFtei_TM4k"
   }
  },
  {
   "cell_type": "markdown",
   "source": [
    "We  write the probabilistic program based on our assumptions about the provided information. We are given the mean and standard deviation of the arrival delay. This are the statistics for all student. According to my understanding, student 1 can live on distance $D_1$ from the auditorium and student 2 on distance $D_2$ or they can live on the same distance to auditorium but can have different pace. This means, that each student will have it's own distribution of delay times which in total for all of them will give us the desired statistics of mean=$20$ and std=$2$. Thus, for two students we can have the case when the mean of the first one is close to $18$, and the mean for the second one will be close to $22$, this will give mean of $20$ as the statistic calculated for both of them. The same logic works for every student. \n",
    "\n",
    "Also, if it was the same student (for example previously mentioned student 1), his/her mean time will be sampled from normal distribution with mean=$20$ and std=$2$ but will not be exactly $20$, consider it to be $18$. Thus, the delay time for the first day and for the second day will be drawn from normal distribution with mean=$18$ and std=$2$, which potentially can give delay times $18$, $15$ for the first and second day respectively. In case of two different students, the idea is the same, but each student will have his/her own mean and delay times for the first and the second day will be drawn from two different normal distributions and probably have even more different values. \n",
    "\n",
    "We define a random variable $X$, where $X=1$ if there was the same student arriving late on both days and $X=0$ if there were two different students.\n",
    "The joint probability $P(delay_1 = 16, delay_2 = 25 | X = 1)$ is the probability of observing the delays of 16 minutes and 25 minutes, given that it was the same student arriving late on both days. It will be equal to the product of separate probabilities: $P(delay_1 = 16, delay_2 = 25 | X = 1) = P(delay_1 = 16 | X = 1) * P(delay_2 = 25 | X = 1)$. For the second scenario $X=0$ the calculations are similar.\n",
    "\n",
    "We implemented the probabilistic program *delay_simulation* to simulate the described problem. Let's describe how it works:\n",
    "1. Sample the random variable representing if it was the same student (with probability $\\frac{1}{3}$).\n",
    "\n",
    "2. (Same) If it was the same student, then:\n",
    "\n",
    "  2.1. Sample the mean $\\mu_{same}$ delay time of the student from the distribution of the delay time of all students (normal with mean $20$ and std $2$).\n",
    "\n",
    "  2.2. Sample the delay time of this student for the first day  from the normal distribution with mean=$\\mu_{same}$ and std=$2$.\n",
    "\n",
    "  2.3. Sample the delay time of this student for the second day  from the normal distribution with mean=$\\mu_{same}$ and std=$2$.\n",
    "\n",
    "  2.4. Calculate the joint probability of two sampled delays given the $\\mu_{same}$ and two *sampled* delay times.\n",
    "\n",
    "  2.5. Calculate the joint probability of two sampled delays given the $\\mu_{same}$ and two *observed* delay times.\n",
    "\n",
    "3. (Different) Instead, If there were two different students, then:\n",
    "\n",
    " 3.1. Sample the mean $\\mu_{diff, 1}$ delay time of the first student from the distribution of the delay time of all students (normal with mean $20$ and std $2$).\n",
    "\n",
    " 3.2. Sample the mean $\\mu_{diff, 2}$ delay time of the second student from the distribution of the delay time of all students (normal with mean $20$ and std $2$).\n",
    "\n",
    "  3.3. Sample the delay time of the first student for the first day  from the normal distribution with mean=$\\mu_{diff, 1}$ and std=$2$.\n",
    "\n",
    "  3.4. Sample the delay time of the second student for the second day  from the normal distribution with mean=$\\mu_{diff, 2}$ and std=$2$.\n",
    "\n",
    "  3.5. Calculate the joint probability of two sampled delays given the $\\\\mu_{diff, 1}$, $\\mu_{diff, 2}$ and two *sampled* delay times.\n",
    "\n",
    "  3.6. Calculate the joint probability of two sampled delays given the $\\\\mu_{diff, 1}$, $\\mu_{diff, 2}$ and two *observed* delay times.\n",
    "\n",
    "4. Return sampled values (same, delay day 1, delay day 2), joint probability for sampled values, joint probability for observed values.\n",
    "\n",
    "\n",
    "We designed this specific version of the probabilistic program to return two versions of the joint probability: based on drawn samples and based on observed data. The later will be useful to calculate the posterior probability.\n",
    "\n",
    "The described program is implemented below. You can follow the comments for every important line."
   ],
   "metadata": {
    "id": "aac6oH5GGODC"
   }
  },
  {
   "cell_type": "code",
   "source": [
    "# The mean delay time for all students\n",
    "mean_delay = 20\n",
    "\n",
    "# The standard deviation of the delay time for all students\n",
    "std_delay = 2\n",
    "\n",
    "# The observed delay times of the two students\n",
    "delay_1 = 16\n",
    "delay_2 = 25\n",
    "\n",
    "# The probability that the two students are the same person, according to the given information\n",
    "p_same = 1/3\n",
    "\n",
    "def normal_pdf(x, mean, std):\n",
    "  # Function to calculate PDF of the normal distribution\n",
    "  # similar to scipy.norm.pdf(16, 20, 2)\n",
    "  return (1 / (std * np.sqrt(2 * np.pi))) * np.exp(-0.5 * ((x - mean) / std)**2)\n",
    "\n",
    "# Define delay simulation program with two scenarios\n",
    "def delay_simulation(mean_delay, std_delay, delay_1_observed, delay_2_observed):\n",
    "    # Sample random variable if the two students are the same person\n",
    "    same = np.random.choice([1, 0], p=[1/3, 2/3])\n",
    "\n",
    "    if same:\n",
    "        # Sample the delay time of the student from a normal distribution with the given mean and standard deviation\n",
    "        mean_delay_same = np.random.normal(mean_delay, std_delay)\n",
    "\n",
    "        # Sample delay times for two days given that it was the same student with mean delay time mean_delay_same\n",
    "        delay_1_same = np.random.normal(mean_delay_same, std_delay)\n",
    "        delay_2_same = np.random.normal(mean_delay_same, std_delay)\n",
    "\n",
    "        # Calculate the joint probability of the simulated delay times given that the students are the same person\n",
    "        joint_probability_simulated = normal_pdf(delay_1_same, mean_delay_same, std_delay) * normal_pdf(delay_2_same, mean_delay_same, std_delay)\n",
    "        \n",
    "        # Calculate the joint probability of the two observed delay times given that the students are the same person\n",
    "        joint_probability_observed = normal_pdf(delay_1_observed, mean_delay_same, std_delay) * normal_pdf(delay_2_observed, mean_delay_same, std_delay)\n",
    "        \n",
    "        return same, delay_1_same, delay_2_same, joint_probability_simulated, joint_probability_observed\n",
    "\n",
    "    # If the two students are different people\n",
    "    else:\n",
    "        # Sample the delay times of the two students from a normal distribution with the given mean and standard deviation\n",
    "        # If there were two different students, the mean delays are independently\n",
    "        # drawn from the normal distribution with mean 20 and std 2\n",
    "        # this means that the mean delay for the first student will be different from the second\n",
    "        # but on avarage their delay will be 20  \n",
    "        mean_delay_1_diff = np.random.normal(mean_delay, std_delay)\n",
    "        mean_delay_2_diff = np.random.normal(mean_delay, std_delay)\n",
    "\n",
    "        # Sample delay times for two days given that there were different students with each having his/her mean delay time mean_delay_1_diff and mean_delay_2_diff\n",
    "        delay_1_diff = np.random.normal(mean_delay_1_diff, std_delay)\n",
    "        delay_2_diff = np.random.normal(mean_delay_2_diff, std_delay)\n",
    "\n",
    "        # Calculate the joint probability of the simulated delay times given that there were two different students\n",
    "        joint_probability_simulated = normal_pdf(delay_1_diff, mean_delay_1_diff, std_delay) * normal_pdf(delay_2_diff, mean_delay_2_diff, std_delay)\n",
    "        \n",
    "        # Calculate the joint probability of the observed delay times given that there were two different students\n",
    "        joint_probability_observed = normal_pdf(delay_1_observed, mean_delay_1_diff, std_delay) * normal_pdf(delay_2_observed, mean_delay_2_diff, std_delay)\n",
    "        \n",
    "        return same, delay_1_diff, delay_2_diff, joint_probability_simulated, joint_probability_observed\n",
    "\n",
    "\n",
    "delay_simulation(mean_delay, std_delay, delay_1, delay_2)"
   ],
   "metadata": {
    "colab": {
     "base_uri": "https://localhost:8080/"
    },
    "id": "iNF6FwEB5R_k",
    "outputId": "68858922-4146-4ba7-ca63-6d844da10afd"
   },
   "execution_count": 47,
   "outputs": [
    {
     "output_type": "execute_result",
     "data": {
      "text/plain": [
       "(1,\n",
       " 19.13561108043013,\n",
       " 15.595509656121372,\n",
       " 0.007003534493602914,\n",
       " 0.00017770039417334526)"
      ]
     },
     "metadata": {},
     "execution_count": 47
    }
   ]
  },
  {
   "cell_type": "markdown",
   "source": [
    "The modified version of this program wiil be later used for the following LMH task."
   ],
   "metadata": {
    "id": "VjjrdNs3OCNG"
   }
  },
  {
   "cell_type": "markdown",
   "source": [
    "### (ii)"
   ],
   "metadata": {
    "id": "u4o67UJgTO_V"
   }
  },
  {
   "cell_type": "markdown",
   "source": [
    "The LMH algorithm is a variant of the Metropolis-Hastings algorithm that is designed to be more efficient and easier to implement for probabilistic programming languages. In the original MH algorithm, the proposal transition kernel $q(k_j|k_i)$ can be difficult to construct for varying dimensionality. Moreover, the support for random variable is often unknown. Thus, we need to define a generic choice that depends only on the input of the probabilistic program.\n",
    "\n",
    "\n",
    "At first let's describe the steps of the algorithm:\n",
    "\n",
    "1. Run probabilistic program for the first time. Get the values $v_1$ (first obtained sample), $w_1$ weight of the sample and $S$ (records all the random samples that have been used thus far).\n",
    "\n",
    "2. Sample random number $l$ from Uniform distribution from 0 to $|S_{n-1}|-1$. $R$ is a sequence of pre-determined random samples. Assign $R$ to be the prefix of $S$, $R = S[:l]$\n",
    "\n",
    "3. Run probabilistic program with input $R$ where instead of sampling all new random variables, the portion which is in R will be reused. In other words we use the same samples as in $S_{n-1}$ for the first $l$ random variables and sample others. We obtain $v'$, $w'$ and $S'$.\n",
    "\n",
    "4. Calculate the acceptance probability $\\alpha = \\frac{w' |S_{n-1}|}{w_{n-1} |S'|}$.\n",
    "\n",
    "5. Sample random number $u$ from Uniform distribution from $0$ to $1$.\n",
    "\n",
    "6. If $\\alpha \\leq u$, then $v_n = v'$, $w_n = w'$ and $S_n = S'$, else $v_n = v_{n-1}$, $w_n = w_{n-1}$ and $S_n = S_{n-1}$.\n",
    "\n",
    "7. Repeat steps 2-7 for a **num_samples** number of iterations. The sample $v_n$ drawn at each iteration can be used to estimate the target distribution.\n",
    "\n",
    "\n",
    "Let's start defining the pseudocode with the simple probabilistic program:\n",
    "\n",
    "```\n",
    "def probabilistic_program():\n",
    "  x1 = sample_normal_dist()\n",
    "  x2 = sample_normal_dist()\n",
    "\n",
    "  # initialize list of the state of random variables\n",
    "  S = [x1, x2]\n",
    "\n",
    "  if condition(x1, x2) > 0:\n",
    "    y = 5\n",
    "  else:\n",
    "    y = sample_normal_dist()\n",
    "\n",
    "    # we add y to the states list only if it was sampled \n",
    "    S.append(y)\n",
    "\n",
    "\n",
    "  # calculate the likelihood of some value conditioned on y\n",
    "  # w is the weight\n",
    "  w = normal_pdf(observed=4, mean=y, std=1)\n",
    "\n",
    "  # our sample v is some manipulation of x1 and x2, for example difference\n",
    "  v = manipulation(x1, x2)\n",
    "\n",
    "  return v, w, S\n",
    "```\n",
    "\n",
    "In this program we are sampling values $v$ as some manipulation (for example the difference) of two random values drawn from normal distribution. We also calculate weight $w$ as PDF of normal distribution and save all intermediate random variables in $S$.\n",
    "\n",
    "\n",
    "Now let's introduce some changes, for example we want the program to use predefined values instead of sampling them every time for this we add an input argument $R$:\n",
    "\n",
    "```\n",
    "def probabilistic_program(R=[]):\n",
    "  if len(R) > 0:\n",
    "     x1 = R[0]\n",
    "  else:\n",
    "    x1 = sample_normal_dist()\n",
    "  if len(R) > 1:\n",
    "    x2 = R[1]\n",
    "  else:\n",
    "    x2 = sample_normal_dist()\n",
    "\n",
    "\n",
    "  # initialize list of the state of random variables\n",
    "  S = [x1, x2]\n",
    "\n",
    "  if condition(x1, x2) > 0:\n",
    "    y = 5\n",
    "  else:\n",
    "    if len(R) > 2:\n",
    "      y = R[2]\n",
    "    else:\n",
    "      y = sample_normal_dist()\n",
    "\n",
    "    # we add y to the states list only if it was sampled \n",
    "    S.append(y)\n",
    "```\n",
    "\n",
    "Now let's define the pseudocode for the LHM itself:\n",
    "\n",
    "\n",
    "```\n",
    "v, w, S = probabilistic_program()\n",
    "\n",
    "vs = [v]\n",
    "ws = [w]\n",
    "Ss = [S]\n",
    "\n",
    "R = []\n",
    "\n",
    "\n",
    "for i in range(10000):\n",
    "  # Choose a random integer between 0 and the length of S\n",
    "  l = sample_uniform(0, len(S))\n",
    "\n",
    "  # Set R to a prefix of S, starting from 0 and ending at the chosen index l.\n",
    "  R = S[:l]\n",
    "  # Run the probabilistic program with the input list R\n",
    "  # get new sample, weight and states\n",
    "  v, w, S = probabilistic_program(R)\n",
    "\n",
    "  # Calculate the acceptance probability as the ratio of (w * length of Ss[i]) and (ws[i] * length of S)\n",
    "  a = (w * len(Ss[i])) / (ws[i] * len(S))\n",
    "\n",
    "  # Generate a random uniform value\n",
    "  u = sample_uniform(0, 1)\n",
    "\n",
    "  # If the random uniform value is less than or equal to a,\n",
    "  # append v, w, and S to the lists vs, ws, and Ss\n",
    "  # Otherwise, append the previous values in vs[i], ws[i], and Ss[i] to the lists.\n",
    "  if u <= a:\n",
    "    vs.append(v)\n",
    "    ws.append(w)\n",
    "    Ss.append(S)\n",
    "  else:\n",
    "    vs.append(vs[i])\n",
    "    ws.append(ws[i])\n",
    "    Ss.append(Ss[i])\n",
    "```\n",
    "\n",
    "The main idea of LHM algorithm is to propose new candidate sample via single-site update and re-execution. In other words, the algorithm is reusing some portion (from 0 to $l$) of randomly choosen particular latent random variables from the trace and re-run the rest of the program after point $l$. To sample the execution traces we run the probabilistic program for the desired number of iterations and keep track of $v_n$, $w_n$ and $S_n$ which are either newly generated or are the same as on the previous itration $v_{n-1}$, $w_{n-1}$ and $S_{n-1}$ based on the acceptance probability. The detailed proces is described above.\n",
    "\n",
    "\n",
    "\n",
    "One advantage of the LMH algorithm is that it is simple but can be used to successfully sample from complex distributions that are difficult to sample from using other methods. It is also relatively easy to implement and has good convergence properties, meaning that it will often produce accurate samples from the target distribution after a relatively small number of iterations. Also it solves the issue of original MG algorithm described in the first paragraph of the answer to this question (difficult to construct the proposal kernel for varying dimensionality and unknown support for random variable).\n",
    "\n",
    "Early versions of LMH had some problems, for example reducible Markov chains, some issues arised from stochastic support. Another disadvantage of LMH is the potential performance problem for certain types of distributions, such as multimodal distributions. "
   ],
   "metadata": {
    "id": "TejwW3256h2i"
   }
  },
  {
   "cell_type": "markdown",
   "source": [
    "### (iii)"
   ],
   "metadata": {
    "id": "usOXvoqGTQFH"
   }
  },
  {
   "cell_type": "code",
   "source": [
    "# The mean delay time for all students\n",
    "mean_delay = 20\n",
    "\n",
    "# The standard deviation of the delay time for all students\n",
    "std_delay = 2\n",
    "\n",
    "# The observed delay times\n",
    "observed_delay_1 = 16\n",
    "observed_delay_2 = 25"
   ],
   "metadata": {
    "id": "f2MFzSKJICTq"
   },
   "execution_count": 48,
   "outputs": []
  },
  {
   "cell_type": "code",
   "source": [
    "def run_delay(R=[]):\n",
    "  if len(R) > 0:\n",
    "    same = R[0]\n",
    "  else: \n",
    "    same = np.random.choice([1, 0], p=[1/3, 2/3])\n",
    "\n",
    "  if same:\n",
    "    if len(R) > 1:\n",
    "      mean_delay_same = R[1]\n",
    "    else: \n",
    "      mean_delay_same = np.random.normal(mean_delay, std_delay)\n",
    "\n",
    "    if len(R) > 2:\n",
    "      delay_1_same = R[2]\n",
    "    else:\n",
    "      delay_1_same = np.random.normal(mean_delay_same, std_delay)\n",
    "\n",
    "    if len(R) > 3:\n",
    "      delay_2_same = R[3]\n",
    "    else:\n",
    "      delay_2_same = np.random.normal(mean_delay_same, std_delay)\n",
    "\n",
    "    joint_prob_same = norm.pdf(observed_delay_1, mean_delay_same, std_delay) * norm.pdf(observed_delay_2, mean_delay_same, std_delay)\n",
    "\n",
    "    w = joint_prob_same\n",
    "\n",
    "    S = [same, mean_delay_same, delay_1_same, delay_2_same]\n",
    "\n",
    "  else:\n",
    "\n",
    "    if len(R) > 1:\n",
    "      mean_delay_diff_1 = R[1]\n",
    "    else:\n",
    "      mean_delay_diff_1 = np.random.normal(mean_delay, std_delay)\n",
    "\n",
    "    if len(R) > 2:\n",
    "      mean_delay_diff_2 = R[2]\n",
    "    else:\n",
    "      mean_delay_diff_2 = np.random.normal(mean_delay, std_delay)\n",
    "\n",
    "    if len(R) > 3:\n",
    "      delay_1_diff = R[3]\n",
    "    else:\n",
    "      delay_1_diff = np.random.normal(mean_delay_diff_1, std_delay)\n",
    "\n",
    "    if len(R) > 4:\n",
    "      delay_2_diff = R[4]\n",
    "    else:\n",
    "      delay_2_diff = np.random.normal(mean_delay_diff_2, std_delay)\n",
    "\n",
    "    joint_prob_diff = norm.pdf(observed_delay_1, mean_delay_diff_1, std_delay) * norm.pdf(observed_delay_2, mean_delay_diff_2, std_delay)\n",
    "\n",
    "    w = joint_prob_diff\n",
    "\n",
    "    S = [same, mean_delay_diff_1, mean_delay_diff_2, delay_1_diff, delay_2_diff]\n",
    "\n",
    "  v = same\n",
    "\n",
    "  return v, w, S"
   ],
   "metadata": {
    "id": "rZjG5Qt7Hu3W"
   },
   "execution_count": 49,
   "outputs": []
  },
  {
   "cell_type": "code",
   "source": [
    "burnin = 10000\n",
    "num_samples = 100000\n",
    "\n",
    "v_b, w_b, S_b = run_delay()\n",
    "\n",
    "vs_b = [v_b]\n",
    "ws_b = [w_b]\n",
    "Ss_b = [S_b]\n",
    "\n",
    "R_b = []\n",
    "\n",
    "acceptance_burnin = 0\n",
    "\n",
    "for b in range(burnin):\n",
    "  l = np.random.randint(0, len(S_b))\n",
    "  R_b = S_b[:l]\n",
    "  v_b, w_b, S_b = run_delay(R_b)\n",
    "  \n",
    "  a = (w_b * len(Ss_b[b])) / (ws_b[b] * len(S_b))\n",
    "\n",
    "  u = np.random.uniform()\n",
    "\n",
    "  if u <= a:\n",
    "    vs_b.append(v_b)\n",
    "    ws_b.append(w_b)\n",
    "    Ss_b.append(S_b)\n",
    "\n",
    "    acceptance_burnin += 1\n",
    "  else:\n",
    "    vs_b.append(vs_b[b])\n",
    "    ws_b.append(ws_b[b])\n",
    "    Ss_b.append(Ss_b[b])\n",
    "\n",
    "print(\"Acceptance rate during burn-in: \", acceptance_burnin / burnin)\n",
    "\n",
    "\n",
    "vs = [vs_b[-1]]\n",
    "ws = [ws_b[-1]]\n",
    "Ss = [Ss_b[-1]]\n",
    "\n",
    "S = Ss[0]\n",
    "\n",
    "R = []\n",
    "\n",
    "acceptance = 0\n",
    "\n",
    "for i in range(num_samples-1):\n",
    "\n",
    "  l = np.random.randint(0, len(S))\n",
    "  R = S[:l]\n",
    "  v, w, S = run_delay(R)\n",
    "  \n",
    "  a = (w * len(Ss[i])) / (ws[i] * len(S))\n",
    "\n",
    "  u = np.random.uniform()\n",
    "\n",
    "  if u <= a:\n",
    "    vs.append(v)\n",
    "    ws.append(w)\n",
    "    Ss.append(S)\n",
    "\n",
    "    acceptance += 1\n",
    "  else:\n",
    "    vs.append(vs[i])\n",
    "    ws.append(ws[i])\n",
    "    Ss.append(Ss[i])\n",
    "\n",
    "print(\"Acceptance rate: \", acceptance / (num_samples-1))"
   ],
   "metadata": {
    "colab": {
     "base_uri": "https://localhost:8080/"
    },
    "id": "nHajUm2nH7kz",
    "outputId": "e2fb9862-345c-4998-e74e-579d8adb1124"
   },
   "execution_count": 51,
   "outputs": [
    {
     "output_type": "stream",
     "name": "stdout",
     "text": [
      "Acceptance rate during burn-in:  0.283\n",
      "Acceptance rate:  0.25594255942559424\n"
     ]
    }
   ]
  },
  {
   "cell_type": "code",
   "source": [
    "print(\"Posterior probability of being the same person: \", np.array(vs).mean())"
   ],
   "metadata": {
    "colab": {
     "base_uri": "https://localhost:8080/"
    },
    "id": "Pl_yrk0sIgF8",
    "outputId": "64f5f1db-10df-4eda-addc-11e9450ad66c"
   },
   "execution_count": 52,
   "outputs": [
    {
     "output_type": "stream",
     "name": "stdout",
     "text": [
      "Posterior probability of being the same person:  0.09744\n"
     ]
    }
   ]
  },
  {
   "cell_type": "markdown",
   "source": [
    "If the posterior probability is significantly different from the prior probability of $\\frac{1}{3}$, it indicates that the observed data has influenced our belief about the scenario. If the posterior probability is close to the prior probability, it means that the observed data hasn't had a significant influence on our belief.\n",
    "\n",
    "Based on the results obtained with the LMH algorithm, we see that the posterior probability is close to $0.1$. This means that our prior belief of being the same student $\\frac{1}{3}$ changed to $\\frac{1}{10}$. We are now more sure that those were two different people. Firstly, there was a $\\frac{1}{3}$ chance that there might be same person late. Then, we used the observed values of the delay time (16 minutes for the first day and 25 for the second). This scenario is more likely to happen when there were two different students late than the same. This is logical and also supported by the next plots. Given the arrival delay distribution of one student, the observed values will be \"far away\" on the tales. While for two different students, we can see that the distributions are shifted and distinguishable from each other, and in this case obseeved values are not so \"far away\" and they are more likely to happen than in the case with the same person."
   ],
   "metadata": {
    "id": "jHkwg2joz8sp"
   }
  },
  {
   "cell_type": "code",
   "source": [
    "delays_1_same = []\n",
    "delays_2_same = []\n",
    "\n",
    "delays_1_diff = []\n",
    "delays_2_diff = []\n",
    "\n",
    "for S in Ss:\n",
    "  if S[0] == 1:\n",
    "    delays_1_same.append(S[2])\n",
    "    delays_2_same.append(S[3])\n",
    "  else:\n",
    "    delays_1_diff.append(S[3])\n",
    "    delays_2_diff.append(S[4])"
   ],
   "metadata": {
    "id": "godRgLqjIhkx"
   },
   "execution_count": 53,
   "outputs": []
  },
  {
   "cell_type": "code",
   "source": [
    "fig = go.Figure()\n",
    "fig.add_trace(go.Histogram(\n",
    "    x=delays_1_same,\n",
    "    name='First Day Delay', # name used in legend and hover labels\n",
    "\n",
    "    marker_color='#EB89B5',\n",
    "    opacity=0.75\n",
    "))\n",
    "fig.add_trace(go.Histogram(\n",
    "    x=delays_2_same,\n",
    "    name='Second Day Delay',\n",
    "    marker_color='#330C73',\n",
    "    opacity=0.75\n",
    "))\n",
    "\n",
    "fig.add_vline(x=observed_delay_1, line_dash=\"dash\", line_color=\"green\", annotation_text=\"Observed Delay 1\", \n",
    "              annotation_position=\"top left\")\n",
    "\n",
    "fig.add_vline(x=observed_delay_2, line_dash=\"dash\", line_color=\"green\", annotation_text=\"Observed Delay 2\", \n",
    "              annotation_position=\"top right\")\n",
    "\n",
    "fig.update_layout(\n",
    "    title_text='Arrival delays for the case with the single late-arriving student', # title of plot\n",
    "    xaxis_title_text='Delay time', # xaxis label\n",
    "    yaxis_title_text='Count', # yaxis label\n",
    "    bargap=0.2, # gap between bars of adjacent location coordinates\n",
    "    bargroupgap=0.1, # gap between bars of the same location coordinates\n",
    "    autosize=False,\n",
    "    width=1000,\n",
    "    height=600,\n",
    ")\n",
    "\n",
    "fig.show()"
   ],
   "metadata": {
    "colab": {
     "base_uri": "https://localhost:8080/",
     "height": 622
    },
    "id": "0iZm1HQBInfZ",
    "outputId": "408bd7d2-4ab6-4291-96a9-bc4eea5b62cc"
   },
   "execution_count": 54,
   "outputs": [
    {
     "output_type": "display_data",
     "data": {
      "image/svg+xml": "<svg class=\"main-svg\" xmlns=\"http://www.w3.org/2000/svg\" xmlns:xlink=\"http://www.w3.org/1999/xlink\" width=\"1000\" height=\"600\" style=\"\" viewBox=\"0 0 1000 600\"><rect x=\"0\" y=\"0\" width=\"1000\" height=\"600\" style=\"fill: rgb(255, 255, 255); fill-opacity: 1;\"/><defs id=\"defs-540196\"><g class=\"clips\"><clipPath id=\"clip540196xyplot\" class=\"plotclip\"><rect width=\"748\" height=\"420\"/></clipPath><clipPath class=\"axesclip\" id=\"clip540196x\"><rect x=\"80\" y=\"0\" width=\"748\" height=\"600\"/></clipPath><clipPath class=\"axesclip\" id=\"clip540196y\"><rect x=\"0\" y=\"100\" width=\"1000\" height=\"420\"/></clipPath><clipPath class=\"axesclip\" id=\"clip540196xy\"><rect x=\"80\" y=\"100\" width=\"748\" height=\"420\"/></clipPath></g><g class=\"gradients\"/><g class=\"patterns\"/></defs><g class=\"bglayer\"><rect class=\"bg\" x=\"80\" y=\"100\" width=\"748\" height=\"420\" style=\"fill: rgb(229, 236, 246); fill-opacity: 1; stroke-width: 0;\"/></g><g class=\"layer-below\"><g class=\"imagelayer\"/><g class=\"shapelayer\"/></g><g class=\"cartesianlayer\"><g class=\"subplot xy\"><g class=\"layer-subplot\"><g class=\"shapelayer\"/><g class=\"imagelayer\"/></g><g class=\"gridlayer\"><g class=\"x\"/><g class=\"y\"><path class=\"ygrid crisp\" transform=\"translate(0,422.68)\" d=\"M80,0h748\" style=\"stroke: rgb(255, 255, 255); stroke-opacity: 1; stroke-width: 1px;\"/><path class=\"ygrid crisp\" transform=\"translate(0,325.37)\" d=\"M80,0h748\" style=\"stroke: rgb(255, 255, 255); stroke-opacity: 1; stroke-width: 1px;\"/><path class=\"ygrid crisp\" transform=\"translate(0,228.05)\" d=\"M80,0h748\" style=\"stroke: rgb(255, 255, 255); stroke-opacity: 1; stroke-width: 1px;\"/><path class=\"ygrid crisp\" transform=\"translate(0,130.73)\" d=\"M80,0h748\" style=\"stroke: rgb(255, 255, 255); stroke-opacity: 1; stroke-width: 1px;\"/></g></g><g class=\"zerolinelayer\"><path class=\"yzl zl crisp\" transform=\"translate(0,520)\" d=\"M80,0h748\" style=\"stroke: rgb(255, 255, 255); stroke-opacity: 1; stroke-width: 2px;\"/></g><path class=\"xlines-below\"/><path class=\"ylines-below\"/><g class=\"overlines-below\"/><g class=\"xaxislayer-below\"/><g class=\"yaxislayer-below\"/><g class=\"overaxes-below\"/><g class=\"plot\" transform=\"translate(80,100)\" clip-path=\"url(#clip540196xyplot)\"><g class=\"barlayer mlayer\"><g class=\"trace bars\" style=\"opacity: 0.75;\"><g class=\"points\"><g class=\"point\"><path d=\"M41.14,420V418.05H42.6V420Z\" style=\"vector-effect: non-scaling-stroke; opacity: 1; stroke-width: 0px; fill: rgb(235, 137, 181); fill-opacity: 1;\"/></g><g class=\"point\"><path d=\"M0,0Z\" style=\"vector-effect: non-scaling-stroke; opacity: 1; stroke-width: 0px; fill: rgb(235, 137, 181); fill-opacity: 1;\"/></g><g class=\"point\"><path d=\"M0,0Z\" style=\"vector-effect: non-scaling-stroke; opacity: 1; stroke-width: 0px; fill: rgb(235, 137, 181); fill-opacity: 1;\"/></g><g class=\"point\"><path d=\"M0,0Z\" style=\"vector-effect: non-scaling-stroke; opacity: 1; stroke-width: 0px; fill: rgb(235, 137, 181); fill-opacity: 1;\"/></g><g class=\"point\"><path d=\"M57.4,420V418.05H58.86V420Z\" style=\"vector-effect: non-scaling-stroke; opacity: 1; stroke-width: 0px; fill: rgb(235, 137, 181); fill-opacity: 1;\"/></g><g class=\"point\"><path d=\"M61.47,420V418.05H62.93V420Z\" style=\"vector-effect: non-scaling-stroke; opacity: 1; stroke-width: 0px; fill: rgb(235, 137, 181); fill-opacity: 1;\"/></g><g class=\"point\"><path d=\"M0,0Z\" style=\"vector-effect: non-scaling-stroke; opacity: 1; stroke-width: 0px; fill: rgb(235, 137, 181); fill-opacity: 1;\"/></g><g class=\"point\"><path d=\"M0,0Z\" style=\"vector-effect: non-scaling-stroke; opacity: 1; stroke-width: 0px; fill: rgb(235, 137, 181); fill-opacity: 1;\"/></g><g class=\"point\"><path d=\"M73.66,420V418.05H75.13V420Z\" style=\"vector-effect: non-scaling-stroke; opacity: 1; stroke-width: 0px; fill: rgb(235, 137, 181); fill-opacity: 1;\"/></g><g class=\"point\"><path d=\"M77.73,420V412.21H79.19V420Z\" style=\"vector-effect: non-scaling-stroke; opacity: 1; stroke-width: 0px; fill: rgb(235, 137, 181); fill-opacity: 1;\"/></g><g class=\"point\"><path d=\"M0,0Z\" style=\"vector-effect: non-scaling-stroke; opacity: 1; stroke-width: 0px; fill: rgb(235, 137, 181); fill-opacity: 1;\"/></g><g class=\"point\"><path d=\"M85.86,420V418.05H87.32V420Z\" style=\"vector-effect: non-scaling-stroke; opacity: 1; stroke-width: 0px; fill: rgb(235, 137, 181); fill-opacity: 1;\"/></g><g class=\"point\"><path d=\"M89.92,420V418.05H91.39V420Z\" style=\"vector-effect: non-scaling-stroke; opacity: 1; stroke-width: 0px; fill: rgb(235, 137, 181); fill-opacity: 1;\"/></g><g class=\"point\"><path d=\"M93.99,420V418.05H95.45V420Z\" style=\"vector-effect: non-scaling-stroke; opacity: 1; stroke-width: 0px; fill: rgb(235, 137, 181); fill-opacity: 1;\"/></g><g class=\"point\"><path d=\"M0,0Z\" style=\"vector-effect: non-scaling-stroke; opacity: 1; stroke-width: 0px; fill: rgb(235, 137, 181); fill-opacity: 1;\"/></g><g class=\"point\"><path d=\"M102.12,420V418.05H103.58V420Z\" style=\"vector-effect: non-scaling-stroke; opacity: 1; stroke-width: 0px; fill: rgb(235, 137, 181); fill-opacity: 1;\"/></g><g class=\"point\"><path d=\"M106.18,420V414.16H107.65V420Z\" style=\"vector-effect: non-scaling-stroke; opacity: 1; stroke-width: 0px; fill: rgb(235, 137, 181); fill-opacity: 1;\"/></g><g class=\"point\"><path d=\"M110.25,420V418.05H111.71V420Z\" style=\"vector-effect: non-scaling-stroke; opacity: 1; stroke-width: 0px; fill: rgb(235, 137, 181); fill-opacity: 1;\"/></g><g class=\"point\"><path d=\"M114.31,420V414.16H115.78V420Z\" style=\"vector-effect: non-scaling-stroke; opacity: 1; stroke-width: 0px; fill: rgb(235, 137, 181); fill-opacity: 1;\"/></g><g class=\"point\"><path d=\"M118.38,420V402.48H119.84V420Z\" style=\"vector-effect: non-scaling-stroke; opacity: 1; stroke-width: 0px; fill: rgb(235, 137, 181); fill-opacity: 1;\"/></g><g class=\"point\"><path d=\"M122.44,420V416.11H123.91V420Z\" style=\"vector-effect: non-scaling-stroke; opacity: 1; stroke-width: 0px; fill: rgb(235, 137, 181); fill-opacity: 1;\"/></g><g class=\"point\"><path d=\"M126.51,420V418.05H127.97V420Z\" style=\"vector-effect: non-scaling-stroke; opacity: 1; stroke-width: 0px; fill: rgb(235, 137, 181); fill-opacity: 1;\"/></g><g class=\"point\"><path d=\"M130.57,420V412.21H132.04V420Z\" style=\"vector-effect: non-scaling-stroke; opacity: 1; stroke-width: 0px; fill: rgb(235, 137, 181); fill-opacity: 1;\"/></g><g class=\"point\"><path d=\"M134.64,420V416.11H136.1V420Z\" style=\"vector-effect: non-scaling-stroke; opacity: 1; stroke-width: 0px; fill: rgb(235, 137, 181); fill-opacity: 1;\"/></g><g class=\"point\"><path d=\"M138.71,420V412.21H140.17V420Z\" style=\"vector-effect: non-scaling-stroke; opacity: 1; stroke-width: 0px; fill: rgb(235, 137, 181); fill-opacity: 1;\"/></g><g class=\"point\"><path d=\"M142.77,420V406.38H144.23V420Z\" style=\"vector-effect: non-scaling-stroke; opacity: 1; stroke-width: 0px; fill: rgb(235, 137, 181); fill-opacity: 1;\"/></g><g class=\"point\"><path d=\"M146.84,420V402.48H148.3V420Z\" style=\"vector-effect: non-scaling-stroke; opacity: 1; stroke-width: 0px; fill: rgb(235, 137, 181); fill-opacity: 1;\"/></g><g class=\"point\"><path d=\"M150.9,420V408.32H152.36V420Z\" style=\"vector-effect: non-scaling-stroke; opacity: 1; stroke-width: 0px; fill: rgb(235, 137, 181); fill-opacity: 1;\"/></g><g class=\"point\"><path d=\"M154.97,420V406.38H156.43V420Z\" style=\"vector-effect: non-scaling-stroke; opacity: 1; stroke-width: 0px; fill: rgb(235, 137, 181); fill-opacity: 1;\"/></g><g class=\"point\"><path d=\"M159.03,420V396.64H160.49V420Z\" style=\"vector-effect: non-scaling-stroke; opacity: 1; stroke-width: 0px; fill: rgb(235, 137, 181); fill-opacity: 1;\"/></g><g class=\"point\"><path d=\"M163.1,420V342.15H164.56V420Z\" style=\"vector-effect: non-scaling-stroke; opacity: 1; stroke-width: 0px; fill: rgb(235, 137, 181); fill-opacity: 1;\"/></g><g class=\"point\"><path d=\"M167.16,420V396.64H168.63V420Z\" style=\"vector-effect: non-scaling-stroke; opacity: 1; stroke-width: 0px; fill: rgb(235, 137, 181); fill-opacity: 1;\"/></g><g class=\"point\"><path d=\"M171.23,420V404.43H172.69V420Z\" style=\"vector-effect: non-scaling-stroke; opacity: 1; stroke-width: 0px; fill: rgb(235, 137, 181); fill-opacity: 1;\"/></g><g class=\"point\"><path d=\"M175.29,420V396.64H176.76V420Z\" style=\"vector-effect: non-scaling-stroke; opacity: 1; stroke-width: 0px; fill: rgb(235, 137, 181); fill-opacity: 1;\"/></g><g class=\"point\"><path d=\"M179.36,420V388.86H180.82V420Z\" style=\"vector-effect: non-scaling-stroke; opacity: 1; stroke-width: 0px; fill: rgb(235, 137, 181); fill-opacity: 1;\"/></g><g class=\"point\"><path d=\"M183.42,420V383.02H184.89V420Z\" style=\"vector-effect: non-scaling-stroke; opacity: 1; stroke-width: 0px; fill: rgb(235, 137, 181); fill-opacity: 1;\"/></g><g class=\"point\"><path d=\"M187.49,420V355.77H188.95V420Z\" style=\"vector-effect: non-scaling-stroke; opacity: 1; stroke-width: 0px; fill: rgb(235, 137, 181); fill-opacity: 1;\"/></g><g class=\"point\"><path d=\"M191.55,420V392.75H193.02V420Z\" style=\"vector-effect: non-scaling-stroke; opacity: 1; stroke-width: 0px; fill: rgb(235, 137, 181); fill-opacity: 1;\"/></g><g class=\"point\"><path d=\"M195.62,420V377.18H197.08V420Z\" style=\"vector-effect: non-scaling-stroke; opacity: 1; stroke-width: 0px; fill: rgb(235, 137, 181); fill-opacity: 1;\"/></g><g class=\"point\"><path d=\"M199.68,420V384.97H201.15V420Z\" style=\"vector-effect: non-scaling-stroke; opacity: 1; stroke-width: 0px; fill: rgb(235, 137, 181); fill-opacity: 1;\"/></g><g class=\"point\"><path d=\"M203.75,420V375.23H205.21V420Z\" style=\"vector-effect: non-scaling-stroke; opacity: 1; stroke-width: 0px; fill: rgb(235, 137, 181); fill-opacity: 1;\"/></g><g class=\"point\"><path d=\"M207.81,420V347.99H209.28V420Z\" style=\"vector-effect: non-scaling-stroke; opacity: 1; stroke-width: 0px; fill: rgb(235, 137, 181); fill-opacity: 1;\"/></g><g class=\"point\"><path d=\"M211.88,420V379.13H213.34V420Z\" style=\"vector-effect: non-scaling-stroke; opacity: 1; stroke-width: 0px; fill: rgb(235, 137, 181); fill-opacity: 1;\"/></g><g class=\"point\"><path d=\"M215.94,420V361.61H217.41V420Z\" style=\"vector-effect: non-scaling-stroke; opacity: 1; stroke-width: 0px; fill: rgb(235, 137, 181); fill-opacity: 1;\"/></g><g class=\"point\"><path d=\"M220.01,420V384.97H221.47V420Z\" style=\"vector-effect: non-scaling-stroke; opacity: 1; stroke-width: 0px; fill: rgb(235, 137, 181); fill-opacity: 1;\"/></g><g class=\"point\"><path d=\"M224.07,420V342.15H225.54V420Z\" style=\"vector-effect: non-scaling-stroke; opacity: 1; stroke-width: 0px; fill: rgb(235, 137, 181); fill-opacity: 1;\"/></g><g class=\"point\"><path d=\"M228.14,420V338.25H229.6V420Z\" style=\"vector-effect: non-scaling-stroke; opacity: 1; stroke-width: 0px; fill: rgb(235, 137, 181); fill-opacity: 1;\"/></g><g class=\"point\"><path d=\"M232.21,420V307.11H233.67V420Z\" style=\"vector-effect: non-scaling-stroke; opacity: 1; stroke-width: 0px; fill: rgb(235, 137, 181); fill-opacity: 1;\"/></g><g class=\"point\"><path d=\"M236.27,420V355.77H237.73V420Z\" style=\"vector-effect: non-scaling-stroke; opacity: 1; stroke-width: 0px; fill: rgb(235, 137, 181); fill-opacity: 1;\"/></g><g class=\"point\"><path d=\"M240.34,420V301.27H241.8V420Z\" style=\"vector-effect: non-scaling-stroke; opacity: 1; stroke-width: 0px; fill: rgb(235, 137, 181); fill-opacity: 1;\"/></g><g class=\"point\"><path d=\"M244.4,420V305.17H245.86V420Z\" style=\"vector-effect: non-scaling-stroke; opacity: 1; stroke-width: 0px; fill: rgb(235, 137, 181); fill-opacity: 1;\"/></g><g class=\"point\"><path d=\"M248.47,420V332.41H249.93V420Z\" style=\"vector-effect: non-scaling-stroke; opacity: 1; stroke-width: 0px; fill: rgb(235, 137, 181); fill-opacity: 1;\"/></g><g class=\"point\"><path d=\"M252.53,420V320.74H253.99V420Z\" style=\"vector-effect: non-scaling-stroke; opacity: 1; stroke-width: 0px; fill: rgb(235, 137, 181); fill-opacity: 1;\"/></g><g class=\"point\"><path d=\"M256.6,420V262.35H258.06V420Z\" style=\"vector-effect: non-scaling-stroke; opacity: 1; stroke-width: 0px; fill: rgb(235, 137, 181); fill-opacity: 1;\"/></g><g class=\"point\"><path d=\"M260.66,420V266.24H262.13V420Z\" style=\"vector-effect: non-scaling-stroke; opacity: 1; stroke-width: 0px; fill: rgb(235, 137, 181); fill-opacity: 1;\"/></g><g class=\"point\"><path d=\"M264.73,420V293.49H266.19V420Z\" style=\"vector-effect: non-scaling-stroke; opacity: 1; stroke-width: 0px; fill: rgb(235, 137, 181); fill-opacity: 1;\"/></g><g class=\"point\"><path d=\"M268.79,420V231.2H270.26V420Z\" style=\"vector-effect: non-scaling-stroke; opacity: 1; stroke-width: 0px; fill: rgb(235, 137, 181); fill-opacity: 1;\"/></g><g class=\"point\"><path d=\"M272.86,420V203.96H274.32V420Z\" style=\"vector-effect: non-scaling-stroke; opacity: 1; stroke-width: 0px; fill: rgb(235, 137, 181); fill-opacity: 1;\"/></g><g class=\"point\"><path d=\"M276.92,420V229.26H278.39V420Z\" style=\"vector-effect: non-scaling-stroke; opacity: 1; stroke-width: 0px; fill: rgb(235, 137, 181); fill-opacity: 1;\"/></g><g class=\"point\"><path d=\"M280.99,420V248.72H282.45V420Z\" style=\"vector-effect: non-scaling-stroke; opacity: 1; stroke-width: 0px; fill: rgb(235, 137, 181); fill-opacity: 1;\"/></g><g class=\"point\"><path d=\"M285.05,420V180.6H286.52V420Z\" style=\"vector-effect: non-scaling-stroke; opacity: 1; stroke-width: 0px; fill: rgb(235, 137, 181); fill-opacity: 1;\"/></g><g class=\"point\"><path d=\"M289.12,420V237.04H290.58V420Z\" style=\"vector-effect: non-scaling-stroke; opacity: 1; stroke-width: 0px; fill: rgb(235, 137, 181); fill-opacity: 1;\"/></g><g class=\"point\"><path d=\"M293.18,420V205.9H294.65V420Z\" style=\"vector-effect: non-scaling-stroke; opacity: 1; stroke-width: 0px; fill: rgb(235, 137, 181); fill-opacity: 1;\"/></g><g class=\"point\"><path d=\"M297.25,420V178.65H298.71V420Z\" style=\"vector-effect: non-scaling-stroke; opacity: 1; stroke-width: 0px; fill: rgb(235, 137, 181); fill-opacity: 1;\"/></g><g class=\"point\"><path d=\"M301.31,420V163.08H302.78V420Z\" style=\"vector-effect: non-scaling-stroke; opacity: 1; stroke-width: 0px; fill: rgb(235, 137, 181); fill-opacity: 1;\"/></g><g class=\"point\"><path d=\"M305.38,420V229.26H306.84V420Z\" style=\"vector-effect: non-scaling-stroke; opacity: 1; stroke-width: 0px; fill: rgb(235, 137, 181); fill-opacity: 1;\"/></g><g class=\"point\"><path d=\"M309.44,420V186.44H310.91V420Z\" style=\"vector-effect: non-scaling-stroke; opacity: 1; stroke-width: 0px; fill: rgb(235, 137, 181); fill-opacity: 1;\"/></g><g class=\"point\"><path d=\"M313.51,420V188.39H314.97V420Z\" style=\"vector-effect: non-scaling-stroke; opacity: 1; stroke-width: 0px; fill: rgb(235, 137, 181); fill-opacity: 1;\"/></g><g class=\"point\"><path d=\"M317.57,420V180.6H319.04V420Z\" style=\"vector-effect: non-scaling-stroke; opacity: 1; stroke-width: 0px; fill: rgb(235, 137, 181); fill-opacity: 1;\"/></g><g class=\"point\"><path d=\"M321.64,420V155.3H323.1V420Z\" style=\"vector-effect: non-scaling-stroke; opacity: 1; stroke-width: 0px; fill: rgb(235, 137, 181); fill-opacity: 1;\"/></g><g class=\"point\"><path d=\"M325.71,420V165.03H327.17V420Z\" style=\"vector-effect: non-scaling-stroke; opacity: 1; stroke-width: 0px; fill: rgb(235, 137, 181); fill-opacity: 1;\"/></g><g class=\"point\"><path d=\"M329.77,420V42.41H331.23V420Z\" style=\"vector-effect: non-scaling-stroke; opacity: 1; stroke-width: 0px; fill: rgb(235, 137, 181); fill-opacity: 1;\"/></g><g class=\"point\"><path d=\"M333.84,420V182.55H335.3V420Z\" style=\"vector-effect: non-scaling-stroke; opacity: 1; stroke-width: 0px; fill: rgb(235, 137, 181); fill-opacity: 1;\"/></g><g class=\"point\"><path d=\"M337.9,420V207.85H339.36V420Z\" style=\"vector-effect: non-scaling-stroke; opacity: 1; stroke-width: 0px; fill: rgb(235, 137, 181); fill-opacity: 1;\"/></g><g class=\"point\"><path d=\"M341.97,420V69.66H343.43V420Z\" style=\"vector-effect: non-scaling-stroke; opacity: 1; stroke-width: 0px; fill: rgb(235, 137, 181); fill-opacity: 1;\"/></g><g class=\"point\"><path d=\"M346.03,420V104.69H347.49V420Z\" style=\"vector-effect: non-scaling-stroke; opacity: 1; stroke-width: 0px; fill: rgb(235, 137, 181); fill-opacity: 1;\"/></g><g class=\"point\"><path d=\"M350.1,420V112.48H351.56V420Z\" style=\"vector-effect: non-scaling-stroke; opacity: 1; stroke-width: 0px; fill: rgb(235, 137, 181); fill-opacity: 1;\"/></g><g class=\"point\"><path d=\"M354.16,420V94.96H355.63V420Z\" style=\"vector-effect: non-scaling-stroke; opacity: 1; stroke-width: 0px; fill: rgb(235, 137, 181); fill-opacity: 1;\"/></g><g class=\"point\"><path d=\"M358.23,420V89.12H359.69V420Z\" style=\"vector-effect: non-scaling-stroke; opacity: 1; stroke-width: 0px; fill: rgb(235, 137, 181); fill-opacity: 1;\"/></g><g class=\"point\"><path d=\"M362.29,420V44.36H363.76V420Z\" style=\"vector-effect: non-scaling-stroke; opacity: 1; stroke-width: 0px; fill: rgb(235, 137, 181); fill-opacity: 1;\"/></g><g class=\"point\"><path d=\"M366.36,420V139.73H367.82V420Z\" style=\"vector-effect: non-scaling-stroke; opacity: 1; stroke-width: 0px; fill: rgb(235, 137, 181); fill-opacity: 1;\"/></g><g class=\"point\"><path d=\"M370.42,420V120.26H371.89V420Z\" style=\"vector-effect: non-scaling-stroke; opacity: 1; stroke-width: 0px; fill: rgb(235, 137, 181); fill-opacity: 1;\"/></g><g class=\"point\"><path d=\"M374.49,420V50.2H375.95V420Z\" style=\"vector-effect: non-scaling-stroke; opacity: 1; stroke-width: 0px; fill: rgb(235, 137, 181); fill-opacity: 1;\"/></g><g class=\"point\"><path d=\"M378.55,420V63.82H380.02V420Z\" style=\"vector-effect: non-scaling-stroke; opacity: 1; stroke-width: 0px; fill: rgb(235, 137, 181); fill-opacity: 1;\"/></g><g class=\"point\"><path d=\"M382.62,420V120.26H384.08V420Z\" style=\"vector-effect: non-scaling-stroke; opacity: 1; stroke-width: 0px; fill: rgb(235, 137, 181); fill-opacity: 1;\"/></g><g class=\"point\"><path d=\"M386.68,420V122.21H388.15V420Z\" style=\"vector-effect: non-scaling-stroke; opacity: 1; stroke-width: 0px; fill: rgb(235, 137, 181); fill-opacity: 1;\"/></g><g class=\"point\"><path d=\"M390.75,420V79.39H392.21V420Z\" style=\"vector-effect: non-scaling-stroke; opacity: 1; stroke-width: 0px; fill: rgb(235, 137, 181); fill-opacity: 1;\"/></g><g class=\"point\"><path d=\"M394.81,420V57.98H396.28V420Z\" style=\"vector-effect: non-scaling-stroke; opacity: 1; stroke-width: 0px; fill: rgb(235, 137, 181); fill-opacity: 1;\"/></g><g class=\"point\"><path d=\"M398.88,420V153.35H400.34V420Z\" style=\"vector-effect: non-scaling-stroke; opacity: 1; stroke-width: 0px; fill: rgb(235, 137, 181); fill-opacity: 1;\"/></g><g class=\"point\"><path d=\"M402.94,420V54.09H404.41V420Z\" style=\"vector-effect: non-scaling-stroke; opacity: 1; stroke-width: 0px; fill: rgb(235, 137, 181); fill-opacity: 1;\"/></g><g class=\"point\"><path d=\"M407.01,420V139.73H408.47V420Z\" style=\"vector-effect: non-scaling-stroke; opacity: 1; stroke-width: 0px; fill: rgb(235, 137, 181); fill-opacity: 1;\"/></g><g class=\"point\"><path d=\"M411.07,420V102.75H412.54V420Z\" style=\"vector-effect: non-scaling-stroke; opacity: 1; stroke-width: 0px; fill: rgb(235, 137, 181); fill-opacity: 1;\"/></g><g class=\"point\"><path d=\"M415.14,420V176.71H416.6V420Z\" style=\"vector-effect: non-scaling-stroke; opacity: 1; stroke-width: 0px; fill: rgb(235, 137, 181); fill-opacity: 1;\"/></g><g class=\"point\"><path d=\"M419.21,420V83.28H420.67V420Z\" style=\"vector-effect: non-scaling-stroke; opacity: 1; stroke-width: 0px; fill: rgb(235, 137, 181); fill-opacity: 1;\"/></g><g class=\"point\"><path d=\"M423.27,420V77.44H424.73V420Z\" style=\"vector-effect: non-scaling-stroke; opacity: 1; stroke-width: 0px; fill: rgb(235, 137, 181); fill-opacity: 1;\"/></g><g class=\"point\"><path d=\"M427.34,420V128.05H428.8V420Z\" style=\"vector-effect: non-scaling-stroke; opacity: 1; stroke-width: 0px; fill: rgb(235, 137, 181); fill-opacity: 1;\"/></g><g class=\"point\"><path d=\"M431.4,420V161.14H432.86V420Z\" style=\"vector-effect: non-scaling-stroke; opacity: 1; stroke-width: 0px; fill: rgb(235, 137, 181); fill-opacity: 1;\"/></g><g class=\"point\"><path d=\"M435.47,420V133.89H436.93V420Z\" style=\"vector-effect: non-scaling-stroke; opacity: 1; stroke-width: 0px; fill: rgb(235, 137, 181); fill-opacity: 1;\"/></g><g class=\"point\"><path d=\"M439.53,420V126.1H440.99V420Z\" style=\"vector-effect: non-scaling-stroke; opacity: 1; stroke-width: 0px; fill: rgb(235, 137, 181); fill-opacity: 1;\"/></g><g class=\"point\"><path d=\"M443.6,420V203.96H445.06V420Z\" style=\"vector-effect: non-scaling-stroke; opacity: 1; stroke-width: 0px; fill: rgb(235, 137, 181); fill-opacity: 1;\"/></g><g class=\"point\"><path d=\"M447.66,420V172.81H449.13V420Z\" style=\"vector-effect: non-scaling-stroke; opacity: 1; stroke-width: 0px; fill: rgb(235, 137, 181); fill-opacity: 1;\"/></g><g class=\"point\"><path d=\"M451.73,420V126.1H453.19V420Z\" style=\"vector-effect: non-scaling-stroke; opacity: 1; stroke-width: 0px; fill: rgb(235, 137, 181); fill-opacity: 1;\"/></g><g class=\"point\"><path d=\"M455.79,420V225.37H457.26V420Z\" style=\"vector-effect: non-scaling-stroke; opacity: 1; stroke-width: 0px; fill: rgb(235, 137, 181); fill-opacity: 1;\"/></g><g class=\"point\"><path d=\"M459.86,420V223.42H461.32V420Z\" style=\"vector-effect: non-scaling-stroke; opacity: 1; stroke-width: 0px; fill: rgb(235, 137, 181); fill-opacity: 1;\"/></g><g class=\"point\"><path d=\"M463.92,420V221.47H465.39V420Z\" style=\"vector-effect: non-scaling-stroke; opacity: 1; stroke-width: 0px; fill: rgb(235, 137, 181); fill-opacity: 1;\"/></g><g class=\"point\"><path d=\"M467.99,420V211.74H469.45V420Z\" style=\"vector-effect: non-scaling-stroke; opacity: 1; stroke-width: 0px; fill: rgb(235, 137, 181); fill-opacity: 1;\"/></g><g class=\"point\"><path d=\"M472.05,420V250.67H473.52V420Z\" style=\"vector-effect: non-scaling-stroke; opacity: 1; stroke-width: 0px; fill: rgb(235, 137, 181); fill-opacity: 1;\"/></g><g class=\"point\"><path d=\"M476.12,420V238.99H477.58V420Z\" style=\"vector-effect: non-scaling-stroke; opacity: 1; stroke-width: 0px; fill: rgb(235, 137, 181); fill-opacity: 1;\"/></g><g class=\"point\"><path d=\"M480.18,420V277.92H481.65V420Z\" style=\"vector-effect: non-scaling-stroke; opacity: 1; stroke-width: 0px; fill: rgb(235, 137, 181); fill-opacity: 1;\"/></g><g class=\"point\"><path d=\"M484.25,420V266.24H485.71V420Z\" style=\"vector-effect: non-scaling-stroke; opacity: 1; stroke-width: 0px; fill: rgb(235, 137, 181); fill-opacity: 1;\"/></g><g class=\"point\"><path d=\"M488.31,420V219.53H489.78V420Z\" style=\"vector-effect: non-scaling-stroke; opacity: 1; stroke-width: 0px; fill: rgb(235, 137, 181); fill-opacity: 1;\"/></g><g class=\"point\"><path d=\"M492.38,420V163.08H493.84V420Z\" style=\"vector-effect: non-scaling-stroke; opacity: 1; stroke-width: 0px; fill: rgb(235, 137, 181); fill-opacity: 1;\"/></g><g class=\"point\"><path d=\"M496.44,420V279.86H497.91V420Z\" style=\"vector-effect: non-scaling-stroke; opacity: 1; stroke-width: 0px; fill: rgb(235, 137, 181); fill-opacity: 1;\"/></g><g class=\"point\"><path d=\"M500.51,420V252.61H501.97V420Z\" style=\"vector-effect: non-scaling-stroke; opacity: 1; stroke-width: 0px; fill: rgb(235, 137, 181); fill-opacity: 1;\"/></g><g class=\"point\"><path d=\"M504.57,420V254.56H506.04V420Z\" style=\"vector-effect: non-scaling-stroke; opacity: 1; stroke-width: 0px; fill: rgb(235, 137, 181); fill-opacity: 1;\"/></g><g class=\"point\"><path d=\"M508.64,420V240.94H510.1V420Z\" style=\"vector-effect: non-scaling-stroke; opacity: 1; stroke-width: 0px; fill: rgb(235, 137, 181); fill-opacity: 1;\"/></g><g class=\"point\"><path d=\"M512.71,420V283.76H514.17V420Z\" style=\"vector-effect: non-scaling-stroke; opacity: 1; stroke-width: 0px; fill: rgb(235, 137, 181); fill-opacity: 1;\"/></g><g class=\"point\"><path d=\"M516.77,420V287.65H518.23V420Z\" style=\"vector-effect: non-scaling-stroke; opacity: 1; stroke-width: 0px; fill: rgb(235, 137, 181); fill-opacity: 1;\"/></g><g class=\"point\"><path d=\"M520.84,420V277.92H522.3V420Z\" style=\"vector-effect: non-scaling-stroke; opacity: 1; stroke-width: 0px; fill: rgb(235, 137, 181); fill-opacity: 1;\"/></g><g class=\"point\"><path d=\"M524.9,420V322.68H526.36V420Z\" style=\"vector-effect: non-scaling-stroke; opacity: 1; stroke-width: 0px; fill: rgb(235, 137, 181); fill-opacity: 1;\"/></g><g class=\"point\"><path d=\"M528.97,420V347.99H530.43V420Z\" style=\"vector-effect: non-scaling-stroke; opacity: 1; stroke-width: 0px; fill: rgb(235, 137, 181); fill-opacity: 1;\"/></g><g class=\"point\"><path d=\"M533.03,420V351.88H534.49V420Z\" style=\"vector-effect: non-scaling-stroke; opacity: 1; stroke-width: 0px; fill: rgb(235, 137, 181); fill-opacity: 1;\"/></g><g class=\"point\"><path d=\"M537.1,420V357.72H538.56V420Z\" style=\"vector-effect: non-scaling-stroke; opacity: 1; stroke-width: 0px; fill: rgb(235, 137, 181); fill-opacity: 1;\"/></g><g class=\"point\"><path d=\"M541.16,420V359.66H542.63V420Z\" style=\"vector-effect: non-scaling-stroke; opacity: 1; stroke-width: 0px; fill: rgb(235, 137, 181); fill-opacity: 1;\"/></g><g class=\"point\"><path d=\"M545.23,420V312.95H546.69V420Z\" style=\"vector-effect: non-scaling-stroke; opacity: 1; stroke-width: 0px; fill: rgb(235, 137, 181); fill-opacity: 1;\"/></g><g class=\"point\"><path d=\"M549.29,420V338.25H550.76V420Z\" style=\"vector-effect: non-scaling-stroke; opacity: 1; stroke-width: 0px; fill: rgb(235, 137, 181); fill-opacity: 1;\"/></g><g class=\"point\"><path d=\"M553.36,420V384.97H554.82V420Z\" style=\"vector-effect: non-scaling-stroke; opacity: 1; stroke-width: 0px; fill: rgb(235, 137, 181); fill-opacity: 1;\"/></g><g class=\"point\"><path d=\"M557.42,420V381.07H558.89V420Z\" style=\"vector-effect: non-scaling-stroke; opacity: 1; stroke-width: 0px; fill: rgb(235, 137, 181); fill-opacity: 1;\"/></g><g class=\"point\"><path d=\"M561.49,420V375.23H562.95V420Z\" style=\"vector-effect: non-scaling-stroke; opacity: 1; stroke-width: 0px; fill: rgb(235, 137, 181); fill-opacity: 1;\"/></g><g class=\"point\"><path d=\"M565.55,420V336.31H567.02V420Z\" style=\"vector-effect: non-scaling-stroke; opacity: 1; stroke-width: 0px; fill: rgb(235, 137, 181); fill-opacity: 1;\"/></g><g class=\"point\"><path d=\"M569.62,420V386.91H571.08V420Z\" style=\"vector-effect: non-scaling-stroke; opacity: 1; stroke-width: 0px; fill: rgb(235, 137, 181); fill-opacity: 1;\"/></g><g class=\"point\"><path d=\"M573.68,420V381.07H575.15V420Z\" style=\"vector-effect: non-scaling-stroke; opacity: 1; stroke-width: 0px; fill: rgb(235, 137, 181); fill-opacity: 1;\"/></g><g class=\"point\"><path d=\"M577.75,420V363.56H579.21V420Z\" style=\"vector-effect: non-scaling-stroke; opacity: 1; stroke-width: 0px; fill: rgb(235, 137, 181); fill-opacity: 1;\"/></g><g class=\"point\"><path d=\"M581.81,420V383.02H583.28V420Z\" style=\"vector-effect: non-scaling-stroke; opacity: 1; stroke-width: 0px; fill: rgb(235, 137, 181); fill-opacity: 1;\"/></g><g class=\"point\"><path d=\"M585.88,420V412.21H587.34V420Z\" style=\"vector-effect: non-scaling-stroke; opacity: 1; stroke-width: 0px; fill: rgb(235, 137, 181); fill-opacity: 1;\"/></g><g class=\"point\"><path d=\"M589.94,420V381.07H591.41V420Z\" style=\"vector-effect: non-scaling-stroke; opacity: 1; stroke-width: 0px; fill: rgb(235, 137, 181); fill-opacity: 1;\"/></g><g class=\"point\"><path d=\"M594.01,420V394.7H595.47V420Z\" style=\"vector-effect: non-scaling-stroke; opacity: 1; stroke-width: 0px; fill: rgb(235, 137, 181); fill-opacity: 1;\"/></g><g class=\"point\"><path d=\"M598.07,420V404.43H599.54V420Z\" style=\"vector-effect: non-scaling-stroke; opacity: 1; stroke-width: 0px; fill: rgb(235, 137, 181); fill-opacity: 1;\"/></g><g class=\"point\"><path d=\"M602.14,420V398.59H603.6V420Z\" style=\"vector-effect: non-scaling-stroke; opacity: 1; stroke-width: 0px; fill: rgb(235, 137, 181); fill-opacity: 1;\"/></g><g class=\"point\"><path d=\"M606.21,420V390.8H607.67V420Z\" style=\"vector-effect: non-scaling-stroke; opacity: 1; stroke-width: 0px; fill: rgb(235, 137, 181); fill-opacity: 1;\"/></g><g class=\"point\"><path d=\"M610.27,420V402.48H611.73V420Z\" style=\"vector-effect: non-scaling-stroke; opacity: 1; stroke-width: 0px; fill: rgb(235, 137, 181); fill-opacity: 1;\"/></g><g class=\"point\"><path d=\"M614.34,420V406.38H615.8V420Z\" style=\"vector-effect: non-scaling-stroke; opacity: 1; stroke-width: 0px; fill: rgb(235, 137, 181); fill-opacity: 1;\"/></g><g class=\"point\"><path d=\"M618.4,420V394.7H619.86V420Z\" style=\"vector-effect: non-scaling-stroke; opacity: 1; stroke-width: 0px; fill: rgb(235, 137, 181); fill-opacity: 1;\"/></g><g class=\"point\"><path d=\"M622.47,420V408.32H623.93V420Z\" style=\"vector-effect: non-scaling-stroke; opacity: 1; stroke-width: 0px; fill: rgb(235, 137, 181); fill-opacity: 1;\"/></g><g class=\"point\"><path d=\"M626.53,420V402.48H627.99V420Z\" style=\"vector-effect: non-scaling-stroke; opacity: 1; stroke-width: 0px; fill: rgb(235, 137, 181); fill-opacity: 1;\"/></g><g class=\"point\"><path d=\"M630.6,420V402.48H632.06V420Z\" style=\"vector-effect: non-scaling-stroke; opacity: 1; stroke-width: 0px; fill: rgb(235, 137, 181); fill-opacity: 1;\"/></g><g class=\"point\"><path d=\"M634.66,420V416.11H636.13V420Z\" style=\"vector-effect: non-scaling-stroke; opacity: 1; stroke-width: 0px; fill: rgb(235, 137, 181); fill-opacity: 1;\"/></g><g class=\"point\"><path d=\"M638.73,420V416.11H640.19V420Z\" style=\"vector-effect: non-scaling-stroke; opacity: 1; stroke-width: 0px; fill: rgb(235, 137, 181); fill-opacity: 1;\"/></g><g class=\"point\"><path d=\"M642.79,420V414.16H644.26V420Z\" style=\"vector-effect: non-scaling-stroke; opacity: 1; stroke-width: 0px; fill: rgb(235, 137, 181); fill-opacity: 1;\"/></g><g class=\"point\"><path d=\"M646.86,420V410.27H648.32V420Z\" style=\"vector-effect: non-scaling-stroke; opacity: 1; stroke-width: 0px; fill: rgb(235, 137, 181); fill-opacity: 1;\"/></g><g class=\"point\"><path d=\"M650.92,420V410.27H652.39V420Z\" style=\"vector-effect: non-scaling-stroke; opacity: 1; stroke-width: 0px; fill: rgb(235, 137, 181); fill-opacity: 1;\"/></g><g class=\"point\"><path d=\"M654.99,420V414.16H656.45V420Z\" style=\"vector-effect: non-scaling-stroke; opacity: 1; stroke-width: 0px; fill: rgb(235, 137, 181); fill-opacity: 1;\"/></g><g class=\"point\"><path d=\"M659.05,420V418.05H660.52V420Z\" style=\"vector-effect: non-scaling-stroke; opacity: 1; stroke-width: 0px; fill: rgb(235, 137, 181); fill-opacity: 1;\"/></g><g class=\"point\"><path d=\"M663.12,420V418.05H664.58V420Z\" style=\"vector-effect: non-scaling-stroke; opacity: 1; stroke-width: 0px; fill: rgb(235, 137, 181); fill-opacity: 1;\"/></g><g class=\"point\"><path d=\"M0,0Z\" style=\"vector-effect: non-scaling-stroke; opacity: 1; stroke-width: 0px; fill: rgb(235, 137, 181); fill-opacity: 1;\"/></g><g class=\"point\"><path d=\"M671.25,420V418.05H672.71V420Z\" style=\"vector-effect: non-scaling-stroke; opacity: 1; stroke-width: 0px; fill: rgb(235, 137, 181); fill-opacity: 1;\"/></g><g class=\"point\"><path d=\"M0,0Z\" style=\"vector-effect: non-scaling-stroke; opacity: 1; stroke-width: 0px; fill: rgb(235, 137, 181); fill-opacity: 1;\"/></g><g class=\"point\"><path d=\"M0,0Z\" style=\"vector-effect: non-scaling-stroke; opacity: 1; stroke-width: 0px; fill: rgb(235, 137, 181); fill-opacity: 1;\"/></g><g class=\"point\"><path d=\"M0,0Z\" style=\"vector-effect: non-scaling-stroke; opacity: 1; stroke-width: 0px; fill: rgb(235, 137, 181); fill-opacity: 1;\"/></g><g class=\"point\"><path d=\"M0,0Z\" style=\"vector-effect: non-scaling-stroke; opacity: 1; stroke-width: 0px; fill: rgb(235, 137, 181); fill-opacity: 1;\"/></g><g class=\"point\"><path d=\"M0,0Z\" style=\"vector-effect: non-scaling-stroke; opacity: 1; stroke-width: 0px; fill: rgb(235, 137, 181); fill-opacity: 1;\"/></g><g class=\"point\"><path d=\"M695.64,420V418.05H697.1V420Z\" style=\"vector-effect: non-scaling-stroke; opacity: 1; stroke-width: 0px; fill: rgb(235, 137, 181); fill-opacity: 1;\"/></g><g class=\"point\"><path d=\"M699.71,420V408.32H701.17V420Z\" style=\"vector-effect: non-scaling-stroke; opacity: 1; stroke-width: 0px; fill: rgb(235, 137, 181); fill-opacity: 1;\"/></g><g class=\"point\"><path d=\"M0,0Z\" style=\"vector-effect: non-scaling-stroke; opacity: 1; stroke-width: 0px; fill: rgb(235, 137, 181); fill-opacity: 1;\"/></g><g class=\"point\"><path d=\"M0,0Z\" style=\"vector-effect: non-scaling-stroke; opacity: 1; stroke-width: 0px; fill: rgb(235, 137, 181); fill-opacity: 1;\"/></g><g class=\"point\"><path d=\"M711.9,420V418.05H713.36V420Z\" style=\"vector-effect: non-scaling-stroke; opacity: 1; stroke-width: 0px; fill: rgb(235, 137, 181); fill-opacity: 1;\"/></g><g class=\"point\"><path d=\"M715.97,420V416.11H717.43V420Z\" style=\"vector-effect: non-scaling-stroke; opacity: 1; stroke-width: 0px; fill: rgb(235, 137, 181); fill-opacity: 1;\"/></g></g></g><g class=\"trace bars\" style=\"opacity: 0.75;\"><g class=\"points\"><g class=\"point\"><path d=\"M2.11,420V418.05H3.58V420Z\" style=\"vector-effect: non-scaling-stroke; opacity: 1; stroke-width: 0px; fill: rgb(51, 12, 115); fill-opacity: 1;\"/></g><g class=\"point\"><path d=\"M0,0Z\" style=\"vector-effect: non-scaling-stroke; opacity: 1; stroke-width: 0px; fill: rgb(51, 12, 115); fill-opacity: 1;\"/></g><g class=\"point\"><path d=\"M0,0Z\" style=\"vector-effect: non-scaling-stroke; opacity: 1; stroke-width: 0px; fill: rgb(51, 12, 115); fill-opacity: 1;\"/></g><g class=\"point\"><path d=\"M0,0Z\" style=\"vector-effect: non-scaling-stroke; opacity: 1; stroke-width: 0px; fill: rgb(51, 12, 115); fill-opacity: 1;\"/></g><g class=\"point\"><path d=\"M0,0Z\" style=\"vector-effect: non-scaling-stroke; opacity: 1; stroke-width: 0px; fill: rgb(51, 12, 115); fill-opacity: 1;\"/></g><g class=\"point\"><path d=\"M22.44,420V418.05H23.9V420Z\" style=\"vector-effect: non-scaling-stroke; opacity: 1; stroke-width: 0px; fill: rgb(51, 12, 115); fill-opacity: 1;\"/></g><g class=\"point\"><path d=\"M0,0Z\" style=\"vector-effect: non-scaling-stroke; opacity: 1; stroke-width: 0px; fill: rgb(51, 12, 115); fill-opacity: 1;\"/></g><g class=\"point\"><path d=\"M0,0Z\" style=\"vector-effect: non-scaling-stroke; opacity: 1; stroke-width: 0px; fill: rgb(51, 12, 115); fill-opacity: 1;\"/></g><g class=\"point\"><path d=\"M0,0Z\" style=\"vector-effect: non-scaling-stroke; opacity: 1; stroke-width: 0px; fill: rgb(51, 12, 115); fill-opacity: 1;\"/></g><g class=\"point\"><path d=\"M0,0Z\" style=\"vector-effect: non-scaling-stroke; opacity: 1; stroke-width: 0px; fill: rgb(51, 12, 115); fill-opacity: 1;\"/></g><g class=\"point\"><path d=\"M0,0Z\" style=\"vector-effect: non-scaling-stroke; opacity: 1; stroke-width: 0px; fill: rgb(51, 12, 115); fill-opacity: 1;\"/></g><g class=\"point\"><path d=\"M46.83,420V418.05H48.29V420Z\" style=\"vector-effect: non-scaling-stroke; opacity: 1; stroke-width: 0px; fill: rgb(51, 12, 115); fill-opacity: 1;\"/></g><g class=\"point\"><path d=\"M0,0Z\" style=\"vector-effect: non-scaling-stroke; opacity: 1; stroke-width: 0px; fill: rgb(51, 12, 115); fill-opacity: 1;\"/></g><g class=\"point\"><path d=\"M0,0Z\" style=\"vector-effect: non-scaling-stroke; opacity: 1; stroke-width: 0px; fill: rgb(51, 12, 115); fill-opacity: 1;\"/></g><g class=\"point\"><path d=\"M59.03,420V418.05H60.49V420Z\" style=\"vector-effect: non-scaling-stroke; opacity: 1; stroke-width: 0px; fill: rgb(51, 12, 115); fill-opacity: 1;\"/></g><g class=\"point\"><path d=\"M0,0Z\" style=\"vector-effect: non-scaling-stroke; opacity: 1; stroke-width: 0px; fill: rgb(51, 12, 115); fill-opacity: 1;\"/></g><g class=\"point\"><path d=\"M67.16,420V418.05H68.62V420Z\" style=\"vector-effect: non-scaling-stroke; opacity: 1; stroke-width: 0px; fill: rgb(51, 12, 115); fill-opacity: 1;\"/></g><g class=\"point\"><path d=\"M71.22,420V418.05H72.69V420Z\" style=\"vector-effect: non-scaling-stroke; opacity: 1; stroke-width: 0px; fill: rgb(51, 12, 115); fill-opacity: 1;\"/></g><g class=\"point\"><path d=\"M0,0Z\" style=\"vector-effect: non-scaling-stroke; opacity: 1; stroke-width: 0px; fill: rgb(51, 12, 115); fill-opacity: 1;\"/></g><g class=\"point\"><path d=\"M0,0Z\" style=\"vector-effect: non-scaling-stroke; opacity: 1; stroke-width: 0px; fill: rgb(51, 12, 115); fill-opacity: 1;\"/></g><g class=\"point\"><path d=\"M83.42,420V416.11H84.88V420Z\" style=\"vector-effect: non-scaling-stroke; opacity: 1; stroke-width: 0px; fill: rgb(51, 12, 115); fill-opacity: 1;\"/></g><g class=\"point\"><path d=\"M0,0Z\" style=\"vector-effect: non-scaling-stroke; opacity: 1; stroke-width: 0px; fill: rgb(51, 12, 115); fill-opacity: 1;\"/></g><g class=\"point\"><path d=\"M0,0Z\" style=\"vector-effect: non-scaling-stroke; opacity: 1; stroke-width: 0px; fill: rgb(51, 12, 115); fill-opacity: 1;\"/></g><g class=\"point\"><path d=\"M95.61,420V416.11H97.08V420Z\" style=\"vector-effect: non-scaling-stroke; opacity: 1; stroke-width: 0px; fill: rgb(51, 12, 115); fill-opacity: 1;\"/></g><g class=\"point\"><path d=\"M99.68,420V416.11H101.14V420Z\" style=\"vector-effect: non-scaling-stroke; opacity: 1; stroke-width: 0px; fill: rgb(51, 12, 115); fill-opacity: 1;\"/></g><g class=\"point\"><path d=\"M0,0Z\" style=\"vector-effect: non-scaling-stroke; opacity: 1; stroke-width: 0px; fill: rgb(51, 12, 115); fill-opacity: 1;\"/></g><g class=\"point\"><path d=\"M107.81,420V412.21H109.27V420Z\" style=\"vector-effect: non-scaling-stroke; opacity: 1; stroke-width: 0px; fill: rgb(51, 12, 115); fill-opacity: 1;\"/></g><g class=\"point\"><path d=\"M111.87,420V402.48H113.34V420Z\" style=\"vector-effect: non-scaling-stroke; opacity: 1; stroke-width: 0px; fill: rgb(51, 12, 115); fill-opacity: 1;\"/></g><g class=\"point\"><path d=\"M115.94,420V414.16H117.4V420Z\" style=\"vector-effect: non-scaling-stroke; opacity: 1; stroke-width: 0px; fill: rgb(51, 12, 115); fill-opacity: 1;\"/></g><g class=\"point\"><path d=\"M0,0Z\" style=\"vector-effect: non-scaling-stroke; opacity: 1; stroke-width: 0px; fill: rgb(51, 12, 115); fill-opacity: 1;\"/></g><g class=\"point\"><path d=\"M124.07,420V408.32H125.53V420Z\" style=\"vector-effect: non-scaling-stroke; opacity: 1; stroke-width: 0px; fill: rgb(51, 12, 115); fill-opacity: 1;\"/></g><g class=\"point\"><path d=\"M128.14,420V408.32H129.6V420Z\" style=\"vector-effect: non-scaling-stroke; opacity: 1; stroke-width: 0px; fill: rgb(51, 12, 115); fill-opacity: 1;\"/></g><g class=\"point\"><path d=\"M132.2,420V416.11H133.66V420Z\" style=\"vector-effect: non-scaling-stroke; opacity: 1; stroke-width: 0px; fill: rgb(51, 12, 115); fill-opacity: 1;\"/></g><g class=\"point\"><path d=\"M136.27,420V406.38H137.73V420Z\" style=\"vector-effect: non-scaling-stroke; opacity: 1; stroke-width: 0px; fill: rgb(51, 12, 115); fill-opacity: 1;\"/></g><g class=\"point\"><path d=\"M140.33,420V410.27H141.79V420Z\" style=\"vector-effect: non-scaling-stroke; opacity: 1; stroke-width: 0px; fill: rgb(51, 12, 115); fill-opacity: 1;\"/></g><g class=\"point\"><path d=\"M144.4,420V402.48H145.86V420Z\" style=\"vector-effect: non-scaling-stroke; opacity: 1; stroke-width: 0px; fill: rgb(51, 12, 115); fill-opacity: 1;\"/></g><g class=\"point\"><path d=\"M148.46,420V400.54H149.93V420Z\" style=\"vector-effect: non-scaling-stroke; opacity: 1; stroke-width: 0px; fill: rgb(51, 12, 115); fill-opacity: 1;\"/></g><g class=\"point\"><path d=\"M152.53,420V396.64H153.99V420Z\" style=\"vector-effect: non-scaling-stroke; opacity: 1; stroke-width: 0px; fill: rgb(51, 12, 115); fill-opacity: 1;\"/></g><g class=\"point\"><path d=\"M156.59,420V402.48H158.06V420Z\" style=\"vector-effect: non-scaling-stroke; opacity: 1; stroke-width: 0px; fill: rgb(51, 12, 115); fill-opacity: 1;\"/></g><g class=\"point\"><path d=\"M160.66,420V400.54H162.12V420Z\" style=\"vector-effect: non-scaling-stroke; opacity: 1; stroke-width: 0px; fill: rgb(51, 12, 115); fill-opacity: 1;\"/></g><g class=\"point\"><path d=\"M164.72,420V398.59H166.19V420Z\" style=\"vector-effect: non-scaling-stroke; opacity: 1; stroke-width: 0px; fill: rgb(51, 12, 115); fill-opacity: 1;\"/></g><g class=\"point\"><path d=\"M168.79,420V402.48H170.25V420Z\" style=\"vector-effect: non-scaling-stroke; opacity: 1; stroke-width: 0px; fill: rgb(51, 12, 115); fill-opacity: 1;\"/></g><g class=\"point\"><path d=\"M172.85,420V410.27H174.32V420Z\" style=\"vector-effect: non-scaling-stroke; opacity: 1; stroke-width: 0px; fill: rgb(51, 12, 115); fill-opacity: 1;\"/></g><g class=\"point\"><path d=\"M176.92,420V392.75H178.38V420Z\" style=\"vector-effect: non-scaling-stroke; opacity: 1; stroke-width: 0px; fill: rgb(51, 12, 115); fill-opacity: 1;\"/></g><g class=\"point\"><path d=\"M180.98,420V404.43H182.45V420Z\" style=\"vector-effect: non-scaling-stroke; opacity: 1; stroke-width: 0px; fill: rgb(51, 12, 115); fill-opacity: 1;\"/></g><g class=\"point\"><path d=\"M185.05,420V384.97H186.51V420Z\" style=\"vector-effect: non-scaling-stroke; opacity: 1; stroke-width: 0px; fill: rgb(51, 12, 115); fill-opacity: 1;\"/></g><g class=\"point\"><path d=\"M189.11,420V361.61H190.58V420Z\" style=\"vector-effect: non-scaling-stroke; opacity: 1; stroke-width: 0px; fill: rgb(51, 12, 115); fill-opacity: 1;\"/></g><g class=\"point\"><path d=\"M193.18,420V396.64H194.64V420Z\" style=\"vector-effect: non-scaling-stroke; opacity: 1; stroke-width: 0px; fill: rgb(51, 12, 115); fill-opacity: 1;\"/></g><g class=\"point\"><path d=\"M197.24,420V371.34H198.71V420Z\" style=\"vector-effect: non-scaling-stroke; opacity: 1; stroke-width: 0px; fill: rgb(51, 12, 115); fill-opacity: 1;\"/></g><g class=\"point\"><path d=\"M201.31,420V357.72H202.77V420Z\" style=\"vector-effect: non-scaling-stroke; opacity: 1; stroke-width: 0px; fill: rgb(51, 12, 115); fill-opacity: 1;\"/></g><g class=\"point\"><path d=\"M205.37,420V365.5H206.84V420Z\" style=\"vector-effect: non-scaling-stroke; opacity: 1; stroke-width: 0px; fill: rgb(51, 12, 115); fill-opacity: 1;\"/></g><g class=\"point\"><path d=\"M209.44,420V357.72H210.9V420Z\" style=\"vector-effect: non-scaling-stroke; opacity: 1; stroke-width: 0px; fill: rgb(51, 12, 115); fill-opacity: 1;\"/></g><g class=\"point\"><path d=\"M213.51,420V334.36H214.97V420Z\" style=\"vector-effect: non-scaling-stroke; opacity: 1; stroke-width: 0px; fill: rgb(51, 12, 115); fill-opacity: 1;\"/></g><g class=\"point\"><path d=\"M217.57,420V355.77H219.03V420Z\" style=\"vector-effect: non-scaling-stroke; opacity: 1; stroke-width: 0px; fill: rgb(51, 12, 115); fill-opacity: 1;\"/></g><g class=\"point\"><path d=\"M221.64,420V314.9H223.1V420Z\" style=\"vector-effect: non-scaling-stroke; opacity: 1; stroke-width: 0px; fill: rgb(51, 12, 115); fill-opacity: 1;\"/></g><g class=\"point\"><path d=\"M225.7,420V371.34H227.16V420Z\" style=\"vector-effect: non-scaling-stroke; opacity: 1; stroke-width: 0px; fill: rgb(51, 12, 115); fill-opacity: 1;\"/></g><g class=\"point\"><path d=\"M229.77,420V291.54H231.23V420Z\" style=\"vector-effect: non-scaling-stroke; opacity: 1; stroke-width: 0px; fill: rgb(51, 12, 115); fill-opacity: 1;\"/></g><g class=\"point\"><path d=\"M233.83,420V346.04H235.29V420Z\" style=\"vector-effect: non-scaling-stroke; opacity: 1; stroke-width: 0px; fill: rgb(51, 12, 115); fill-opacity: 1;\"/></g><g class=\"point\"><path d=\"M237.9,420V299.33H239.36V420Z\" style=\"vector-effect: non-scaling-stroke; opacity: 1; stroke-width: 0px; fill: rgb(51, 12, 115); fill-opacity: 1;\"/></g><g class=\"point\"><path d=\"M241.96,420V299.33H243.43V420Z\" style=\"vector-effect: non-scaling-stroke; opacity: 1; stroke-width: 0px; fill: rgb(51, 12, 115); fill-opacity: 1;\"/></g><g class=\"point\"><path d=\"M246.03,420V332.41H247.49V420Z\" style=\"vector-effect: non-scaling-stroke; opacity: 1; stroke-width: 0px; fill: rgb(51, 12, 115); fill-opacity: 1;\"/></g><g class=\"point\"><path d=\"M250.09,420V303.22H251.56V420Z\" style=\"vector-effect: non-scaling-stroke; opacity: 1; stroke-width: 0px; fill: rgb(51, 12, 115); fill-opacity: 1;\"/></g><g class=\"point\"><path d=\"M254.16,420V287.65H255.62V420Z\" style=\"vector-effect: non-scaling-stroke; opacity: 1; stroke-width: 0px; fill: rgb(51, 12, 115); fill-opacity: 1;\"/></g><g class=\"point\"><path d=\"M258.22,420V240.94H259.69V420Z\" style=\"vector-effect: non-scaling-stroke; opacity: 1; stroke-width: 0px; fill: rgb(51, 12, 115); fill-opacity: 1;\"/></g><g class=\"point\"><path d=\"M262.29,420V289.6H263.75V420Z\" style=\"vector-effect: non-scaling-stroke; opacity: 1; stroke-width: 0px; fill: rgb(51, 12, 115); fill-opacity: 1;\"/></g><g class=\"point\"><path d=\"M266.35,420V307.11H267.82V420Z\" style=\"vector-effect: non-scaling-stroke; opacity: 1; stroke-width: 0px; fill: rgb(51, 12, 115); fill-opacity: 1;\"/></g><g class=\"point\"><path d=\"M270.42,420V309.06H271.88V420Z\" style=\"vector-effect: non-scaling-stroke; opacity: 1; stroke-width: 0px; fill: rgb(51, 12, 115); fill-opacity: 1;\"/></g><g class=\"point\"><path d=\"M274.48,420V274.02H275.95V420Z\" style=\"vector-effect: non-scaling-stroke; opacity: 1; stroke-width: 0px; fill: rgb(51, 12, 115); fill-opacity: 1;\"/></g><g class=\"point\"><path d=\"M278.55,420V240.94H280.01V420Z\" style=\"vector-effect: non-scaling-stroke; opacity: 1; stroke-width: 0px; fill: rgb(51, 12, 115); fill-opacity: 1;\"/></g><g class=\"point\"><path d=\"M282.61,420V258.45H284.08V420Z\" style=\"vector-effect: non-scaling-stroke; opacity: 1; stroke-width: 0px; fill: rgb(51, 12, 115); fill-opacity: 1;\"/></g><g class=\"point\"><path d=\"M286.68,420V219.53H288.14V420Z\" style=\"vector-effect: non-scaling-stroke; opacity: 1; stroke-width: 0px; fill: rgb(51, 12, 115); fill-opacity: 1;\"/></g><g class=\"point\"><path d=\"M290.74,420V231.2H292.21V420Z\" style=\"vector-effect: non-scaling-stroke; opacity: 1; stroke-width: 0px; fill: rgb(51, 12, 115); fill-opacity: 1;\"/></g><g class=\"point\"><path d=\"M294.81,420V237.04H296.27V420Z\" style=\"vector-effect: non-scaling-stroke; opacity: 1; stroke-width: 0px; fill: rgb(51, 12, 115); fill-opacity: 1;\"/></g><g class=\"point\"><path d=\"M298.87,420V172.81H300.34V420Z\" style=\"vector-effect: non-scaling-stroke; opacity: 1; stroke-width: 0px; fill: rgb(51, 12, 115); fill-opacity: 1;\"/></g><g class=\"point\"><path d=\"M302.94,420V202.01H304.4V420Z\" style=\"vector-effect: non-scaling-stroke; opacity: 1; stroke-width: 0px; fill: rgb(51, 12, 115); fill-opacity: 1;\"/></g><g class=\"point\"><path d=\"M307.01,420V205.9H308.47V420Z\" style=\"vector-effect: non-scaling-stroke; opacity: 1; stroke-width: 0px; fill: rgb(51, 12, 115); fill-opacity: 1;\"/></g><g class=\"point\"><path d=\"M311.07,420V170.87H312.53V420Z\" style=\"vector-effect: non-scaling-stroke; opacity: 1; stroke-width: 0px; fill: rgb(51, 12, 115); fill-opacity: 1;\"/></g><g class=\"point\"><path d=\"M315.14,420V141.67H316.6V420Z\" style=\"vector-effect: non-scaling-stroke; opacity: 1; stroke-width: 0px; fill: rgb(51, 12, 115); fill-opacity: 1;\"/></g><g class=\"point\"><path d=\"M319.2,420V124.16H320.66V420Z\" style=\"vector-effect: non-scaling-stroke; opacity: 1; stroke-width: 0px; fill: rgb(51, 12, 115); fill-opacity: 1;\"/></g><g class=\"point\"><path d=\"M323.27,420V182.55H324.73V420Z\" style=\"vector-effect: non-scaling-stroke; opacity: 1; stroke-width: 0px; fill: rgb(51, 12, 115); fill-opacity: 1;\"/></g><g class=\"point\"><path d=\"M327.33,420V120.26H328.79V420Z\" style=\"vector-effect: non-scaling-stroke; opacity: 1; stroke-width: 0px; fill: rgb(51, 12, 115); fill-opacity: 1;\"/></g><g class=\"point\"><path d=\"M331.4,420V176.71H332.86V420Z\" style=\"vector-effect: non-scaling-stroke; opacity: 1; stroke-width: 0px; fill: rgb(51, 12, 115); fill-opacity: 1;\"/></g><g class=\"point\"><path d=\"M335.46,420V96.91H336.93V420Z\" style=\"vector-effect: non-scaling-stroke; opacity: 1; stroke-width: 0px; fill: rgb(51, 12, 115); fill-opacity: 1;\"/></g><g class=\"point\"><path d=\"M339.53,420V170.87H340.99V420Z\" style=\"vector-effect: non-scaling-stroke; opacity: 1; stroke-width: 0px; fill: rgb(51, 12, 115); fill-opacity: 1;\"/></g><g class=\"point\"><path d=\"M343.59,420V137.78H345.06V420Z\" style=\"vector-effect: non-scaling-stroke; opacity: 1; stroke-width: 0px; fill: rgb(51, 12, 115); fill-opacity: 1;\"/></g><g class=\"point\"><path d=\"M347.66,420V61.87H349.12V420Z\" style=\"vector-effect: non-scaling-stroke; opacity: 1; stroke-width: 0px; fill: rgb(51, 12, 115); fill-opacity: 1;\"/></g><g class=\"point\"><path d=\"M351.72,420V155.3H353.19V420Z\" style=\"vector-effect: non-scaling-stroke; opacity: 1; stroke-width: 0px; fill: rgb(51, 12, 115); fill-opacity: 1;\"/></g><g class=\"point\"><path d=\"M355.79,420V122.21H357.25V420Z\" style=\"vector-effect: non-scaling-stroke; opacity: 1; stroke-width: 0px; fill: rgb(51, 12, 115); fill-opacity: 1;\"/></g><g class=\"point\"><path d=\"M359.85,420V130H361.32V420Z\" style=\"vector-effect: non-scaling-stroke; opacity: 1; stroke-width: 0px; fill: rgb(51, 12, 115); fill-opacity: 1;\"/></g><g class=\"point\"><path d=\"M363.92,420V130H365.38V420Z\" style=\"vector-effect: non-scaling-stroke; opacity: 1; stroke-width: 0px; fill: rgb(51, 12, 115); fill-opacity: 1;\"/></g><g class=\"point\"><path d=\"M367.98,420V100.8H369.45V420Z\" style=\"vector-effect: non-scaling-stroke; opacity: 1; stroke-width: 0px; fill: rgb(51, 12, 115); fill-opacity: 1;\"/></g><g class=\"point\"><path d=\"M372.05,420V79.39H373.51V420Z\" style=\"vector-effect: non-scaling-stroke; opacity: 1; stroke-width: 0px; fill: rgb(51, 12, 115); fill-opacity: 1;\"/></g><g class=\"point\"><path d=\"M376.11,420V126.1H377.58V420Z\" style=\"vector-effect: non-scaling-stroke; opacity: 1; stroke-width: 0px; fill: rgb(51, 12, 115); fill-opacity: 1;\"/></g><g class=\"point\"><path d=\"M380.18,420V98.85H381.64V420Z\" style=\"vector-effect: non-scaling-stroke; opacity: 1; stroke-width: 0px; fill: rgb(51, 12, 115); fill-opacity: 1;\"/></g><g class=\"point\"><path d=\"M384.24,420V124.16H385.71V420Z\" style=\"vector-effect: non-scaling-stroke; opacity: 1; stroke-width: 0px; fill: rgb(51, 12, 115); fill-opacity: 1;\"/></g><g class=\"point\"><path d=\"M388.31,420V106.64H389.77V420Z\" style=\"vector-effect: non-scaling-stroke; opacity: 1; stroke-width: 0px; fill: rgb(51, 12, 115); fill-opacity: 1;\"/></g><g class=\"point\"><path d=\"M392.37,420V21H393.84V420Z\" style=\"vector-effect: non-scaling-stroke; opacity: 1; stroke-width: 0px; fill: rgb(51, 12, 115); fill-opacity: 1;\"/></g><g class=\"point\"><path d=\"M396.44,420V59.93H397.9V420Z\" style=\"vector-effect: non-scaling-stroke; opacity: 1; stroke-width: 0px; fill: rgb(51, 12, 115); fill-opacity: 1;\"/></g><g class=\"point\"><path d=\"M400.51,420V157.24H401.97V420Z\" style=\"vector-effect: non-scaling-stroke; opacity: 1; stroke-width: 0px; fill: rgb(51, 12, 115); fill-opacity: 1;\"/></g><g class=\"point\"><path d=\"M404.57,420V135.83H406.03V420Z\" style=\"vector-effect: non-scaling-stroke; opacity: 1; stroke-width: 0px; fill: rgb(51, 12, 115); fill-opacity: 1;\"/></g><g class=\"point\"><path d=\"M408.64,420V182.55H410.1V420Z\" style=\"vector-effect: non-scaling-stroke; opacity: 1; stroke-width: 0px; fill: rgb(51, 12, 115); fill-opacity: 1;\"/></g><g class=\"point\"><path d=\"M412.7,420V126.1H414.16V420Z\" style=\"vector-effect: non-scaling-stroke; opacity: 1; stroke-width: 0px; fill: rgb(51, 12, 115); fill-opacity: 1;\"/></g><g class=\"point\"><path d=\"M416.77,420V96.91H418.23V420Z\" style=\"vector-effect: non-scaling-stroke; opacity: 1; stroke-width: 0px; fill: rgb(51, 12, 115); fill-opacity: 1;\"/></g><g class=\"point\"><path d=\"M420.83,420V128.05H422.29V420Z\" style=\"vector-effect: non-scaling-stroke; opacity: 1; stroke-width: 0px; fill: rgb(51, 12, 115); fill-opacity: 1;\"/></g><g class=\"point\"><path d=\"M424.9,420V114.42H426.36V420Z\" style=\"vector-effect: non-scaling-stroke; opacity: 1; stroke-width: 0px; fill: rgb(51, 12, 115); fill-opacity: 1;\"/></g><g class=\"point\"><path d=\"M428.96,420V93.01H430.43V420Z\" style=\"vector-effect: non-scaling-stroke; opacity: 1; stroke-width: 0px; fill: rgb(51, 12, 115); fill-opacity: 1;\"/></g><g class=\"point\"><path d=\"M433.03,420V168.92H434.49V420Z\" style=\"vector-effect: non-scaling-stroke; opacity: 1; stroke-width: 0px; fill: rgb(51, 12, 115); fill-opacity: 1;\"/></g><g class=\"point\"><path d=\"M437.09,420V130H438.56V420Z\" style=\"vector-effect: non-scaling-stroke; opacity: 1; stroke-width: 0px; fill: rgb(51, 12, 115); fill-opacity: 1;\"/></g><g class=\"point\"><path d=\"M441.16,420V145.57H442.62V420Z\" style=\"vector-effect: non-scaling-stroke; opacity: 1; stroke-width: 0px; fill: rgb(51, 12, 115); fill-opacity: 1;\"/></g><g class=\"point\"><path d=\"M445.22,420V56.03H446.69V420Z\" style=\"vector-effect: non-scaling-stroke; opacity: 1; stroke-width: 0px; fill: rgb(51, 12, 115); fill-opacity: 1;\"/></g><g class=\"point\"><path d=\"M449.29,420V143.62H450.75V420Z\" style=\"vector-effect: non-scaling-stroke; opacity: 1; stroke-width: 0px; fill: rgb(51, 12, 115); fill-opacity: 1;\"/></g><g class=\"point\"><path d=\"M453.35,420V180.6H454.82V420Z\" style=\"vector-effect: non-scaling-stroke; opacity: 1; stroke-width: 0px; fill: rgb(51, 12, 115); fill-opacity: 1;\"/></g><g class=\"point\"><path d=\"M457.42,420V170.87H458.88V420Z\" style=\"vector-effect: non-scaling-stroke; opacity: 1; stroke-width: 0px; fill: rgb(51, 12, 115); fill-opacity: 1;\"/></g><g class=\"point\"><path d=\"M461.48,420V186.44H462.95V420Z\" style=\"vector-effect: non-scaling-stroke; opacity: 1; stroke-width: 0px; fill: rgb(51, 12, 115); fill-opacity: 1;\"/></g><g class=\"point\"><path d=\"M465.55,420V240.94H467.01V420Z\" style=\"vector-effect: non-scaling-stroke; opacity: 1; stroke-width: 0px; fill: rgb(51, 12, 115); fill-opacity: 1;\"/></g><g class=\"point\"><path d=\"M469.61,420V233.15H471.08V420Z\" style=\"vector-effect: non-scaling-stroke; opacity: 1; stroke-width: 0px; fill: rgb(51, 12, 115); fill-opacity: 1;\"/></g><g class=\"point\"><path d=\"M473.68,420V270.13H475.14V420Z\" style=\"vector-effect: non-scaling-stroke; opacity: 1; stroke-width: 0px; fill: rgb(51, 12, 115); fill-opacity: 1;\"/></g><g class=\"point\"><path d=\"M477.74,420V209.8H479.21V420Z\" style=\"vector-effect: non-scaling-stroke; opacity: 1; stroke-width: 0px; fill: rgb(51, 12, 115); fill-opacity: 1;\"/></g><g class=\"point\"><path d=\"M481.81,420V200.06H483.27V420Z\" style=\"vector-effect: non-scaling-stroke; opacity: 1; stroke-width: 0px; fill: rgb(51, 12, 115); fill-opacity: 1;\"/></g><g class=\"point\"><path d=\"M485.87,420V221.47H487.34V420Z\" style=\"vector-effect: non-scaling-stroke; opacity: 1; stroke-width: 0px; fill: rgb(51, 12, 115); fill-opacity: 1;\"/></g><g class=\"point\"><path d=\"M489.94,420V252.61H491.4V420Z\" style=\"vector-effect: non-scaling-stroke; opacity: 1; stroke-width: 0px; fill: rgb(51, 12, 115); fill-opacity: 1;\"/></g><g class=\"point\"><path d=\"M494.01,420V180.6H495.47V420Z\" style=\"vector-effect: non-scaling-stroke; opacity: 1; stroke-width: 0px; fill: rgb(51, 12, 115); fill-opacity: 1;\"/></g><g class=\"point\"><path d=\"M498.07,420V272.08H499.53V420Z\" style=\"vector-effect: non-scaling-stroke; opacity: 1; stroke-width: 0px; fill: rgb(51, 12, 115); fill-opacity: 1;\"/></g><g class=\"point\"><path d=\"M502.14,420V268.19H503.6V420Z\" style=\"vector-effect: non-scaling-stroke; opacity: 1; stroke-width: 0px; fill: rgb(51, 12, 115); fill-opacity: 1;\"/></g><g class=\"point\"><path d=\"M506.2,420V262.35H507.66V420Z\" style=\"vector-effect: non-scaling-stroke; opacity: 1; stroke-width: 0px; fill: rgb(51, 12, 115); fill-opacity: 1;\"/></g><g class=\"point\"><path d=\"M510.27,420V240.94H511.73V420Z\" style=\"vector-effect: non-scaling-stroke; opacity: 1; stroke-width: 0px; fill: rgb(51, 12, 115); fill-opacity: 1;\"/></g><g class=\"point\"><path d=\"M514.33,420V285.7H515.79V420Z\" style=\"vector-effect: non-scaling-stroke; opacity: 1; stroke-width: 0px; fill: rgb(51, 12, 115); fill-opacity: 1;\"/></g><g class=\"point\"><path d=\"M518.4,420V307.11H519.86V420Z\" style=\"vector-effect: non-scaling-stroke; opacity: 1; stroke-width: 0px; fill: rgb(51, 12, 115); fill-opacity: 1;\"/></g><g class=\"point\"><path d=\"M522.46,420V283.76H523.93V420Z\" style=\"vector-effect: non-scaling-stroke; opacity: 1; stroke-width: 0px; fill: rgb(51, 12, 115); fill-opacity: 1;\"/></g><g class=\"point\"><path d=\"M526.53,420V340.2H527.99V420Z\" style=\"vector-effect: non-scaling-stroke; opacity: 1; stroke-width: 0px; fill: rgb(51, 12, 115); fill-opacity: 1;\"/></g><g class=\"point\"><path d=\"M530.59,420V336.31H532.06V420Z\" style=\"vector-effect: non-scaling-stroke; opacity: 1; stroke-width: 0px; fill: rgb(51, 12, 115); fill-opacity: 1;\"/></g><g class=\"point\"><path d=\"M534.66,420V361.61H536.12V420Z\" style=\"vector-effect: non-scaling-stroke; opacity: 1; stroke-width: 0px; fill: rgb(51, 12, 115); fill-opacity: 1;\"/></g><g class=\"point\"><path d=\"M538.72,420V353.82H540.19V420Z\" style=\"vector-effect: non-scaling-stroke; opacity: 1; stroke-width: 0px; fill: rgb(51, 12, 115); fill-opacity: 1;\"/></g><g class=\"point\"><path d=\"M542.79,420V351.88H544.25V420Z\" style=\"vector-effect: non-scaling-stroke; opacity: 1; stroke-width: 0px; fill: rgb(51, 12, 115); fill-opacity: 1;\"/></g><g class=\"point\"><path d=\"M546.85,420V293.49H548.32V420Z\" style=\"vector-effect: non-scaling-stroke; opacity: 1; stroke-width: 0px; fill: rgb(51, 12, 115); fill-opacity: 1;\"/></g><g class=\"point\"><path d=\"M550.92,420V353.82H552.38V420Z\" style=\"vector-effect: non-scaling-stroke; opacity: 1; stroke-width: 0px; fill: rgb(51, 12, 115); fill-opacity: 1;\"/></g><g class=\"point\"><path d=\"M554.98,420V346.04H556.45V420Z\" style=\"vector-effect: non-scaling-stroke; opacity: 1; stroke-width: 0px; fill: rgb(51, 12, 115); fill-opacity: 1;\"/></g><g class=\"point\"><path d=\"M559.05,420V375.23H560.51V420Z\" style=\"vector-effect: non-scaling-stroke; opacity: 1; stroke-width: 0px; fill: rgb(51, 12, 115); fill-opacity: 1;\"/></g><g class=\"point\"><path d=\"M563.11,420V324.63H564.58V420Z\" style=\"vector-effect: non-scaling-stroke; opacity: 1; stroke-width: 0px; fill: rgb(51, 12, 115); fill-opacity: 1;\"/></g><g class=\"point\"><path d=\"M567.18,420V377.18H568.64V420Z\" style=\"vector-effect: non-scaling-stroke; opacity: 1; stroke-width: 0px; fill: rgb(51, 12, 115); fill-opacity: 1;\"/></g><g class=\"point\"><path d=\"M571.24,420V384.97H572.71V420Z\" style=\"vector-effect: non-scaling-stroke; opacity: 1; stroke-width: 0px; fill: rgb(51, 12, 115); fill-opacity: 1;\"/></g><g class=\"point\"><path d=\"M575.31,420V383.02H576.77V420Z\" style=\"vector-effect: non-scaling-stroke; opacity: 1; stroke-width: 0px; fill: rgb(51, 12, 115); fill-opacity: 1;\"/></g><g class=\"point\"><path d=\"M579.37,420V396.64H580.84V420Z\" style=\"vector-effect: non-scaling-stroke; opacity: 1; stroke-width: 0px; fill: rgb(51, 12, 115); fill-opacity: 1;\"/></g><g class=\"point\"><path d=\"M583.44,420V404.43H584.9V420Z\" style=\"vector-effect: non-scaling-stroke; opacity: 1; stroke-width: 0px; fill: rgb(51, 12, 115); fill-opacity: 1;\"/></g><g class=\"point\"><path d=\"M587.51,420V379.13H588.97V420Z\" style=\"vector-effect: non-scaling-stroke; opacity: 1; stroke-width: 0px; fill: rgb(51, 12, 115); fill-opacity: 1;\"/></g><g class=\"point\"><path d=\"M591.57,420V373.29H593.03V420Z\" style=\"vector-effect: non-scaling-stroke; opacity: 1; stroke-width: 0px; fill: rgb(51, 12, 115); fill-opacity: 1;\"/></g><g class=\"point\"><path d=\"M595.64,420V392.75H597.1V420Z\" style=\"vector-effect: non-scaling-stroke; opacity: 1; stroke-width: 0px; fill: rgb(51, 12, 115); fill-opacity: 1;\"/></g><g class=\"point\"><path d=\"M599.7,420V400.54H601.16V420Z\" style=\"vector-effect: non-scaling-stroke; opacity: 1; stroke-width: 0px; fill: rgb(51, 12, 115); fill-opacity: 1;\"/></g><g class=\"point\"><path d=\"M603.77,420V390.8H605.23V420Z\" style=\"vector-effect: non-scaling-stroke; opacity: 1; stroke-width: 0px; fill: rgb(51, 12, 115); fill-opacity: 1;\"/></g><g class=\"point\"><path d=\"M607.83,420V402.48H609.29V420Z\" style=\"vector-effect: non-scaling-stroke; opacity: 1; stroke-width: 0px; fill: rgb(51, 12, 115); fill-opacity: 1;\"/></g><g class=\"point\"><path d=\"M611.9,420V396.64H613.36V420Z\" style=\"vector-effect: non-scaling-stroke; opacity: 1; stroke-width: 0px; fill: rgb(51, 12, 115); fill-opacity: 1;\"/></g><g class=\"point\"><path d=\"M615.96,420V394.7H617.43V420Z\" style=\"vector-effect: non-scaling-stroke; opacity: 1; stroke-width: 0px; fill: rgb(51, 12, 115); fill-opacity: 1;\"/></g><g class=\"point\"><path d=\"M620.03,420V412.21H621.49V420Z\" style=\"vector-effect: non-scaling-stroke; opacity: 1; stroke-width: 0px; fill: rgb(51, 12, 115); fill-opacity: 1;\"/></g><g class=\"point\"><path d=\"M624.09,420V402.48H625.56V420Z\" style=\"vector-effect: non-scaling-stroke; opacity: 1; stroke-width: 0px; fill: rgb(51, 12, 115); fill-opacity: 1;\"/></g><g class=\"point\"><path d=\"M628.16,420V388.86H629.62V420Z\" style=\"vector-effect: non-scaling-stroke; opacity: 1; stroke-width: 0px; fill: rgb(51, 12, 115); fill-opacity: 1;\"/></g><g class=\"point\"><path d=\"M632.22,420V414.16H633.69V420Z\" style=\"vector-effect: non-scaling-stroke; opacity: 1; stroke-width: 0px; fill: rgb(51, 12, 115); fill-opacity: 1;\"/></g><g class=\"point\"><path d=\"M636.29,420V408.32H637.75V420Z\" style=\"vector-effect: non-scaling-stroke; opacity: 1; stroke-width: 0px; fill: rgb(51, 12, 115); fill-opacity: 1;\"/></g><g class=\"point\"><path d=\"M640.35,420V406.38H641.82V420Z\" style=\"vector-effect: non-scaling-stroke; opacity: 1; stroke-width: 0px; fill: rgb(51, 12, 115); fill-opacity: 1;\"/></g><g class=\"point\"><path d=\"M644.42,420V412.21H645.88V420Z\" style=\"vector-effect: non-scaling-stroke; opacity: 1; stroke-width: 0px; fill: rgb(51, 12, 115); fill-opacity: 1;\"/></g><g class=\"point\"><path d=\"M648.48,420V418.05H649.95V420Z\" style=\"vector-effect: non-scaling-stroke; opacity: 1; stroke-width: 0px; fill: rgb(51, 12, 115); fill-opacity: 1;\"/></g><g class=\"point\"><path d=\"M652.55,420V408.32H654.01V420Z\" style=\"vector-effect: non-scaling-stroke; opacity: 1; stroke-width: 0px; fill: rgb(51, 12, 115); fill-opacity: 1;\"/></g><g class=\"point\"><path d=\"M656.61,420V414.16H658.08V420Z\" style=\"vector-effect: non-scaling-stroke; opacity: 1; stroke-width: 0px; fill: rgb(51, 12, 115); fill-opacity: 1;\"/></g><g class=\"point\"><path d=\"M660.68,420V412.21H662.14V420Z\" style=\"vector-effect: non-scaling-stroke; opacity: 1; stroke-width: 0px; fill: rgb(51, 12, 115); fill-opacity: 1;\"/></g><g class=\"point\"><path d=\"M664.74,420V418.05H666.21V420Z\" style=\"vector-effect: non-scaling-stroke; opacity: 1; stroke-width: 0px; fill: rgb(51, 12, 115); fill-opacity: 1;\"/></g><g class=\"point\"><path d=\"M668.81,420V416.11H670.27V420Z\" style=\"vector-effect: non-scaling-stroke; opacity: 1; stroke-width: 0px; fill: rgb(51, 12, 115); fill-opacity: 1;\"/></g><g class=\"point\"><path d=\"M672.87,420V416.11H674.34V420Z\" style=\"vector-effect: non-scaling-stroke; opacity: 1; stroke-width: 0px; fill: rgb(51, 12, 115); fill-opacity: 1;\"/></g><g class=\"point\"><path d=\"M0,0Z\" style=\"vector-effect: non-scaling-stroke; opacity: 1; stroke-width: 0px; fill: rgb(51, 12, 115); fill-opacity: 1;\"/></g><g class=\"point\"><path d=\"M681.01,420V418.05H682.47V420Z\" style=\"vector-effect: non-scaling-stroke; opacity: 1; stroke-width: 0px; fill: rgb(51, 12, 115); fill-opacity: 1;\"/></g><g class=\"point\"><path d=\"M0,0Z\" style=\"vector-effect: non-scaling-stroke; opacity: 1; stroke-width: 0px; fill: rgb(51, 12, 115); fill-opacity: 1;\"/></g><g class=\"point\"><path d=\"M0,0Z\" style=\"vector-effect: non-scaling-stroke; opacity: 1; stroke-width: 0px; fill: rgb(51, 12, 115); fill-opacity: 1;\"/></g><g class=\"point\"><path d=\"M693.2,420V414.16H694.66V420Z\" style=\"vector-effect: non-scaling-stroke; opacity: 1; stroke-width: 0px; fill: rgb(51, 12, 115); fill-opacity: 1;\"/></g><g class=\"point\"><path d=\"M697.27,420V416.11H698.73V420Z\" style=\"vector-effect: non-scaling-stroke; opacity: 1; stroke-width: 0px; fill: rgb(51, 12, 115); fill-opacity: 1;\"/></g><g class=\"point\"><path d=\"M0,0Z\" style=\"vector-effect: non-scaling-stroke; opacity: 1; stroke-width: 0px; fill: rgb(51, 12, 115); fill-opacity: 1;\"/></g><g class=\"point\"><path d=\"M0,0Z\" style=\"vector-effect: non-scaling-stroke; opacity: 1; stroke-width: 0px; fill: rgb(51, 12, 115); fill-opacity: 1;\"/></g><g class=\"point\"><path d=\"M0,0Z\" style=\"vector-effect: non-scaling-stroke; opacity: 1; stroke-width: 0px; fill: rgb(51, 12, 115); fill-opacity: 1;\"/></g><g class=\"point\"><path d=\"M0,0Z\" style=\"vector-effect: non-scaling-stroke; opacity: 1; stroke-width: 0px; fill: rgb(51, 12, 115); fill-opacity: 1;\"/></g><g class=\"point\"><path d=\"M0,0Z\" style=\"vector-effect: non-scaling-stroke; opacity: 1; stroke-width: 0px; fill: rgb(51, 12, 115); fill-opacity: 1;\"/></g><g class=\"point\"><path d=\"M0,0Z\" style=\"vector-effect: non-scaling-stroke; opacity: 1; stroke-width: 0px; fill: rgb(51, 12, 115); fill-opacity: 1;\"/></g><g class=\"point\"><path d=\"M0,0Z\" style=\"vector-effect: non-scaling-stroke; opacity: 1; stroke-width: 0px; fill: rgb(51, 12, 115); fill-opacity: 1;\"/></g><g class=\"point\"><path d=\"M0,0Z\" style=\"vector-effect: non-scaling-stroke; opacity: 1; stroke-width: 0px; fill: rgb(51, 12, 115); fill-opacity: 1;\"/></g><g class=\"point\"><path d=\"M0,0Z\" style=\"vector-effect: non-scaling-stroke; opacity: 1; stroke-width: 0px; fill: rgb(51, 12, 115); fill-opacity: 1;\"/></g><g class=\"point\"><path d=\"M0,0Z\" style=\"vector-effect: non-scaling-stroke; opacity: 1; stroke-width: 0px; fill: rgb(51, 12, 115); fill-opacity: 1;\"/></g><g class=\"point\"><path d=\"M741.98,420V418.05H743.45V420Z\" style=\"vector-effect: non-scaling-stroke; opacity: 1; stroke-width: 0px; fill: rgb(51, 12, 115); fill-opacity: 1;\"/></g><g class=\"point\"><path d=\"M746.05,420V418.05H747.51V420Z\" style=\"vector-effect: non-scaling-stroke; opacity: 1; stroke-width: 0px; fill: rgb(51, 12, 115); fill-opacity: 1;\"/></g></g></g></g></g><g class=\"overplot\"/><path class=\"xlines-above crisp\" d=\"M0,0\" style=\"fill: none;\"/><path class=\"ylines-above crisp\" d=\"M0,0\" style=\"fill: none;\"/><g class=\"overlines-above\"/><g class=\"xaxislayer-above\"><g class=\"xtick\"><text text-anchor=\"middle\" x=\"0\" y=\"533\" transform=\"translate(128.78,0)\" style=\"font-family: 'Open Sans', verdana, arial, sans-serif; font-size: 12px; fill: rgb(42, 63, 95); fill-opacity: 1; white-space: pre; opacity: 1;\">12</text></g><g class=\"xtick\"><text text-anchor=\"middle\" x=\"0\" y=\"533\" style=\"font-family: 'Open Sans', verdana, arial, sans-serif; font-size: 12px; fill: rgb(42, 63, 95); fill-opacity: 1; white-space: pre; opacity: 1;\" transform=\"translate(210.09,0)\">14</text></g><g class=\"xtick\"><text text-anchor=\"middle\" x=\"0\" y=\"533\" style=\"font-family: 'Open Sans', verdana, arial, sans-serif; font-size: 12px; fill: rgb(42, 63, 95); fill-opacity: 1; white-space: pre; opacity: 1;\" transform=\"translate(291.39,0)\">16</text></g><g class=\"xtick\"><text text-anchor=\"middle\" x=\"0\" y=\"533\" style=\"font-family: 'Open Sans', verdana, arial, sans-serif; font-size: 12px; fill: rgb(42, 63, 95); fill-opacity: 1; white-space: pre; opacity: 1;\" transform=\"translate(372.7,0)\">18</text></g><g class=\"xtick\"><text text-anchor=\"middle\" x=\"0\" y=\"533\" style=\"font-family: 'Open Sans', verdana, arial, sans-serif; font-size: 12px; fill: rgb(42, 63, 95); fill-opacity: 1; white-space: pre; opacity: 1;\" transform=\"translate(454,0)\">20</text></g><g class=\"xtick\"><text text-anchor=\"middle\" x=\"0\" y=\"533\" style=\"font-family: 'Open Sans', verdana, arial, sans-serif; font-size: 12px; fill: rgb(42, 63, 95); fill-opacity: 1; white-space: pre; opacity: 1;\" transform=\"translate(535.3,0)\">22</text></g><g class=\"xtick\"><text text-anchor=\"middle\" x=\"0\" y=\"533\" style=\"font-family: 'Open Sans', verdana, arial, sans-serif; font-size: 12px; fill: rgb(42, 63, 95); fill-opacity: 1; white-space: pre; opacity: 1;\" transform=\"translate(616.61,0)\">24</text></g><g class=\"xtick\"><text text-anchor=\"middle\" x=\"0\" y=\"533\" style=\"font-family: 'Open Sans', verdana, arial, sans-serif; font-size: 12px; fill: rgb(42, 63, 95); fill-opacity: 1; white-space: pre; opacity: 1;\" transform=\"translate(697.91,0)\">26</text></g><g class=\"xtick\"><text text-anchor=\"middle\" x=\"0\" y=\"533\" style=\"font-family: 'Open Sans', verdana, arial, sans-serif; font-size: 12px; fill: rgb(42, 63, 95); fill-opacity: 1; white-space: pre; opacity: 1;\" transform=\"translate(779.22,0)\">28</text></g></g><g class=\"yaxislayer-above\"><g class=\"ytick\"><text text-anchor=\"end\" x=\"79\" y=\"4.199999999999999\" transform=\"translate(0,520)\" style=\"font-family: 'Open Sans', verdana, arial, sans-serif; font-size: 12px; fill: rgb(42, 63, 95); fill-opacity: 1; white-space: pre; opacity: 1;\">0</text></g><g class=\"ytick\"><text text-anchor=\"end\" x=\"79\" y=\"4.199999999999999\" style=\"font-family: 'Open Sans', verdana, arial, sans-serif; font-size: 12px; fill: rgb(42, 63, 95); fill-opacity: 1; white-space: pre; opacity: 1;\" transform=\"translate(0,422.68)\">50</text></g><g class=\"ytick\"><text text-anchor=\"end\" x=\"79\" y=\"4.199999999999999\" style=\"font-family: 'Open Sans', verdana, arial, sans-serif; font-size: 12px; fill: rgb(42, 63, 95); fill-opacity: 1; white-space: pre; opacity: 1;\" transform=\"translate(0,325.37)\">100</text></g><g class=\"ytick\"><text text-anchor=\"end\" x=\"79\" y=\"4.199999999999999\" style=\"font-family: 'Open Sans', verdana, arial, sans-serif; font-size: 12px; fill: rgb(42, 63, 95); fill-opacity: 1; white-space: pre; opacity: 1;\" transform=\"translate(0,228.05)\">150</text></g><g class=\"ytick\"><text text-anchor=\"end\" x=\"79\" y=\"4.199999999999999\" style=\"font-family: 'Open Sans', verdana, arial, sans-serif; font-size: 12px; fill: rgb(42, 63, 95); fill-opacity: 1; white-space: pre; opacity: 1;\" transform=\"translate(0,130.73)\">200</text></g></g><g class=\"overaxes-above\"/></g></g><g class=\"polarlayer\"/><g class=\"smithlayer\"/><g class=\"ternarylayer\"/><g class=\"geolayer\"/><g class=\"funnelarealayer\"/><g class=\"pielayer\"/><g class=\"iciclelayer\"/><g class=\"treemaplayer\"/><g class=\"sunburstlayer\"/><g class=\"glimages\"/><defs id=\"topdefs-540196\"><g class=\"clips\"/><clipPath id=\"legend540196\"><rect width=\"145\" height=\"48\" x=\"0\" y=\"0\"/></clipPath></defs><g class=\"layer-above\"><g class=\"imagelayer\"/><g class=\"shapelayer\"><path data-index=\"0\" fill-rule=\"evenodd\" d=\"M291.39,520L291.39,100\" clip-path=\"url(#clip540196x)\" style=\"opacity: 1; stroke: rgb(0, 128, 0); stroke-opacity: 1; fill: rgb(0, 0, 0); fill-opacity: 0; stroke-dasharray: 9px, 9px; stroke-width: 2px;\"/><path data-index=\"1\" fill-rule=\"evenodd\" d=\"M657.26,520L657.26,100\" clip-path=\"url(#clip540196x)\" style=\"opacity: 1; stroke: rgb(0, 128, 0); stroke-opacity: 1; fill: rgb(0, 0, 0); fill-opacity: 0; stroke-dasharray: 9px, 9px; stroke-width: 2px;\"/></g></g><g class=\"infolayer\"><g class=\"legend\" pointer-events=\"all\" transform=\"translate(842.96,100)\"><rect class=\"bg\" shape-rendering=\"crispEdges\" style=\"stroke: rgb(68, 68, 68); stroke-opacity: 1; fill: rgb(255, 255, 255); fill-opacity: 1; stroke-width: 0px;\" width=\"145\" height=\"48\" x=\"0\" y=\"0\"/><g class=\"scrollbox\" transform=\"\" clip-path=\"url(#legend540196)\"><g class=\"groups\"><g class=\"traces\" transform=\"translate(0,14.5)\" style=\"opacity: 1;\"><text class=\"legendtext\" text-anchor=\"start\" x=\"40\" y=\"4.680000000000001\" style=\"font-family: 'Open Sans', verdana, arial, sans-serif; font-size: 12px; fill: rgb(42, 63, 95); fill-opacity: 1; white-space: pre;\">First Day Delay</text><g class=\"layers\" style=\"opacity: 0.75;\"><g class=\"legendfill\"/><g class=\"legendlines\"/><g class=\"legendsymbols\"><g class=\"legendpoints\"><path class=\"legendundefined\" d=\"M6,6H-6V-6H6Z\" transform=\"translate(20,0)\" style=\"stroke-width: 0px; fill: rgb(235, 137, 181); fill-opacity: 1;\"/></g></g></g><rect class=\"legendtoggle\" x=\"0\" y=\"-9.5\" width=\"139.390625\" height=\"19\" style=\"fill: rgb(0, 0, 0); fill-opacity: 0;\"/></g><g class=\"traces\" transform=\"translate(0,33.5)\" style=\"opacity: 1;\"><text class=\"legendtext\" text-anchor=\"start\" x=\"40\" y=\"4.680000000000001\" style=\"font-family: 'Open Sans', verdana, arial, sans-serif; font-size: 12px; fill: rgb(42, 63, 95); fill-opacity: 1; white-space: pre;\">Second Day Delay</text><g class=\"layers\" style=\"opacity: 0.75;\"><g class=\"legendfill\"/><g class=\"legendlines\"/><g class=\"legendsymbols\"><g class=\"legendpoints\"><path class=\"legendundefined\" d=\"M6,6H-6V-6H6Z\" transform=\"translate(20,0)\" style=\"stroke-width: 0px; fill: rgb(51, 12, 115); fill-opacity: 1;\"/></g></g></g><rect class=\"legendtoggle\" x=\"0\" y=\"-9.5\" width=\"139.390625\" height=\"19\" style=\"fill: rgb(0, 0, 0); fill-opacity: 0;\"/></g></g></g><rect class=\"scrollbar\" rx=\"20\" ry=\"3\" width=\"0\" height=\"0\" style=\"fill: rgb(128, 139, 164); fill-opacity: 1;\" x=\"0\" y=\"0\"/></g><g class=\"g-gtitle\"><text class=\"gtitle\" x=\"50\" y=\"50\" text-anchor=\"start\" dy=\"0em\" style=\"font-family: 'Open Sans', verdana, arial, sans-serif; font-size: 17px; fill: rgb(42, 63, 95); opacity: 1; font-weight: normal; white-space: pre;\">Arrival delays for the case with the single late-arriving student</text></g><g class=\"g-xtitle\"><text class=\"xtitle\" x=\"454\" y=\"560.8\" text-anchor=\"middle\" style=\"font-family: 'Open Sans', verdana, arial, sans-serif; font-size: 14px; fill: rgb(42, 63, 95); opacity: 1; font-weight: normal; white-space: pre;\">Delay time</text></g><g class=\"g-ytitle\"><text class=\"ytitle\" transform=\"rotate(-90,34.16875,310)\" x=\"34.16875\" y=\"310\" text-anchor=\"middle\" style=\"font-family: 'Open Sans', verdana, arial, sans-serif; font-size: 14px; fill: rgb(42, 63, 95); opacity: 1; font-weight: normal; white-space: pre;\">Count</text></g><g class=\"annotation\" data-index=\"0\" style=\"opacity: 1;\"><g class=\"annotation-text-g\" transform=\"rotate(0,241.39,109)\"><g class=\"cursor-pointer\" transform=\"translate(191,100)\"><rect class=\"bg\" x=\"0.5\" y=\"0.5\" width=\"99\" height=\"17\" style=\"stroke-width: 1px; stroke: rgb(0, 0, 0); stroke-opacity: 0; fill: rgb(0, 0, 0); fill-opacity: 0;\"/><text class=\"annotation-text\" text-anchor=\"middle\" x=\"50.03125\" y=\"13\" style=\"font-family: 'Open Sans', verdana, arial, sans-serif; font-size: 12px; fill: rgb(42, 63, 95); fill-opacity: 1; white-space: pre;\">Observed Delay 1</text></g></g></g><g class=\"annotation\" data-index=\"1\" style=\"opacity: 1;\"><g class=\"annotation-text-g\" transform=\"rotate(0,707.26,109)\"><g class=\"cursor-pointer\" transform=\"translate(657,100)\"><rect class=\"bg\" x=\"0.5\" y=\"0.5\" width=\"99\" height=\"17\" style=\"stroke-width: 1px; stroke: rgb(0, 0, 0); stroke-opacity: 0; fill: rgb(0, 0, 0); fill-opacity: 0;\"/><text class=\"annotation-text\" text-anchor=\"middle\" x=\"50.03125\" y=\"13\" style=\"font-family: 'Open Sans', verdana, arial, sans-serif; font-size: 12px; fill: rgb(42, 63, 95); fill-opacity: 1; white-space: pre;\">Observed Delay 2</text></g></g></g></g></svg>"
     },
     "metadata": {}
    }
   ]
  },
  {
   "cell_type": "code",
   "source": [
    "fig = go.Figure()\n",
    "fig.add_trace(go.Histogram(\n",
    "    x=delays_1_diff,\n",
    "    name='First Day Delay', # name used in legend and hover labels\n",
    "\n",
    "    marker_color='#EB89B5',\n",
    "    opacity=0.75\n",
    "))\n",
    "fig.add_trace(go.Histogram(\n",
    "    x=delays_2_diff,\n",
    "    name='Second Day Delay',\n",
    "    marker_color='#330C73',\n",
    "    opacity=0.75\n",
    "))\n",
    "\n",
    "fig.add_vline(x=observed_delay_1, line_dash=\"dash\", line_color=\"green\", annotation_text=\"Observed Delay 1\", \n",
    "              annotation_position=\"top left\")\n",
    "\n",
    "fig.add_vline(x=observed_delay_2, line_dash=\"dash\", line_color=\"green\", annotation_text=\"Observed Delay 2\", \n",
    "              annotation_position=\"top right\")\n",
    "\n",
    "fig.update_layout(\n",
    "    title_text='Arrival delays for the case of two separate late-arriving students', # title of plot\n",
    "    xaxis_title_text='Delay time', # xaxis label\n",
    "    yaxis_title_text='Count', # yaxis label\n",
    "    bargap=0.1, # gap between bars of adjacent location coordinates\n",
    "    bargroupgap=0.1, # gap between bars of the same location coordinates\n",
    "    autosize=False,\n",
    "    width=1000,\n",
    "    height=600\n",
    ")\n",
    "\n",
    "\n",
    "fig.show()"
   ],
   "metadata": {
    "colab": {
     "base_uri": "https://localhost:8080/",
     "height": 622
    },
    "id": "9gNh5mFtIr_H",
    "outputId": "638422f1-7af2-433a-d7f7-3d09b1107601"
   },
   "execution_count": 55,
   "outputs": [
    {
     "output_type": "display_data",
     "data": {
      "image/svg+xml": "<svg class=\"main-svg\" xmlns=\"http://www.w3.org/2000/svg\" xmlns:xlink=\"http://www.w3.org/1999/xlink\" width=\"1000\" height=\"600\" style=\"\" viewBox=\"0 0 1000 600\"><rect x=\"0\" y=\"0\" width=\"1000\" height=\"600\" style=\"fill: rgb(255, 255, 255); fill-opacity: 1;\"/><defs id=\"defs-d4b918\"><g class=\"clips\"><clipPath id=\"clipd4b918xyplot\" class=\"plotclip\"><rect width=\"748\" height=\"420\"/></clipPath><clipPath class=\"axesclip\" id=\"clipd4b918x\"><rect x=\"80\" y=\"0\" width=\"748\" height=\"600\"/></clipPath><clipPath class=\"axesclip\" id=\"clipd4b918y\"><rect x=\"0\" y=\"100\" width=\"1000\" height=\"420\"/></clipPath><clipPath class=\"axesclip\" id=\"clipd4b918xy\"><rect x=\"80\" y=\"100\" width=\"748\" height=\"420\"/></clipPath></g><g class=\"gradients\"/><g class=\"patterns\"/></defs><g class=\"bglayer\"><rect class=\"bg\" x=\"80\" y=\"100\" width=\"748\" height=\"420\" style=\"fill: rgb(229, 236, 246); fill-opacity: 1; stroke-width: 0;\"/></g><g class=\"layer-below\"><g class=\"imagelayer\"/><g class=\"shapelayer\"/></g><g class=\"cartesianlayer\"><g class=\"subplot xy\"><g class=\"layer-subplot\"><g class=\"shapelayer\"/><g class=\"imagelayer\"/></g><g class=\"gridlayer\"><g class=\"x\"/><g class=\"y\"><path class=\"ygrid crisp\" transform=\"translate(0,473.39)\" d=\"M80,0h748\" style=\"stroke: rgb(255, 255, 255); stroke-opacity: 1; stroke-width: 1px;\"/><path class=\"ygrid crisp\" transform=\"translate(0,426.78)\" d=\"M80,0h748\" style=\"stroke: rgb(255, 255, 255); stroke-opacity: 1; stroke-width: 1px;\"/><path class=\"ygrid crisp\" transform=\"translate(0,380.16)\" d=\"M80,0h748\" style=\"stroke: rgb(255, 255, 255); stroke-opacity: 1; stroke-width: 1px;\"/><path class=\"ygrid crisp\" transform=\"translate(0,333.55)\" d=\"M80,0h748\" style=\"stroke: rgb(255, 255, 255); stroke-opacity: 1; stroke-width: 1px;\"/><path class=\"ygrid crisp\" transform=\"translate(0,286.94)\" d=\"M80,0h748\" style=\"stroke: rgb(255, 255, 255); stroke-opacity: 1; stroke-width: 1px;\"/><path class=\"ygrid crisp\" transform=\"translate(0,240.33)\" d=\"M80,0h748\" style=\"stroke: rgb(255, 255, 255); stroke-opacity: 1; stroke-width: 1px;\"/><path class=\"ygrid crisp\" transform=\"translate(0,193.70999999999998)\" d=\"M80,0h748\" style=\"stroke: rgb(255, 255, 255); stroke-opacity: 1; stroke-width: 1px;\"/><path class=\"ygrid crisp\" transform=\"translate(0,147.1)\" d=\"M80,0h748\" style=\"stroke: rgb(255, 255, 255); stroke-opacity: 1; stroke-width: 1px;\"/></g></g><g class=\"zerolinelayer\"><path class=\"yzl zl crisp\" transform=\"translate(0,520)\" d=\"M80,0h748\" style=\"stroke: rgb(255, 255, 255); stroke-opacity: 1; stroke-width: 2px;\"/></g><path class=\"xlines-below\"/><path class=\"ylines-below\"/><g class=\"overlines-below\"/><g class=\"xaxislayer-below\"/><g class=\"yaxislayer-below\"/><g class=\"overaxes-below\"/><g class=\"plot\" transform=\"translate(80,100)\" clip-path=\"url(#clipd4b918xyplot)\"><g class=\"barlayer mlayer\"><g class=\"trace bars\" style=\"opacity: 0.75;\"><g class=\"points\"><g class=\"point\"><path d=\"M0.24,420V419.77H1.59V420Z\" style=\"vector-effect: non-scaling-stroke; opacity: 1; stroke-width: 0px; fill: rgb(235, 137, 181); fill-opacity: 1;\"/></g><g class=\"point\"><path d=\"M3.58,420V419.53H4.93V420Z\" style=\"vector-effect: non-scaling-stroke; opacity: 1; stroke-width: 0px; fill: rgb(235, 137, 181); fill-opacity: 1;\"/></g><g class=\"point\"><path d=\"M0,0Z\" style=\"vector-effect: non-scaling-stroke; opacity: 1; stroke-width: 0px; fill: rgb(235, 137, 181); fill-opacity: 1;\"/></g><g class=\"point\"><path d=\"M0,0Z\" style=\"vector-effect: non-scaling-stroke; opacity: 1; stroke-width: 0px; fill: rgb(235, 137, 181); fill-opacity: 1;\"/></g><g class=\"point\"><path d=\"M13.6,420V418.6H14.95V420Z\" style=\"vector-effect: non-scaling-stroke; opacity: 1; stroke-width: 0px; fill: rgb(235, 137, 181); fill-opacity: 1;\"/></g><g class=\"point\"><path d=\"M0,0Z\" style=\"vector-effect: non-scaling-stroke; opacity: 1; stroke-width: 0px; fill: rgb(235, 137, 181); fill-opacity: 1;\"/></g><g class=\"point\"><path d=\"M0,0Z\" style=\"vector-effect: non-scaling-stroke; opacity: 1; stroke-width: 0px; fill: rgb(235, 137, 181); fill-opacity: 1;\"/></g><g class=\"point\"><path d=\"M23.62,420V415.8H24.97V420Z\" style=\"vector-effect: non-scaling-stroke; opacity: 1; stroke-width: 0px; fill: rgb(235, 137, 181); fill-opacity: 1;\"/></g><g class=\"point\"><path d=\"M0,0Z\" style=\"vector-effect: non-scaling-stroke; opacity: 1; stroke-width: 0px; fill: rgb(235, 137, 181); fill-opacity: 1;\"/></g><g class=\"point\"><path d=\"M30.3,420V419.53H31.65V420Z\" style=\"vector-effect: non-scaling-stroke; opacity: 1; stroke-width: 0px; fill: rgb(235, 137, 181); fill-opacity: 1;\"/></g><g class=\"point\"><path d=\"M33.63,420V419.53H34.99V420Z\" style=\"vector-effect: non-scaling-stroke; opacity: 1; stroke-width: 0px; fill: rgb(235, 137, 181); fill-opacity: 1;\"/></g><g class=\"point\"><path d=\"M36.97,420V419.77H38.33V420Z\" style=\"vector-effect: non-scaling-stroke; opacity: 1; stroke-width: 0px; fill: rgb(235, 137, 181); fill-opacity: 1;\"/></g><g class=\"point\"><path d=\"M40.31,420V414.64H41.67V420Z\" style=\"vector-effect: non-scaling-stroke; opacity: 1; stroke-width: 0px; fill: rgb(235, 137, 181); fill-opacity: 1;\"/></g><g class=\"point\"><path d=\"M43.65,420V410.68H45.01V420Z\" style=\"vector-effect: non-scaling-stroke; opacity: 1; stroke-width: 0px; fill: rgb(235, 137, 181); fill-opacity: 1;\"/></g><g class=\"point\"><path d=\"M46.99,420V419.07H48.34V420Z\" style=\"vector-effect: non-scaling-stroke; opacity: 1; stroke-width: 0px; fill: rgb(235, 137, 181); fill-opacity: 1;\"/></g><g class=\"point\"><path d=\"M50.33,420V418.6H51.68V420Z\" style=\"vector-effect: non-scaling-stroke; opacity: 1; stroke-width: 0px; fill: rgb(235, 137, 181); fill-opacity: 1;\"/></g><g class=\"point\"><path d=\"M53.67,420V418.37H55.02V420Z\" style=\"vector-effect: non-scaling-stroke; opacity: 1; stroke-width: 0px; fill: rgb(235, 137, 181); fill-opacity: 1;\"/></g><g class=\"point\"><path d=\"M57.01,420V413.47H58.36V420Z\" style=\"vector-effect: non-scaling-stroke; opacity: 1; stroke-width: 0px; fill: rgb(235, 137, 181); fill-opacity: 1;\"/></g><g class=\"point\"><path d=\"M60.35,420V415.8H61.7V420Z\" style=\"vector-effect: non-scaling-stroke; opacity: 1; stroke-width: 0px; fill: rgb(235, 137, 181); fill-opacity: 1;\"/></g><g class=\"point\"><path d=\"M63.69,420V416.5H65.04V420Z\" style=\"vector-effect: non-scaling-stroke; opacity: 1; stroke-width: 0px; fill: rgb(235, 137, 181); fill-opacity: 1;\"/></g><g class=\"point\"><path d=\"M67.03,420V399.72H68.38V420Z\" style=\"vector-effect: non-scaling-stroke; opacity: 1; stroke-width: 0px; fill: rgb(235, 137, 181); fill-opacity: 1;\"/></g><g class=\"point\"><path d=\"M70.37,420V406.48H71.72V420Z\" style=\"vector-effect: non-scaling-stroke; opacity: 1; stroke-width: 0px; fill: rgb(235, 137, 181); fill-opacity: 1;\"/></g><g class=\"point\"><path d=\"M73.71,420V410.68H75.06V420Z\" style=\"vector-effect: non-scaling-stroke; opacity: 1; stroke-width: 0px; fill: rgb(235, 137, 181); fill-opacity: 1;\"/></g><g class=\"point\"><path d=\"M77.05,420V409.51H78.4V420Z\" style=\"vector-effect: non-scaling-stroke; opacity: 1; stroke-width: 0px; fill: rgb(235, 137, 181); fill-opacity: 1;\"/></g><g class=\"point\"><path d=\"M80.38,420V414.64H81.74V420Z\" style=\"vector-effect: non-scaling-stroke; opacity: 1; stroke-width: 0px; fill: rgb(235, 137, 181); fill-opacity: 1;\"/></g><g class=\"point\"><path d=\"M83.72,420V411.14H85.08V420Z\" style=\"vector-effect: non-scaling-stroke; opacity: 1; stroke-width: 0px; fill: rgb(235, 137, 181); fill-opacity: 1;\"/></g><g class=\"point\"><path d=\"M87.06,420V411.38H88.42V420Z\" style=\"vector-effect: non-scaling-stroke; opacity: 1; stroke-width: 0px; fill: rgb(235, 137, 181); fill-opacity: 1;\"/></g><g class=\"point\"><path d=\"M90.4,420V414.41H91.76V420Z\" style=\"vector-effect: non-scaling-stroke; opacity: 1; stroke-width: 0px; fill: rgb(235, 137, 181); fill-opacity: 1;\"/></g><g class=\"point\"><path d=\"M93.74,420V401.36H95.09V420Z\" style=\"vector-effect: non-scaling-stroke; opacity: 1; stroke-width: 0px; fill: rgb(235, 137, 181); fill-opacity: 1;\"/></g><g class=\"point\"><path d=\"M97.08,420V378.05H98.43V420Z\" style=\"vector-effect: non-scaling-stroke; opacity: 1; stroke-width: 0px; fill: rgb(235, 137, 181); fill-opacity: 1;\"/></g><g class=\"point\"><path d=\"M100.42,420V411.14H101.77V420Z\" style=\"vector-effect: non-scaling-stroke; opacity: 1; stroke-width: 0px; fill: rgb(235, 137, 181); fill-opacity: 1;\"/></g><g class=\"point\"><path d=\"M103.76,420V417.9H105.11V420Z\" style=\"vector-effect: non-scaling-stroke; opacity: 1; stroke-width: 0px; fill: rgb(235, 137, 181); fill-opacity: 1;\"/></g><g class=\"point\"><path d=\"M107.1,420V365.46H108.45V420Z\" style=\"vector-effect: non-scaling-stroke; opacity: 1; stroke-width: 0px; fill: rgb(235, 137, 181); fill-opacity: 1;\"/></g><g class=\"point\"><path d=\"M110.44,420V409.98H111.79V420Z\" style=\"vector-effect: non-scaling-stroke; opacity: 1; stroke-width: 0px; fill: rgb(235, 137, 181); fill-opacity: 1;\"/></g><g class=\"point\"><path d=\"M113.78,420V380.38H115.13V420Z\" style=\"vector-effect: non-scaling-stroke; opacity: 1; stroke-width: 0px; fill: rgb(235, 137, 181); fill-opacity: 1;\"/></g><g class=\"point\"><path d=\"M117.12,420V390.87H118.47V420Z\" style=\"vector-effect: non-scaling-stroke; opacity: 1; stroke-width: 0px; fill: rgb(235, 137, 181); fill-opacity: 1;\"/></g><g class=\"point\"><path d=\"M120.46,420V401.82H121.81V420Z\" style=\"vector-effect: non-scaling-stroke; opacity: 1; stroke-width: 0px; fill: rgb(235, 137, 181); fill-opacity: 1;\"/></g><g class=\"point\"><path d=\"M123.8,420V392.96H125.15V420Z\" style=\"vector-effect: non-scaling-stroke; opacity: 1; stroke-width: 0px; fill: rgb(235, 137, 181); fill-opacity: 1;\"/></g><g class=\"point\"><path d=\"M127.13,420V401.36H128.49V420Z\" style=\"vector-effect: non-scaling-stroke; opacity: 1; stroke-width: 0px; fill: rgb(235, 137, 181); fill-opacity: 1;\"/></g><g class=\"point\"><path d=\"M130.47,420V373.39H131.83V420Z\" style=\"vector-effect: non-scaling-stroke; opacity: 1; stroke-width: 0px; fill: rgb(235, 137, 181); fill-opacity: 1;\"/></g><g class=\"point\"><path d=\"M133.81,420V385.51H135.17V420Z\" style=\"vector-effect: non-scaling-stroke; opacity: 1; stroke-width: 0px; fill: rgb(235, 137, 181); fill-opacity: 1;\"/></g><g class=\"point\"><path d=\"M137.15,420V382.48H138.51V420Z\" style=\"vector-effect: non-scaling-stroke; opacity: 1; stroke-width: 0px; fill: rgb(235, 137, 181); fill-opacity: 1;\"/></g><g class=\"point\"><path d=\"M140.49,420V370.13H141.84V420Z\" style=\"vector-effect: non-scaling-stroke; opacity: 1; stroke-width: 0px; fill: rgb(235, 137, 181); fill-opacity: 1;\"/></g><g class=\"point\"><path d=\"M143.83,420V357.07H145.18V420Z\" style=\"vector-effect: non-scaling-stroke; opacity: 1; stroke-width: 0px; fill: rgb(235, 137, 181); fill-opacity: 1;\"/></g><g class=\"point\"><path d=\"M147.17,420V369.89H148.52V420Z\" style=\"vector-effect: non-scaling-stroke; opacity: 1; stroke-width: 0px; fill: rgb(235, 137, 181); fill-opacity: 1;\"/></g><g class=\"point\"><path d=\"M150.51,420V372.92H151.86V420Z\" style=\"vector-effect: non-scaling-stroke; opacity: 1; stroke-width: 0px; fill: rgb(235, 137, 181); fill-opacity: 1;\"/></g><g class=\"point\"><path d=\"M153.85,420V365.46H155.2V420Z\" style=\"vector-effect: non-scaling-stroke; opacity: 1; stroke-width: 0px; fill: rgb(235, 137, 181); fill-opacity: 1;\"/></g><g class=\"point\"><path d=\"M157.19,420V360.8H158.54V420Z\" style=\"vector-effect: non-scaling-stroke; opacity: 1; stroke-width: 0px; fill: rgb(235, 137, 181); fill-opacity: 1;\"/></g><g class=\"point\"><path d=\"M160.53,420V336.56H161.88V420Z\" style=\"vector-effect: non-scaling-stroke; opacity: 1; stroke-width: 0px; fill: rgb(235, 137, 181); fill-opacity: 1;\"/></g><g class=\"point\"><path d=\"M163.87,420V320.02H165.22V420Z\" style=\"vector-effect: non-scaling-stroke; opacity: 1; stroke-width: 0px; fill: rgb(235, 137, 181); fill-opacity: 1;\"/></g><g class=\"point\"><path d=\"M167.21,420V329.11H168.56V420Z\" style=\"vector-effect: non-scaling-stroke; opacity: 1; stroke-width: 0px; fill: rgb(235, 137, 181); fill-opacity: 1;\"/></g><g class=\"point\"><path d=\"M170.55,420V308.13H171.9V420Z\" style=\"vector-effect: non-scaling-stroke; opacity: 1; stroke-width: 0px; fill: rgb(235, 137, 181); fill-opacity: 1;\"/></g><g class=\"point\"><path d=\"M173.88,420V275.97H175.24V420Z\" style=\"vector-effect: non-scaling-stroke; opacity: 1; stroke-width: 0px; fill: rgb(235, 137, 181); fill-opacity: 1;\"/></g><g class=\"point\"><path d=\"M177.22,420V357.07H178.58V420Z\" style=\"vector-effect: non-scaling-stroke; opacity: 1; stroke-width: 0px; fill: rgb(235, 137, 181); fill-opacity: 1;\"/></g><g class=\"point\"><path d=\"M180.56,420V301.84H181.92V420Z\" style=\"vector-effect: non-scaling-stroke; opacity: 1; stroke-width: 0px; fill: rgb(235, 137, 181); fill-opacity: 1;\"/></g><g class=\"point\"><path d=\"M183.9,420V313.49H185.26V420Z\" style=\"vector-effect: non-scaling-stroke; opacity: 1; stroke-width: 0px; fill: rgb(235, 137, 181); fill-opacity: 1;\"/></g><g class=\"point\"><path d=\"M187.24,420V307.9H188.59V420Z\" style=\"vector-effect: non-scaling-stroke; opacity: 1; stroke-width: 0px; fill: rgb(235, 137, 181); fill-opacity: 1;\"/></g><g class=\"point\"><path d=\"M190.58,420V270.84H191.93V420Z\" style=\"vector-effect: non-scaling-stroke; opacity: 1; stroke-width: 0px; fill: rgb(235, 137, 181); fill-opacity: 1;\"/></g><g class=\"point\"><path d=\"M193.92,420V263.15H195.27V420Z\" style=\"vector-effect: non-scaling-stroke; opacity: 1; stroke-width: 0px; fill: rgb(235, 137, 181); fill-opacity: 1;\"/></g><g class=\"point\"><path d=\"M197.26,420V265.25H198.61V420Z\" style=\"vector-effect: non-scaling-stroke; opacity: 1; stroke-width: 0px; fill: rgb(235, 137, 181); fill-opacity: 1;\"/></g><g class=\"point\"><path d=\"M200.6,420V259.89H201.95V420Z\" style=\"vector-effect: non-scaling-stroke; opacity: 1; stroke-width: 0px; fill: rgb(235, 137, 181); fill-opacity: 1;\"/></g><g class=\"point\"><path d=\"M203.94,420V191.83H205.29V420Z\" style=\"vector-effect: non-scaling-stroke; opacity: 1; stroke-width: 0px; fill: rgb(235, 137, 181); fill-opacity: 1;\"/></g><g class=\"point\"><path d=\"M207.28,420V229.59H208.63V420Z\" style=\"vector-effect: non-scaling-stroke; opacity: 1; stroke-width: 0px; fill: rgb(235, 137, 181); fill-opacity: 1;\"/></g><g class=\"point\"><path d=\"M210.62,420V215.84H211.97V420Z\" style=\"vector-effect: non-scaling-stroke; opacity: 1; stroke-width: 0px; fill: rgb(235, 137, 181); fill-opacity: 1;\"/></g><g class=\"point\"><path d=\"M213.96,420V172.72H215.31V420Z\" style=\"vector-effect: non-scaling-stroke; opacity: 1; stroke-width: 0px; fill: rgb(235, 137, 181); fill-opacity: 1;\"/></g><g class=\"point\"><path d=\"M217.3,420V220.03H218.65V420Z\" style=\"vector-effect: non-scaling-stroke; opacity: 1; stroke-width: 0px; fill: rgb(235, 137, 181); fill-opacity: 1;\"/></g><g class=\"point\"><path d=\"M220.63,420V200.46H221.99V420Z\" style=\"vector-effect: non-scaling-stroke; opacity: 1; stroke-width: 0px; fill: rgb(235, 137, 181); fill-opacity: 1;\"/></g><g class=\"point\"><path d=\"M223.97,420V228.89H225.33V420Z\" style=\"vector-effect: non-scaling-stroke; opacity: 1; stroke-width: 0px; fill: rgb(235, 137, 181); fill-opacity: 1;\"/></g><g class=\"point\"><path d=\"M227.31,420V151.98H228.67V420Z\" style=\"vector-effect: non-scaling-stroke; opacity: 1; stroke-width: 0px; fill: rgb(235, 137, 181); fill-opacity: 1;\"/></g><g class=\"point\"><path d=\"M230.65,420V147.55H232.01V420Z\" style=\"vector-effect: non-scaling-stroke; opacity: 1; stroke-width: 0px; fill: rgb(235, 137, 181); fill-opacity: 1;\"/></g><g class=\"point\"><path d=\"M233.99,420V205.12H235.34V420Z\" style=\"vector-effect: non-scaling-stroke; opacity: 1; stroke-width: 0px; fill: rgb(235, 137, 181); fill-opacity: 1;\"/></g><g class=\"point\"><path d=\"M237.33,420V153.38H238.68V420Z\" style=\"vector-effect: non-scaling-stroke; opacity: 1; stroke-width: 0px; fill: rgb(235, 137, 181); fill-opacity: 1;\"/></g><g class=\"point\"><path d=\"M240.67,420V179.02H242.02V420Z\" style=\"vector-effect: non-scaling-stroke; opacity: 1; stroke-width: 0px; fill: rgb(235, 137, 181); fill-opacity: 1;\"/></g><g class=\"point\"><path d=\"M244.01,420V181.58H245.36V420Z\" style=\"vector-effect: non-scaling-stroke; opacity: 1; stroke-width: 0px; fill: rgb(235, 137, 181); fill-opacity: 1;\"/></g><g class=\"point\"><path d=\"M247.35,420V205.12H248.7V420Z\" style=\"vector-effect: non-scaling-stroke; opacity: 1; stroke-width: 0px; fill: rgb(235, 137, 181); fill-opacity: 1;\"/></g><g class=\"point\"><path d=\"M250.69,420V186.71H252.04V420Z\" style=\"vector-effect: non-scaling-stroke; opacity: 1; stroke-width: 0px; fill: rgb(235, 137, 181); fill-opacity: 1;\"/></g><g class=\"point\"><path d=\"M254.03,420V215.14H255.38V420Z\" style=\"vector-effect: non-scaling-stroke; opacity: 1; stroke-width: 0px; fill: rgb(235, 137, 181); fill-opacity: 1;\"/></g><g class=\"point\"><path d=\"M257.37,420V100.01H258.72V420Z\" style=\"vector-effect: non-scaling-stroke; opacity: 1; stroke-width: 0px; fill: rgb(235, 137, 181); fill-opacity: 1;\"/></g><g class=\"point\"><path d=\"M260.71,420V196.73H262.06V420Z\" style=\"vector-effect: non-scaling-stroke; opacity: 1; stroke-width: 0px; fill: rgb(235, 137, 181); fill-opacity: 1;\"/></g><g class=\"point\"><path d=\"M264.05,420V131.7H265.4V420Z\" style=\"vector-effect: non-scaling-stroke; opacity: 1; stroke-width: 0px; fill: rgb(235, 137, 181); fill-opacity: 1;\"/></g><g class=\"point\"><path d=\"M267.38,420V125.18H268.74V420Z\" style=\"vector-effect: non-scaling-stroke; opacity: 1; stroke-width: 0px; fill: rgb(235, 137, 181); fill-opacity: 1;\"/></g><g class=\"point\"><path d=\"M270.72,420V136.83H272.08V420Z\" style=\"vector-effect: non-scaling-stroke; opacity: 1; stroke-width: 0px; fill: rgb(235, 137, 181); fill-opacity: 1;\"/></g><g class=\"point\"><path d=\"M274.06,420V58.29H275.42V420Z\" style=\"vector-effect: non-scaling-stroke; opacity: 1; stroke-width: 0px; fill: rgb(235, 137, 181); fill-opacity: 1;\"/></g><g class=\"point\"><path d=\"M277.4,420V172.49H278.76V420Z\" style=\"vector-effect: non-scaling-stroke; opacity: 1; stroke-width: 0px; fill: rgb(235, 137, 181); fill-opacity: 1;\"/></g><g class=\"point\"><path d=\"M280.74,420V100.24H282.09V420Z\" style=\"vector-effect: non-scaling-stroke; opacity: 1; stroke-width: 0px; fill: rgb(235, 137, 181); fill-opacity: 1;\"/></g><g class=\"point\"><path d=\"M284.08,420V65.51H285.43V420Z\" style=\"vector-effect: non-scaling-stroke; opacity: 1; stroke-width: 0px; fill: rgb(235, 137, 181); fill-opacity: 1;\"/></g><g class=\"point\"><path d=\"M287.42,420V41.98H288.77V420Z\" style=\"vector-effect: non-scaling-stroke; opacity: 1; stroke-width: 0px; fill: rgb(235, 137, 181); fill-opacity: 1;\"/></g><g class=\"point\"><path d=\"M290.76,420V87.19H292.11V420Z\" style=\"vector-effect: non-scaling-stroke; opacity: 1; stroke-width: 0px; fill: rgb(235, 137, 181); fill-opacity: 1;\"/></g><g class=\"point\"><path d=\"M294.1,420V118.65H295.45V420Z\" style=\"vector-effect: non-scaling-stroke; opacity: 1; stroke-width: 0px; fill: rgb(235, 137, 181); fill-opacity: 1;\"/></g><g class=\"point\"><path d=\"M297.44,420V50.13H298.79V420Z\" style=\"vector-effect: non-scaling-stroke; opacity: 1; stroke-width: 0px; fill: rgb(235, 137, 181); fill-opacity: 1;\"/></g><g class=\"point\"><path d=\"M300.78,420V156.87H302.13V420Z\" style=\"vector-effect: non-scaling-stroke; opacity: 1; stroke-width: 0px; fill: rgb(235, 137, 181); fill-opacity: 1;\"/></g><g class=\"point\"><path d=\"M304.12,420V21H305.47V420Z\" style=\"vector-effect: non-scaling-stroke; opacity: 1; stroke-width: 0px; fill: rgb(235, 137, 181); fill-opacity: 1;\"/></g><g class=\"point\"><path d=\"M307.46,420V115.39H308.81V420Z\" style=\"vector-effect: non-scaling-stroke; opacity: 1; stroke-width: 0px; fill: rgb(235, 137, 181); fill-opacity: 1;\"/></g><g class=\"point\"><path d=\"M310.8,420V86.26H312.15V420Z\" style=\"vector-effect: non-scaling-stroke; opacity: 1; stroke-width: 0px; fill: rgb(235, 137, 181); fill-opacity: 1;\"/></g><g class=\"point\"><path d=\"M314.13,420V88.35H315.49V420Z\" style=\"vector-effect: non-scaling-stroke; opacity: 1; stroke-width: 0px; fill: rgb(235, 137, 181); fill-opacity: 1;\"/></g><g class=\"point\"><path d=\"M317.47,420V46.17H318.83V420Z\" style=\"vector-effect: non-scaling-stroke; opacity: 1; stroke-width: 0px; fill: rgb(235, 137, 181); fill-opacity: 1;\"/></g><g class=\"point\"><path d=\"M320.81,420V137.06H322.17V420Z\" style=\"vector-effect: non-scaling-stroke; opacity: 1; stroke-width: 0px; fill: rgb(235, 137, 181); fill-opacity: 1;\"/></g><g class=\"point\"><path d=\"M324.15,420V97.44H325.51V420Z\" style=\"vector-effect: non-scaling-stroke; opacity: 1; stroke-width: 0px; fill: rgb(235, 137, 181); fill-opacity: 1;\"/></g><g class=\"point\"><path d=\"M327.49,420V68.78H328.84V420Z\" style=\"vector-effect: non-scaling-stroke; opacity: 1; stroke-width: 0px; fill: rgb(235, 137, 181); fill-opacity: 1;\"/></g><g class=\"point\"><path d=\"M330.83,420V108.16H332.18V420Z\" style=\"vector-effect: non-scaling-stroke; opacity: 1; stroke-width: 0px; fill: rgb(235, 137, 181); fill-opacity: 1;\"/></g><g class=\"point\"><path d=\"M334.17,420V128.91H335.52V420Z\" style=\"vector-effect: non-scaling-stroke; opacity: 1; stroke-width: 0px; fill: rgb(235, 137, 181); fill-opacity: 1;\"/></g><g class=\"point\"><path d=\"M337.51,420V88.35H338.86V420Z\" style=\"vector-effect: non-scaling-stroke; opacity: 1; stroke-width: 0px; fill: rgb(235, 137, 181); fill-opacity: 1;\"/></g><g class=\"point\"><path d=\"M340.85,420V152.91H342.2V420Z\" style=\"vector-effect: non-scaling-stroke; opacity: 1; stroke-width: 0px; fill: rgb(235, 137, 181); fill-opacity: 1;\"/></g><g class=\"point\"><path d=\"M344.19,420V127.74H345.54V420Z\" style=\"vector-effect: non-scaling-stroke; opacity: 1; stroke-width: 0px; fill: rgb(235, 137, 181); fill-opacity: 1;\"/></g><g class=\"point\"><path d=\"M347.53,420V105.13H348.88V420Z\" style=\"vector-effect: non-scaling-stroke; opacity: 1; stroke-width: 0px; fill: rgb(235, 137, 181); fill-opacity: 1;\"/></g><g class=\"point\"><path d=\"M350.87,420V111.43H352.22V420Z\" style=\"vector-effect: non-scaling-stroke; opacity: 1; stroke-width: 0px; fill: rgb(235, 137, 181); fill-opacity: 1;\"/></g><g class=\"point\"><path d=\"M354.21,420V155.94H355.56V420Z\" style=\"vector-effect: non-scaling-stroke; opacity: 1; stroke-width: 0px; fill: rgb(235, 137, 181); fill-opacity: 1;\"/></g><g class=\"point\"><path d=\"M357.55,420V168.06H358.9V420Z\" style=\"vector-effect: non-scaling-stroke; opacity: 1; stroke-width: 0px; fill: rgb(235, 137, 181); fill-opacity: 1;\"/></g><g class=\"point\"><path d=\"M360.88,420V158.74H362.24V420Z\" style=\"vector-effect: non-scaling-stroke; opacity: 1; stroke-width: 0px; fill: rgb(235, 137, 181); fill-opacity: 1;\"/></g><g class=\"point\"><path d=\"M364.22,420V176.68H365.58V420Z\" style=\"vector-effect: non-scaling-stroke; opacity: 1; stroke-width: 0px; fill: rgb(235, 137, 181); fill-opacity: 1;\"/></g><g class=\"point\"><path d=\"M367.56,420V184.61H368.92V420Z\" style=\"vector-effect: non-scaling-stroke; opacity: 1; stroke-width: 0px; fill: rgb(235, 137, 181); fill-opacity: 1;\"/></g><g class=\"point\"><path d=\"M370.9,420V172.49H372.26V420Z\" style=\"vector-effect: non-scaling-stroke; opacity: 1; stroke-width: 0px; fill: rgb(235, 137, 181); fill-opacity: 1;\"/></g><g class=\"point\"><path d=\"M374.24,420V193.7H375.59V420Z\" style=\"vector-effect: non-scaling-stroke; opacity: 1; stroke-width: 0px; fill: rgb(235, 137, 181); fill-opacity: 1;\"/></g><g class=\"point\"><path d=\"M377.58,420V144.76H378.93V420Z\" style=\"vector-effect: non-scaling-stroke; opacity: 1; stroke-width: 0px; fill: rgb(235, 137, 181); fill-opacity: 1;\"/></g><g class=\"point\"><path d=\"M380.92,420V228.42H382.27V420Z\" style=\"vector-effect: non-scaling-stroke; opacity: 1; stroke-width: 0px; fill: rgb(235, 137, 181); fill-opacity: 1;\"/></g><g class=\"point\"><path d=\"M384.26,420V222.6H385.61V420Z\" style=\"vector-effect: non-scaling-stroke; opacity: 1; stroke-width: 0px; fill: rgb(235, 137, 181); fill-opacity: 1;\"/></g><g class=\"point\"><path d=\"M387.6,420V190.2H388.95V420Z\" style=\"vector-effect: non-scaling-stroke; opacity: 1; stroke-width: 0px; fill: rgb(235, 137, 181); fill-opacity: 1;\"/></g><g class=\"point\"><path d=\"M390.94,420V247.3H392.29V420Z\" style=\"vector-effect: non-scaling-stroke; opacity: 1; stroke-width: 0px; fill: rgb(235, 137, 181); fill-opacity: 1;\"/></g><g class=\"point\"><path d=\"M394.28,420V264.08H395.63V420Z\" style=\"vector-effect: non-scaling-stroke; opacity: 1; stroke-width: 0px; fill: rgb(235, 137, 181); fill-opacity: 1;\"/></g><g class=\"point\"><path d=\"M397.62,420V280.16H398.97V420Z\" style=\"vector-effect: non-scaling-stroke; opacity: 1; stroke-width: 0px; fill: rgb(235, 137, 181); fill-opacity: 1;\"/></g><g class=\"point\"><path d=\"M400.96,420V233.09H402.31V420Z\" style=\"vector-effect: non-scaling-stroke; opacity: 1; stroke-width: 0px; fill: rgb(235, 137, 181); fill-opacity: 1;\"/></g><g class=\"point\"><path d=\"M404.3,420V240.08H405.65V420Z\" style=\"vector-effect: non-scaling-stroke; opacity: 1; stroke-width: 0px; fill: rgb(235, 137, 181); fill-opacity: 1;\"/></g><g class=\"point\"><path d=\"M407.63,420V267.81H408.99V420Z\" style=\"vector-effect: non-scaling-stroke; opacity: 1; stroke-width: 0px; fill: rgb(235, 137, 181); fill-opacity: 1;\"/></g><g class=\"point\"><path d=\"M410.97,420V259.89H412.33V420Z\" style=\"vector-effect: non-scaling-stroke; opacity: 1; stroke-width: 0px; fill: rgb(235, 137, 181); fill-opacity: 1;\"/></g><g class=\"point\"><path d=\"M414.31,420V276.43H415.67V420Z\" style=\"vector-effect: non-scaling-stroke; opacity: 1; stroke-width: 0px; fill: rgb(235, 137, 181); fill-opacity: 1;\"/></g><g class=\"point\"><path d=\"M417.65,420V292.98H419.01V420Z\" style=\"vector-effect: non-scaling-stroke; opacity: 1; stroke-width: 0px; fill: rgb(235, 137, 181); fill-opacity: 1;\"/></g><g class=\"point\"><path d=\"M420.99,420V305.1H422.34V420Z\" style=\"vector-effect: non-scaling-stroke; opacity: 1; stroke-width: 0px; fill: rgb(235, 137, 181); fill-opacity: 1;\"/></g><g class=\"point\"><path d=\"M424.33,420V291.58H425.68V420Z\" style=\"vector-effect: non-scaling-stroke; opacity: 1; stroke-width: 0px; fill: rgb(235, 137, 181); fill-opacity: 1;\"/></g><g class=\"point\"><path d=\"M427.67,420V279.7H429.02V420Z\" style=\"vector-effect: non-scaling-stroke; opacity: 1; stroke-width: 0px; fill: rgb(235, 137, 181); fill-opacity: 1;\"/></g><g class=\"point\"><path d=\"M431.01,420V302.77H432.36V420Z\" style=\"vector-effect: non-scaling-stroke; opacity: 1; stroke-width: 0px; fill: rgb(235, 137, 181); fill-opacity: 1;\"/></g><g class=\"point\"><path d=\"M434.35,420V326.08H435.7V420Z\" style=\"vector-effect: non-scaling-stroke; opacity: 1; stroke-width: 0px; fill: rgb(235, 137, 181); fill-opacity: 1;\"/></g><g class=\"point\"><path d=\"M437.69,420V315.36H439.04V420Z\" style=\"vector-effect: non-scaling-stroke; opacity: 1; stroke-width: 0px; fill: rgb(235, 137, 181); fill-opacity: 1;\"/></g><g class=\"point\"><path d=\"M441.03,420V339.36H442.38V420Z\" style=\"vector-effect: non-scaling-stroke; opacity: 1; stroke-width: 0px; fill: rgb(235, 137, 181); fill-opacity: 1;\"/></g><g class=\"point\"><path d=\"M444.37,420V332.84H445.72V420Z\" style=\"vector-effect: non-scaling-stroke; opacity: 1; stroke-width: 0px; fill: rgb(235, 137, 181); fill-opacity: 1;\"/></g><g class=\"point\"><path d=\"M447.71,420V345.42H449.06V420Z\" style=\"vector-effect: non-scaling-stroke; opacity: 1; stroke-width: 0px; fill: rgb(235, 137, 181); fill-opacity: 1;\"/></g><g class=\"point\"><path d=\"M451.05,420V365.46H452.4V420Z\" style=\"vector-effect: non-scaling-stroke; opacity: 1; stroke-width: 0px; fill: rgb(235, 137, 181); fill-opacity: 1;\"/></g><g class=\"point\"><path d=\"M454.38,420V333.77H455.74V420Z\" style=\"vector-effect: non-scaling-stroke; opacity: 1; stroke-width: 0px; fill: rgb(235, 137, 181); fill-opacity: 1;\"/></g><g class=\"point\"><path d=\"M457.72,420V330.27H459.08V420Z\" style=\"vector-effect: non-scaling-stroke; opacity: 1; stroke-width: 0px; fill: rgb(235, 137, 181); fill-opacity: 1;\"/></g><g class=\"point\"><path d=\"M461.06,420V351.95H462.42V420Z\" style=\"vector-effect: non-scaling-stroke; opacity: 1; stroke-width: 0px; fill: rgb(235, 137, 181); fill-opacity: 1;\"/></g><g class=\"point\"><path d=\"M464.4,420V388.54H465.76V420Z\" style=\"vector-effect: non-scaling-stroke; opacity: 1; stroke-width: 0px; fill: rgb(235, 137, 181); fill-opacity: 1;\"/></g><g class=\"point\"><path d=\"M467.74,420V377.82H469.09V420Z\" style=\"vector-effect: non-scaling-stroke; opacity: 1; stroke-width: 0px; fill: rgb(235, 137, 181); fill-opacity: 1;\"/></g><g class=\"point\"><path d=\"M471.08,420V371.99H472.43V420Z\" style=\"vector-effect: non-scaling-stroke; opacity: 1; stroke-width: 0px; fill: rgb(235, 137, 181); fill-opacity: 1;\"/></g><g class=\"point\"><path d=\"M474.42,420V373.85H475.77V420Z\" style=\"vector-effect: non-scaling-stroke; opacity: 1; stroke-width: 0px; fill: rgb(235, 137, 181); fill-opacity: 1;\"/></g><g class=\"point\"><path d=\"M477.76,420V379.68H479.11V420Z\" style=\"vector-effect: non-scaling-stroke; opacity: 1; stroke-width: 0px; fill: rgb(235, 137, 181); fill-opacity: 1;\"/></g><g class=\"point\"><path d=\"M481.1,420V391.1H482.45V420Z\" style=\"vector-effect: non-scaling-stroke; opacity: 1; stroke-width: 0px; fill: rgb(235, 137, 181); fill-opacity: 1;\"/></g><g class=\"point\"><path d=\"M484.44,420V399.02H485.79V420Z\" style=\"vector-effect: non-scaling-stroke; opacity: 1; stroke-width: 0px; fill: rgb(235, 137, 181); fill-opacity: 1;\"/></g><g class=\"point\"><path d=\"M487.78,420V371.52H489.13V420Z\" style=\"vector-effect: non-scaling-stroke; opacity: 1; stroke-width: 0px; fill: rgb(235, 137, 181); fill-opacity: 1;\"/></g><g class=\"point\"><path d=\"M491.12,420V393.9H492.47V420Z\" style=\"vector-effect: non-scaling-stroke; opacity: 1; stroke-width: 0px; fill: rgb(235, 137, 181); fill-opacity: 1;\"/></g><g class=\"point\"><path d=\"M494.46,420V383.41H495.81V420Z\" style=\"vector-effect: non-scaling-stroke; opacity: 1; stroke-width: 0px; fill: rgb(235, 137, 181); fill-opacity: 1;\"/></g><g class=\"point\"><path d=\"M497.8,420V395.3H499.15V420Z\" style=\"vector-effect: non-scaling-stroke; opacity: 1; stroke-width: 0px; fill: rgb(235, 137, 181); fill-opacity: 1;\"/></g><g class=\"point\"><path d=\"M501.13,420V394.13H502.49V420Z\" style=\"vector-effect: non-scaling-stroke; opacity: 1; stroke-width: 0px; fill: rgb(235, 137, 181); fill-opacity: 1;\"/></g><g class=\"point\"><path d=\"M504.47,420V397.16H505.83V420Z\" style=\"vector-effect: non-scaling-stroke; opacity: 1; stroke-width: 0px; fill: rgb(235, 137, 181); fill-opacity: 1;\"/></g><g class=\"point\"><path d=\"M507.81,420V410.91H509.17V420Z\" style=\"vector-effect: non-scaling-stroke; opacity: 1; stroke-width: 0px; fill: rgb(235, 137, 181); fill-opacity: 1;\"/></g><g class=\"point\"><path d=\"M511.15,420V398.56H512.51V420Z\" style=\"vector-effect: non-scaling-stroke; opacity: 1; stroke-width: 0px; fill: rgb(235, 137, 181); fill-opacity: 1;\"/></g><g class=\"point\"><path d=\"M514.49,420V409.05H515.84V420Z\" style=\"vector-effect: non-scaling-stroke; opacity: 1; stroke-width: 0px; fill: rgb(235, 137, 181); fill-opacity: 1;\"/></g><g class=\"point\"><path d=\"M517.83,420V410.68H519.18V420Z\" style=\"vector-effect: non-scaling-stroke; opacity: 1; stroke-width: 0px; fill: rgb(235, 137, 181); fill-opacity: 1;\"/></g><g class=\"point\"><path d=\"M521.17,420V399.96H522.52V420Z\" style=\"vector-effect: non-scaling-stroke; opacity: 1; stroke-width: 0px; fill: rgb(235, 137, 181); fill-opacity: 1;\"/></g><g class=\"point\"><path d=\"M524.51,420V416.97H525.86V420Z\" style=\"vector-effect: non-scaling-stroke; opacity: 1; stroke-width: 0px; fill: rgb(235, 137, 181); fill-opacity: 1;\"/></g><g class=\"point\"><path d=\"M527.85,420V409.05H529.2V420Z\" style=\"vector-effect: non-scaling-stroke; opacity: 1; stroke-width: 0px; fill: rgb(235, 137, 181); fill-opacity: 1;\"/></g><g class=\"point\"><path d=\"M531.19,420V413.01H532.54V420Z\" style=\"vector-effect: non-scaling-stroke; opacity: 1; stroke-width: 0px; fill: rgb(235, 137, 181); fill-opacity: 1;\"/></g><g class=\"point\"><path d=\"M534.53,420V416.97H535.88V420Z\" style=\"vector-effect: non-scaling-stroke; opacity: 1; stroke-width: 0px; fill: rgb(235, 137, 181); fill-opacity: 1;\"/></g><g class=\"point\"><path d=\"M537.87,420V416.04H539.22V420Z\" style=\"vector-effect: non-scaling-stroke; opacity: 1; stroke-width: 0px; fill: rgb(235, 137, 181); fill-opacity: 1;\"/></g><g class=\"point\"><path d=\"M541.21,420V412.08H542.56V420Z\" style=\"vector-effect: non-scaling-stroke; opacity: 1; stroke-width: 0px; fill: rgb(235, 137, 181); fill-opacity: 1;\"/></g><g class=\"point\"><path d=\"M544.55,420V418.6H545.9V420Z\" style=\"vector-effect: non-scaling-stroke; opacity: 1; stroke-width: 0px; fill: rgb(235, 137, 181); fill-opacity: 1;\"/></g><g class=\"point\"><path d=\"M547.88,420V418.6H549.24V420Z\" style=\"vector-effect: non-scaling-stroke; opacity: 1; stroke-width: 0px; fill: rgb(235, 137, 181); fill-opacity: 1;\"/></g><g class=\"point\"><path d=\"M551.22,420V415.34H552.58V420Z\" style=\"vector-effect: non-scaling-stroke; opacity: 1; stroke-width: 0px; fill: rgb(235, 137, 181); fill-opacity: 1;\"/></g><g class=\"point\"><path d=\"M554.56,420V418.6H555.92V420Z\" style=\"vector-effect: non-scaling-stroke; opacity: 1; stroke-width: 0px; fill: rgb(235, 137, 181); fill-opacity: 1;\"/></g><g class=\"point\"><path d=\"M557.9,420V418.37H559.26V420Z\" style=\"vector-effect: non-scaling-stroke; opacity: 1; stroke-width: 0px; fill: rgb(235, 137, 181); fill-opacity: 1;\"/></g><g class=\"point\"><path d=\"M561.24,420V414.17H562.59V420Z\" style=\"vector-effect: non-scaling-stroke; opacity: 1; stroke-width: 0px; fill: rgb(235, 137, 181); fill-opacity: 1;\"/></g><g class=\"point\"><path d=\"M564.58,420V419.77H565.93V420Z\" style=\"vector-effect: non-scaling-stroke; opacity: 1; stroke-width: 0px; fill: rgb(235, 137, 181); fill-opacity: 1;\"/></g><g class=\"point\"><path d=\"M567.92,420V419.53H569.27V420Z\" style=\"vector-effect: non-scaling-stroke; opacity: 1; stroke-width: 0px; fill: rgb(235, 137, 181); fill-opacity: 1;\"/></g><g class=\"point\"><path d=\"M571.26,420V418.14H572.61V420Z\" style=\"vector-effect: non-scaling-stroke; opacity: 1; stroke-width: 0px; fill: rgb(235, 137, 181); fill-opacity: 1;\"/></g><g class=\"point\"><path d=\"M574.6,420V419.77H575.95V420Z\" style=\"vector-effect: non-scaling-stroke; opacity: 1; stroke-width: 0px; fill: rgb(235, 137, 181); fill-opacity: 1;\"/></g><g class=\"point\"><path d=\"M577.94,420V418.37H579.29V420Z\" style=\"vector-effect: non-scaling-stroke; opacity: 1; stroke-width: 0px; fill: rgb(235, 137, 181); fill-opacity: 1;\"/></g><g class=\"point\"><path d=\"M581.28,420V419.53H582.63V420Z\" style=\"vector-effect: non-scaling-stroke; opacity: 1; stroke-width: 0px; fill: rgb(235, 137, 181); fill-opacity: 1;\"/></g><g class=\"point\"><path d=\"M584.62,420V418.37H585.97V420Z\" style=\"vector-effect: non-scaling-stroke; opacity: 1; stroke-width: 0px; fill: rgb(235, 137, 181); fill-opacity: 1;\"/></g><g class=\"point\"><path d=\"M587.96,420V416.27H589.31V420Z\" style=\"vector-effect: non-scaling-stroke; opacity: 1; stroke-width: 0px; fill: rgb(235, 137, 181); fill-opacity: 1;\"/></g><g class=\"point\"><path d=\"M0,0Z\" style=\"vector-effect: non-scaling-stroke; opacity: 1; stroke-width: 0px; fill: rgb(235, 137, 181); fill-opacity: 1;\"/></g><g class=\"point\"><path d=\"M594.63,420V418.83H595.99V420Z\" style=\"vector-effect: non-scaling-stroke; opacity: 1; stroke-width: 0px; fill: rgb(235, 137, 181); fill-opacity: 1;\"/></g><g class=\"point\"><path d=\"M0,0Z\" style=\"vector-effect: non-scaling-stroke; opacity: 1; stroke-width: 0px; fill: rgb(235, 137, 181); fill-opacity: 1;\"/></g><g class=\"point\"><path d=\"M601.31,420V419.53H602.67V420Z\" style=\"vector-effect: non-scaling-stroke; opacity: 1; stroke-width: 0px; fill: rgb(235, 137, 181); fill-opacity: 1;\"/></g><g class=\"point\"><path d=\"M0,0Z\" style=\"vector-effect: non-scaling-stroke; opacity: 1; stroke-width: 0px; fill: rgb(235, 137, 181); fill-opacity: 1;\"/></g><g class=\"point\"><path d=\"M0,0Z\" style=\"vector-effect: non-scaling-stroke; opacity: 1; stroke-width: 0px; fill: rgb(235, 137, 181); fill-opacity: 1;\"/></g><g class=\"point\"><path d=\"M0,0Z\" style=\"vector-effect: non-scaling-stroke; opacity: 1; stroke-width: 0px; fill: rgb(235, 137, 181); fill-opacity: 1;\"/></g><g class=\"point\"><path d=\"M614.67,420V419.77H616.02V420Z\" style=\"vector-effect: non-scaling-stroke; opacity: 1; stroke-width: 0px; fill: rgb(235, 137, 181); fill-opacity: 1;\"/></g><g class=\"point\"><path d=\"M0,0Z\" style=\"vector-effect: non-scaling-stroke; opacity: 1; stroke-width: 0px; fill: rgb(235, 137, 181); fill-opacity: 1;\"/></g><g class=\"point\"><path d=\"M621.35,420V419.53H622.7V420Z\" style=\"vector-effect: non-scaling-stroke; opacity: 1; stroke-width: 0px; fill: rgb(235, 137, 181); fill-opacity: 1;\"/></g><g class=\"point\"><path d=\"M0,0Z\" style=\"vector-effect: non-scaling-stroke; opacity: 1; stroke-width: 0px; fill: rgb(235, 137, 181); fill-opacity: 1;\"/></g><g class=\"point\"><path d=\"M0,0Z\" style=\"vector-effect: non-scaling-stroke; opacity: 1; stroke-width: 0px; fill: rgb(235, 137, 181); fill-opacity: 1;\"/></g><g class=\"point\"><path d=\"M0,0Z\" style=\"vector-effect: non-scaling-stroke; opacity: 1; stroke-width: 0px; fill: rgb(235, 137, 181); fill-opacity: 1;\"/></g><g class=\"point\"><path d=\"M0,0Z\" style=\"vector-effect: non-scaling-stroke; opacity: 1; stroke-width: 0px; fill: rgb(235, 137, 181); fill-opacity: 1;\"/></g><g class=\"point\"><path d=\"M0,0Z\" style=\"vector-effect: non-scaling-stroke; opacity: 1; stroke-width: 0px; fill: rgb(235, 137, 181); fill-opacity: 1;\"/></g><g class=\"point\"><path d=\"M0,0Z\" style=\"vector-effect: non-scaling-stroke; opacity: 1; stroke-width: 0px; fill: rgb(235, 137, 181); fill-opacity: 1;\"/></g><g class=\"point\"><path d=\"M0,0Z\" style=\"vector-effect: non-scaling-stroke; opacity: 1; stroke-width: 0px; fill: rgb(235, 137, 181); fill-opacity: 1;\"/></g><g class=\"point\"><path d=\"M0,0Z\" style=\"vector-effect: non-scaling-stroke; opacity: 1; stroke-width: 0px; fill: rgb(235, 137, 181); fill-opacity: 1;\"/></g><g class=\"point\"><path d=\"M0,0Z\" style=\"vector-effect: non-scaling-stroke; opacity: 1; stroke-width: 0px; fill: rgb(235, 137, 181); fill-opacity: 1;\"/></g><g class=\"point\"><path d=\"M0,0Z\" style=\"vector-effect: non-scaling-stroke; opacity: 1; stroke-width: 0px; fill: rgb(235, 137, 181); fill-opacity: 1;\"/></g><g class=\"point\"><path d=\"M0,0Z\" style=\"vector-effect: non-scaling-stroke; opacity: 1; stroke-width: 0px; fill: rgb(235, 137, 181); fill-opacity: 1;\"/></g><g class=\"point\"><path d=\"M0,0Z\" style=\"vector-effect: non-scaling-stroke; opacity: 1; stroke-width: 0px; fill: rgb(235, 137, 181); fill-opacity: 1;\"/></g><g class=\"point\"><path d=\"M0,0Z\" style=\"vector-effect: non-scaling-stroke; opacity: 1; stroke-width: 0px; fill: rgb(235, 137, 181); fill-opacity: 1;\"/></g><g class=\"point\"><path d=\"M0,0Z\" style=\"vector-effect: non-scaling-stroke; opacity: 1; stroke-width: 0px; fill: rgb(235, 137, 181); fill-opacity: 1;\"/></g><g class=\"point\"><path d=\"M671.44,420V419.77H672.79V420Z\" style=\"vector-effect: non-scaling-stroke; opacity: 1; stroke-width: 0px; fill: rgb(235, 137, 181); fill-opacity: 1;\"/></g></g></g><g class=\"trace bars\" style=\"opacity: 0.75;\"><g class=\"points\"><g class=\"point\"><path d=\"M41.82,420V419.77H43.17V420Z\" style=\"vector-effect: non-scaling-stroke; opacity: 1; stroke-width: 0px; fill: rgb(51, 12, 115); fill-opacity: 1;\"/></g><g class=\"point\"><path d=\"M0,0Z\" style=\"vector-effect: non-scaling-stroke; opacity: 1; stroke-width: 0px; fill: rgb(51, 12, 115); fill-opacity: 1;\"/></g><g class=\"point\"><path d=\"M0,0Z\" style=\"vector-effect: non-scaling-stroke; opacity: 1; stroke-width: 0px; fill: rgb(51, 12, 115); fill-opacity: 1;\"/></g><g class=\"point\"><path d=\"M0,0Z\" style=\"vector-effect: non-scaling-stroke; opacity: 1; stroke-width: 0px; fill: rgb(51, 12, 115); fill-opacity: 1;\"/></g><g class=\"point\"><path d=\"M0,0Z\" style=\"vector-effect: non-scaling-stroke; opacity: 1; stroke-width: 0px; fill: rgb(51, 12, 115); fill-opacity: 1;\"/></g><g class=\"point\"><path d=\"M0,0Z\" style=\"vector-effect: non-scaling-stroke; opacity: 1; stroke-width: 0px; fill: rgb(51, 12, 115); fill-opacity: 1;\"/></g><g class=\"point\"><path d=\"M0,0Z\" style=\"vector-effect: non-scaling-stroke; opacity: 1; stroke-width: 0px; fill: rgb(51, 12, 115); fill-opacity: 1;\"/></g><g class=\"point\"><path d=\"M0,0Z\" style=\"vector-effect: non-scaling-stroke; opacity: 1; stroke-width: 0px; fill: rgb(51, 12, 115); fill-opacity: 1;\"/></g><g class=\"point\"><path d=\"M0,0Z\" style=\"vector-effect: non-scaling-stroke; opacity: 1; stroke-width: 0px; fill: rgb(51, 12, 115); fill-opacity: 1;\"/></g><g class=\"point\"><path d=\"M0,0Z\" style=\"vector-effect: non-scaling-stroke; opacity: 1; stroke-width: 0px; fill: rgb(51, 12, 115); fill-opacity: 1;\"/></g><g class=\"point\"><path d=\"M0,0Z\" style=\"vector-effect: non-scaling-stroke; opacity: 1; stroke-width: 0px; fill: rgb(51, 12, 115); fill-opacity: 1;\"/></g><g class=\"point\"><path d=\"M0,0Z\" style=\"vector-effect: non-scaling-stroke; opacity: 1; stroke-width: 0px; fill: rgb(51, 12, 115); fill-opacity: 1;\"/></g><g class=\"point\"><path d=\"M0,0Z\" style=\"vector-effect: non-scaling-stroke; opacity: 1; stroke-width: 0px; fill: rgb(51, 12, 115); fill-opacity: 1;\"/></g><g class=\"point\"><path d=\"M85.23,420V419.77H86.58V420Z\" style=\"vector-effect: non-scaling-stroke; opacity: 1; stroke-width: 0px; fill: rgb(51, 12, 115); fill-opacity: 1;\"/></g><g class=\"point\"><path d=\"M0,0Z\" style=\"vector-effect: non-scaling-stroke; opacity: 1; stroke-width: 0px; fill: rgb(51, 12, 115); fill-opacity: 1;\"/></g><g class=\"point\"><path d=\"M0,0Z\" style=\"vector-effect: non-scaling-stroke; opacity: 1; stroke-width: 0px; fill: rgb(51, 12, 115); fill-opacity: 1;\"/></g><g class=\"point\"><path d=\"M0,0Z\" style=\"vector-effect: non-scaling-stroke; opacity: 1; stroke-width: 0px; fill: rgb(51, 12, 115); fill-opacity: 1;\"/></g><g class=\"point\"><path d=\"M0,0Z\" style=\"vector-effect: non-scaling-stroke; opacity: 1; stroke-width: 0px; fill: rgb(51, 12, 115); fill-opacity: 1;\"/></g><g class=\"point\"><path d=\"M0,0Z\" style=\"vector-effect: non-scaling-stroke; opacity: 1; stroke-width: 0px; fill: rgb(51, 12, 115); fill-opacity: 1;\"/></g><g class=\"point\"><path d=\"M0,0Z\" style=\"vector-effect: non-scaling-stroke; opacity: 1; stroke-width: 0px; fill: rgb(51, 12, 115); fill-opacity: 1;\"/></g><g class=\"point\"><path d=\"M108.6,420V419.77H109.95V420Z\" style=\"vector-effect: non-scaling-stroke; opacity: 1; stroke-width: 0px; fill: rgb(51, 12, 115); fill-opacity: 1;\"/></g><g class=\"point\"><path d=\"M0,0Z\" style=\"vector-effect: non-scaling-stroke; opacity: 1; stroke-width: 0px; fill: rgb(51, 12, 115); fill-opacity: 1;\"/></g><g class=\"point\"><path d=\"M0,0Z\" style=\"vector-effect: non-scaling-stroke; opacity: 1; stroke-width: 0px; fill: rgb(51, 12, 115); fill-opacity: 1;\"/></g><g class=\"point\"><path d=\"M0,0Z\" style=\"vector-effect: non-scaling-stroke; opacity: 1; stroke-width: 0px; fill: rgb(51, 12, 115); fill-opacity: 1;\"/></g><g class=\"point\"><path d=\"M121.96,420V419.07H123.31V420Z\" style=\"vector-effect: non-scaling-stroke; opacity: 1; stroke-width: 0px; fill: rgb(51, 12, 115); fill-opacity: 1;\"/></g><g class=\"point\"><path d=\"M125.3,420V419.07H126.65V420Z\" style=\"vector-effect: non-scaling-stroke; opacity: 1; stroke-width: 0px; fill: rgb(51, 12, 115); fill-opacity: 1;\"/></g><g class=\"point\"><path d=\"M0,0Z\" style=\"vector-effect: non-scaling-stroke; opacity: 1; stroke-width: 0px; fill: rgb(51, 12, 115); fill-opacity: 1;\"/></g><g class=\"point\"><path d=\"M131.98,420V419.07H133.33V420Z\" style=\"vector-effect: non-scaling-stroke; opacity: 1; stroke-width: 0px; fill: rgb(51, 12, 115); fill-opacity: 1;\"/></g><g class=\"point\"><path d=\"M135.32,420V418.6H136.67V420Z\" style=\"vector-effect: non-scaling-stroke; opacity: 1; stroke-width: 0px; fill: rgb(51, 12, 115); fill-opacity: 1;\"/></g><g class=\"point\"><path d=\"M0,0Z\" style=\"vector-effect: non-scaling-stroke; opacity: 1; stroke-width: 0px; fill: rgb(51, 12, 115); fill-opacity: 1;\"/></g><g class=\"point\"><path d=\"M141.99,420V419.77H143.35V420Z\" style=\"vector-effect: non-scaling-stroke; opacity: 1; stroke-width: 0px; fill: rgb(51, 12, 115); fill-opacity: 1;\"/></g><g class=\"point\"><path d=\"M145.33,420V418.6H146.69V420Z\" style=\"vector-effect: non-scaling-stroke; opacity: 1; stroke-width: 0px; fill: rgb(51, 12, 115); fill-opacity: 1;\"/></g><g class=\"point\"><path d=\"M148.67,420V418.6H150.03V420Z\" style=\"vector-effect: non-scaling-stroke; opacity: 1; stroke-width: 0px; fill: rgb(51, 12, 115); fill-opacity: 1;\"/></g><g class=\"point\"><path d=\"M152.01,420V419.77H153.37V420Z\" style=\"vector-effect: non-scaling-stroke; opacity: 1; stroke-width: 0px; fill: rgb(51, 12, 115); fill-opacity: 1;\"/></g><g class=\"point\"><path d=\"M155.35,420V419.53H156.7V420Z\" style=\"vector-effect: non-scaling-stroke; opacity: 1; stroke-width: 0px; fill: rgb(51, 12, 115); fill-opacity: 1;\"/></g><g class=\"point\"><path d=\"M158.69,420V419.07H160.04V420Z\" style=\"vector-effect: non-scaling-stroke; opacity: 1; stroke-width: 0px; fill: rgb(51, 12, 115); fill-opacity: 1;\"/></g><g class=\"point\"><path d=\"M162.03,420V418.83H163.38V420Z\" style=\"vector-effect: non-scaling-stroke; opacity: 1; stroke-width: 0px; fill: rgb(51, 12, 115); fill-opacity: 1;\"/></g><g class=\"point\"><path d=\"M165.37,420V419.77H166.72V420Z\" style=\"vector-effect: non-scaling-stroke; opacity: 1; stroke-width: 0px; fill: rgb(51, 12, 115); fill-opacity: 1;\"/></g><g class=\"point\"><path d=\"M168.71,420V419.07H170.06V420Z\" style=\"vector-effect: non-scaling-stroke; opacity: 1; stroke-width: 0px; fill: rgb(51, 12, 115); fill-opacity: 1;\"/></g><g class=\"point\"><path d=\"M172.05,420V419.07H173.4V420Z\" style=\"vector-effect: non-scaling-stroke; opacity: 1; stroke-width: 0px; fill: rgb(51, 12, 115); fill-opacity: 1;\"/></g><g class=\"point\"><path d=\"M175.39,420V417.67H176.74V420Z\" style=\"vector-effect: non-scaling-stroke; opacity: 1; stroke-width: 0px; fill: rgb(51, 12, 115); fill-opacity: 1;\"/></g><g class=\"point\"><path d=\"M178.73,420V416.74H180.08V420Z\" style=\"vector-effect: non-scaling-stroke; opacity: 1; stroke-width: 0px; fill: rgb(51, 12, 115); fill-opacity: 1;\"/></g><g class=\"point\"><path d=\"M182.07,420V417.9H183.42V420Z\" style=\"vector-effect: non-scaling-stroke; opacity: 1; stroke-width: 0px; fill: rgb(51, 12, 115); fill-opacity: 1;\"/></g><g class=\"point\"><path d=\"M185.41,420V418.83H186.76V420Z\" style=\"vector-effect: non-scaling-stroke; opacity: 1; stroke-width: 0px; fill: rgb(51, 12, 115); fill-opacity: 1;\"/></g><g class=\"point\"><path d=\"M188.74,420V418.37H190.1V420Z\" style=\"vector-effect: non-scaling-stroke; opacity: 1; stroke-width: 0px; fill: rgb(51, 12, 115); fill-opacity: 1;\"/></g><g class=\"point\"><path d=\"M192.08,420V415.34H193.44V420Z\" style=\"vector-effect: non-scaling-stroke; opacity: 1; stroke-width: 0px; fill: rgb(51, 12, 115); fill-opacity: 1;\"/></g><g class=\"point\"><path d=\"M195.42,420V416.27H196.78V420Z\" style=\"vector-effect: non-scaling-stroke; opacity: 1; stroke-width: 0px; fill: rgb(51, 12, 115); fill-opacity: 1;\"/></g><g class=\"point\"><path d=\"M198.76,420V416.04H200.12V420Z\" style=\"vector-effect: non-scaling-stroke; opacity: 1; stroke-width: 0px; fill: rgb(51, 12, 115); fill-opacity: 1;\"/></g><g class=\"point\"><path d=\"M202.1,420V410.91H203.45V420Z\" style=\"vector-effect: non-scaling-stroke; opacity: 1; stroke-width: 0px; fill: rgb(51, 12, 115); fill-opacity: 1;\"/></g><g class=\"point\"><path d=\"M205.44,420V416.74H206.79V420Z\" style=\"vector-effect: non-scaling-stroke; opacity: 1; stroke-width: 0px; fill: rgb(51, 12, 115); fill-opacity: 1;\"/></g><g class=\"point\"><path d=\"M208.78,420V415.11H210.13V420Z\" style=\"vector-effect: non-scaling-stroke; opacity: 1; stroke-width: 0px; fill: rgb(51, 12, 115); fill-opacity: 1;\"/></g><g class=\"point\"><path d=\"M212.12,420V407.65H213.47V420Z\" style=\"vector-effect: non-scaling-stroke; opacity: 1; stroke-width: 0px; fill: rgb(51, 12, 115); fill-opacity: 1;\"/></g><g class=\"point\"><path d=\"M215.46,420V412.54H216.81V420Z\" style=\"vector-effect: non-scaling-stroke; opacity: 1; stroke-width: 0px; fill: rgb(51, 12, 115); fill-opacity: 1;\"/></g><g class=\"point\"><path d=\"M218.8,420V408.35H220.15V420Z\" style=\"vector-effect: non-scaling-stroke; opacity: 1; stroke-width: 0px; fill: rgb(51, 12, 115); fill-opacity: 1;\"/></g><g class=\"point\"><path d=\"M222.14,420V405.78H223.49V420Z\" style=\"vector-effect: non-scaling-stroke; opacity: 1; stroke-width: 0px; fill: rgb(51, 12, 115); fill-opacity: 1;\"/></g><g class=\"point\"><path d=\"M225.48,420V400.89H226.83V420Z\" style=\"vector-effect: non-scaling-stroke; opacity: 1; stroke-width: 0px; fill: rgb(51, 12, 115); fill-opacity: 1;\"/></g><g class=\"point\"><path d=\"M228.82,420V412.08H230.17V420Z\" style=\"vector-effect: non-scaling-stroke; opacity: 1; stroke-width: 0px; fill: rgb(51, 12, 115); fill-opacity: 1;\"/></g><g class=\"point\"><path d=\"M232.16,420V403.69H233.51V420Z\" style=\"vector-effect: non-scaling-stroke; opacity: 1; stroke-width: 0px; fill: rgb(51, 12, 115); fill-opacity: 1;\"/></g><g class=\"point\"><path d=\"M235.49,420V403.92H236.85V420Z\" style=\"vector-effect: non-scaling-stroke; opacity: 1; stroke-width: 0px; fill: rgb(51, 12, 115); fill-opacity: 1;\"/></g><g class=\"point\"><path d=\"M238.83,420V400.66H240.19V420Z\" style=\"vector-effect: non-scaling-stroke; opacity: 1; stroke-width: 0px; fill: rgb(51, 12, 115); fill-opacity: 1;\"/></g><g class=\"point\"><path d=\"M242.17,420V389.47H243.53V420Z\" style=\"vector-effect: non-scaling-stroke; opacity: 1; stroke-width: 0px; fill: rgb(51, 12, 115); fill-opacity: 1;\"/></g><g class=\"point\"><path d=\"M245.51,420V398.79H246.87V420Z\" style=\"vector-effect: non-scaling-stroke; opacity: 1; stroke-width: 0px; fill: rgb(51, 12, 115); fill-opacity: 1;\"/></g><g class=\"point\"><path d=\"M248.85,420V402.99H250.2V420Z\" style=\"vector-effect: non-scaling-stroke; opacity: 1; stroke-width: 0px; fill: rgb(51, 12, 115); fill-opacity: 1;\"/></g><g class=\"point\"><path d=\"M252.19,420V395.53H253.54V420Z\" style=\"vector-effect: non-scaling-stroke; opacity: 1; stroke-width: 0px; fill: rgb(51, 12, 115); fill-opacity: 1;\"/></g><g class=\"point\"><path d=\"M255.53,420V389.24H256.88V420Z\" style=\"vector-effect: non-scaling-stroke; opacity: 1; stroke-width: 0px; fill: rgb(51, 12, 115); fill-opacity: 1;\"/></g><g class=\"point\"><path d=\"M258.87,420V397.16H260.22V420Z\" style=\"vector-effect: non-scaling-stroke; opacity: 1; stroke-width: 0px; fill: rgb(51, 12, 115); fill-opacity: 1;\"/></g><g class=\"point\"><path d=\"M262.21,420V382.71H263.56V420Z\" style=\"vector-effect: non-scaling-stroke; opacity: 1; stroke-width: 0px; fill: rgb(51, 12, 115); fill-opacity: 1;\"/></g><g class=\"point\"><path d=\"M265.55,420V369.89H266.9V420Z\" style=\"vector-effect: non-scaling-stroke; opacity: 1; stroke-width: 0px; fill: rgb(51, 12, 115); fill-opacity: 1;\"/></g><g class=\"point\"><path d=\"M268.89,420V384.34H270.24V420Z\" style=\"vector-effect: non-scaling-stroke; opacity: 1; stroke-width: 0px; fill: rgb(51, 12, 115); fill-opacity: 1;\"/></g><g class=\"point\"><path d=\"M272.23,420V373.85H273.58V420Z\" style=\"vector-effect: non-scaling-stroke; opacity: 1; stroke-width: 0px; fill: rgb(51, 12, 115); fill-opacity: 1;\"/></g><g class=\"point\"><path d=\"M275.57,420V373.15H276.92V420Z\" style=\"vector-effect: non-scaling-stroke; opacity: 1; stroke-width: 0px; fill: rgb(51, 12, 115); fill-opacity: 1;\"/></g><g class=\"point\"><path d=\"M278.91,420V377.35H280.26V420Z\" style=\"vector-effect: non-scaling-stroke; opacity: 1; stroke-width: 0px; fill: rgb(51, 12, 115); fill-opacity: 1;\"/></g><g class=\"point\"><path d=\"M282.24,420V370.82H283.6V420Z\" style=\"vector-effect: non-scaling-stroke; opacity: 1; stroke-width: 0px; fill: rgb(51, 12, 115); fill-opacity: 1;\"/></g><g class=\"point\"><path d=\"M285.58,420V357.54H286.94V420Z\" style=\"vector-effect: non-scaling-stroke; opacity: 1; stroke-width: 0px; fill: rgb(51, 12, 115); fill-opacity: 1;\"/></g><g class=\"point\"><path d=\"M288.92,420V370.82H290.28V420Z\" style=\"vector-effect: non-scaling-stroke; opacity: 1; stroke-width: 0px; fill: rgb(51, 12, 115); fill-opacity: 1;\"/></g><g class=\"point\"><path d=\"M292.26,420V362.43H293.62V420Z\" style=\"vector-effect: non-scaling-stroke; opacity: 1; stroke-width: 0px; fill: rgb(51, 12, 115); fill-opacity: 1;\"/></g><g class=\"point\"><path d=\"M295.6,420V347.29H296.95V420Z\" style=\"vector-effect: non-scaling-stroke; opacity: 1; stroke-width: 0px; fill: rgb(51, 12, 115); fill-opacity: 1;\"/></g><g class=\"point\"><path d=\"M298.94,420V338.66H300.29V420Z\" style=\"vector-effect: non-scaling-stroke; opacity: 1; stroke-width: 0px; fill: rgb(51, 12, 115); fill-opacity: 1;\"/></g><g class=\"point\"><path d=\"M302.28,420V313.03H303.63V420Z\" style=\"vector-effect: non-scaling-stroke; opacity: 1; stroke-width: 0px; fill: rgb(51, 12, 115); fill-opacity: 1;\"/></g><g class=\"point\"><path d=\"M305.62,420V336.8H306.97V420Z\" style=\"vector-effect: non-scaling-stroke; opacity: 1; stroke-width: 0px; fill: rgb(51, 12, 115); fill-opacity: 1;\"/></g><g class=\"point\"><path d=\"M308.96,420V290.19H310.31V420Z\" style=\"vector-effect: non-scaling-stroke; opacity: 1; stroke-width: 0px; fill: rgb(51, 12, 115); fill-opacity: 1;\"/></g><g class=\"point\"><path d=\"M312.3,420V319.32H313.65V420Z\" style=\"vector-effect: non-scaling-stroke; opacity: 1; stroke-width: 0px; fill: rgb(51, 12, 115); fill-opacity: 1;\"/></g><g class=\"point\"><path d=\"M315.64,420V294.85H316.99V420Z\" style=\"vector-effect: non-scaling-stroke; opacity: 1; stroke-width: 0px; fill: rgb(51, 12, 115); fill-opacity: 1;\"/></g><g class=\"point\"><path d=\"M318.98,420V308.83H320.33V420Z\" style=\"vector-effect: non-scaling-stroke; opacity: 1; stroke-width: 0px; fill: rgb(51, 12, 115); fill-opacity: 1;\"/></g><g class=\"point\"><path d=\"M322.32,420V272.01H323.67V420Z\" style=\"vector-effect: non-scaling-stroke; opacity: 1; stroke-width: 0px; fill: rgb(51, 12, 115); fill-opacity: 1;\"/></g><g class=\"point\"><path d=\"M325.66,420V257.79H327.01V420Z\" style=\"vector-effect: non-scaling-stroke; opacity: 1; stroke-width: 0px; fill: rgb(51, 12, 115); fill-opacity: 1;\"/></g><g class=\"point\"><path d=\"M328.99,420V232.62H330.35V420Z\" style=\"vector-effect: non-scaling-stroke; opacity: 1; stroke-width: 0px; fill: rgb(51, 12, 115); fill-opacity: 1;\"/></g><g class=\"point\"><path d=\"M332.33,420V296.94H333.69V420Z\" style=\"vector-effect: non-scaling-stroke; opacity: 1; stroke-width: 0px; fill: rgb(51, 12, 115); fill-opacity: 1;\"/></g><g class=\"point\"><path d=\"M335.67,420V259.89H337.03V420Z\" style=\"vector-effect: non-scaling-stroke; opacity: 1; stroke-width: 0px; fill: rgb(51, 12, 115); fill-opacity: 1;\"/></g><g class=\"point\"><path d=\"M339.01,420V283.66H340.37V420Z\" style=\"vector-effect: non-scaling-stroke; opacity: 1; stroke-width: 0px; fill: rgb(51, 12, 115); fill-opacity: 1;\"/></g><g class=\"point\"><path d=\"M342.35,420V200.92H343.7V420Z\" style=\"vector-effect: non-scaling-stroke; opacity: 1; stroke-width: 0px; fill: rgb(51, 12, 115); fill-opacity: 1;\"/></g><g class=\"point\"><path d=\"M345.69,420V281.33H347.04V420Z\" style=\"vector-effect: non-scaling-stroke; opacity: 1; stroke-width: 0px; fill: rgb(51, 12, 115); fill-opacity: 1;\"/></g><g class=\"point\"><path d=\"M349.03,420V252.2H350.38V420Z\" style=\"vector-effect: non-scaling-stroke; opacity: 1; stroke-width: 0px; fill: rgb(51, 12, 115); fill-opacity: 1;\"/></g><g class=\"point\"><path d=\"M352.37,420V173.89H353.72V420Z\" style=\"vector-effect: non-scaling-stroke; opacity: 1; stroke-width: 0px; fill: rgb(51, 12, 115); fill-opacity: 1;\"/></g><g class=\"point\"><path d=\"M355.71,420V250.8H357.06V420Z\" style=\"vector-effect: non-scaling-stroke; opacity: 1; stroke-width: 0px; fill: rgb(51, 12, 115); fill-opacity: 1;\"/></g><g class=\"point\"><path d=\"M359.05,420V228.89H360.4V420Z\" style=\"vector-effect: non-scaling-stroke; opacity: 1; stroke-width: 0px; fill: rgb(51, 12, 115); fill-opacity: 1;\"/></g><g class=\"point\"><path d=\"M362.39,420V234.02H363.74V420Z\" style=\"vector-effect: non-scaling-stroke; opacity: 1; stroke-width: 0px; fill: rgb(51, 12, 115); fill-opacity: 1;\"/></g><g class=\"point\"><path d=\"M365.73,420V179.48H367.08V420Z\" style=\"vector-effect: non-scaling-stroke; opacity: 1; stroke-width: 0px; fill: rgb(51, 12, 115); fill-opacity: 1;\"/></g><g class=\"point\"><path d=\"M369.07,420V196.96H370.42V420Z\" style=\"vector-effect: non-scaling-stroke; opacity: 1; stroke-width: 0px; fill: rgb(51, 12, 115); fill-opacity: 1;\"/></g><g class=\"point\"><path d=\"M372.41,420V172.72H373.76V420Z\" style=\"vector-effect: non-scaling-stroke; opacity: 1; stroke-width: 0px; fill: rgb(51, 12, 115); fill-opacity: 1;\"/></g><g class=\"point\"><path d=\"M375.74,420V175.29H377.1V420Z\" style=\"vector-effect: non-scaling-stroke; opacity: 1; stroke-width: 0px; fill: rgb(51, 12, 115); fill-opacity: 1;\"/></g><g class=\"point\"><path d=\"M379.08,420V147.09H380.44V420Z\" style=\"vector-effect: non-scaling-stroke; opacity: 1; stroke-width: 0px; fill: rgb(51, 12, 115); fill-opacity: 1;\"/></g><g class=\"point\"><path d=\"M382.42,420V135.9H383.78V420Z\" style=\"vector-effect: non-scaling-stroke; opacity: 1; stroke-width: 0px; fill: rgb(51, 12, 115); fill-opacity: 1;\"/></g><g class=\"point\"><path d=\"M385.76,420V113.29H387.12V420Z\" style=\"vector-effect: non-scaling-stroke; opacity: 1; stroke-width: 0px; fill: rgb(51, 12, 115); fill-opacity: 1;\"/></g><g class=\"point\"><path d=\"M389.1,420V99.31H390.45V420Z\" style=\"vector-effect: non-scaling-stroke; opacity: 1; stroke-width: 0px; fill: rgb(51, 12, 115); fill-opacity: 1;\"/></g><g class=\"point\"><path d=\"M392.44,420V161.77H393.79V420Z\" style=\"vector-effect: non-scaling-stroke; opacity: 1; stroke-width: 0px; fill: rgb(51, 12, 115); fill-opacity: 1;\"/></g><g class=\"point\"><path d=\"M395.78,420V96.05H397.13V420Z\" style=\"vector-effect: non-scaling-stroke; opacity: 1; stroke-width: 0px; fill: rgb(51, 12, 115); fill-opacity: 1;\"/></g><g class=\"point\"><path d=\"M399.12,420V126.34H400.47V420Z\" style=\"vector-effect: non-scaling-stroke; opacity: 1; stroke-width: 0px; fill: rgb(51, 12, 115); fill-opacity: 1;\"/></g><g class=\"point\"><path d=\"M402.46,420V158.27H403.81V420Z\" style=\"vector-effect: non-scaling-stroke; opacity: 1; stroke-width: 0px; fill: rgb(51, 12, 115); fill-opacity: 1;\"/></g><g class=\"point\"><path d=\"M405.8,420V126.11H407.15V420Z\" style=\"vector-effect: non-scaling-stroke; opacity: 1; stroke-width: 0px; fill: rgb(51, 12, 115); fill-opacity: 1;\"/></g><g class=\"point\"><path d=\"M409.14,420V114.69H410.49V420Z\" style=\"vector-effect: non-scaling-stroke; opacity: 1; stroke-width: 0px; fill: rgb(51, 12, 115); fill-opacity: 1;\"/></g><g class=\"point\"><path d=\"M412.48,420V87.19H413.83V420Z\" style=\"vector-effect: non-scaling-stroke; opacity: 1; stroke-width: 0px; fill: rgb(51, 12, 115); fill-opacity: 1;\"/></g><g class=\"point\"><path d=\"M415.82,420V95.58H417.17V420Z\" style=\"vector-effect: non-scaling-stroke; opacity: 1; stroke-width: 0px; fill: rgb(51, 12, 115); fill-opacity: 1;\"/></g><g class=\"point\"><path d=\"M419.16,420V84.39H420.51V420Z\" style=\"vector-effect: non-scaling-stroke; opacity: 1; stroke-width: 0px; fill: rgb(51, 12, 115); fill-opacity: 1;\"/></g><g class=\"point\"><path d=\"M422.49,420V118.19H423.85V420Z\" style=\"vector-effect: non-scaling-stroke; opacity: 1; stroke-width: 0px; fill: rgb(51, 12, 115); fill-opacity: 1;\"/></g><g class=\"point\"><path d=\"M425.83,420V45.94H427.19V420Z\" style=\"vector-effect: non-scaling-stroke; opacity: 1; stroke-width: 0px; fill: rgb(51, 12, 115); fill-opacity: 1;\"/></g><g class=\"point\"><path d=\"M429.17,420V55.26H430.53V420Z\" style=\"vector-effect: non-scaling-stroke; opacity: 1; stroke-width: 0px; fill: rgb(51, 12, 115); fill-opacity: 1;\"/></g><g class=\"point\"><path d=\"M432.51,420V122.85H433.87V420Z\" style=\"vector-effect: non-scaling-stroke; opacity: 1; stroke-width: 0px; fill: rgb(51, 12, 115); fill-opacity: 1;\"/></g><g class=\"point\"><path d=\"M435.85,420V80.66H437.2V420Z\" style=\"vector-effect: non-scaling-stroke; opacity: 1; stroke-width: 0px; fill: rgb(51, 12, 115); fill-opacity: 1;\"/></g><g class=\"point\"><path d=\"M439.19,420V99.08H440.54V420Z\" style=\"vector-effect: non-scaling-stroke; opacity: 1; stroke-width: 0px; fill: rgb(51, 12, 115); fill-opacity: 1;\"/></g><g class=\"point\"><path d=\"M442.53,420V84.63H443.88V420Z\" style=\"vector-effect: non-scaling-stroke; opacity: 1; stroke-width: 0px; fill: rgb(51, 12, 115); fill-opacity: 1;\"/></g><g class=\"point\"><path d=\"M445.87,420V131H447.22V420Z\" style=\"vector-effect: non-scaling-stroke; opacity: 1; stroke-width: 0px; fill: rgb(51, 12, 115); fill-opacity: 1;\"/></g><g class=\"point\"><path d=\"M449.21,420V48.5H450.56V420Z\" style=\"vector-effect: non-scaling-stroke; opacity: 1; stroke-width: 0px; fill: rgb(51, 12, 115); fill-opacity: 1;\"/></g><g class=\"point\"><path d=\"M452.55,420V102.8H453.9V420Z\" style=\"vector-effect: non-scaling-stroke; opacity: 1; stroke-width: 0px; fill: rgb(51, 12, 115); fill-opacity: 1;\"/></g><g class=\"point\"><path d=\"M455.89,420V155.71H457.24V420Z\" style=\"vector-effect: non-scaling-stroke; opacity: 1; stroke-width: 0px; fill: rgb(51, 12, 115); fill-opacity: 1;\"/></g><g class=\"point\"><path d=\"M459.23,420V72.74H460.58V420Z\" style=\"vector-effect: non-scaling-stroke; opacity: 1; stroke-width: 0px; fill: rgb(51, 12, 115); fill-opacity: 1;\"/></g><g class=\"point\"><path d=\"M462.57,420V35.92H463.92V420Z\" style=\"vector-effect: non-scaling-stroke; opacity: 1; stroke-width: 0px; fill: rgb(51, 12, 115); fill-opacity: 1;\"/></g><g class=\"point\"><path d=\"M465.91,420V99.31H467.26V420Z\" style=\"vector-effect: non-scaling-stroke; opacity: 1; stroke-width: 0px; fill: rgb(51, 12, 115); fill-opacity: 1;\"/></g><g class=\"point\"><path d=\"M469.24,420V116.32H470.6V420Z\" style=\"vector-effect: non-scaling-stroke; opacity: 1; stroke-width: 0px; fill: rgb(51, 12, 115); fill-opacity: 1;\"/></g><g class=\"point\"><path d=\"M472.58,420V119.12H473.94V420Z\" style=\"vector-effect: non-scaling-stroke; opacity: 1; stroke-width: 0px; fill: rgb(51, 12, 115); fill-opacity: 1;\"/></g><g class=\"point\"><path d=\"M475.92,420V148.72H477.28V420Z\" style=\"vector-effect: non-scaling-stroke; opacity: 1; stroke-width: 0px; fill: rgb(51, 12, 115); fill-opacity: 1;\"/></g><g class=\"point\"><path d=\"M479.26,420V71.34H480.62V420Z\" style=\"vector-effect: non-scaling-stroke; opacity: 1; stroke-width: 0px; fill: rgb(51, 12, 115); fill-opacity: 1;\"/></g><g class=\"point\"><path d=\"M482.6,420V184.38H483.95V420Z\" style=\"vector-effect: non-scaling-stroke; opacity: 1; stroke-width: 0px; fill: rgb(51, 12, 115); fill-opacity: 1;\"/></g><g class=\"point\"><path d=\"M485.94,420V100.47H487.29V420Z\" style=\"vector-effect: non-scaling-stroke; opacity: 1; stroke-width: 0px; fill: rgb(51, 12, 115); fill-opacity: 1;\"/></g><g class=\"point\"><path d=\"M489.28,420V191.37H490.63V420Z\" style=\"vector-effect: non-scaling-stroke; opacity: 1; stroke-width: 0px; fill: rgb(51, 12, 115); fill-opacity: 1;\"/></g><g class=\"point\"><path d=\"M492.62,420V106.07H493.97V420Z\" style=\"vector-effect: non-scaling-stroke; opacity: 1; stroke-width: 0px; fill: rgb(51, 12, 115); fill-opacity: 1;\"/></g><g class=\"point\"><path d=\"M495.96,420V186.01H497.31V420Z\" style=\"vector-effect: non-scaling-stroke; opacity: 1; stroke-width: 0px; fill: rgb(51, 12, 115); fill-opacity: 1;\"/></g><g class=\"point\"><path d=\"M499.3,420V110.03H500.65V420Z\" style=\"vector-effect: non-scaling-stroke; opacity: 1; stroke-width: 0px; fill: rgb(51, 12, 115); fill-opacity: 1;\"/></g><g class=\"point\"><path d=\"M502.64,420V157.34H503.99V420Z\" style=\"vector-effect: non-scaling-stroke; opacity: 1; stroke-width: 0px; fill: rgb(51, 12, 115); fill-opacity: 1;\"/></g><g class=\"point\"><path d=\"M505.98,420V186.94H507.33V420Z\" style=\"vector-effect: non-scaling-stroke; opacity: 1; stroke-width: 0px; fill: rgb(51, 12, 115); fill-opacity: 1;\"/></g><g class=\"point\"><path d=\"M509.32,420V162H510.67V420Z\" style=\"vector-effect: non-scaling-stroke; opacity: 1; stroke-width: 0px; fill: rgb(51, 12, 115); fill-opacity: 1;\"/></g><g class=\"point\"><path d=\"M512.66,420V242.41H514.01V420Z\" style=\"vector-effect: non-scaling-stroke; opacity: 1; stroke-width: 0px; fill: rgb(51, 12, 115); fill-opacity: 1;\"/></g><g class=\"point\"><path d=\"M515.99,420V69.48H517.35V420Z\" style=\"vector-effect: non-scaling-stroke; opacity: 1; stroke-width: 0px; fill: rgb(51, 12, 115); fill-opacity: 1;\"/></g><g class=\"point\"><path d=\"M519.33,420V246.6H520.69V420Z\" style=\"vector-effect: non-scaling-stroke; opacity: 1; stroke-width: 0px; fill: rgb(51, 12, 115); fill-opacity: 1;\"/></g><g class=\"point\"><path d=\"M522.67,420V206.75H524.03V420Z\" style=\"vector-effect: non-scaling-stroke; opacity: 1; stroke-width: 0px; fill: rgb(51, 12, 115); fill-opacity: 1;\"/></g><g class=\"point\"><path d=\"M526.01,420V194.4H527.37V420Z\" style=\"vector-effect: non-scaling-stroke; opacity: 1; stroke-width: 0px; fill: rgb(51, 12, 115); fill-opacity: 1;\"/></g><g class=\"point\"><path d=\"M529.35,420V273.64H530.7V420Z\" style=\"vector-effect: non-scaling-stroke; opacity: 1; stroke-width: 0px; fill: rgb(51, 12, 115); fill-opacity: 1;\"/></g><g class=\"point\"><path d=\"M532.69,420V220.73H534.04V420Z\" style=\"vector-effect: non-scaling-stroke; opacity: 1; stroke-width: 0px; fill: rgb(51, 12, 115); fill-opacity: 1;\"/></g><g class=\"point\"><path d=\"M536.03,420V270.84H537.38V420Z\" style=\"vector-effect: non-scaling-stroke; opacity: 1; stroke-width: 0px; fill: rgb(51, 12, 115); fill-opacity: 1;\"/></g><g class=\"point\"><path d=\"M539.37,420V244.97H540.72V420Z\" style=\"vector-effect: non-scaling-stroke; opacity: 1; stroke-width: 0px; fill: rgb(51, 12, 115); fill-opacity: 1;\"/></g><g class=\"point\"><path d=\"M542.71,420V263.15H544.06V420Z\" style=\"vector-effect: non-scaling-stroke; opacity: 1; stroke-width: 0px; fill: rgb(51, 12, 115); fill-opacity: 1;\"/></g><g class=\"point\"><path d=\"M546.05,420V287.16H547.4V420Z\" style=\"vector-effect: non-scaling-stroke; opacity: 1; stroke-width: 0px; fill: rgb(51, 12, 115); fill-opacity: 1;\"/></g><g class=\"point\"><path d=\"M549.39,420V247.3H550.74V420Z\" style=\"vector-effect: non-scaling-stroke; opacity: 1; stroke-width: 0px; fill: rgb(51, 12, 115); fill-opacity: 1;\"/></g><g class=\"point\"><path d=\"M552.73,420V333.3H554.08V420Z\" style=\"vector-effect: non-scaling-stroke; opacity: 1; stroke-width: 0px; fill: rgb(51, 12, 115); fill-opacity: 1;\"/></g><g class=\"point\"><path d=\"M556.07,420V342.86H557.42V420Z\" style=\"vector-effect: non-scaling-stroke; opacity: 1; stroke-width: 0px; fill: rgb(51, 12, 115); fill-opacity: 1;\"/></g><g class=\"point\"><path d=\"M559.41,420V231.45H560.76V420Z\" style=\"vector-effect: non-scaling-stroke; opacity: 1; stroke-width: 0px; fill: rgb(51, 12, 115); fill-opacity: 1;\"/></g><g class=\"point\"><path d=\"M562.74,420V361.97H564.1V420Z\" style=\"vector-effect: non-scaling-stroke; opacity: 1; stroke-width: 0px; fill: rgb(51, 12, 115); fill-opacity: 1;\"/></g><g class=\"point\"><path d=\"M566.08,420V294.15H567.44V420Z\" style=\"vector-effect: non-scaling-stroke; opacity: 1; stroke-width: 0px; fill: rgb(51, 12, 115); fill-opacity: 1;\"/></g><g class=\"point\"><path d=\"M569.42,420V361.97H570.78V420Z\" style=\"vector-effect: non-scaling-stroke; opacity: 1; stroke-width: 0px; fill: rgb(51, 12, 115); fill-opacity: 1;\"/></g><g class=\"point\"><path d=\"M572.76,420V288.09H574.12V420Z\" style=\"vector-effect: non-scaling-stroke; opacity: 1; stroke-width: 0px; fill: rgb(51, 12, 115); fill-opacity: 1;\"/></g><g class=\"point\"><path d=\"M576.1,420V311.63H577.45V420Z\" style=\"vector-effect: non-scaling-stroke; opacity: 1; stroke-width: 0px; fill: rgb(51, 12, 115); fill-opacity: 1;\"/></g><g class=\"point\"><path d=\"M579.44,420V307.66H580.79V420Z\" style=\"vector-effect: non-scaling-stroke; opacity: 1; stroke-width: 0px; fill: rgb(51, 12, 115); fill-opacity: 1;\"/></g><g class=\"point\"><path d=\"M582.78,420V363.37H584.13V420Z\" style=\"vector-effect: non-scaling-stroke; opacity: 1; stroke-width: 0px; fill: rgb(51, 12, 115); fill-opacity: 1;\"/></g><g class=\"point\"><path d=\"M586.12,420V364.07H587.47V420Z\" style=\"vector-effect: non-scaling-stroke; opacity: 1; stroke-width: 0px; fill: rgb(51, 12, 115); fill-opacity: 1;\"/></g><g class=\"point\"><path d=\"M589.46,420V360.57H590.81V420Z\" style=\"vector-effect: non-scaling-stroke; opacity: 1; stroke-width: 0px; fill: rgb(51, 12, 115); fill-opacity: 1;\"/></g><g class=\"point\"><path d=\"M592.8,420V343.32H594.15V420Z\" style=\"vector-effect: non-scaling-stroke; opacity: 1; stroke-width: 0px; fill: rgb(51, 12, 115); fill-opacity: 1;\"/></g><g class=\"point\"><path d=\"M596.14,420V371.06H597.49V420Z\" style=\"vector-effect: non-scaling-stroke; opacity: 1; stroke-width: 0px; fill: rgb(51, 12, 115); fill-opacity: 1;\"/></g><g class=\"point\"><path d=\"M599.48,420V378.98H600.83V420Z\" style=\"vector-effect: non-scaling-stroke; opacity: 1; stroke-width: 0px; fill: rgb(51, 12, 115); fill-opacity: 1;\"/></g><g class=\"point\"><path d=\"M602.82,420V371.29H604.17V420Z\" style=\"vector-effect: non-scaling-stroke; opacity: 1; stroke-width: 0px; fill: rgb(51, 12, 115); fill-opacity: 1;\"/></g><g class=\"point\"><path d=\"M606.16,420V375.95H607.51V420Z\" style=\"vector-effect: non-scaling-stroke; opacity: 1; stroke-width: 0px; fill: rgb(51, 12, 115); fill-opacity: 1;\"/></g><g class=\"point\"><path d=\"M609.49,420V393.43H610.85V420Z\" style=\"vector-effect: non-scaling-stroke; opacity: 1; stroke-width: 0px; fill: rgb(51, 12, 115); fill-opacity: 1;\"/></g><g class=\"point\"><path d=\"M612.83,420V394.83H614.19V420Z\" style=\"vector-effect: non-scaling-stroke; opacity: 1; stroke-width: 0px; fill: rgb(51, 12, 115); fill-opacity: 1;\"/></g><g class=\"point\"><path d=\"M616.17,420V402.75H617.53V420Z\" style=\"vector-effect: non-scaling-stroke; opacity: 1; stroke-width: 0px; fill: rgb(51, 12, 115); fill-opacity: 1;\"/></g><g class=\"point\"><path d=\"M619.51,420V410.21H620.87V420Z\" style=\"vector-effect: non-scaling-stroke; opacity: 1; stroke-width: 0px; fill: rgb(51, 12, 115); fill-opacity: 1;\"/></g><g class=\"point\"><path d=\"M622.85,420V349.85H624.2V420Z\" style=\"vector-effect: non-scaling-stroke; opacity: 1; stroke-width: 0px; fill: rgb(51, 12, 115); fill-opacity: 1;\"/></g><g class=\"point\"><path d=\"M626.19,420V401.36H627.54V420Z\" style=\"vector-effect: non-scaling-stroke; opacity: 1; stroke-width: 0px; fill: rgb(51, 12, 115); fill-opacity: 1;\"/></g><g class=\"point\"><path d=\"M629.53,420V398.56H630.88V420Z\" style=\"vector-effect: non-scaling-stroke; opacity: 1; stroke-width: 0px; fill: rgb(51, 12, 115); fill-opacity: 1;\"/></g><g class=\"point\"><path d=\"M632.87,420V375.72H634.22V420Z\" style=\"vector-effect: non-scaling-stroke; opacity: 1; stroke-width: 0px; fill: rgb(51, 12, 115); fill-opacity: 1;\"/></g><g class=\"point\"><path d=\"M636.21,420V402.29H637.56V420Z\" style=\"vector-effect: non-scaling-stroke; opacity: 1; stroke-width: 0px; fill: rgb(51, 12, 115); fill-opacity: 1;\"/></g><g class=\"point\"><path d=\"M639.55,420V402.99H640.9V420Z\" style=\"vector-effect: non-scaling-stroke; opacity: 1; stroke-width: 0px; fill: rgb(51, 12, 115); fill-opacity: 1;\"/></g><g class=\"point\"><path d=\"M642.89,420V411.61H644.24V420Z\" style=\"vector-effect: non-scaling-stroke; opacity: 1; stroke-width: 0px; fill: rgb(51, 12, 115); fill-opacity: 1;\"/></g><g class=\"point\"><path d=\"M646.23,420V406.95H647.58V420Z\" style=\"vector-effect: non-scaling-stroke; opacity: 1; stroke-width: 0px; fill: rgb(51, 12, 115); fill-opacity: 1;\"/></g><g class=\"point\"><path d=\"M649.57,420V403.69H650.92V420Z\" style=\"vector-effect: non-scaling-stroke; opacity: 1; stroke-width: 0px; fill: rgb(51, 12, 115); fill-opacity: 1;\"/></g><g class=\"point\"><path d=\"M652.91,420V417.9H654.26V420Z\" style=\"vector-effect: non-scaling-stroke; opacity: 1; stroke-width: 0px; fill: rgb(51, 12, 115); fill-opacity: 1;\"/></g><g class=\"point\"><path d=\"M656.24,420V414.87H657.6V420Z\" style=\"vector-effect: non-scaling-stroke; opacity: 1; stroke-width: 0px; fill: rgb(51, 12, 115); fill-opacity: 1;\"/></g><g class=\"point\"><path d=\"M659.58,420V418.6H660.94V420Z\" style=\"vector-effect: non-scaling-stroke; opacity: 1; stroke-width: 0px; fill: rgb(51, 12, 115); fill-opacity: 1;\"/></g><g class=\"point\"><path d=\"M662.92,420V411.84H664.28V420Z\" style=\"vector-effect: non-scaling-stroke; opacity: 1; stroke-width: 0px; fill: rgb(51, 12, 115); fill-opacity: 1;\"/></g><g class=\"point\"><path d=\"M666.26,420V402.99H667.62V420Z\" style=\"vector-effect: non-scaling-stroke; opacity: 1; stroke-width: 0px; fill: rgb(51, 12, 115); fill-opacity: 1;\"/></g><g class=\"point\"><path d=\"M669.6,420V412.08H670.95V420Z\" style=\"vector-effect: non-scaling-stroke; opacity: 1; stroke-width: 0px; fill: rgb(51, 12, 115); fill-opacity: 1;\"/></g><g class=\"point\"><path d=\"M672.94,420V416.04H674.29V420Z\" style=\"vector-effect: non-scaling-stroke; opacity: 1; stroke-width: 0px; fill: rgb(51, 12, 115); fill-opacity: 1;\"/></g><g class=\"point\"><path d=\"M676.28,420V418.37H677.63V420Z\" style=\"vector-effect: non-scaling-stroke; opacity: 1; stroke-width: 0px; fill: rgb(51, 12, 115); fill-opacity: 1;\"/></g><g class=\"point\"><path d=\"M679.62,420V411.84H680.97V420Z\" style=\"vector-effect: non-scaling-stroke; opacity: 1; stroke-width: 0px; fill: rgb(51, 12, 115); fill-opacity: 1;\"/></g><g class=\"point\"><path d=\"M682.96,420V396.23H684.31V420Z\" style=\"vector-effect: non-scaling-stroke; opacity: 1; stroke-width: 0px; fill: rgb(51, 12, 115); fill-opacity: 1;\"/></g><g class=\"point\"><path d=\"M686.3,420V414.17H687.65V420Z\" style=\"vector-effect: non-scaling-stroke; opacity: 1; stroke-width: 0px; fill: rgb(51, 12, 115); fill-opacity: 1;\"/></g><g class=\"point\"><path d=\"M689.64,420V416.04H690.99V420Z\" style=\"vector-effect: non-scaling-stroke; opacity: 1; stroke-width: 0px; fill: rgb(51, 12, 115); fill-opacity: 1;\"/></g><g class=\"point\"><path d=\"M692.98,420V419.07H694.33V420Z\" style=\"vector-effect: non-scaling-stroke; opacity: 1; stroke-width: 0px; fill: rgb(51, 12, 115); fill-opacity: 1;\"/></g><g class=\"point\"><path d=\"M696.32,420V418.6H697.67V420Z\" style=\"vector-effect: non-scaling-stroke; opacity: 1; stroke-width: 0px; fill: rgb(51, 12, 115); fill-opacity: 1;\"/></g><g class=\"point\"><path d=\"M0,0Z\" style=\"vector-effect: non-scaling-stroke; opacity: 1; stroke-width: 0px; fill: rgb(51, 12, 115); fill-opacity: 1;\"/></g><g class=\"point\"><path d=\"M702.99,420V419.77H704.35V420Z\" style=\"vector-effect: non-scaling-stroke; opacity: 1; stroke-width: 0px; fill: rgb(51, 12, 115); fill-opacity: 1;\"/></g><g class=\"point\"><path d=\"M706.33,420V417.67H707.69V420Z\" style=\"vector-effect: non-scaling-stroke; opacity: 1; stroke-width: 0px; fill: rgb(51, 12, 115); fill-opacity: 1;\"/></g><g class=\"point\"><path d=\"M709.67,420V401.59H711.03V420Z\" style=\"vector-effect: non-scaling-stroke; opacity: 1; stroke-width: 0px; fill: rgb(51, 12, 115); fill-opacity: 1;\"/></g><g class=\"point\"><path d=\"M713.01,420V419.3H714.37V420Z\" style=\"vector-effect: non-scaling-stroke; opacity: 1; stroke-width: 0px; fill: rgb(51, 12, 115); fill-opacity: 1;\"/></g><g class=\"point\"><path d=\"M716.35,420V419.3H717.7V420Z\" style=\"vector-effect: non-scaling-stroke; opacity: 1; stroke-width: 0px; fill: rgb(51, 12, 115); fill-opacity: 1;\"/></g><g class=\"point\"><path d=\"M0,0Z\" style=\"vector-effect: non-scaling-stroke; opacity: 1; stroke-width: 0px; fill: rgb(51, 12, 115); fill-opacity: 1;\"/></g><g class=\"point\"><path d=\"M0,0Z\" style=\"vector-effect: non-scaling-stroke; opacity: 1; stroke-width: 0px; fill: rgb(51, 12, 115); fill-opacity: 1;\"/></g><g class=\"point\"><path d=\"M0,0Z\" style=\"vector-effect: non-scaling-stroke; opacity: 1; stroke-width: 0px; fill: rgb(51, 12, 115); fill-opacity: 1;\"/></g><g class=\"point\"><path d=\"M0,0Z\" style=\"vector-effect: non-scaling-stroke; opacity: 1; stroke-width: 0px; fill: rgb(51, 12, 115); fill-opacity: 1;\"/></g><g class=\"point\"><path d=\"M0,0Z\" style=\"vector-effect: non-scaling-stroke; opacity: 1; stroke-width: 0px; fill: rgb(51, 12, 115); fill-opacity: 1;\"/></g><g class=\"point\"><path d=\"M0,0Z\" style=\"vector-effect: non-scaling-stroke; opacity: 1; stroke-width: 0px; fill: rgb(51, 12, 115); fill-opacity: 1;\"/></g><g class=\"point\"><path d=\"M739.73,420V419.77H741.08V420Z\" style=\"vector-effect: non-scaling-stroke; opacity: 1; stroke-width: 0px; fill: rgb(51, 12, 115); fill-opacity: 1;\"/></g><g class=\"point\"><path d=\"M0,0Z\" style=\"vector-effect: non-scaling-stroke; opacity: 1; stroke-width: 0px; fill: rgb(51, 12, 115); fill-opacity: 1;\"/></g><g class=\"point\"><path d=\"M746.41,420V419.77H747.76V420Z\" style=\"vector-effect: non-scaling-stroke; opacity: 1; stroke-width: 0px; fill: rgb(51, 12, 115); fill-opacity: 1;\"/></g></g></g></g></g><g class=\"overplot\"/><path class=\"xlines-above crisp\" d=\"M0,0\" style=\"fill: none;\"/><path class=\"ylines-above crisp\" d=\"M0,0\" style=\"fill: none;\"/><g class=\"overlines-above\"/><g class=\"xaxislayer-above\"><g class=\"xtick\"><text text-anchor=\"middle\" x=\"0\" y=\"533\" transform=\"translate(106.71000000000001,0)\" style=\"font-family: 'Open Sans', verdana, arial, sans-serif; font-size: 12px; fill: rgb(42, 63, 95); fill-opacity: 1; white-space: pre; opacity: 1;\">10</text></g><g class=\"xtick\"><text text-anchor=\"middle\" x=\"0\" y=\"533\" style=\"font-family: 'Open Sans', verdana, arial, sans-serif; font-size: 12px; fill: rgb(42, 63, 95); fill-opacity: 1; white-space: pre; opacity: 1;\" transform=\"translate(273.68,0)\">15</text></g><g class=\"xtick\"><text text-anchor=\"middle\" x=\"0\" y=\"533\" style=\"font-family: 'Open Sans', verdana, arial, sans-serif; font-size: 12px; fill: rgb(42, 63, 95); fill-opacity: 1; white-space: pre; opacity: 1;\" transform=\"translate(440.64,0)\">20</text></g><g class=\"xtick\"><text text-anchor=\"middle\" x=\"0\" y=\"533\" style=\"font-family: 'Open Sans', verdana, arial, sans-serif; font-size: 12px; fill: rgb(42, 63, 95); fill-opacity: 1; white-space: pre; opacity: 1;\" transform=\"translate(607.61,0)\">25</text></g><g class=\"xtick\"><text text-anchor=\"middle\" x=\"0\" y=\"533\" style=\"font-family: 'Open Sans', verdana, arial, sans-serif; font-size: 12px; fill: rgb(42, 63, 95); fill-opacity: 1; white-space: pre; opacity: 1;\" transform=\"translate(774.57,0)\">30</text></g></g><g class=\"yaxislayer-above\"><g class=\"ytick\"><text text-anchor=\"end\" x=\"79\" y=\"4.199999999999999\" transform=\"translate(0,520)\" style=\"font-family: 'Open Sans', verdana, arial, sans-serif; font-size: 12px; fill: rgb(42, 63, 95); fill-opacity: 1; white-space: pre; opacity: 1;\">0</text></g><g class=\"ytick\"><text text-anchor=\"end\" x=\"79\" y=\"4.199999999999999\" style=\"font-family: 'Open Sans', verdana, arial, sans-serif; font-size: 12px; fill: rgb(42, 63, 95); fill-opacity: 1; white-space: pre; opacity: 1;\" transform=\"translate(0,473.39)\">200</text></g><g class=\"ytick\"><text text-anchor=\"end\" x=\"79\" y=\"4.199999999999999\" style=\"font-family: 'Open Sans', verdana, arial, sans-serif; font-size: 12px; fill: rgb(42, 63, 95); fill-opacity: 1; white-space: pre; opacity: 1;\" transform=\"translate(0,426.78)\">400</text></g><g class=\"ytick\"><text text-anchor=\"end\" x=\"79\" y=\"4.199999999999999\" style=\"font-family: 'Open Sans', verdana, arial, sans-serif; font-size: 12px; fill: rgb(42, 63, 95); fill-opacity: 1; white-space: pre; opacity: 1;\" transform=\"translate(0,380.16)\">600</text></g><g class=\"ytick\"><text text-anchor=\"end\" x=\"79\" y=\"4.199999999999999\" style=\"font-family: 'Open Sans', verdana, arial, sans-serif; font-size: 12px; fill: rgb(42, 63, 95); fill-opacity: 1; white-space: pre; opacity: 1;\" transform=\"translate(0,333.55)\">800</text></g><g class=\"ytick\"><text text-anchor=\"end\" x=\"79\" y=\"4.199999999999999\" style=\"font-family: 'Open Sans', verdana, arial, sans-serif; font-size: 12px; fill: rgb(42, 63, 95); fill-opacity: 1; white-space: pre; opacity: 1;\" transform=\"translate(0,286.94)\">1000</text></g><g class=\"ytick\"><text text-anchor=\"end\" x=\"79\" y=\"4.199999999999999\" style=\"font-family: 'Open Sans', verdana, arial, sans-serif; font-size: 12px; fill: rgb(42, 63, 95); fill-opacity: 1; white-space: pre; opacity: 1;\" transform=\"translate(0,240.33)\">1200</text></g><g class=\"ytick\"><text text-anchor=\"end\" x=\"79\" y=\"4.199999999999999\" style=\"font-family: 'Open Sans', verdana, arial, sans-serif; font-size: 12px; fill: rgb(42, 63, 95); fill-opacity: 1; white-space: pre; opacity: 1;\" transform=\"translate(0,193.70999999999998)\">1400</text></g><g class=\"ytick\"><text text-anchor=\"end\" x=\"79\" y=\"4.199999999999999\" style=\"font-family: 'Open Sans', verdana, arial, sans-serif; font-size: 12px; fill: rgb(42, 63, 95); fill-opacity: 1; white-space: pre; opacity: 1;\" transform=\"translate(0,147.1)\">1600</text></g><g class=\"ytick\"><text text-anchor=\"end\" x=\"79\" y=\"4.199999999999999\" style=\"font-family: 'Open Sans', verdana, arial, sans-serif; font-size: 12px; fill: rgb(42, 63, 95); fill-opacity: 1; white-space: pre; opacity: 1;\" transform=\"translate(0,100.49)\">1800</text></g></g><g class=\"overaxes-above\"/></g></g><g class=\"polarlayer\"/><g class=\"smithlayer\"/><g class=\"ternarylayer\"/><g class=\"geolayer\"/><g class=\"funnelarealayer\"/><g class=\"pielayer\"/><g class=\"iciclelayer\"/><g class=\"treemaplayer\"/><g class=\"sunburstlayer\"/><g class=\"glimages\"/><defs id=\"topdefs-d4b918\"><g class=\"clips\"/><clipPath id=\"legendd4b918\"><rect width=\"145\" height=\"48\" x=\"0\" y=\"0\"/></clipPath></defs><g class=\"layer-above\"><g class=\"imagelayer\"/><g class=\"shapelayer\"><path data-index=\"0\" fill-rule=\"evenodd\" d=\"M307.07,520L307.07,100\" clip-path=\"url(#clipd4b918x)\" style=\"opacity: 1; stroke: rgb(0, 128, 0); stroke-opacity: 1; fill: rgb(0, 0, 0); fill-opacity: 0; stroke-dasharray: 9px, 9px; stroke-width: 2px;\"/><path data-index=\"1\" fill-rule=\"evenodd\" d=\"M607.61,520L607.61,100\" clip-path=\"url(#clipd4b918x)\" style=\"opacity: 1; stroke: rgb(0, 128, 0); stroke-opacity: 1; fill: rgb(0, 0, 0); fill-opacity: 0; stroke-dasharray: 9px, 9px; stroke-width: 2px;\"/></g></g><g class=\"infolayer\"><g class=\"legend\" pointer-events=\"all\" transform=\"translate(842.96,100)\"><rect class=\"bg\" shape-rendering=\"crispEdges\" width=\"145\" height=\"48\" x=\"0\" y=\"0\" style=\"stroke: rgb(68, 68, 68); stroke-opacity: 1; fill: rgb(255, 255, 255); fill-opacity: 1; stroke-width: 0px;\"/><g class=\"scrollbox\" transform=\"\" clip-path=\"url(#legendd4b918)\"><g class=\"groups\"><g class=\"traces\" transform=\"translate(0,14.5)\" style=\"opacity: 1;\"><text class=\"legendtext\" text-anchor=\"start\" x=\"40\" y=\"4.680000000000001\" style=\"font-family: 'Open Sans', verdana, arial, sans-serif; font-size: 12px; fill: rgb(42, 63, 95); fill-opacity: 1; white-space: pre;\">First Day Delay</text><g class=\"layers\" style=\"opacity: 0.75;\"><g class=\"legendfill\"/><g class=\"legendlines\"/><g class=\"legendsymbols\"><g class=\"legendpoints\"><path class=\"legendundefined\" d=\"M6,6H-6V-6H6Z\" transform=\"translate(20,0)\" style=\"stroke-width: 0px; fill: rgb(235, 137, 181); fill-opacity: 1;\"/></g></g></g><rect class=\"legendtoggle\" x=\"0\" y=\"-9.5\" width=\"139.390625\" height=\"19\" style=\"fill: rgb(0, 0, 0); fill-opacity: 0;\"/></g><g class=\"traces\" transform=\"translate(0,33.5)\" style=\"opacity: 1;\"><text class=\"legendtext\" text-anchor=\"start\" x=\"40\" y=\"4.680000000000001\" style=\"font-family: 'Open Sans', verdana, arial, sans-serif; font-size: 12px; fill: rgb(42, 63, 95); fill-opacity: 1; white-space: pre;\">Second Day Delay</text><g class=\"layers\" style=\"opacity: 0.75;\"><g class=\"legendfill\"/><g class=\"legendlines\"/><g class=\"legendsymbols\"><g class=\"legendpoints\"><path class=\"legendundefined\" d=\"M6,6H-6V-6H6Z\" transform=\"translate(20,0)\" style=\"stroke-width: 0px; fill: rgb(51, 12, 115); fill-opacity: 1;\"/></g></g></g><rect class=\"legendtoggle\" x=\"0\" y=\"-9.5\" width=\"139.390625\" height=\"19\" style=\"fill: rgb(0, 0, 0); fill-opacity: 0;\"/></g></g></g><rect class=\"scrollbar\" rx=\"20\" ry=\"3\" width=\"0\" height=\"0\" x=\"0\" y=\"0\" style=\"fill: rgb(128, 139, 164); fill-opacity: 1;\"/></g><g class=\"g-gtitle\"><text class=\"gtitle\" x=\"50\" y=\"50\" text-anchor=\"start\" dy=\"0em\" style=\"font-family: 'Open Sans', verdana, arial, sans-serif; font-size: 17px; fill: rgb(42, 63, 95); opacity: 1; font-weight: normal; white-space: pre;\">Arrival delays for the case of two separate late-arriving students</text></g><g class=\"g-xtitle\"><text class=\"xtitle\" x=\"454\" y=\"560.8\" text-anchor=\"middle\" style=\"font-family: 'Open Sans', verdana, arial, sans-serif; font-size: 14px; fill: rgb(42, 63, 95); opacity: 1; font-weight: normal; white-space: pre;\">Delay time</text></g><g class=\"g-ytitle\"><text class=\"ytitle\" transform=\"rotate(-90,27.496875000000003,310)\" x=\"27.496875000000003\" y=\"310\" text-anchor=\"middle\" style=\"font-family: 'Open Sans', verdana, arial, sans-serif; font-size: 14px; fill: rgb(42, 63, 95); opacity: 1; font-weight: normal; white-space: pre;\">Count</text></g><g class=\"annotation\" data-index=\"0\" style=\"opacity: 1;\"><g class=\"annotation-text-g\" transform=\"rotate(0,257.07,109)\"><g class=\"cursor-pointer\" transform=\"translate(207,100)\"><rect class=\"bg\" x=\"0.5\" y=\"0.5\" width=\"99\" height=\"17\" style=\"stroke-width: 1px; stroke: rgb(0, 0, 0); stroke-opacity: 0; fill: rgb(0, 0, 0); fill-opacity: 0;\"/><text class=\"annotation-text\" text-anchor=\"middle\" x=\"50.03125\" y=\"13\" style=\"font-family: 'Open Sans', verdana, arial, sans-serif; font-size: 12px; fill: rgb(42, 63, 95); fill-opacity: 1; white-space: pre;\">Observed Delay 1</text></g></g></g><g class=\"annotation\" data-index=\"1\" style=\"opacity: 1;\"><g class=\"annotation-text-g\" transform=\"rotate(0,657.61,109)\"><g class=\"cursor-pointer\" transform=\"translate(608,100)\"><rect class=\"bg\" x=\"0.5\" y=\"0.5\" width=\"99\" height=\"17\" style=\"stroke-width: 1px; stroke: rgb(0, 0, 0); stroke-opacity: 0; fill: rgb(0, 0, 0); fill-opacity: 0;\"/><text class=\"annotation-text\" text-anchor=\"middle\" x=\"50.03125\" y=\"13\" style=\"font-family: 'Open Sans', verdana, arial, sans-serif; font-size: 12px; fill: rgb(42, 63, 95); fill-opacity: 1; white-space: pre;\">Observed Delay 2</text></g></g></g></g></svg>"
     },
     "metadata": {}
    }
   ]
  },
  {
   "cell_type": "markdown",
   "source": [
    "### (iv)"
   ],
   "metadata": {
    "id": "BuOHAmtkT9TT"
   }
  },
  {
   "cell_type": "markdown",
   "source": [
    "A common method for estimating the lag uses autocorrelation function. We empirically compute $\\operatorname{Auto}\\left(X_i, X_j\\right)$ for different lag values. The goal is to find the value where the autocorrelation is equal to $0$.\n",
    "\n",
    "To define the autocorrelation function we will refer to the formula from the slides:\n",
    "\n",
    "$\\operatorname{Auto}\\left(X_i, X_j\\right):= \\frac{\\mathbb{E}\\left[\\left(X_i-\\mu_i\\right)\\left(X_j-\\mu_j\\right)\\right]}{\\sigma_i \\sigma_j}$"
   ],
   "metadata": {
    "id": "cMoHY04IWsfF"
   }
  },
  {
   "cell_type": "code",
   "source": [
    "def autocorrelation(samples, lag, mu, sigma):\n",
    "  # Calculates the autocorrelation of the samples at a given lag, mu, sigma\n",
    "  \n",
    "  autocorr = np.mean([(samples[t] - mu) * (samples[t+lag] - mu) for t in range(len(samples) - lag)]) / (sigma ** 2)\n",
    "  \n",
    "  return autocorr"
   ],
   "metadata": {
    "id": "DsFen8RvWiIR"
   },
   "execution_count": 56,
   "outputs": []
  },
  {
   "cell_type": "code",
   "source": [
    "samples = np.array(vs)\n",
    "\n",
    "# Calculate the mean and standard deviation of the samples\n",
    "mu = np.mean(samples)\n",
    "sigma = np.std(samples)"
   ],
   "metadata": {
    "id": "PNVAKpeEYuXe"
   },
   "execution_count": 57,
   "outputs": []
  },
  {
   "cell_type": "code",
   "source": [
    "lags = range(1, len(samples) // 1000)\n",
    "autocorrs = [autocorrelation(samples, lag, mu, sigma) for lag in lags]\n",
    "fig = px.line(x = lags, y= autocorrs, title=\"Autocorrelation function for different lags\")\n",
    "fig.update_layout(\n",
    " xaxis_title_text='L', \n",
    " yaxis_title_text='Autocorrelation'\n",
    ")\n",
    "fig.show()"
   ],
   "metadata": {
    "colab": {
     "base_uri": "https://localhost:8080/",
     "height": 522
    },
    "id": "Vd_YLRtoaF_f",
    "outputId": "5e78c528-ea6f-4386-f894-3134f790aa9b"
   },
   "execution_count": 58,
   "outputs": [
    {
     "output_type": "display_data",
     "data": {
      "image/svg+xml": "<svg class=\"main-svg\" xmlns=\"http://www.w3.org/2000/svg\" xmlns:xlink=\"http://www.w3.org/1999/xlink\" width=\"700\" height=\"500\" style=\"\" viewBox=\"0 0 700 500\"><rect x=\"0\" y=\"0\" width=\"700\" height=\"500\" style=\"fill: rgb(255, 255, 255); fill-opacity: 1;\"/><defs id=\"defs-c0952e\"><g class=\"clips\"><clipPath id=\"clipc0952exyplot\" class=\"plotclip\"><rect width=\"540\" height=\"320\"/></clipPath><clipPath class=\"axesclip\" id=\"clipc0952ex\"><rect x=\"80\" y=\"0\" width=\"540\" height=\"500\"/></clipPath><clipPath class=\"axesclip\" id=\"clipc0952ey\"><rect x=\"0\" y=\"100\" width=\"700\" height=\"320\"/></clipPath><clipPath class=\"axesclip\" id=\"clipc0952exy\"><rect x=\"80\" y=\"100\" width=\"540\" height=\"320\"/></clipPath></g><g class=\"gradients\"/><g class=\"patterns\"/></defs><g class=\"bglayer\"><rect class=\"bg\" x=\"80\" y=\"100\" width=\"540\" height=\"320\" style=\"fill: rgb(229, 236, 246); fill-opacity: 1; stroke-width: 0;\"/></g><g class=\"layer-below\"><g class=\"imagelayer\"/><g class=\"shapelayer\"/></g><g class=\"cartesianlayer\"><g class=\"subplot xy\"><g class=\"layer-subplot\"><g class=\"shapelayer\"/><g class=\"imagelayer\"/></g><g class=\"gridlayer\"><g class=\"x\"><path class=\"xgrid crisp\" transform=\"translate(184.69,0)\" d=\"M0,100v320\" style=\"stroke: rgb(255, 255, 255); stroke-opacity: 1; stroke-width: 1px;\"/><path class=\"xgrid crisp\" transform=\"translate(294.9,0)\" d=\"M0,100v320\" style=\"stroke: rgb(255, 255, 255); stroke-opacity: 1; stroke-width: 1px;\"/><path class=\"xgrid crisp\" transform=\"translate(405.1,0)\" d=\"M0,100v320\" style=\"stroke: rgb(255, 255, 255); stroke-opacity: 1; stroke-width: 1px;\"/><path class=\"xgrid crisp\" transform=\"translate(515.31,0)\" d=\"M0,100v320\" style=\"stroke: rgb(255, 255, 255); stroke-opacity: 1; stroke-width: 1px;\"/></g><g class=\"y\"><path class=\"ygrid crisp\" transform=\"translate(0,337.11)\" d=\"M80,0h540\" style=\"stroke: rgb(255, 255, 255); stroke-opacity: 1; stroke-width: 1px;\"/><path class=\"ygrid crisp\" transform=\"translate(0,269.64)\" d=\"M80,0h540\" style=\"stroke: rgb(255, 255, 255); stroke-opacity: 1; stroke-width: 1px;\"/><path class=\"ygrid crisp\" transform=\"translate(0,202.16)\" d=\"M80,0h540\" style=\"stroke: rgb(255, 255, 255); stroke-opacity: 1; stroke-width: 1px;\"/><path class=\"ygrid crisp\" transform=\"translate(0,134.68)\" d=\"M80,0h540\" style=\"stroke: rgb(255, 255, 255); stroke-opacity: 1; stroke-width: 1px;\"/></g></g><g class=\"zerolinelayer\"><path class=\"yzl zl crisp\" transform=\"translate(0,404.59)\" d=\"M80,0h540\" style=\"stroke: rgb(255, 255, 255); stroke-opacity: 1; stroke-width: 2px;\"/></g><path class=\"xlines-below\"/><path class=\"ylines-below\"/><g class=\"overlines-below\"/><g class=\"xaxislayer-below\"/><g class=\"yaxislayer-below\"/><g class=\"overaxes-below\"/><g class=\"plot\" transform=\"translate(80,100)\" clip-path=\"url(#clipc0952exyplot)\"><g class=\"scatterlayer mlayer\"><g class=\"trace scatter traceb717c4\" style=\"stroke-miterlimit: 2; opacity: 1;\"><g class=\"fills\"/><g class=\"errorbars\"/><g class=\"lines\"><path class=\"js-line\" d=\"M0,16L5.51,57.85L11.02,93.91L16.53,124.07L22.04,149.54L27.55,170.71L33.06,188.75L44.08,216.83L49.59,228.07L60.61,245.56L66.12,252.24L77.14,262.68L82.65,267.24L88.16,270.43L93.67,272.5L121.22,283.2L126.73,284.82L148.78,288.77L154.29,290.19L165.31,292.72L170.82,293.68L181.84,296.45L187.35,297.25L214.9,298.79L220.41,298.71L247.96,299.14L253.47,299.75L270,300.9L275.51,300.4L286.53,299.75L292.04,299.71L308.57,299.1L314.08,299.55L352.65,301.64L358.16,301.68L396.73,303.61L402.24,303.65L418.78,303.6L424.29,303.63L451.84,301.96L457.35,302.5L468.37,303.34L473.88,303.45L490.41,303.78L495.92,303.66L512.45,304L517.96,303.57L540,302.08\" style=\"vector-effect: non-scaling-stroke; fill: none; stroke: rgb(99, 110, 250); stroke-opacity: 1; stroke-width: 2px; opacity: 1;\"/></g><g class=\"points\"/><g class=\"text\"/></g></g></g><g class=\"overplot\"/><path class=\"xlines-above crisp\" d=\"M0,0\" style=\"fill: none;\"/><path class=\"ylines-above crisp\" d=\"M0,0\" style=\"fill: none;\"/><g class=\"overlines-above\"/><g class=\"xaxislayer-above\"><g class=\"xtick\"><text text-anchor=\"middle\" x=\"0\" y=\"433\" transform=\"translate(184.69,0)\" style=\"font-family: 'Open Sans', verdana, arial, sans-serif; font-size: 12px; fill: rgb(42, 63, 95); fill-opacity: 1; white-space: pre; opacity: 1;\">20</text></g><g class=\"xtick\"><text text-anchor=\"middle\" x=\"0\" y=\"433\" style=\"font-family: 'Open Sans', verdana, arial, sans-serif; font-size: 12px; fill: rgb(42, 63, 95); fill-opacity: 1; white-space: pre; opacity: 1;\" transform=\"translate(294.9,0)\">40</text></g><g class=\"xtick\"><text text-anchor=\"middle\" x=\"0\" y=\"433\" style=\"font-family: 'Open Sans', verdana, arial, sans-serif; font-size: 12px; fill: rgb(42, 63, 95); fill-opacity: 1; white-space: pre; opacity: 1;\" transform=\"translate(405.1,0)\">60</text></g><g class=\"xtick\"><text text-anchor=\"middle\" x=\"0\" y=\"433\" style=\"font-family: 'Open Sans', verdana, arial, sans-serif; font-size: 12px; fill: rgb(42, 63, 95); fill-opacity: 1; white-space: pre; opacity: 1;\" transform=\"translate(515.31,0)\">80</text></g></g><g class=\"yaxislayer-above\"><g class=\"ytick\"><text text-anchor=\"end\" x=\"79\" y=\"4.199999999999999\" transform=\"translate(0,404.59)\" style=\"font-family: 'Open Sans', verdana, arial, sans-serif; font-size: 12px; fill: rgb(42, 63, 95); fill-opacity: 1; white-space: pre; opacity: 1;\">0</text></g><g class=\"ytick\"><text text-anchor=\"end\" x=\"79\" y=\"4.199999999999999\" style=\"font-family: 'Open Sans', verdana, arial, sans-serif; font-size: 12px; fill: rgb(42, 63, 95); fill-opacity: 1; white-space: pre; opacity: 1;\" transform=\"translate(0,337.11)\">0.2</text></g><g class=\"ytick\"><text text-anchor=\"end\" x=\"79\" y=\"4.199999999999999\" style=\"font-family: 'Open Sans', verdana, arial, sans-serif; font-size: 12px; fill: rgb(42, 63, 95); fill-opacity: 1; white-space: pre; opacity: 1;\" transform=\"translate(0,269.64)\">0.4</text></g><g class=\"ytick\"><text text-anchor=\"end\" x=\"79\" y=\"4.199999999999999\" style=\"font-family: 'Open Sans', verdana, arial, sans-serif; font-size: 12px; fill: rgb(42, 63, 95); fill-opacity: 1; white-space: pre; opacity: 1;\" transform=\"translate(0,202.16)\">0.6</text></g><g class=\"ytick\"><text text-anchor=\"end\" x=\"79\" y=\"4.199999999999999\" style=\"font-family: 'Open Sans', verdana, arial, sans-serif; font-size: 12px; fill: rgb(42, 63, 95); fill-opacity: 1; white-space: pre; opacity: 1;\" transform=\"translate(0,134.68)\">0.8</text></g></g><g class=\"overaxes-above\"/></g></g><g class=\"polarlayer\"/><g class=\"smithlayer\"/><g class=\"ternarylayer\"/><g class=\"geolayer\"/><g class=\"funnelarealayer\"/><g class=\"pielayer\"/><g class=\"iciclelayer\"/><g class=\"treemaplayer\"/><g class=\"sunburstlayer\"/><g class=\"glimages\"/><defs id=\"topdefs-c0952e\"><g class=\"clips\"/></defs><g class=\"layer-above\"><g class=\"imagelayer\"/><g class=\"shapelayer\"/></g><g class=\"infolayer\"><g class=\"g-gtitle\"><text class=\"gtitle\" x=\"35\" y=\"50\" text-anchor=\"start\" dy=\"0em\" style=\"font-family: 'Open Sans', verdana, arial, sans-serif; font-size: 17px; fill: rgb(42, 63, 95); opacity: 1; font-weight: normal; white-space: pre;\">Autocorrelation function for different lags</text></g><g class=\"g-xtitle\"><text class=\"xtitle\" x=\"350\" y=\"460.8\" text-anchor=\"middle\" style=\"font-family: 'Open Sans', verdana, arial, sans-serif; font-size: 14px; fill: rgb(42, 63, 95); opacity: 1; font-weight: normal; white-space: pre;\">L</text></g><g class=\"g-ytitle\"><text class=\"ytitle\" transform=\"rotate(-90,37.5125,260)\" x=\"37.5125\" y=\"260\" text-anchor=\"middle\" style=\"font-family: 'Open Sans', verdana, arial, sans-serif; font-size: 14px; fill: rgb(42, 63, 95); opacity: 1; font-weight: normal; white-space: pre;\">Autocorrelation</text></g></g></svg>"
     },
     "metadata": {}
    }
   ]
  },
  {
   "cell_type": "markdown",
   "source": [
    "The typical autocorrelation time is a measure of how long it takes for the autocorrelation to reach to zero (or very close to 0). It can be calculated by finding the lag value at which the autocorrelation drops below a certain threshold, such as 0.1 or 0.01."
   ],
   "metadata": {
    "id": "XjEe8rQ3a0Rx"
   }
  },
  {
   "cell_type": "code",
   "source": [
    "def typical_autocorrelation_time(autocorrs, threshold=0.1):\n",
    "  # Calculates the typical autocorrelation time of the samples\n",
    "    \n",
    "  # Find the first lag value at which the autocorrelation drops below the threshold\n",
    "  for i, autocorr in enumerate(autocorrs):\n",
    "    if np.abs(autocorr) < threshold:\n",
    "      return lags[i], i\n",
    "      \n",
    "  # If no lag value is below the threshold, return the maximum lag value\n",
    "  return lags[-1], len(lags)"
   ],
   "metadata": {
    "id": "mMH_mAZoazlV"
   },
   "execution_count": 59,
   "outputs": []
  },
  {
   "cell_type": "code",
   "source": [
    "threshold=0.01\n",
    "autocorr_value, autocorr_time = typical_autocorrelation_time(autocorrs, threshold=threshold)\n",
    "print(f\"The autocorrelation time with threshold {threshold} for this problem is: {autocorr_time}\")"
   ],
   "metadata": {
    "colab": {
     "base_uri": "https://localhost:8080/"
    },
    "id": "3c-tSq7dbiLh",
    "outputId": "07b14b6d-181e-48f7-a4ab-ae9b48c83803"
   },
   "execution_count": 62,
   "outputs": [
    {
     "output_type": "stream",
     "name": "stdout",
     "text": [
      "The autocorrelation time with threshold 0.01 for this problem is: 62\n"
     ]
    }
   ]
  },
  {
   "cell_type": "markdown",
   "source": [
    "Here we can check the same plot but with added autocorrelation time:"
   ],
   "metadata": {
    "id": "kKsPC8sJ3upq"
   }
  },
  {
   "cell_type": "code",
   "source": [
    "fig = px.line(x = lags, y= autocorrs, title=\"Autocorrelation function for different lags\")\n",
    "fig.update_layout(\n",
    " xaxis_title_text='L', \n",
    " yaxis_title_text='Autocorrelation'\n",
    ")\n",
    "fig.add_vline(x=autocorr_value, line_dash=\"dash\", line_color=\"green\", annotation_text=\"Autocorrelation time\", \n",
    "              annotation_position=\"top right\")\n",
    "fig.show()"
   ],
   "metadata": {
    "colab": {
     "base_uri": "https://localhost:8080/",
     "height": 522
    },
    "id": "lZeJh4iR3Tkv",
    "outputId": "9f83b709-b117-43c9-a1a4-ffcae59eac80"
   },
   "execution_count": 63,
   "outputs": [
    {
     "output_type": "display_data",
     "data": {
      "image/svg+xml": "<svg class=\"main-svg\" xmlns=\"http://www.w3.org/2000/svg\" xmlns:xlink=\"http://www.w3.org/1999/xlink\" width=\"700\" height=\"500\" style=\"\" viewBox=\"0 0 700 500\"><rect x=\"0\" y=\"0\" width=\"700\" height=\"500\" style=\"fill: rgb(255, 255, 255); fill-opacity: 1;\"/><defs id=\"defs-ce4567\"><g class=\"clips\"><clipPath id=\"clipce4567xyplot\" class=\"plotclip\"><rect width=\"540\" height=\"320\"/></clipPath><clipPath class=\"axesclip\" id=\"clipce4567x\"><rect x=\"80\" y=\"0\" width=\"540\" height=\"500\"/></clipPath><clipPath class=\"axesclip\" id=\"clipce4567y\"><rect x=\"0\" y=\"100\" width=\"700\" height=\"320\"/></clipPath><clipPath class=\"axesclip\" id=\"clipce4567xy\"><rect x=\"80\" y=\"100\" width=\"540\" height=\"320\"/></clipPath></g><g class=\"gradients\"/><g class=\"patterns\"/></defs><g class=\"bglayer\"><rect class=\"bg\" x=\"80\" y=\"100\" width=\"540\" height=\"320\" style=\"fill: rgb(229, 236, 246); fill-opacity: 1; stroke-width: 0;\"/></g><g class=\"layer-below\"><g class=\"imagelayer\"/><g class=\"shapelayer\"/></g><g class=\"cartesianlayer\"><g class=\"subplot xy\"><g class=\"layer-subplot\"><g class=\"shapelayer\"/><g class=\"imagelayer\"/></g><g class=\"gridlayer\"><g class=\"x\"><path class=\"xgrid crisp\" transform=\"translate(184.69,0)\" d=\"M0,100v320\" style=\"stroke: rgb(255, 255, 255); stroke-opacity: 1; stroke-width: 1px;\"/><path class=\"xgrid crisp\" transform=\"translate(294.9,0)\" d=\"M0,100v320\" style=\"stroke: rgb(255, 255, 255); stroke-opacity: 1; stroke-width: 1px;\"/><path class=\"xgrid crisp\" transform=\"translate(405.1,0)\" d=\"M0,100v320\" style=\"stroke: rgb(255, 255, 255); stroke-opacity: 1; stroke-width: 1px;\"/><path class=\"xgrid crisp\" transform=\"translate(515.31,0)\" d=\"M0,100v320\" style=\"stroke: rgb(255, 255, 255); stroke-opacity: 1; stroke-width: 1px;\"/></g><g class=\"y\"><path class=\"ygrid crisp\" transform=\"translate(0,337.11)\" d=\"M80,0h540\" style=\"stroke: rgb(255, 255, 255); stroke-opacity: 1; stroke-width: 1px;\"/><path class=\"ygrid crisp\" transform=\"translate(0,269.64)\" d=\"M80,0h540\" style=\"stroke: rgb(255, 255, 255); stroke-opacity: 1; stroke-width: 1px;\"/><path class=\"ygrid crisp\" transform=\"translate(0,202.16)\" d=\"M80,0h540\" style=\"stroke: rgb(255, 255, 255); stroke-opacity: 1; stroke-width: 1px;\"/><path class=\"ygrid crisp\" transform=\"translate(0,134.68)\" d=\"M80,0h540\" style=\"stroke: rgb(255, 255, 255); stroke-opacity: 1; stroke-width: 1px;\"/></g></g><g class=\"zerolinelayer\"><path class=\"yzl zl crisp\" transform=\"translate(0,404.59)\" d=\"M80,0h540\" style=\"stroke: rgb(255, 255, 255); stroke-opacity: 1; stroke-width: 2px;\"/></g><path class=\"xlines-below\"/><path class=\"ylines-below\"/><g class=\"overlines-below\"/><g class=\"xaxislayer-below\"/><g class=\"yaxislayer-below\"/><g class=\"overaxes-below\"/><g class=\"plot\" transform=\"translate(80,100)\" clip-path=\"url(#clipce4567xyplot)\"><g class=\"scatterlayer mlayer\"><g class=\"trace scatter trace59bd41\" style=\"stroke-miterlimit: 2; opacity: 1;\"><g class=\"fills\"/><g class=\"errorbars\"/><g class=\"lines\"><path class=\"js-line\" d=\"M0,16L5.51,57.85L11.02,93.91L16.53,124.07L22.04,149.54L27.55,170.71L33.06,188.75L44.08,216.83L49.59,228.07L60.61,245.56L66.12,252.24L77.14,262.68L82.65,267.24L88.16,270.43L93.67,272.5L121.22,283.2L126.73,284.82L148.78,288.77L154.29,290.19L165.31,292.72L170.82,293.68L181.84,296.45L187.35,297.25L214.9,298.79L220.41,298.71L247.96,299.14L253.47,299.75L270,300.9L275.51,300.4L286.53,299.75L292.04,299.71L308.57,299.1L314.08,299.55L352.65,301.64L358.16,301.68L396.73,303.61L402.24,303.65L418.78,303.6L424.29,303.63L451.84,301.96L457.35,302.5L468.37,303.34L473.88,303.45L490.41,303.78L495.92,303.66L512.45,304L517.96,303.57L540,302.08\" style=\"vector-effect: non-scaling-stroke; fill: none; stroke: rgb(99, 110, 250); stroke-opacity: 1; stroke-width: 2px; opacity: 1;\"/></g><g class=\"points\"/><g class=\"text\"/></g></g></g><g class=\"overplot\"/><path class=\"xlines-above crisp\" d=\"M0,0\" style=\"fill: none;\"/><path class=\"ylines-above crisp\" d=\"M0,0\" style=\"fill: none;\"/><g class=\"overlines-above\"/><g class=\"xaxislayer-above\"><g class=\"xtick\"><text text-anchor=\"middle\" x=\"0\" y=\"433\" transform=\"translate(184.69,0)\" style=\"font-family: 'Open Sans', verdana, arial, sans-serif; font-size: 12px; fill: rgb(42, 63, 95); fill-opacity: 1; white-space: pre; opacity: 1;\">20</text></g><g class=\"xtick\"><text text-anchor=\"middle\" x=\"0\" y=\"433\" style=\"font-family: 'Open Sans', verdana, arial, sans-serif; font-size: 12px; fill: rgb(42, 63, 95); fill-opacity: 1; white-space: pre; opacity: 1;\" transform=\"translate(294.9,0)\">40</text></g><g class=\"xtick\"><text text-anchor=\"middle\" x=\"0\" y=\"433\" style=\"font-family: 'Open Sans', verdana, arial, sans-serif; font-size: 12px; fill: rgb(42, 63, 95); fill-opacity: 1; white-space: pre; opacity: 1;\" transform=\"translate(405.1,0)\">60</text></g><g class=\"xtick\"><text text-anchor=\"middle\" x=\"0\" y=\"433\" style=\"font-family: 'Open Sans', verdana, arial, sans-serif; font-size: 12px; fill: rgb(42, 63, 95); fill-opacity: 1; white-space: pre; opacity: 1;\" transform=\"translate(515.31,0)\">80</text></g></g><g class=\"yaxislayer-above\"><g class=\"ytick\"><text text-anchor=\"end\" x=\"79\" y=\"4.199999999999999\" transform=\"translate(0,404.59)\" style=\"font-family: 'Open Sans', verdana, arial, sans-serif; font-size: 12px; fill: rgb(42, 63, 95); fill-opacity: 1; white-space: pre; opacity: 1;\">0</text></g><g class=\"ytick\"><text text-anchor=\"end\" x=\"79\" y=\"4.199999999999999\" style=\"font-family: 'Open Sans', verdana, arial, sans-serif; font-size: 12px; fill: rgb(42, 63, 95); fill-opacity: 1; white-space: pre; opacity: 1;\" transform=\"translate(0,337.11)\">0.2</text></g><g class=\"ytick\"><text text-anchor=\"end\" x=\"79\" y=\"4.199999999999999\" style=\"font-family: 'Open Sans', verdana, arial, sans-serif; font-size: 12px; fill: rgb(42, 63, 95); fill-opacity: 1; white-space: pre; opacity: 1;\" transform=\"translate(0,269.64)\">0.4</text></g><g class=\"ytick\"><text text-anchor=\"end\" x=\"79\" y=\"4.199999999999999\" style=\"font-family: 'Open Sans', verdana, arial, sans-serif; font-size: 12px; fill: rgb(42, 63, 95); fill-opacity: 1; white-space: pre; opacity: 1;\" transform=\"translate(0,202.16)\">0.6</text></g><g class=\"ytick\"><text text-anchor=\"end\" x=\"79\" y=\"4.199999999999999\" style=\"font-family: 'Open Sans', verdana, arial, sans-serif; font-size: 12px; fill: rgb(42, 63, 95); fill-opacity: 1; white-space: pre; opacity: 1;\" transform=\"translate(0,134.68)\">0.8</text></g></g><g class=\"overaxes-above\"/></g></g><g class=\"polarlayer\"/><g class=\"smithlayer\"/><g class=\"ternarylayer\"/><g class=\"geolayer\"/><g class=\"funnelarealayer\"/><g class=\"pielayer\"/><g class=\"iciclelayer\"/><g class=\"treemaplayer\"/><g class=\"sunburstlayer\"/><g class=\"glimages\"/><defs id=\"topdefs-ce4567\"><g class=\"clips\"/></defs><g class=\"layer-above\"><g class=\"imagelayer\"/><g class=\"shapelayer\"><path data-index=\"0\" fill-rule=\"evenodd\" d=\"M421.63,420L421.63,100\" clip-path=\"url(#clipce4567x)\" style=\"opacity: 1; stroke: rgb(0, 128, 0); stroke-opacity: 1; fill: rgb(0, 0, 0); fill-opacity: 0; stroke-dasharray: 9px, 9px; stroke-width: 2px;\"/></g></g><g class=\"infolayer\"><g class=\"g-gtitle\"><text class=\"gtitle\" x=\"35\" y=\"50\" text-anchor=\"start\" dy=\"0em\" style=\"font-family: 'Open Sans', verdana, arial, sans-serif; font-size: 17px; fill: rgb(42, 63, 95); opacity: 1; font-weight: normal; white-space: pre;\">Autocorrelation function for different lags</text></g><g class=\"g-xtitle\"><text class=\"xtitle\" x=\"350\" y=\"460.8\" text-anchor=\"middle\" style=\"font-family: 'Open Sans', verdana, arial, sans-serif; font-size: 14px; fill: rgb(42, 63, 95); opacity: 1; font-weight: normal; white-space: pre;\">L</text></g><g class=\"g-ytitle\"><text class=\"ytitle\" transform=\"rotate(-90,37.5125,260)\" x=\"37.5125\" y=\"260\" text-anchor=\"middle\" style=\"font-family: 'Open Sans', verdana, arial, sans-serif; font-size: 14px; fill: rgb(42, 63, 95); opacity: 1; font-weight: normal; white-space: pre;\">Autocorrelation</text></g><g class=\"annotation\" data-index=\"0\" style=\"opacity: 1;\"><g class=\"annotation-text-g\" transform=\"rotate(0,477.13,109)\"><g class=\"cursor-pointer\" transform=\"translate(422,100)\"><rect class=\"bg\" x=\"0.5\" y=\"0.5\" width=\"110\" height=\"17\" style=\"stroke-width: 1px; stroke: rgb(0, 0, 0); stroke-opacity: 0; fill: rgb(0, 0, 0); fill-opacity: 0;\"/><text class=\"annotation-text\" text-anchor=\"middle\" x=\"55.359375\" y=\"13\" style=\"font-family: 'Open Sans', verdana, arial, sans-serif; font-size: 12px; fill: rgb(42, 63, 95); fill-opacity: 1; white-space: pre;\">Autocorrelation time</text></g></g></g></g></svg>"
     },
     "metadata": {}
    }
   ]
  },
  {
   "cell_type": "markdown",
   "source": [
    "Autocorrelation is important because it can be used to determine the convergence of the LMH algorithm. High autocorrelation is the indicator of correlated samples and that the algorithm has not yet converged to the posterior distribution. If the autocorrelation is low, it means that the samples are uncorrelated and the algorithm has converged (for example when autocorrelation value is lower than $0.01$ in the function above). Measuring the autocorrelation helps to determine how many samples are needed to get an accurate estimate of the posterior distribution.\n",
    "\n",
    "In practice, the autocorrelation can be used to determine the appropriate burn-in value. This is important to discard samples that were drawn from the proposal distribution before it has converged to the posterior distribution. By measuring the autocorrelation, we can determine how many samples are needed to reach convergence and set the appropriate burn-in value."
   ],
   "metadata": {
    "id": "g7LCKPOPcgrf"
   }
  }
 ]
}